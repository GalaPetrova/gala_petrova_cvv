{
 "cells": [
  {
   "cell_type": "markdown",
   "id": "6eefba3c",
   "metadata": {},
   "source": [
    "# Изучение воронки продаж в приложении для продажи продуктов питания\n",
    "\n",
    "Учебная работа. Самостоятельный исследовательский проект в рамках курса \"Аналитик данных\" Яндекс.Практикума  \n",
    "Спринт 10. Сборный проект №2.\n",
    "\n",
    "Без output (не сохранился файл с данными)\n",
    " \n",
    "## Общая информация о проекте\n",
    "### Описание задания\n",
    "Нужно изучить поведение пользователей мобильного приложения интернет-магазина продуктов питания. Проанализировать результаты А/А/В теста и сделать выводы о том, какой шрифт лучше (старый или новый). \n",
    "\n",
    "###  Цель\n",
    "1. Изучить воронку продаж, определить, сколько пользователей доходит до покупки, на каких этапах \"застревают\" пользователи, которые не доходят до покупки.\n",
    "2. Проанализировать результаты А/А/В теста с новым шрифтом\n",
    "\n",
    "###  Задачи\n",
    "1. Подготовить данные: проверить корректность данных в столбцах, проверить на наличие дубликатов, ошибок. \n",
    "2. Изучить данные. При необходимости изменить типы данных в столбцах, переименовать столбцы и создать недостающие для анализа.  \n",
    "3. Изучить временной промежуток, за который есть логи. Отсеять старые данные.\n",
    "4. Построить воронку продаж. Рассчитать долю пользователей, которая доходит от первого собития до оплаты, найти шаг воронки, на котором отсеивается наибольшее количество пользователей.\n",
    "5. Проанализировать различия в поведении пользователей в А/А эксперименте. Селать вывод о том, корректно ли сделано разделение на группы.\n",
    "6. Проанализировать различия в поведении пользователей в А/А/В и А/В экспериментах.\n",
    "\n",
    "\n",
    "###  Данные\n",
    "Данные получены в виде файла: `logs_exp.csv`.\n",
    "\n",
    "###  Описание данных\n",
    "  \n",
    "**Структура `logs_exp.csv`**  \n",
    "- `EventName` — название события;\n",
    "- `DeviceIDHash` — уникальный идентификатор пользователя;\n",
    "- `EventTimestamp` — время события;\n",
    "- `ExpId` — номер эксперимента: 246 и 247 — контрольные группы, а 248 — экспериментальная.\n",
    "\n",
    "## Загрузка и знакомство с данными\n",
    "\n",
    "Загружаем библиотеки:"
   ]
  },
  {
   "cell_type": "code",
   "execution_count": null,
   "id": "a3908bbd",
   "metadata": {},
   "outputs": [],
   "source": [
    "import pandas as pd\n",
    "import numpy as np\n",
    "from pymystem3 import Mystem\n",
    "m = Mystem()\n",
    "import datetime as dt\n",
    "import matplotlib.pyplot as plt\n",
    "from scipy import stats as st\n",
    "import math\n",
    "import seaborn as sns\n",
    "import re\n",
    "from plotly import graph_objects as go\n",
    "from statsmodels.stats.proportion import proportions_ztest\n",
    "\n",
    "import sys\n",
    "import warnings\n",
    "if not sys.warnoptions:\n",
    "       warnings.simplefilter(\"ignore\")"
   ]
  },
  {
   "cell_type": "markdown",
   "id": "f00366a4",
   "metadata": {},
   "source": [
    "Создаём библиотеку стилей:"
   ]
  },
  {
   "cell_type": "code",
   "execution_count": null,
   "id": "5683e290",
   "metadata": {},
   "outputs": [],
   "source": [
    "sns.set_style(\"ticks\")\n",
    "\n",
    "class Color:\n",
    "   PURPLE = '\\033[95m'\n",
    "   CYAN = '\\033[96m'\n",
    "   DARKCYAN = '\\033[36m'\n",
    "   BLUE = '\\033[94m'\n",
    "   GREEN = '\\033[92m'\n",
    "   YELLOW = '\\033[93m'\n",
    "   RED = '\\033[91m'\n",
    "   BOLD = '\\033[1m'\n",
    "   UNDERLINE = '\\033[4m'\n",
    "   END = '\\033[0m'"
   ]
  },
  {
   "cell_type": "markdown",
   "id": "a4cc6052",
   "metadata": {},
   "source": [
    "Загружаем файл с данными:"
   ]
  },
  {
   "cell_type": "code",
   "execution_count": null,
   "id": "d3f3809e",
   "metadata": {},
   "outputs": [],
   "source": [
    "data = pd.read_csv('/datasets/logs_exp.csv', sep=None)"
   ]
  },
  {
   "cell_type": "markdown",
   "id": "4c11d9c7",
   "metadata": {},
   "source": [
    "### Обзор и подготовка данных\n",
    "Выведем первые 5 строк таблицы `data`:"
   ]
  },
  {
   "cell_type": "code",
   "execution_count": null,
   "id": "3ce91c3d",
   "metadata": {},
   "outputs": [],
   "source": [
    "display(data.head())"
   ]
  },
  {
   "cell_type": "markdown",
   "id": "e48e1e46",
   "metadata": {},
   "source": [
    "Проверим данные о столбцах:"
   ]
  },
  {
   "cell_type": "code",
   "execution_count": null,
   "id": "4a0af7e2",
   "metadata": {},
   "outputs": [],
   "source": [
    "data.info()"
   ]
  },
  {
   "cell_type": "markdown",
   "id": "2e585e5a",
   "metadata": {},
   "source": [
    "Присвоим столбцам более понятные названия:"
   ]
  },
  {
   "cell_type": "code",
   "execution_count": null,
   "id": "7f5148aa",
   "metadata": {},
   "outputs": [],
   "source": [
    "data.columns = ['event', 'user_id', 'date_time', 'test_group']\n",
    "data.columns"
   ]
  },
  {
   "cell_type": "markdown",
   "id": "d22369d4",
   "metadata": {},
   "source": [
    "Изменим тип данных в столбце `user_id` на `object` (это не обязательно, но так удобнее будет применить к нему функцию для изучения данных)."
   ]
  },
  {
   "cell_type": "code",
   "execution_count": null,
   "id": "aab1068d",
   "metadata": {},
   "outputs": [],
   "source": [
    "data['user_id'] = data['user_id'].astype('object')"
   ]
  },
  {
   "cell_type": "markdown",
   "id": "6ca9b77d",
   "metadata": {},
   "source": [
    "Изменим тип данных в столбце `date_time`:"
   ]
  },
  {
   "cell_type": "code",
   "execution_count": null,
   "id": "76eb3e28",
   "metadata": {},
   "outputs": [],
   "source": [
    "data['date_time'] = pd.to_datetime(data['date_time'], unit='s')\n",
    "display(data.head(2))"
   ]
  },
  {
   "cell_type": "markdown",
   "id": "0f677495",
   "metadata": {},
   "source": [
    "Добавим в таблицу столбец с датами."
   ]
  },
  {
   "cell_type": "code",
   "execution_count": null,
   "id": "a9c72c8a",
   "metadata": {},
   "outputs": [],
   "source": [
    "data['date'] = data['date_time'].astype('datetime64[D]')\n",
    "display(data.head(2))"
   ]
  },
  {
   "cell_type": "markdown",
   "id": "24798248",
   "metadata": {},
   "source": [
    "Заменим численные значения в столбце `test_group` на категориальные \"А1\", \"А2\" и \"В\"."
   ]
  },
  {
   "cell_type": "code",
   "execution_count": null,
   "id": "d0f22cdc",
   "metadata": {},
   "outputs": [],
   "source": [
    "data['test_group'] = data['test_group'].astype('str')\n",
    "data['test_group'] = data['test_group'].replace('246', 'A1')\n",
    "data['test_group'] = data['test_group'].replace('247', 'A2')\n",
    "data['test_group'] = data['test_group'].replace('248', 'B')\n",
    "\n",
    "print(data['test_group'].unique())\n",
    "data['test_group'] = data['test_group'].astype('category')"
   ]
  },
  {
   "cell_type": "code",
   "execution_count": null,
   "id": "53dc824b",
   "metadata": {},
   "outputs": [],
   "source": [
    "data.info()"
   ]
  },
  {
   "cell_type": "markdown",
   "id": "c4c74004",
   "metadata": {},
   "source": [
    "Пропусков нет, тип данных в столбцах правильный. Проверим данные на наличие дубликатов:"
   ]
  },
  {
   "cell_type": "code",
   "execution_count": null,
   "id": "e325056e",
   "metadata": {},
   "outputs": [],
   "source": [
    "print('Дублирующихся строк:', data.duplicated().sum())"
   ]
  },
  {
   "cell_type": "markdown",
   "id": "69fde507",
   "metadata": {},
   "source": [
    "Удаляем дублирующиеся строки и делаем проверку"
   ]
  },
  {
   "cell_type": "code",
   "execution_count": null,
   "id": "31e29278",
   "metadata": {},
   "outputs": [],
   "source": [
    "data = data.drop_duplicates()\n",
    "print('Дублирующихся строк:', data.duplicated().sum())"
   ]
  },
  {
   "cell_type": "markdown",
   "id": "2ceaa126",
   "metadata": {},
   "source": [
    "### Вывод\n",
    "Проверены и исправлены типы данных, переименованы столбцы, приведены к более удобному формату названия тестовых групп, добавлен столбец с датами.\n",
    "\n",
    "## Знакомство с данными\n",
    "\n",
    "\n",
    "Для знакомства с данными используем функцию `column_details`."
   ]
  },
  {
   "cell_type": "code",
   "execution_count": null,
   "id": "3355133a",
   "metadata": {},
   "outputs": [],
   "source": [
    "def column_details(data, column, bins, rows):\n",
    "    \"\"\"Функция для первичного знакомства с данными в столбце.\n",
    "    Выводит название столбца, тип данных, описательную статистику, процент пропущенных значений, \n",
    "    количество уникальных значений, частотную гистограмму.\n",
    "    Принимает аргументы:\n",
    "        - название таблицы;\n",
    "        - название столбца;\n",
    "        - количество корзин для гистограммы\n",
    "        - количество уникальных значений, которое нужно распечатать\"\"\"\n",
    "    \n",
    "    \"\"\"Печатаем название столбца\"\"\"\n",
    "    print(Color.BOLD + Color.UNDERLINE + 'Изучение данных в столбце ' + column + Color.END)\n",
    "    print()\n",
    "    \n",
    "    \"\"\"Печатаем тип данных в столбце\"\"\"\n",
    "    dtype = data[column].dtypes\n",
    "    print('{: <25}'.format('Тип данных:'), dtype)\n",
    "\n",
    "    \"\"\"Считаем  и выводим количество и процент пропущенных значений\"\"\"\n",
    "    na_count = data[column].isna().sum()\n",
    "    print('{: <25}'.format('Пропущенных значений:'), na_count)    \n",
    "    \n",
    "    lenth = len(data)\n",
    "    na_part = na_count / lenth\n",
    "    print('{: <25}'.format('Пропущенных значений:'), na_part)   \n",
    "        \n",
    "    \"\"\"Считаем количество повторяющихся значений\"\"\"\n",
    "    duplicated = data[column].duplicated().sum()\n",
    "    print('{: <25}'.format('Повторяющихся значений:'), duplicated)   \n",
    "    \n",
    "    \"\"\"Считаем количество уникальных значений\"\"\"\n",
    "    unique = len(data[column].unique())\n",
    "    print('{: <25}'.format('Уникальных значений:'), unique)   \n",
    "    print()\n",
    "    \n",
    "    \"\"\"В зависимости от типа данных выводим информацию о столбце\"\"\"\n",
    "    \n",
    "    if dtype == 'int64' or dtype == 'float64':\n",
    "        \"\"\"Если столбец содержит числовые данные, печатаем графики и описательную статистику\"\"\" \n",
    "        \n",
    "        \"\"\"Выводим описательную статистику по столбцу\"\"\"\n",
    "        print(Color.BOLD + Color.BLUE + 'Описательная статистика' + Color.END)\n",
    "        print()\n",
    "        print(data[column].describe())\n",
    "        print()           \n",
    "        \n",
    "        \"\"\"Выводим частотную гистограмму\"\"\"\n",
    "        min = data[column].min()\n",
    "        max = data[column].max()\n",
    "        title = 'Распределение значений столбца ' + column\n",
    "        data[column].hist(bins=bins, range = (min, max))        \n",
    "        plt.title(title)\n",
    "        plt.show()\n",
    "\n",
    "        \"\"\"Выводим диаграмму размаха\"\"\"\n",
    "        title = 'Диаграмма размаха значений столбца ' + column\n",
    "        data.boxplot(column=column)\n",
    "        plt.title(title)\n",
    "        plt.show()\n",
    "    \n",
    "    elif dtype == bool or dtype == 'object':\n",
    "        \"\"\"Если столбец имеет тип bool, печатаем сколько строк имеет значение True и False,\n",
    "        для типа object количество для каждого из уникальных значений\"\"\"\n",
    "        \n",
    "        print(Color.BOLD + Color.BLUE + 'Уникальные значения:' + Color.END)\n",
    "        top_unique = data[column].value_counts().reset_index().head(rows)\n",
    "        top_unique.columns = [column, 'count']\n",
    "        print(top_unique)\n",
    "    \n",
    "    elif dtype == 'datetime64[ns]':\n",
    "        \"\"\"Если столбец имеет тип datetime, печатаем дату и время \n",
    "        первой и последней записи и строим частотную гистограмму\"\"\"\n",
    "        print('Первая запись:', data[column].min())\n",
    "        print('Последняя запись:', data[column].max())\n",
    "        \n",
    "        \"\"\"Выводим частотную гистограмму\"\"\"\n",
    "        min = data[column].min()\n",
    "        max = data[column].max()\n",
    "        title = 'Распределение значений столбца ' + column\n",
    "        data[column].hist(bins=bins, range = (min, max))\n",
    "        plt.xticks(rotation=90)\n",
    "        plt.title(title)\n",
    "        plt.show()"
   ]
  },
  {
   "cell_type": "markdown",
   "id": "0538ed07",
   "metadata": {},
   "source": [
    "\n",
    "### Типы событий (столбец `event`)\n",
    "\n",
    "Изучим данные в столбце `event`."
   ]
  },
  {
   "cell_type": "code",
   "execution_count": null,
   "id": "dc1b30a0",
   "metadata": {},
   "outputs": [],
   "source": [
    "column_details(data, 'event', 50, 5)"
   ]
  },
  {
   "cell_type": "markdown",
   "id": "012944db",
   "metadata": {},
   "source": [
    "Событий всего 5: просмотр главного экрана, просмотр страницы предложения/товара, просмотр корзины, страница успешного платежа и просмотр справки. Названия событий длинные и непонятные. Заменим названия на более простые."
   ]
  },
  {
   "cell_type": "code",
   "execution_count": null,
   "id": "9fd17118",
   "metadata": {},
   "outputs": [],
   "source": [
    "print(data['event'].unique())"
   ]
  },
  {
   "cell_type": "code",
   "execution_count": null,
   "id": "979046f2",
   "metadata": {},
   "outputs": [],
   "source": [
    "# data['event'] = data['event'].astype('str')\n",
    "data['event'] = data['event'].replace('MainScreenAppear', 'Главный экран')\n",
    "data['event'] = data['event'].replace('OffersScreenAppear', 'Выбор товара')\n",
    "data['event'] = data['event'].replace('CartScreenAppear', 'Корзина')\n",
    "data['event'] = data['event'].replace('PaymentScreenSuccessful', 'Успешная оплата')\n",
    "data['event'] = data['event'].replace('Tutorial', 'Справка')\n",
    "\n",
    "print(data['event'].unique())"
   ]
  },
  {
   "cell_type": "markdown",
   "id": "d6c40a4b",
   "metadata": {},
   "source": [
    "Так понятнее и на графиках будет выглядеть лучше.  \n",
    "Построим столбчатую диаграмму по типам событий."
   ]
  },
  {
   "cell_type": "code",
   "execution_count": null,
   "id": "7a49f392",
   "metadata": {},
   "outputs": [],
   "source": [
    "event_types = data.groupby(['event'])[\n",
    "    'user_id'].count().reset_index().sort_values(by='user_id', ascending=False)\n",
    "\n",
    "sns.barplot(y='event', x='user_id', data=event_types).set(\n",
    "    title='Количество событий по типам \\n',\n",
    "    xlabel='Количество событий',\n",
    "    ylabel='Тип события')\n",
    "plt.show()"
   ]
  },
  {
   "cell_type": "markdown",
   "id": "00cabe90",
   "metadata": {},
   "source": [
    "Чаще всего пользователи посещают главный экран. Следующий шаг - экран выбора товара, дальше экран корзины и успешной покупки. На первый взгляд похоже, что больше всего пользователей теряется при переходе с главного экрана на экран выбора товара!  \n",
    "А в справку заходит совсем мало пользователей.\n",
    "\n",
    "**Вывод:**  \n",
    "Названия событий переименованы.\n",
    "Всего в данных встречается 5 типов событий. Чаще всего пользователи посещают главный экран. Следующий шаг - экран выбора товара, дальше экран корзины и успешной покупки. На первый взгляд похоже, что больше всего пользователей теряется при переходе с главного экрана на экран выбора товара! В справку заходит совсем мало пользователей.\n",
    "\n",
    "### Данные о пользователях (столбец `user_id`)\n",
    "\n",
    "Изучим данные в столбце `user_id`"
   ]
  },
  {
   "cell_type": "code",
   "execution_count": null,
   "id": "a500ad11",
   "metadata": {},
   "outputs": [],
   "source": [
    "column_details(data, 'user_id', 50, 5)"
   ]
  },
  {
   "cell_type": "markdown",
   "id": "5d4db830",
   "metadata": {},
   "source": [
    "Уникальных пользователей 7551, некоторые из них весьма активны: за исследуемый период совершили больше 1000 действий, зафиксированных как событие.\n",
    "\n",
    "Рассчитаем описательную статистику и построим частотную гистограмму по количеству событий на одного пользователя:"
   ]
  },
  {
   "cell_type": "code",
   "execution_count": null,
   "id": "8d621460",
   "metadata": {},
   "outputs": [],
   "source": [
    "events_per_user = data.groupby('user_id')['event'].count()\n",
    "\n",
    "sns.boxplot(events_per_user, fliersize = 0).set(\n",
    "    title='Количество событий на одного пользователя \\n',\n",
    "    xlabel='Количество событий')\n",
    "plt.xlim(-10, 100)\n",
    "plt.show()\n",
    "\n",
    "events_per_user.describe()"
   ]
  },
  {
   "cell_type": "markdown",
   "id": "a9f22446",
   "metadata": {},
   "source": [
    "Минимальное количество событий на одного пользователя - одно (видимо, заглянул на главную страницу, не заинтересовался, и больше не появлялся).  \n",
    "Разница между медианным количеством событий (20) и средним (32), а также стандартное отклонение - очень большие: распределение сильно скошено влево.  \n",
    "Для большинства пользователей (75%) совершают не более 37 действий, зафиксированных как событие.  \n",
    "Единичные пользователи совершают аномально большое количество действий (больше 1000). Не очень понятно, кто эти пользователи. Могут они быть реальными пользователями или это тестеры и поисковые боты, которые попали в логи? Это выбросы, которые могли бы сильно искажать картину, но в данном случае они нам не мешают. \n",
    "\n",
    "Посчитаем 95-й и 99-й перцентиль по количеству действий на пользователя: "
   ]
  },
  {
   "cell_type": "code",
   "execution_count": null,
   "id": "8a61aaef",
   "metadata": {},
   "outputs": [],
   "source": [
    "print(np.percentile(events_per_user, [95, 99])) "
   ]
  },
  {
   "cell_type": "markdown",
   "id": "aa66f354",
   "metadata": {},
   "source": [
    "5% пользователей совершали больше 89 действий и 1 процент пользователей совершал больше 200 действий. Предположим, что наши пользователи - очень дотошные и внимательные люди, совершают много покупок и долго сомневаются перед каждой. В таком случае можно отсеять пользователей, совершивших более 200 действий.\n",
    "\n",
    "Составим список пользователей, которые совершили более двухсот действий:"
   ]
  },
  {
   "cell_type": "code",
   "execution_count": null,
   "id": "7a63422a",
   "metadata": {},
   "outputs": [],
   "source": [
    "events_per_user = events_per_user.reset_index()\n",
    "abnormalUsers = events_per_user[events_per_user['event'] > 200]['user_id'].unique()\n",
    "print('Аномальных пользователей:', len(abnormalUsers))"
   ]
  },
  {
   "cell_type": "markdown",
   "id": "21d817ca",
   "metadata": {},
   "source": [
    "Таких пользователей оказалось 76. Исключим данные о действиях аномальных пользователей, построим диаграмму размаха и рассчитаем описательную статистику по отфильрованным данным:"
   ]
  },
  {
   "cell_type": "code",
   "execution_count": null,
   "id": "a80d4e69",
   "metadata": {},
   "outputs": [],
   "source": [
    "data_filtered = data[np.logical_not(data['user_id'].isin(abnormalUsers))]\n",
    "print('Доля отсеянных данных: {:.2%}'.format(1 - len(data_filtered)/len(data)))"
   ]
  },
  {
   "cell_type": "markdown",
   "id": "e2fe2b94",
   "metadata": {},
   "source": [
    "1% пользователей генерировал 14% данных! Это не удивительно, учитывая, что большая часть пользователей совершала от 10 до 30 действий, а аномальные - до двух тысяч.  \n",
    "Сохраним отфильтрованные данные в таблицу `data`."
   ]
  },
  {
   "cell_type": "code",
   "execution_count": null,
   "id": "ed794892",
   "metadata": {},
   "outputs": [],
   "source": [
    "data = data_filtered"
   ]
  },
  {
   "cell_type": "markdown",
   "id": "95db56ff",
   "metadata": {},
   "source": [
    "**Вывод:**  \n",
    "Изучены данные о пользователях, найдены пользователи, совершающие аномально большое количество действий. 1% пользователей исключён из данных (что составило 14% данных).\n",
    "\n",
    "### Данные времени события (столбец `date_time`)\n",
    "\n",
    "Изучим данные в столбце `date_time`"
   ]
  },
  {
   "cell_type": "code",
   "execution_count": null,
   "id": "9ba48d7f",
   "metadata": {},
   "outputs": [],
   "source": [
    "column_details(data, 'date_time', 14, 5)"
   ]
  },
  {
   "cell_type": "markdown",
   "id": "144703bb",
   "metadata": {},
   "source": [
    "Запись о первом по времени событии сделана 25 июля 2019, но после этого до конца июля почти никаких записей нет.  \n",
    "1 августа количество событий вырастает до 20 тысяч, а следующие 6 дней держится на уровне от 30 до 40 тысяч. Похоже, что активный период сбора данных длился 7 дней.  \n",
    "Проверим это предположение: найдём дату первого посещения главной страницы для каждого пользователя."
   ]
  },
  {
   "cell_type": "code",
   "execution_count": null,
   "id": "56cfb4f3",
   "metadata": {},
   "outputs": [],
   "source": [
    "first_visit_date = data[data['event'] == 'Главный экран'].pivot_table(\n",
    "    index='user_id',\n",
    "    values='date',\n",
    "    aggfunc='first'\n",
    ").reset_index()\n",
    "\n",
    "fig = plt.figure()\n",
    "ax = fig.add_subplot(111)\n",
    "ax.hist(first_visit_date['date'], bins=14)\n",
    "ax.set_title('Количество пользователей, впервые посетивших главную страницу (по дням)')\n",
    "ax.set_xlabel('дата')\n",
    "ax.set_ylabel('количество пользователей')\n",
    "plt.xticks(rotation=90)\n",
    "plt.show()"
   ]
  },
  {
   "cell_type": "markdown",
   "id": "5e8637a7",
   "metadata": {},
   "source": [
    "Исключим засипи о событиях с 25 по 31 июля:"
   ]
  },
  {
   "cell_type": "code",
   "execution_count": null,
   "id": "b44b07e1",
   "metadata": {},
   "outputs": [],
   "source": [
    "data_august = data.query('date >= \"2019-08-01\"')\n",
    "print('Доля отсеянных данных: {:.2%}'.format(1 - len(data_august)/len(data)))"
   ]
  },
  {
   "cell_type": "markdown",
   "id": "3b11dfdb",
   "metadata": {},
   "source": [
    "Для отсеянных данных - всего 1,3% (за неделю).  \n",
    "Сохраним отфильтрованные данные в таблицу `data`.\n",
    "\n",
    "Считаем потери по количеству пользвателей:"
   ]
  },
  {
   "cell_type": "code",
   "execution_count": null,
   "id": "94751bc6",
   "metadata": {},
   "outputs": [],
   "source": [
    "print('Доля отсеянных пользователей: {:.2%}'.format(1 - data_august['user_id'].nunique()/data['user_id'].nunique()))"
   ]
  },
  {
   "cell_type": "markdown",
   "id": "0cda7a40",
   "metadata": {},
   "source": [
    "По числу пользователей потери совсем несущественные, 0.23%.\n",
    "Сохраним данные в таблицу `data`."
   ]
  },
  {
   "cell_type": "code",
   "execution_count": null,
   "id": "801cea28",
   "metadata": {},
   "outputs": [],
   "source": [
    "data = data_august"
   ]
  },
  {
   "cell_type": "markdown",
   "id": "99b8e9fd",
   "metadata": {},
   "source": [
    "**Вывод:**  \n",
    "Изучены данные о дате: в данных есть записи о действиях пользователей за 2 недели (с 25 июля по 7 августа 2019 года), но за первую неделю записей очень мало, похоже, что они были выгружены случайно. Для анализа сохранены данные из основного массива (неделя с 1 по 7 августа 2019), доля отсейнных данных составила 1,3%.\n",
    "\n",
    "### Данные об группах А/А/В теста (столбец `test_group`)\n",
    "\n",
    "Посчитаем, сколько записей и сколько пользователей попало в каждую группу:"
   ]
  },
  {
   "cell_type": "code",
   "execution_count": null,
   "id": "e31a1361",
   "metadata": {},
   "outputs": [],
   "source": [
    "data.groupby('test_group').agg({'user_id' : 'nunique', 'event' : 'count'})"
   ]
  },
  {
   "cell_type": "markdown",
   "id": "67e29096",
   "metadata": {},
   "source": [
    "Количество записей и пользователей в группах примерно одного порядка.  \n",
    "Проверим корректность разделения пользователей на группы:"
   ]
  },
  {
   "cell_type": "code",
   "execution_count": null,
   "id": "89dd22ba",
   "metadata": {},
   "outputs": [],
   "source": [
    "usersA1 = data.query('test_group == \"A1\"')['user_id']\n",
    "usersA2 = data.query('test_group == \"A2\"')['user_id']\n",
    "usersB = data.query('test_group == \"B\"')['user_id']\n",
    "\n",
    "display(any(usersA1.isin(usersA2)))\n",
    "display(any(usersA1.isin(usersB)))\n",
    "display(any(usersA2.isin(usersB)))"
   ]
  },
  {
   "cell_type": "markdown",
   "id": "33768ea0",
   "metadata": {},
   "source": [
    "Данных о пользователях, попавших сразу в несколько групп, нет.  \n",
    "\n",
    "**Вывод:**  \n",
    "Пользователи разделены на группы корректно (группы близки по размерам и активности, пользователей, попавших в несколько групп сразу, нет).\n",
    "\n",
    "### Вывод\n",
    "\n",
    "1. В столбце `event` названия событий заменены на полнуе русские.  \n",
    "Всего в данных встречается 5 типов событий. Чаще всего пользователи посещают главный экран. Следующий шаг - экран выбора товара, дальше экран корзины и успешной покупки. На первый взгляд похоже, что больше всего пользователей теряется при переходе с главного экрана на экран выбора товара! В справку заходит совсем мало пользователей.  \n",
    "\n",
    "2. Изучены данные о пользователях (столбец `user_id`), найдены пользователи, совершающие аномально большое количество действий. 1% пользователей исключён из данных (что составило 14% данных).\n",
    "\n",
    "3. Изучены данные о дате (столбец `date_time`): в данных есть записи о действиях пользователей за 2 недели (с 25 июля по 7 августа 2019 года), но за первую неделю записей очень мало, похоже, что они были выгружены случайно. Для анализа сохранены данные из основного массива (неделя с 1 по 7 августа 2019), доля отсейнных данных составила 1,3%, доля отсеянных пользователей составила 0.23%.\n",
    "\n",
    "4. Изучены данные о тестовых группах в столбце `test_group`. Пользователи разделены на группы корректно (группы близки по размерам и активности, пользователей, попавших в несколько групп сразу, нет).\n",
    "\n",
    "## Анализ данных\n",
    "### Воронка событий\n",
    "\n",
    "Построим воронку событий и рассчитаем конверсию для каждого из шагов, чтобы понять, на каком шаге теряется больше всего пользователей.\n",
    "\n",
    "#### Типы событий\n",
    "Построим ещё раз график количества собитий по типам:"
   ]
  },
  {
   "cell_type": "code",
   "execution_count": null,
   "id": "b390e7f1",
   "metadata": {},
   "outputs": [],
   "source": [
    "sns.barplot(y='event', x='user_id', data=event_types).set(\n",
    "    title='Количество событий по типам \\n',\n",
    "    xlabel='Количество событий',\n",
    "    ylabel='Тип события')\n",
    "plt.show()"
   ]
  },
  {
   "cell_type": "markdown",
   "id": "6961d3f1",
   "metadata": {},
   "source": [
    "Посчитаем, сколько уникальных пользователей совершали каждое событие:"
   ]
  },
  {
   "cell_type": "code",
   "execution_count": null,
   "id": "daf23274",
   "metadata": {},
   "outputs": [],
   "source": [
    "users_per_event = data.groupby('event')['user_id'].nunique().reset_index().sort_values('user_id', ascending=False)\n",
    "\n",
    "\n",
    "sns.barplot(y='event', x='user_id', data=users_per_event).set(\n",
    "    title='Количество событий по типам \\n',\n",
    "    xlabel='Количество событий',\n",
    "    ylabel='Тип события')\n",
    "plt.show()"
   ]
  },
  {
   "cell_type": "markdown",
   "id": "ef413bf7",
   "metadata": {},
   "source": [
    "Больше всего по прежнему посещений главной страницы, но доля других событий значительно выросла.  \n",
    "Посчитаем долю пользователей, которые хотя бы раз совершали событие:"
   ]
  },
  {
   "cell_type": "code",
   "execution_count": null,
   "id": "f82b093e",
   "metadata": {},
   "outputs": [],
   "source": [
    "unique_users = data['user_id'].nunique()\n",
    "users_per_event['part'] = users_per_event['user_id']/unique_users\n",
    "display(users_per_event.round(2))"
   ]
  },
  {
   "cell_type": "markdown",
   "id": "b0fe6506",
   "metadata": {},
   "source": [
    "\n",
    "98% пользователей посещали главную страницу. Либо у нас остались \"хвосты\" пользователей, которые посетили главную страницу раньше 1 августа, либо были пользователи, пришедшие на страницу товара по внешней ссылке (но тогда их, скорее всего, было бы больше двух процентов). Скорее всего, это \"хвосты\".   \n",
    "На страницу предложений переходит всего 61%. Пока этот шаг выглядит самым слабым звеном (на страницу предложений заходит на треть меньше уникальных пользователей, чем на главную).  \n",
    "С переходом по следующим шагам всё пока выглядит довольно хорошо (разница в доле пользователей 11% и 3%).  \n",
    "В справку смотрит 11% пользователей. Кажется, это довольно много. Интересно, что они там ищут?\n",
    "\n",
    "#### Порядок событий\n",
    "\n",
    "Пользователю не обязательно заходить в справку, чтобы совершить покупку. \n",
    "Логический порядок остальных событий соответствует частоте встречаемости: \n",
    " - зайти на главную страницу,\n",
    " - перейти на страницу выбора предложений,\n",
    " - перейти в корзину,\n",
    " - оплатить покупку.\n",
    "\n",
    "Строим воронку событий:"
   ]
  },
  {
   "cell_type": "code",
   "execution_count": null,
   "id": "c2fb50b4",
   "metadata": {},
   "outputs": [],
   "source": [
    "users_per_event = data.pivot_table(\n",
    "    index='event',\n",
    "    values='user_id',\n",
    "    aggfunc=lambda x: x.nunique()\n",
    ").sort_values(by='user_id', ascending=False).reset_index()\n",
    "users_per_event.columns=['event', 'active_users']\n",
    "users_per_event = users_per_event.drop(users_per_event[users_per_event['event'] == 'Справка'].index)\n",
    "\n",
    "fig = go.Figure(\n",
    "    go.Funnel(\n",
    "        y=users_per_event['event'], x=users_per_event['active_users']))\n",
    "fig.update_layout(height=500, title=dict(\n",
    "    text='<b>Воронка событий в приложении для покупки продуктов питания</b>', x=0.5, y=0.90, font=dict(\n",
    "        family=\"Arial\",\n",
    "        size=20,\n",
    "        color='#000000')))\n",
    "fig.show() "
   ]
  },
  {
   "cell_type": "markdown",
   "id": "26ca7a4c",
   "metadata": {},
   "source": [
    "#### Конверсия по шагам\n",
    "\n",
    "Рассчитаем для каждого шага долю пользователей, перешедших на следующий шаг:"
   ]
  },
  {
   "cell_type": "code",
   "execution_count": null,
   "id": "13905e60",
   "metadata": {},
   "outputs": [],
   "source": [
    "\"\"\"Добавляем строку all_users и сдвигаем строки на 1 относительно индекса\"\"\"\n",
    "all_users = pd.DataFrame(columns=['event', 'active_users'], data=[['Все пользователи', unique_users]])\n",
    "users_funnel = users_per_event.append(all_users).sort_values(by='active_users', ascending=False)[:-1].reset_index(drop=True)\n",
    "\n",
    "\"\"\"Объединяем исходные данные и сдвинутые\"\"\"\n",
    "users_funnel = users_per_event.join(users_funnel, rsuffix='_shirted')\n",
    "users_funnel = users_funnel.drop('event_shirted', axis=1)\n",
    "\n",
    "\"\"\"Рассчитываем конверсию\"\"\"\n",
    "users_funnel['funnel'] = users_funnel['active_users'] / users_funnel['active_users_shirted']\n",
    "funnel = users_funnel[['event', 'funnel']].set_index('event', drop=True).reset_index()\n",
    "funnel = funnel.style.format({\n",
    "    'funnel': '{:,.0%}'.format\n",
    "})\n",
    "display(funnel)"
   ]
  },
  {
   "cell_type": "markdown",
   "id": "88124632",
   "metadata": {},
   "source": [
    "Как мы и видели раньше, больше всего пользователей теряется при переходе с главного экрана на страницу выбора товара, 38% пользователей уходят, так и не увидев предложение!  \n",
    "На следующих этапах конверсия гораздо лучше: 81% пользователей, просмотревших товар, переходят в корзину (то есть большинству товар нравится) и 95% пользователей, просмотревших корзину, завершают покупку успешной оплатой.\n",
    "\n",
    "Найдём долю пользователей, успешно завершивших покупку, от общего числа пользователей:"
   ]
  },
  {
   "cell_type": "code",
   "execution_count": null,
   "id": "5dc999af",
   "metadata": {},
   "outputs": [],
   "source": [
    "print(\n",
    "    'Доля пользавателей, дошедших от первого события до оплаты: {:.0%}'.format(\n",
    "        users_per_event.loc[3, 'active_users']/unique_users))"
   ]
  },
  {
   "cell_type": "markdown",
   "id": "34a695f5",
   "metadata": {},
   "source": [
    "От первого просмотра до оплаты доходит 46% пользователей. Это выглядит как неплохой результат, но, учитывая, сколько пользователей уходит, даже не посмотрев на предложение, этот процент мог бы быть ещё лучше.  \n",
    "Интересно, какую долю от всех потерянных пользователей составляют пользователи, потерянные при переходе с главной страницы?"
   ]
  },
  {
   "cell_type": "code",
   "execution_count": null,
   "id": "f0770196",
   "metadata": {},
   "outputs": [],
   "source": [
    "all_lost_users = (unique_users-users_per_event.loc[3, 'active_users'])\n",
    "MainScreen_lost_users = (unique_users-users_per_event.loc[1, 'active_users'])\n",
    "part_of_MainScreen_lost_users = MainScreen_lost_users / all_lost_users\n",
    "print('Всего потерянных пользователей: {:.0%}'.format(all_lost_users/unique_users))\n",
    "print('Пользователей, потерянных на переходе с главной страницы (от общего количества пользователей): {:.0%}'\n",
    "      .format(MainScreen_lost_users/unique_users))\n",
    "print('Всего потерянных пользователей: {:.0%}'.format(part_of_MainScreen_lost_users))"
   ]
  },
  {
   "cell_type": "markdown",
   "id": "fb6b355f",
   "metadata": {},
   "source": [
    "74% всех \"застрявших\" пользователей потеряны на переходе с \"Главного экрана\" на страницу \"Выбор товара\". С главным экраном опредёлённо что-то не так.\n",
    "\n",
    "#### Вывод\n",
    "\n",
    "Конверсия на этапе \"просмотр главного экрана\" / \"просмотр товара\" - 62%.    \n",
    "Конверсия на этапе \"просмотр товара\" / \"просмотр корзины\" 81%,   \n",
    "а на этапе \"просмотр корзины\" / \"оплата\" 95%.  \n",
    "Товар нравится пользователям (его выбирают и оплачивают), но до оплаты доходит только 46%, при этом больше всего пользователей (39% от всех пользователей и 74% от всех потерянных пользователей) теряется при переходе к странице выбора товара.\n",
    "\n",
    "### Анализ результатов эксперимента\n",
    "\n",
    "У нас есть результаты А/А/В теста для новых шрифтов в приложении. \n",
    "\n",
    "Сначала изучим результаты А/А теста, чтобы проверить корректность проведения тестирования, затем сравним экспериментальную группу В с граппами А1, А2 и совмещёнными данными обеих контрольных групп. Проверим, есть ли различия между группами в конверсии по шагам: переход на главную страницу, переход на страницу выбора товара, переход в корзину, переход на страницу успешной оплаты.  \n",
    "\n",
    "Для рассчёта статистической значимости различий применим z-тест, проверку выполним при помощи функции `proportions_ztest` библиотеки `statsmodels`, а для сравнения групп используем самописную функцию.\n",
    "\n",
    "#### Подготовка данных и функции для анализа результатов А/А/В теста\n",
    "\n",
    "Найдём количество уникальных пользователей в каждой группе и сохраним в переменные:"
   ]
  },
  {
   "cell_type": "code",
   "execution_count": null,
   "id": "db24186d",
   "metadata": {},
   "outputs": [],
   "source": [
    "group_size_a1 = data[data['test_group'] == 'A1']['user_id'].nunique()\n",
    "group_size_a2 = data[data['test_group'] == 'A2']['user_id'].nunique()\n",
    "group_size_b = data[data['test_group'] == 'B']['user_id'].nunique()\n",
    "\n",
    "print('Контрольная группа А1: {} уникальных пользователей'.format(group_size_a1))\n",
    "print('Контрольная группа А2: {} уникальных пользователей'.format(group_size_a2))\n",
    "print('Экспериментальная/ группа В: {} уникальных пользователей'.format(group_size_b))"
   ]
  },
  {
   "cell_type": "markdown",
   "id": "427ea34a",
   "metadata": {},
   "source": [
    "Раcсчитаем воронку событий по группам теста:"
   ]
  },
  {
   "cell_type": "code",
   "execution_count": null,
   "id": "88077dcd",
   "metadata": {},
   "outputs": [],
   "source": [
    "test_data = data.pivot_table(\n",
    "    index='event',\n",
    "    columns='test_group',\n",
    "    values='user_id',\n",
    "    aggfunc=lambda x: x.nunique()\n",
    ")\n",
    "test_data.columns = ['A1', 'A2', 'B']\n",
    "test_data = test_data.sort_values(by='B', ascending=False).drop('Справка').reset_index()\n",
    "display(test_data)"
   ]
  },
  {
   "cell_type": "markdown",
   "id": "ebd57bfc",
   "metadata": {},
   "source": [
    "Добавим в строки данные о количестве пользователей в каждой группе, чтобы рассчитать конверсию шагов:"
   ]
  },
  {
   "cell_type": "code",
   "execution_count": null,
   "id": "93960c7c",
   "metadata": {},
   "outputs": [],
   "source": [
    "test_data['A1_group_size'] = group_size_a1\n",
    "test_data['A2_group_size'] = group_size_a2\n",
    "test_data['B_group_size'] = group_size_b\n",
    "\n",
    "users_funnel = test_data\n",
    "\n",
    "display(users_funnel)"
   ]
  },
  {
   "cell_type": "markdown",
   "id": "b143e070",
   "metadata": {},
   "source": [
    "Добавим столбцы для совмещённой контрольной группы "
   ]
  },
  {
   "cell_type": "code",
   "execution_count": null,
   "id": "932c92f5",
   "metadata": {},
   "outputs": [],
   "source": [
    "\"\"\"Добавляем столбец А1А2 и А1А2_shifted с объединёнными данными обеих контрольных групп\"\"\"\n",
    "users_funnel['A1A2'] = users_funnel['A1'] + users_funnel['A2']\n",
    "users_funnel['А1А2_group_size'] = users_funnel['A1_group_size'] + users_funnel['A2_group_size']\n",
    "\n",
    "display(users_funnel)"
   ]
  },
  {
   "cell_type": "markdown",
   "id": "7769d2fd",
   "metadata": {},
   "source": [
    "Мы будем делать сравнение групп А1/А2, А1/В, А2/В и (А1+А2)/В, поэтому будет удобнее сделать функцию.  \n",
    "Функция `ztest` принимает таблицу с данными воронки событий и выводит значимость различий между группами по каждому шагу воронки."
   ]
  },
  {
   "cell_type": "code",
   "execution_count": null,
   "id": "9ef2db8e",
   "metadata": {},
   "outputs": [],
   "source": [
    "def ztest(data, alpha, correction, title):\n",
    "    \"\"\"Функция для расчёта статистической значимости различий конверсии для воронки событий двух выборок. \n",
    "    Выводит значимость различий между группами по шагам воронки событий.\n",
    "    \n",
    "    Принимает аргументы:\n",
    "    - data - название таблицы с данными;\n",
    "    - alpha - уровень значимости для статистических критериев;\n",
    "    - correction - количество проверяемых гипотез для поправки на множественные сравнения;\n",
    "    - title - заголовок.\"\"\"\n",
    "    \n",
    "    \n",
    "    \"\"\"Печатаем заголовок\"\"\"\n",
    "    print(Color.BOLD + Color.BLUE + title + Color.END)\n",
    "    print()\n",
    "    \n",
    "    \"\"\"Печатаем нулевую и альтернативную гипотезы\"\"\"\n",
    "    print(Color.BOLD + 'Считаем статистическую значимость различий. Z-тест' + Color.END)\n",
    "    print(Color.GREEN + \n",
    "          'H₀: доля от общего количества пользователей, совершивших переход к следующему шагу \\n' +\n",
    "          'в первой выборке и соответствующая доля пользователей во второй выборке статистически не различается\\n' \n",
    "          + Color.RED + \n",
    "          'H₁: доля от общего количества пользователей, совершивших переход к следующему шагу \\n' +\n",
    "          'в первой выборке статистически отличается от соответствующей доли пользователей во второй выборке' + Color.END)\n",
    "    \n",
    "    \"\"\"В цикле рассчитываем z-test по строкам таблицы\"\"\"\n",
    "    \n",
    "    for index, row in data.iterrows():\n",
    "        print('__________________________________________________________________________')\n",
    "        print()\n",
    "        print('Шаг {}:'.format(index+1),\n",
    "            'Переход на страницу ' + Color.BOLD + \n",
    "            '\"{}\"'.format(row[0]) + Color.END)\n",
    "        stat, pval = proportions_ztest([row[1], row[2]], [row[3], row[4]])\n",
    "        \n",
    "        \"\"\"Сравниваем p-value и уровень значимости и выводим результат\"\"\"\n",
    "        if pval < alpha/correction:\n",
    "            print(Color.RED + 'p-value = {0:.3f}'.format(pval) + \n",
    "                  '\\nОтвергаем нулевую гипотезу: разница статистически значима' + Color.END)\n",
    "        else:\n",
    "            print(Color.GREEN + 'p-value = {0:.3f}'.format(pval) + \n",
    "                  '\\nНе получилось отвергнуть нулевую гипотезу, вывод о различии сделать нельзя' + Color.END)\n",
    "\n",
    "    print()"
   ]
  },
  {
   "cell_type": "markdown",
   "id": "5114e220",
   "metadata": {},
   "source": [
    "#### Анализ результатов А/А теста\n",
    "\n",
    "Проанализируем результата теста А/А, чтобы проверить корректность проведения эксперимента при помощи функции `ztest`.   \n",
    "\n",
    "В рамках проверки этой гипотезы мы проверяем 4 сравнения, поэтому сделаем поправку на множественные сравнения и разделим alpha на 16 (4 пары групп и 4 события)."
   ]
  },
  {
   "cell_type": "code",
   "execution_count": null,
   "id": "5c0d0a0a",
   "metadata": {},
   "outputs": [],
   "source": [
    "ztest(users_funnel[[\n",
    "    'event', 'A1', 'A2', 'A1_group_size', 'A2_group_size']], 0.05, 16, 'Различия между контрольными группами А1 и А2')"
   ]
  },
  {
   "cell_type": "markdown",
   "id": "ecb8eb0d",
   "metadata": {},
   "source": [
    "Различий между двумя контрольными группами нет: разделение на группы сделано корректно. \n",
    "\n",
    "#### Анализ результатов А1/В, А2/В и А1А2/В тестов\n",
    "\n",
    "Проверим, есть ли различия между контрольными группами и экспериментальной. В функцию передаются названия столбцов с размерами групп. Делитель для уровня значимости - 16."
   ]
  },
  {
   "cell_type": "code",
   "execution_count": null,
   "id": "b39fab7a",
   "metadata": {},
   "outputs": [],
   "source": [
    "ztest(users_funnel[['event', 'A1', 'B', 'A1_group_size', 'B_group_size']\n",
    "                  ], 0.05, 16, 'Различия между группой А1 и =экспериментальной группой В')\n",
    "ztest(users_funnel[['event', 'A2', 'B', 'A2_group_size', 'B_group_size']\n",
    "                  ], 0.05, 16, 'Различия между группой А1 и =экспериментальной группой В')\n",
    "ztest(users_funnel[['event', 'A1A2', 'B', 'А1А2_group_size', 'B_group_size']\n",
    "                  ], 0.05, 16, 'Различия между группой А1 и =экспериментальной группой В')"
   ]
  },
  {
   "cell_type": "markdown",
   "id": "a76177c9",
   "metadata": {},
   "source": [
    "Ни одну нулевую гипотезу из 16 отвергнуть не удалось, вывод о различиях сделать нельзя. Нет оснований говорить о том, что новый шрифт как-то по-другому воспринимается пользователями и влияет на их поведение.\n",
    "\n",
    "#### Вывод\n",
    "\n",
    "Проанализированы результаты А/А/В теста.  \n",
    "Различий между контрольными граппами не обнаружено: тест проведён корректно.  \n",
    "Различий между экспериментальной и контрольными группами не обнаружено, нет оснований говорить о том, что новый шрифт влияет на поведение пользователей.\n",
    "\n",
    "## Обзор проведённой работы и выводы\n",
    "\n",
    "### Краткий обзор проведённой работы\n",
    "\n",
    "1. Данные подготовлены к работе. Найдены и удалены дубликаты, столбцы приведены к правильным типам данных, исключены данные об аномальных пользователях, отсеяны неполные данные.  \n",
    "2. Построена воронка событий и рассчитана конверсия для каждого шага воронки. Рассчитана доля посетителей, которые проходят весь путь от первого шага до покупки. Найден шаг, накотором теряется больше всего пользователей.  \n",
    "3. Проанализированы результаты А/А/В теста.\n",
    "4. Сделаны выводы.\n",
    "\n",
    "### Выводы\n",
    "\n",
    "#### Воронка событий и анализ конверсии\n",
    "\n",
    "Всего в данных встречается 5 типов событий.  \n",
    "Чаще всего пользователи посещают главный экран. Следующий шаг - экран выбора товара, экран корзины и успешной покупки. В справку заходит совсем мало пользователей. \n",
    "\n",
    "**Конверсия по шагам**  \n",
    "Конверсия на этапе \"просмотр главного экрана\" / \"просмотр товара\" - 62%.    \n",
    "Конверсия на этапе \"просмотр товара\" / \"просмотр корзины\" 81%,   \n",
    "а на этапе \"просмотр корзины\" / \"оплата\" 95%.  \n",
    "\n",
    "**Общая конверсия**  \n",
    "Общая конверсия всех посетителей приложения в покупателей составляет 46%.\n",
    "\n",
    "**Больше всего пользователей теряется на шаге**  \n",
    "Больше всего пользователей (38%) теряется при переходе с главной страницы к странице выбора товара.\n",
    "\n",
    "**Выводы и рекомендации**  \n",
    "Товар нравится пользователям (его выбирают и оплачивают), но до оплаты доходит меньше половины пользователей. При этом большая часть потерянных пользователей даже не увидела предложения (39% от всех пользователей и 74% от всех потерянных пользователей).  \n",
    "Стоит выяснить, почему пользователи уходят с главной страницы, с большой вероятность это должно привести к росту конверсии.\n",
    "\n",
    "#### Результаты А/А/В теста\n",
    "\n",
    "**Результаты А/А теста**  \n",
    "Различий между контрольными граппами не обнаружено: тест проведён корректно.\n",
    "\n",
    "**Результаты А/В теста**  \n",
    "Различий между экспериментальной и контрольными группами не обнаружено, нет оснований говорить о том, что новый шрифт влияет на поведение пользователей."
   ]
  }
 ],
 "metadata": {
  "kernelspec": {
   "display_name": "Python 3 (ipykernel)",
   "language": "python",
   "name": "python3"
  },
  "language_info": {
   "codemirror_mode": {
    "name": "ipython",
    "version": 3
   },
   "file_extension": ".py",
   "mimetype": "text/x-python",
   "name": "python",
   "nbconvert_exporter": "python",
   "pygments_lexer": "ipython3",
   "version": "3.9.13"
  }
 },
 "nbformat": 4,
 "nbformat_minor": 5
}
