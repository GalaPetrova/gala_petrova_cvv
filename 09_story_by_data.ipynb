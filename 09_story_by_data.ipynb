{
 "cells": [
  {
   "cell_type": "markdown",
   "id": "4184f46c",
   "metadata": {},
   "source": [
    "\n",
    "# Рынок заведений общественного питания Москвы\n",
    "\n",
    "Учебная работа. Самостоятельный исследовательский проект в рамках курса \"Аналитик данных\" Яндекс.Практикума.  \n",
    "Спринт 9: \"Как рассказать историю с помощью данных\"\n",
    "\n",
    "Без output (не сохранился файл с данными)\n",
    " \n",
    "## Общая информация о проекте\n",
    "### Описание задания\n",
    "Есть открытые данные о заведениях общественного питания в Москве. Нужно проанализировать текущее положение на рынке общественного питания в Москве и дать рекомендации о том, какой тип заведения, количество посадочных мест и район расположения лучше выбрать инвесторам.\n",
    "\n",
    "###  Цель\n",
    "Проанализировать от крытые данные и сформулировать рекомендации о наиболее выгодном расположении, типе и размере кафе.\n",
    "\n",
    "### Задачи\n",
    "1. Подготовить данные к работе (проверка типа данных в столбцах, наличия пропусков, ошибок и дубликатов)\n",
    "2. Изучить характеристики сетевых и несетевых заведений общественного питания.\n",
    "3. Сравнить сетевые и несетевые заведения по количеству посадочных мест.\n",
    "4. Выделить районаы с наибольшим количеством объектов общественного питания.\n",
    "5. Выделить районаы с наименьшим количеством объектов общественного питания.\n",
    "6. Изучить закономерности распределения количества посадочных мест в заведениях из наиболее популярных районов.\n",
    "\n",
    "\n",
    "###  Данные\n",
    "Данные о заведениях общественного питания получены в виде файла `rest_data.csv`.\n",
    "\n",
    "###  Описание данных\n",
    "\n",
    "**Структура файла `rest_data.csv`**  \n",
    " - `id` — идентификатор объекта;\n",
    " - `object_name` — название объекта общественного питания;\n",
    " - `chain` — сетевой ресторан;\n",
    " - `object_type` — тип объекта общественного питания;\n",
    " - `address` — адрес;\n",
    " - `number` — количество посадочных мест.\n",
    "\n",
    "\n",
    "## Загрузка и обзор данных\n",
    "\n",
    "Загружаем библиотеки:"
   ]
  },
  {
   "cell_type": "code",
   "execution_count": null,
   "id": "fcfeedd2",
   "metadata": {},
   "outputs": [],
   "source": [
    "import pandas as pd\n",
    "import numpy as np\n",
    "from pymystem3 import Mystem\n",
    "m = Mystem()\n",
    "import datetime as dt\n",
    "import matplotlib.pyplot as plt\n",
    "from scipy import stats as st\n",
    "import math\n",
    "import seaborn as sns\n",
    "import re\n",
    "import pprint\n",
    "\n",
    "import sys\n",
    "import warnings\n",
    "if not sys.warnoptions:\n",
    "       warnings.simplefilter(\"ignore\")"
   ]
  },
  {
   "cell_type": "markdown",
   "id": "0930af1c",
   "metadata": {},
   "source": [
    "Создаём библиотеку стилей:"
   ]
  },
  {
   "cell_type": "code",
   "execution_count": null,
   "id": "e56cf495",
   "metadata": {},
   "outputs": [],
   "source": [
    "pd.set_option('max_colwidth', 500)\n",
    "sns.set_style(\"ticks\")\n",
    "\n",
    "class Color:\n",
    "   PURPLE = '\\033[95m'\n",
    "   CYAN = '\\033[96m'\n",
    "   DARKCYAN = '\\033[36m'\n",
    "   BLUE = '\\033[94m'\n",
    "   GREEN = '\\033[92m'\n",
    "   YELLOW = '\\033[93m'\n",
    "   RED = '\\033[91m'\n",
    "   BOLD = '\\033[1m'\n",
    "   UNDERLINE = '\\033[4m'\n",
    "   END = '\\033[0m'"
   ]
  },
  {
   "cell_type": "markdown",
   "id": "ed9cad59",
   "metadata": {},
   "source": [
    "Загружаем файл с данными:"
   ]
  },
  {
   "cell_type": "code",
   "execution_count": null,
   "id": "191bebe8",
   "metadata": {},
   "outputs": [],
   "source": [
    "data = pd.read_csv('/datasets/rest_data.csv')"
   ]
  },
  {
   "cell_type": "markdown",
   "id": "ec426c27",
   "metadata": {},
   "source": [
    "### Обзор и подготовка данных\n",
    "Выведем первые 5 строк таблицы `data`:"
   ]
  },
  {
   "cell_type": "code",
   "execution_count": null,
   "id": "b85d0434",
   "metadata": {},
   "outputs": [],
   "source": [
    "display(data.head())"
   ]
  },
  {
   "cell_type": "markdown",
   "id": "b15b335f",
   "metadata": {},
   "source": [
    "Проверим данные о столбцах:"
   ]
  },
  {
   "cell_type": "code",
   "execution_count": null,
   "id": "7430fe32",
   "metadata": {},
   "outputs": [],
   "source": [
    "data.info()"
   ]
  },
  {
   "cell_type": "markdown",
   "id": "343280e1",
   "metadata": {},
   "source": [
    "Пропусков нет, тип данных в столбцах правильный. Проверим данные на наличие дубликатов:"
   ]
  },
  {
   "cell_type": "code",
   "execution_count": null,
   "id": "8f5b43e4",
   "metadata": {},
   "outputs": [],
   "source": [
    "print('Дублирующихся строк:', data.duplicated().sum())"
   ]
  },
  {
   "cell_type": "markdown",
   "id": "8baa68b6",
   "metadata": {},
   "source": [
    "Проверим данные в столбцах на наличие ошибок, создадим необходимы столбцы (выделим в отдельный столбец данные об улицах).  \n",
    "\n",
    "#### Идентификатор объекта общественного питания\n",
    "\n",
    "В столбце `id` числовые значения, выведем описательную статистику и посчитаем дублирующиеся значения:"
   ]
  },
  {
   "cell_type": "code",
   "execution_count": null,
   "id": "045ecec6",
   "metadata": {},
   "outputs": [],
   "source": [
    "print(data['id'].duplicated().sum())\n",
    "data['id'].describe()"
   ]
  },
  {
   "cell_type": "markdown",
   "id": "462672ef",
   "metadata": {},
   "source": [
    "Дубликатов в столбце `id` нет, но номера распределены очень странно и явно не по порядку (в данных 15 тысяч строк, а номера `id` - от 838 до 223 тысяч). Проверим, есть ли в данных дубликаты, если не учитывать столбец `id`."
   ]
  },
  {
   "cell_type": "code",
   "execution_count": null,
   "id": "316f3ea4",
   "metadata": {},
   "outputs": [],
   "source": [
    "print('Дублирующихся строк (без столбца `id`):', \n",
    "      data[['object_name', 'chain', 'object_type', 'address', 'number']].duplicated().sum())"
   ]
  },
  {
   "cell_type": "markdown",
   "id": "43f3ec42",
   "metadata": {},
   "source": [
    "Дублирующие строки нашлись. Столбец `id` не содержит ценной информации, его можно удалить.  \n",
    "Удаляем столбец `id`, удаляем дубликаты и делаем проверку."
   ]
  },
  {
   "cell_type": "code",
   "execution_count": null,
   "id": "544d9829",
   "metadata": {},
   "outputs": [],
   "source": [
    "data = data.drop('id', axis=1).drop_duplicates()\n",
    "print('Дублирующихся строк:', data.duplicated().sum())"
   ]
  },
  {
   "cell_type": "markdown",
   "id": "8c0cbab3",
   "metadata": {},
   "source": [
    "**Вывод:** столбец `id` удалён.\n",
    "\n",
    "#### Название объекта общественного питания\n",
    "\n",
    "Проверим на наличие ошибок столбец `object_name`."
   ]
  },
  {
   "cell_type": "code",
   "execution_count": null,
   "id": "1a94c481",
   "metadata": {},
   "outputs": [],
   "source": [
    "print(data['object_name'].unique())\n",
    "data['object_name'].describe()"
   ]
  },
  {
   "cell_type": "markdown",
   "id": "10c2e392",
   "metadata": {},
   "source": [
    "Из 15284 значений 10393 - уникальные, самое частотное, \"столовая\", встречается 267 раз. Не удивительно, что самое частотное название - это \"Столовая\", ведь столовые есть везде (и в школах, и в вузах, и в офисах), и не требуют отдельного названия.    \n",
    "Всречается написание капслоком и кавычки, которые могут приводить к возникновению дубликатов. \n",
    "\n",
    "Для начала изменим регистр во всех названиях и проверим данные на дубликаты."
   ]
  },
  {
   "cell_type": "code",
   "execution_count": null,
   "id": "fc4ff11b",
   "metadata": {},
   "outputs": [],
   "source": [
    "data['object_name'] = data['object_name'].str.lower()\n",
    "\n",
    "print(data['object_name'].unique())\n",
    "print('Дублирующихся строк:', data.duplicated().sum())\n",
    "data['object_name'].describe()"
   ]
  },
  {
   "cell_type": "markdown",
   "id": "7b1d84b0",
   "metadata": {},
   "source": [
    "Найдено три дубликата, а уникальных названий стало меньше.  \n",
    "Лемматизируем названия и отсортируем леммы по алфавиту при помощи функции. Результат сохраним в столбце `lemmas`."
   ]
  },
  {
   "cell_type": "code",
   "execution_count": null,
   "id": "551c87b5",
   "metadata": {},
   "outputs": [],
   "source": [
    "def lemmas(str):\n",
    "    lemmas = m.lemmatize(str)\n",
    "    lemmas.sort(reverse=True)\n",
    "    return lemmas\n",
    "\n",
    "print('Проверка работы функции:', lemmas('мята lounge октябрьская'))\n",
    "print('Проверка работы функции:', lemmas('лаундж-бар мята lounge'))\n",
    "\n",
    "data['lemmas'] = data['object_name'].apply(lemmas)"
   ]
  },
  {
   "cell_type": "markdown",
   "id": "02f45c94",
   "metadata": {},
   "source": [
    "Удалим кавычки и другие лишние символы из столбца `lemmas` для удобства восприятия и сохраним лемматизированное название объекта в отдельный столбец."
   ]
  },
  {
   "cell_type": "code",
   "execution_count": null,
   "id": "af329147",
   "metadata": {},
   "outputs": [],
   "source": [
    "def join_lemmas(list):\n",
    "    joined_lemmas = ' '.join(list)\n",
    "    joined_lemmas = joined_lemmas.replace('«', '').replace('»', '').replace('\\n', '').replace(\n",
    "        '   ', ' ').replace('-', '').replace('  ', ' ').replace('  ', ' ')\n",
    "    return joined_lemmas\n",
    "    \n",
    "data['lemmatized_object_name'] = data['lemmas'].apply(join_lemmas)\n",
    "print(data['lemmatized_object_name'].unique())\n",
    "print()\n",
    "print('Дублирующихся строк:', data[['chain', 'object_type', 'address', 'number', \n",
    "       'lemmatized_object_name']].duplicated().sum())\n",
    "data['lemmatized_object_name'].describe()"
   ]
  },
  {
   "cell_type": "markdown",
   "id": "c66f741e",
   "metadata": {},
   "source": [
    "Нашлась ещё одна дублирующаяся строка, а количество уникальных названий ещё немного уменьшилось.Удалим дублирующиеся строки и сделаем проверку. Исходные названия сохраним в переменную `original_name` и добавим в получившуюся таблицу."
   ]
  },
  {
   "cell_type": "code",
   "execution_count": null,
   "id": "92db6929",
   "metadata": {},
   "outputs": [],
   "source": [
    "original_name = data['object_name']\n",
    "print('Количество строк до удаления дубликатов:', len(data))\n",
    "data = data[['chain', 'object_type', 'address', 'number', \n",
    "       'lemmatized_object_name']].drop_duplicates()\n",
    "print('Количество строк после удаления дубликатов:', len(data))\n",
    "data = data.join(original_name)\n",
    "data = data.rename(columns={'object_name': 'original_name'})\n",
    "print('Количество строк после присоединения столбца с исходными названиями', len(data))\n",
    "\n",
    "print('Дублирующихся строк:', data[['chain', 'object_type', 'address', 'number', \n",
    "       'lemmatized_object_name']].duplicated().sum())"
   ]
  },
  {
   "cell_type": "markdown",
   "id": "1059ab7c",
   "metadata": {},
   "source": [
    "Удалим временный технический столбец `lemmatized_object_name`"
   ]
  },
  {
   "cell_type": "code",
   "execution_count": null,
   "id": "527d2f2e",
   "metadata": {},
   "outputs": [],
   "source": [
    "data = data.drop('lemmatized_object_name', axis=1)\n",
    "data.columns"
   ]
  },
  {
   "cell_type": "markdown",
   "id": "d7a88dfc",
   "metadata": {},
   "source": [
    "**Вывод:** данные о названиях заведений подготовлены.\n",
    "\n",
    "#### Сетевой или нет\n",
    "Проверим значения в столбце `chain`:"
   ]
  },
  {
   "cell_type": "code",
   "execution_count": null,
   "id": "1fb64529",
   "metadata": {},
   "outputs": [],
   "source": [
    "data['chain'].describe()"
   ]
  },
  {
   "cell_type": "markdown",
   "id": "01eca945",
   "metadata": {},
   "source": [
    "Встолбце `chain` всего два уникальных значения (да и нет). Несетевых заведений гораздо больше (12 тысяч из 15).  \n",
    "Заменим логические значения \"да\" и \"нет\" на смысловые \"сетевой\" и \"несетевой\" и сделаем проверку"
   ]
  },
  {
   "cell_type": "code",
   "execution_count": null,
   "id": "2a7a99de",
   "metadata": {},
   "outputs": [],
   "source": [
    "data['chain'] = data['chain'].str.replace('да', 'сетевой')\n",
    "data['chain'] = data['chain'].str.replace('нет', 'несетевой')\n",
    "\n",
    "print(data['chain'].unique())"
   ]
  },
  {
   "cell_type": "markdown",
   "id": "a5516d39",
   "metadata": {},
   "source": [
    "**Вывод:** данные в столбце `chain` подготовлены.\n",
    "\n",
    "\n",
    "#### Тип объекта общественного питания\n",
    "Проверим корректность данных в столбце `object_type`:"
   ]
  },
  {
   "cell_type": "code",
   "execution_count": null,
   "id": "f2dc2b09",
   "metadata": {},
   "outputs": [],
   "source": [
    "print(data['object_type'].unique())\n",
    "data['object_type'].describe()"
   ]
  },
  {
   "cell_type": "markdown",
   "id": "9937cfea",
   "metadata": {},
   "source": [
    "Всего девять типов, ошибок нет. Правда, не очень понятно, чем кафетерий отличается от буфета и что именно имеется в виду под \"предприятием быстрого обслуживания\". Посмотрим, какие заведения попадают в каждый из типов."
   ]
  },
  {
   "cell_type": "code",
   "execution_count": null,
   "id": "af453a13",
   "metadata": {},
   "outputs": [],
   "source": [
    "data.columns"
   ]
  },
  {
   "cell_type": "code",
   "execution_count": null,
   "id": "442d72ae",
   "metadata": {},
   "outputs": [],
   "source": [
    "types = data.pivot_table(\n",
    "    index='object_type', \n",
    "    columns='chain', \n",
    "    values='original_name', \n",
    "    aggfunc='first'\n",
    ")\n",
    "\n",
    "display(types)"
   ]
  },
  {
   "cell_type": "markdown",
   "id": "ad41e2af",
   "metadata": {},
   "source": [
    "Разделение на типы питания явно очень условно и сделано по разным основаниям. \"Суши wok\" и \"Суши вок\", которые с большой вероятностью относятся к одной сети, попадают сразу и в закусочные, и в предприятия быстрого обслуживания. \"Грабли\" - скорее ресторан, но в наших данных записан, как столовая. \"Кофе с собой\" логичнее было бы отнести к предприятиям быстрого обслуживания. \n",
    "\n",
    "**Вывод:** данные в столбце `object_type` подготовлены, но при анализе стоит учитывать, что, скорее всего, типы выделены условно и могут пересекаться.\n",
    "\n",
    "#### Адрес\n",
    "Проверим данные в столбце адрес"
   ]
  },
  {
   "cell_type": "code",
   "execution_count": null,
   "id": "c692c12c",
   "metadata": {},
   "outputs": [],
   "source": [
    "print(data['address'].unique())"
   ]
  },
  {
   "cell_type": "markdown",
   "id": "accccaa1",
   "metadata": {},
   "source": [
    "Выделим в отдельный столбец улицу.  \n",
    "Составим список слов, обозначающих улицы и применим к столбцу `address` регулярное выражение. Результат сохраним в столбец `street`."
   ]
  },
  {
   "cell_type": "code",
   "execution_count": null,
   "id": "3a1c817a",
   "metadata": {},
   "outputs": [],
   "source": [
    "words = ['улица','ул','переулок','шоссе','проспект','площадь','проезд',\n",
    "         'село','аллея','бульвар','набережная','тупик','линия', 'квартал', 'микрорайон']\n",
    "\n",
    "street_pattern = r\".*,\\s*\\b([^,]*?(?:{})\\b[^,]*)[,$]+\".format(\"|\".join(words))\n",
    "\n",
    "data['street'] = data['address'].str.extract(street_pattern)"
   ]
  },
  {
   "cell_type": "markdown",
   "id": "fd8fcf7c",
   "metadata": {},
   "source": [
    "Сделаем проверку: распечатаем уникальные значения сталбца `street` и первые 5 строк таблицы `data`."
   ]
  },
  {
   "cell_type": "code",
   "execution_count": null,
   "id": "ce94654e",
   "metadata": {},
   "outputs": [],
   "source": [
    "unique = data['street'].unique()\n",
    "display(unique)"
   ]
  },
  {
   "cell_type": "code",
   "execution_count": null,
   "id": "fdc3d057",
   "metadata": {},
   "outputs": [],
   "source": [
    "display(len(data.loc[data.loc[:, 'street'].isna()]))\n",
    "display(data.loc[data.loc[:, 'street'].isna()].head())"
   ]
  },
  {
   "cell_type": "markdown",
   "id": "2f0a428d",
   "metadata": {},
   "source": [
    "Не удалось извлечь названия улиц в случаях, когда не указан город (строки 859-860) или в адресе совсем нет улицы (например, город Зеленоград, корпус 436). Во втором случае пропуск будет верным вариантом, а в первом адрес не получилось извлечь из-за того, что названию улицы не предшествует запятая. Применим отредактированный вариант регулярного выражения:"
   ]
  },
  {
   "cell_type": "code",
   "execution_count": null,
   "id": "b2983abd",
   "metadata": {},
   "outputs": [],
   "source": [
    "def pat2(row):\n",
    "    street_pattern2 = r\"(.*\\s*\\b[^,]*?(?:{})\\b[^,]*)[,$]+\".format(\"|\".join(words))\n",
    "    \n",
    "    search_pat = re.search(street_pattern2, row['address'])\n",
    "    if pd.isna(row['street']):\n",
    "        if pd.isnull(search_pat):\n",
    "            return 'Нет'\n",
    "        else:\n",
    "            return search_pat.group()\n",
    "            print(search_pat.group())\n",
    "    else:\n",
    "        return row['street']"
   ]
  },
  {
   "cell_type": "code",
   "execution_count": null,
   "id": "940dc9be",
   "metadata": {},
   "outputs": [],
   "source": [
    "data['street'] = data.apply(pat2, axis=1)\n",
    "display(len(data.loc[data.loc[:, 'street'].isna()]))"
   ]
  },
  {
   "cell_type": "markdown",
   "id": "7448522c",
   "metadata": {},
   "source": [
    "В названиях могут встречаться скрытые дубликаты с разным написанием. Заменим в столбце `street` букву \"ё\" на \"е\", удалим лишние запятые и поменяем регистр:"
   ]
  },
  {
   "cell_type": "code",
   "execution_count": null,
   "id": "65c8649f",
   "metadata": {},
   "outputs": [],
   "source": [
    "data['street'] = data['street'].str.replace(',', '').str.replace('ё', 'е')\n",
    "data['street'] = data['street'].str.lower()"
   ]
  },
  {
   "cell_type": "markdown",
   "id": "25282098",
   "metadata": {},
   "source": [
    "**Вывод:** данные об адресе подготовлены.\n",
    "\n",
    "#### Количество посадочных мест\n",
    "Проверим данные в столбце `number`:"
   ]
  },
  {
   "cell_type": "code",
   "execution_count": null,
   "id": "b79c7252",
   "metadata": {},
   "outputs": [],
   "source": [
    "data['number'].describe()"
   ]
  },
  {
   "cell_type": "markdown",
   "id": "a3478943",
   "metadata": {},
   "source": [
    "Выглядит вполне правдоподобно кроме максимального значения в 1700 посадочных мест. Бывают ли такие огромные заведения общественного питания? Отсортируем таблицу по убыванию количества посадочных мест и выведем первые 10 строк:"
   ]
  },
  {
   "cell_type": "code",
   "execution_count": null,
   "id": "a24354eb",
   "metadata": {},
   "outputs": [],
   "source": [
    "display(data.sort_values(by='number', ascending=False).head(10))"
   ]
  },
  {
   "cell_type": "markdown",
   "id": "2df80ea7",
   "metadata": {},
   "source": [
    "Похоже, это не ошибка, и такие огромные рестораны действительно бывают. \n",
    "**Вывод:** данные о количестве посадочных мест готовы к работе.\n",
    "\n",
    "#### Вывод \n",
    "Данные подготовлены к работе. Проверены типы данных в столбцах, удалёны дубликаты, данные проверены на наличие пропусков и ошибок. Выделены в отдельный столбец данные об улицах.\n",
    "\n",
    "## Анализ данных\n",
    "### Типы объектов общественного питания\n",
    "\n",
    "Посчитаем и построим график количества объектов общественного питания по типам:"
   ]
  },
  {
   "cell_type": "code",
   "execution_count": null,
   "id": "22be9d9d",
   "metadata": {},
   "outputs": [],
   "source": [
    "rest_types = data.groupby(['object_type'])[\n",
    "    'original_name'].count().reset_index().sort_values(by='original_name', ascending=False)\n",
    "\n",
    "sns.barplot(y='object_type', x='original_name', data=rest_types).set(\n",
    "    title='Количество заведений общественного питания по типам \\n',\n",
    "    xlabel='Количество заведений',\n",
    "    ylabel='Тип заведения')\n",
    "plt.show()"
   ]
  },
  {
   "cell_type": "markdown",
   "id": "963dcb6c",
   "metadata": {},
   "source": [
    "Чаще всего встречается кафе, реже столовые, рестораны и предприятия быстрого обслуживания. Меньше всего по количеству буфетов, баров, закусочных и отделов кулинарий.\n",
    "\n",
    "#### Вывод\n",
    "В Москве больше всего заведений типа кафе, меньше столовые, рестораны и предприятия быстрого обслуживания. Меньше всего по количеству буфетов, баров, закусочных и отделов кулинарий.\n",
    "\n",
    "### Сетевые и несетевые заведения\n",
    "\n",
    "Посмотрим, сколько заведений - сетевые:"
   ]
  },
  {
   "cell_type": "code",
   "execution_count": null,
   "id": "623e18aa",
   "metadata": {},
   "outputs": [],
   "source": [
    "rest_chain = data.groupby(['chain'])['original_name'].count().reset_index()\n",
    "sns.barplot(x='chain', y='original_name', data=rest_chain).set(\n",
    "    title='Количество сетевых и несетевых заведений в Москве \\n',\n",
    "    ylabel='Количество заведений',\n",
    "    xlabel='Тип заведения')\n",
    "plt.show()"
   ]
  },
  {
   "cell_type": "markdown",
   "id": "5f3ca71f",
   "metadata": {},
   "source": [
    "Сетевых заведених гораздо меньше. Посмотрим, как они распределены по типам заведений:"
   ]
  },
  {
   "cell_type": "code",
   "execution_count": null,
   "id": "581c8190",
   "metadata": {},
   "outputs": [],
   "source": [
    "rest_chain_type = data.groupby(['object_type', 'chain'])[\n",
    "    'original_name'].count().reset_index().sort_values(by='original_name', ascending=False)\n",
    "plt.figure(figsize=(8, 5))\n",
    "sns.barplot(y='object_type', x='original_name', data=rest_chain_type, hue='chain').set(\n",
    "    title='Количество заведений общественного питания по типам \\n',\n",
    "    xlabel='Количество заведений',\n",
    "    ylabel='Тип заведения')\n",
    "\n",
    "plt.show()"
   ]
  },
  {
   "cell_type": "markdown",
   "id": "974211a9",
   "metadata": {},
   "source": [
    "Несетевых заведений больше во всех категориях заведений общественного питания, кроме предприятий быстрого обслуживания. Достаточно большая доля сетевых заведених среди кафе, ресторанов, а столовых, буфетов и баров почти нет.\n",
    "\n",
    "##### Вывод\n",
    "В Москве преобладают несетевые заведения общественного питания. Сетевых заведений больше только среди предприятий быстрого обслуживания. Достаточно большая доля сетевых заведених среди кафе, ресторанов.\n",
    "\n",
    "### Количество посадочных мест в сетевых и несетевых заведениях\n",
    "\n",
    "Посчитаем медианное количество посадочных мест в сетевых и несетевых заведениях и посроим график."
   ]
  },
  {
   "cell_type": "code",
   "execution_count": null,
   "id": "d0d5bada",
   "metadata": {},
   "outputs": [],
   "source": [
    "sns.barplot(y='chain', x='number', data=data, errwidth = 0).set(\n",
    "    title='Количество посадочных мест в сетевых и несетевых \\n заведениях общественного питания \\n',\n",
    "    xlabel='Количество посадочных мест',\n",
    "    ylabel='Тип заведения')\n",
    "plt.show()"
   ]
  },
  {
   "cell_type": "markdown",
   "id": "012f6f37",
   "metadata": {},
   "source": [
    "Посроим график количества посадочных мест в сетевых и несетевых заведениях с учётом типа заведения."
   ]
  },
  {
   "cell_type": "code",
   "execution_count": null,
   "id": "309d7bb3",
   "metadata": {},
   "outputs": [],
   "source": [
    "plt.figure(figsize=(8, 7))\n",
    "sns.boxplot(y=\"object_type\", x=\"number\", data=data, hue='chain', fliersize = 0).set(\n",
    "    title='Распределение количества посадочных мест  \\n в зависимости от типа заведения',\n",
    "    xlabel='Количество посадочных мест',\n",
    "    ylabel='Тип заведения')\n",
    "plt.xlim(-10, 400)\n",
    "\n",
    "plt.show()"
   ]
  },
  {
   "cell_type": "markdown",
   "id": "45f4dbf2",
   "metadata": {},
   "source": [
    "**Столовые и буфеты:** разброс количества посадочных мест в сетевых столовых и буфетах очень маленький (скорее всего, такие встречаются очень редко). Посадочных мест в столовых больше, чем в буфетах, а разброс количества посадочных мест в столовых больше, чем во всех других типах заведений.\n",
    "\n",
    "**Закусочные и предприятия быстрого обслуживания, магазины (отделы кулинарий) и кафетерии:** Разброс количества посадочных мест в закусочных и предприятиях быстрого обслуживания больше в сетевых заведениях, посадочных мест больше в предприятиях быстрого обслуживания. \n",
    "\n",
    "**Бары:** в сетевых барах больше посадочных мест, чем в несетевых.\n",
    "\n",
    "**Кафе и рестораны:** в ресторанах разброс и количество посадочных мест гораздо больше, чем в кафе. Сетевые и несетевые заведения различаются не сильно.\n",
    "\n",
    "#### Вывод\n",
    "\n",
    "Больше всего посадочных мест обычно в столовых, ресторанах и сетевых барах.  \n",
    "Меньше всего посадочных мест в закусочных, кафетериях и отделах кулинарий.  \n",
    "В предприятиях быстрого обслуживания и барах в сетевых заведениях больше посадочных мест, чем в несетевых.  \n",
    "В сетевых столовых и буфетах посадочных мест гораздо меньше, чем в несетевых.\n",
    "\n",
    "### Данные о районе\n",
    "\n",
    "Загрузим таблицу с данными о том, в каком районе находятся улицы Москвы."
   ]
  },
  {
   "cell_type": "code",
   "execution_count": null,
   "id": "6234d4c9",
   "metadata": {},
   "outputs": [],
   "source": [
    "area = pd.read_csv(\n",
    "    'https://frs.noosphere.ru/xmlui/bitstream/handle/20.500.11925/714058/mosgaz-streets.csv?sequence=1&isAllowed=y')\n",
    "display(area.head())"
   ]
  },
  {
   "cell_type": "markdown",
   "id": "bd35225f",
   "metadata": {},
   "source": [
    "В таблице есть данные не только о районе, но и об округе, это хорошо.  \n",
    "\n",
    "Заменим в названиях улиц букву \"ё\" на \"е\" и изменим регистр на строчные буквы. Удалим столбец `areaid`, он нам не пригодится."
   ]
  },
  {
   "cell_type": "code",
   "execution_count": null,
   "id": "97c3854d",
   "metadata": {},
   "outputs": [],
   "source": [
    "area['streetname'] = area['streetname'].str.replace(',', '').str.replace('ё', 'е')\n",
    "area['streetname'] = area['streetname'].str.lower()\n",
    "area = area.drop('areaid', axis=1)\n",
    "area.columns"
   ]
  },
  {
   "cell_type": "markdown",
   "id": "d71aa80c",
   "metadata": {},
   "source": [
    "Присоединим к таблице data данные о районах и выведем первые пять строк получившейся таблицы:"
   ]
  },
  {
   "cell_type": "code",
   "execution_count": null,
   "id": "844f3f61",
   "metadata": {},
   "outputs": [],
   "source": [
    "data_joined = data.merge(area, how='left', left_on='street', right_on='streetname')\n",
    "display(data_joined.head(2))"
   ]
  },
  {
   "cell_type": "markdown",
   "id": "bbd18baf",
   "metadata": {},
   "source": [
    "Проверяем, есть ли улицы, которые не удалось соотнести с районом. Сгруппируем проблемные данные по улицам, для каждой улицы выведем пример полного адреса (при помощи функции `first`) и количество заведений."
   ]
  },
  {
   "cell_type": "code",
   "execution_count": null,
   "id": "46fdc54d",
   "metadata": {},
   "outputs": [],
   "source": [
    "problem_streets = data_joined.loc[data_joined['okrug'].isna() & (data_joined['street'] != 'нет')]\n",
    "\n",
    "display(problem_streets.groupby('street').agg(\n",
    "    {'address' : 'first', 'original_name' : 'count'}).sort_values(\n",
    "    by='original_name', ascending=False).head(25))"
   ]
  },
  {
   "cell_type": "markdown",
   "id": "b1597d0d",
   "metadata": {},
   "source": [
    "В большинстве строк, в которых не удалось соотнести данные о районах, заведение находится за пределами МКАД и данных о районе нет (это города Троик, Московский, поселение Сосенское и т.д.). Заведения за пределами МКАД не являются предметом нашего интереса, поэтому их можно не включать в анализ.  \n",
    "\n",
    "Также нет данных о некоторых улицах внутри МКАДа (например, о Бесединском шоссе и Берсеневском переулке).   \n",
    "\n",
    "Ошибка в распознавании улицы Мичуринский проспект. В файле она есть, но с полным названием (\"улица Мичуринский Проспект, Олимпийская Деревня\"), можно сделать замену.  \n",
    "В загруженном файле нет 3-его Митинского переулка, но есть 3-й Митинский проезд (и 1-й и 2-й Митинские переулки), скорее всего, имеется в виду одна и та же улица, можно сделать замену.  \n",
    "\n",
    "Улицы с количеством заведений меньше пяти, скорее всего, тоже большей частью находятся за МКАД. Если есть такие, которые находятся в пределах МКАД, то их немного, и они не сильно повлияют на выводы, ими можно пренебречь.\n",
    "\n",
    "Исправляем ошибки и делаем ещё одну проверку.\n",
    "\n",
    "Сделаем замену в строках с Олимпийской деревней и 3-м Митинским переулком:"
   ]
  },
  {
   "cell_type": "code",
   "execution_count": null,
   "id": "8b02e95f",
   "metadata": {},
   "outputs": [],
   "source": [
    "data['street'] = data['street'].str.replace(\n",
    "    'улица мичуринский проспект', 'улица Мичуринский Проспект Олимпийская Деревня').str.lower()\n",
    "data['street'] = data['street'].str.replace('3-й митинский переулок', '3-й Митинский проезд').str.lower()"
   ]
  },
  {
   "cell_type": "markdown",
   "id": "fd7a5233",
   "metadata": {},
   "source": [
    "Добавим данные о Берсеневском переулке и Бесединском шоссе:"
   ]
  },
  {
   "cell_type": "code",
   "execution_count": null,
   "id": "d124d2b8",
   "metadata": {},
   "outputs": [],
   "source": [
    "def missed_streets(row, street, column, result):\n",
    "    if row['street'] == street:\n",
    "        return result\n",
    "    else:\n",
    "        return row[column]\n",
    "    \n",
    "data_joined = data.merge(area, how='left', left_on='street', right_on='streetname')"
   ]
  },
  {
   "cell_type": "code",
   "execution_count": null,
   "id": "cc9aaffc",
   "metadata": {},
   "outputs": [],
   "source": [
    "\"\"\"Исправляем данные о Берсеневском переулке\"\"\"\n",
    "\n",
    "data_joined['okrug'] = data_joined.apply(missed_streets, axis=1, args=('берсеневский переулок', 'okrug', 'ЦАО',))\n",
    "data_joined['area'] = data_joined.apply(missed_streets, axis=1, args=('берсеневский переулок', 'area', 'Район Якиманка',))\n",
    "\n",
    "\"\"\"Исправляем данные о Бесединском шоссе\"\"\"\n",
    "\n",
    "data_joined['okrug'] = data_joined.apply(missed_streets, axis=1, args=('бесединское шоссе', 'okrug', 'ЮВАО',))\n",
    "data_joined['area'] = data_joined.apply(missed_streets, axis=1, args=('бесединское шоссе', 'area', 'Район Капотня',))"
   ]
  },
  {
   "cell_type": "markdown",
   "id": "540a0ab0",
   "metadata": {},
   "source": [
    "Делаем проверку (выводим по две строки для исправленных улиц, для одной улицы, по которой изначально были правильные данные и одной, по которой нет данных об улице):"
   ]
  },
  {
   "cell_type": "code",
   "execution_count": null,
   "id": "eb0ca722",
   "metadata": {},
   "outputs": [],
   "source": [
    "display(data_joined.loc[data_joined['street'] == 'берсеневский переулок'].head(2))\n",
    "display(data_joined.loc[data_joined['street'] == 'бесединское шоссе'].head(2))\n",
    "display(data_joined.loc[data_joined['street'] == 'юбилейная улица'].head(2))\n",
    "display(data_joined.loc[data_joined['street'] == 'улица пречистенка'].head(2))"
   ]
  },
  {
   "cell_type": "markdown",
   "id": "a152ca24",
   "metadata": {},
   "source": [
    "Ещё раз выводим проблемные улицы:"
   ]
  },
  {
   "cell_type": "code",
   "execution_count": null,
   "id": "3119193a",
   "metadata": {},
   "outputs": [],
   "source": [
    "problem_streets = data_joined.loc[data_joined['okrug'].isna() & (data_joined['street'] != 'нет')]\n",
    "\n",
    "display(problem_streets.groupby('street').agg(\n",
    "    {'address' : 'first', 'original_name' : 'count'}).sort_values(\n",
    "    by='original_name', ascending=False).head(15))"
   ]
  },
  {
   "cell_type": "markdown",
   "id": "ca749305",
   "metadata": {},
   "source": [
    "#### Вывод\n",
    "\n",
    "В таблицу добавлены данные о районах и округах для улиц, находящихся внутри МКАД.\n",
    "\n",
    "### Топ-10 улиц по количеству заведений общественного питания.\n",
    "\n",
    "Сгруппируем данные по улице и выведем первые 10 значений в порядке убывания:"
   ]
  },
  {
   "cell_type": "code",
   "execution_count": null,
   "id": "f4f584d2",
   "metadata": {},
   "outputs": [],
   "source": [
    "data_street = data_joined.groupby('street').agg(\n",
    "    {'original_name' : 'count', \n",
    "     'okrug' : ['unique', 'nunique'], \n",
    "    'area' : ['unique', 'nunique'], }).reset_index()\n",
    "\n",
    "data_street.columns = ['street', 'n_objects', 'district', 'n_districts', 'area', 'n_areas']\n",
    "\n",
    "top_streets = data_street.sort_values(by ='n_objects', ascending=False).head(10)\n",
    "pd.set_option('max_colwidth', 500)\n",
    "display(top_streets)"
   ]
  },
  {
   "cell_type": "code",
   "execution_count": null,
   "id": "def6eb23",
   "metadata": {},
   "outputs": [],
   "source": [
    "sns.barplot(y='street', x='n_objects', data=top_streets).set(\n",
    "    title='Топ-10 улиц по количеству заведений общественного питания \\n',\n",
    "    xlabel='Количество заведений',\n",
    "    ylabel='Улица')\n",
    "plt.show()"
   ]
  },
  {
   "cell_type": "markdown",
   "id": "27f05438",
   "metadata": {},
   "source": [
    "В Топ-10 попали длинные магистральные улицы и шоссе, ведущие от центра за пределы города. Они проходят через несколько районов, а иногда даже округов. Вероятно, именно здесь находятся крупные транспортные узлы, метро, и эти улицы пропускают через себя большое количество людей.   \n",
    "С другой стороны, эти улицы - самые длинные. Вполне возможно, что, чем длиннее улица, тем больше на ней может разместиться заведений общественного питания (а на маленькой улице, даже если она очень популярна, физически заведений может поместиться меньше). \n",
    "\n",
    "При оценке привлекательности улицы для ресторанного бизнеса было бы интересно оценить не только количество заведений на улице, но и плотность. Попробуем примерно оценить плотность, разделив количество заведений общественного питания на количество районов, через которые проходит эта улица. Эта метрика будет весьма приблизительной, так как мы не знаем, равномерно ли распределены заведения по улице или нет. Но, при допущении о том, что заведения распределены равномерно, она далжна позволить нам сравнивать улицы, пересекающие несколько районов, и улицы, полностью располагающиеся в границах одного района."
   ]
  },
  {
   "cell_type": "code",
   "execution_count": null,
   "id": "24d11eb5",
   "metadata": {},
   "outputs": [],
   "source": [
    "data_street['nobjects_per_area'] = data_street['n_objects'] / data_street['n_areas']\n",
    "top_streets_per_area = data_street[data_street['n_areas'] != 0].sort_values(by ='nobjects_per_area', ascending=False).head(10)\n",
    "display(top_streets_per_area)"
   ]
  },
  {
   "cell_type": "code",
   "execution_count": null,
   "id": "c5ce2f5f",
   "metadata": {},
   "outputs": [],
   "source": [
    "sns.barplot(y='street', x='nobjects_per_area', data=top_streets_per_area).set(\n",
    "    title='Топ-10 улиц по количеству заведений общественного питания (с учётом длины) \\n',\n",
    "    xlabel='Количество заведений',\n",
    "    ylabel='Улица')\n",
    "plt.show()"
   ]
  },
  {
   "cell_type": "markdown",
   "id": "de02b6ea",
   "metadata": {},
   "source": [
    "Даже при учёте длины улицы лидерами остаются улицы-магистрали. Но появились и новые названия: очень много заведений на Пресненской набережной, хотя она довольно короткая (находится полностью в пределах одного района), но в центре, и почему-то Кировоградская улица (это странно, потому что Кировоградская улица проходит через спальные районы и там нет крупных транспортных узлов).  \n",
    "\n",
    "Составим топ-список популярных улиц, полученных первым и вторым способом (с корректировкой с учётом длины и без), сохраним его в переменной `top_streets`."
   ]
  },
  {
   "cell_type": "code",
   "execution_count": null,
   "id": "7c04c0f3",
   "metadata": {},
   "outputs": [],
   "source": [
    "top_street_list = pd.Series(top_streets['street'].unique())\n",
    "top_street_list_2 = pd.Series(top_streets_per_area['street'].unique())\n",
    "\n",
    "top_streets = top_street_list.append(top_street_list_2).drop_duplicates().reset_index(drop=True)\n",
    "print(top_streets)"
   ]
  },
  {
   "cell_type": "markdown",
   "id": "533f6dbe",
   "metadata": {},
   "source": [
    "Список самых популярных улиц составлен. \n",
    "\n",
    "**Топ-10 районов**  \n",
    "\n",
    "Сгруппируем таблицу по районам, чтобы посмотреть, какие районы более популярны у владельцев заведений общественного питания.  \n",
    "В результате применения группировки в столбцах `okrug` и `area` получились списки. Для дальнейшей группировки преобразуем списки в текст."
   ]
  },
  {
   "cell_type": "code",
   "execution_count": null,
   "id": "3280b236",
   "metadata": {},
   "outputs": [],
   "source": [
    "def join_string(series):\n",
    "    return (', '.join(map(str, series)))"
   ]
  },
  {
   "cell_type": "code",
   "execution_count": null,
   "id": "237b6f55",
   "metadata": {},
   "outputs": [],
   "source": [
    "data_street['district'] = data_street['district'].apply(join_string)\n",
    "data_street['area'] = data_street['area'].apply(join_string)\n",
    "\n",
    "display(data_street.head(2))"
   ]
  },
  {
   "cell_type": "markdown",
   "id": "ca470c05",
   "metadata": {},
   "source": [
    "Сгруппируем данные по районам и выведем Топ-10 районов по количеству заведений общественного питания. "
   ]
  },
  {
   "cell_type": "code",
   "execution_count": null,
   "id": "250fb542",
   "metadata": {},
   "outputs": [],
   "source": [
    "data_area = data_street.groupby('area').agg(\n",
    "    {'street' : 'first',\n",
    "     'n_objects' : 'sum', \n",
    "    'district' : 'first',\n",
    "     'n_areas' : 'first'\n",
    "    }).reset_index()\n",
    "\n",
    "display(data_area.sort_values(\n",
    "    by ='n_objects', ascending=False).head(10))"
   ]
  },
  {
   "cell_type": "markdown",
   "id": "8d7d953b",
   "metadata": {},
   "source": [
    "В лидерах по прежнему остаются магистральные улицы. Ограничим выдачу теми улицами, которые располягаются в пределах одного района. Это не полные данные по району, так как отсюда исключены все улицы, проходящие через два и более районов (крупные улицы с большим количеством заведений общественного питания). Но такой способ позволит оценить привлекательность маленьких локальных улиц для ресторанного бизнеса."
   ]
  },
  {
   "cell_type": "code",
   "execution_count": null,
   "id": "33104630",
   "metadata": {},
   "outputs": [],
   "source": [
    "top_areas_data = data_area.loc[data_area.loc[:, 'n_areas'] == 1].sort_values(\n",
    "    by ='n_objects', ascending=False).head(10)\n",
    "\n",
    "top_areas = top_areas_data['area'].unique()\n",
    "display(top_areas_data)"
   ]
  },
  {
   "cell_type": "markdown",
   "id": "a89133b8",
   "metadata": {},
   "source": [
    "Почти все районы из Топ-10 находятся в Центре, что логично. Только три района выбиваются: Даниловский (административно он не относится к ЦАО, но по смыслу очень близок), Хорошёвский, который считается весьма элитным районом, и Митино - по сути полноценный город. \n",
    "\n",
    "#### Вывод\n",
    "Больше всего заведений общественного питания расположено на магистральных улицах, ведущих из центра за пределы города: \n",
    " - проспект Мира,\n",
    " - Варшавское шоссе\n",
    " - Ленинский проспект\n",
    " - Профсоюзная улица\n",
    " - Дмитровское шоссе\n",
    " - Ленинградский проспект\n",
    " - проспект Вернадского\n",
    " - Ленинградское шоссе\n",
    " - Каширское шоссе\n",
    " - Волгоградский проспект\n",
    " - Пресненская набережная\n",
    " - Кутузовский проспект\n",
    " - Кировоградская улица   \n",
    " \n",
    "Большое количество заведений общественного питания на магистральных улицах (магистральные улицы остаются самыми популярными даже после коррекции на длину улицы). Скорее всего, это связано с тем, что на них находятся крупные транспортные узлы, через которые проходит много людей.\n",
    " \n",
    "На маленьких улицах, располагающихся в границах одного района, больше всего заведений общественного питания в центре (ЦАО).\n",
    "\n",
    "### Улицы с одним заведением общественного питания\n",
    "\n",
    "Найдём улицы с одним заведением общественного питания:"
   ]
  },
  {
   "cell_type": "code",
   "execution_count": null,
   "id": "ce7a4cca",
   "metadata": {},
   "outputs": [],
   "source": [
    "the_only_object_streets = data_street[data_street['n_objects'] == 1]\n",
    "print(len(the_only_object_streets))\n",
    "display(the_only_object_streets.head())"
   ]
  },
  {
   "cell_type": "markdown",
   "id": "81dc7f76",
   "metadata": {},
   "source": [
    "Всего найдено 509 улиц, на которых находится всего одно заведение общесвенного питания. Сгруппируем их по районам и выведем районы с наибольшим количеством улиц с единственным заведением общественного питания:"
   ]
  },
  {
   "cell_type": "code",
   "execution_count": null,
   "id": "5fd55b0f",
   "metadata": {},
   "outputs": [],
   "source": [
    "data_area_only_object_streets = the_only_object_streets.groupby('area').agg(\n",
    "    {'street' : 'count',\n",
    "    'district' : 'first',\n",
    "    }).reset_index()\n",
    "\n",
    "display(data_area_only_object_streets.sort_values(\n",
    "    by ='street', ascending=False).head(10))"
   ]
  },
  {
   "cell_type": "code",
   "execution_count": null,
   "id": "8f7a3c5d",
   "metadata": {},
   "outputs": [],
   "source": [
    "data_area_only_object_streets = the_only_object_streets.groupby('area').agg(\n",
    "    {'street' : 'count', 'district' : 'first'})\n",
    "data_area_all_objects_streets = data_street.loc[data_street.loc[:, 'n_areas'] == 1].groupby('area').agg(\n",
    "    {'street' : 'count'})\n",
    "data_area_all_objects_streets.columns = ['all_streets_with_objects']\n",
    "\n",
    "data_area_ = data_area_only_object_streets.join(data_area_all_objects_streets).reset_index()\n",
    "data_area_['proportion'] = data_area_['street'] / data_area_['all_streets_with_objects']\n",
    "display(data_area_.sort_values(by ='proportion', ascending=False).head(10).round(2))"
   ]
  },
  {
   "cell_type": "markdown",
   "id": "0c5e55e8",
   "metadata": {},
   "source": [
    "Построим график доли улиц с единственным заведением общественного питания от всех заведений района на маленьких улицах."
   ]
  },
  {
   "cell_type": "code",
   "execution_count": null,
   "id": "c84bdf28",
   "metadata": {},
   "outputs": [],
   "source": [
    "def join_columns(row):\n",
    "    str1 = row['area']\n",
    "    str2 = row['district']\n",
    "    \n",
    "    result = (str1 + ', ' + str2)\n",
    "    return result"
   ]
  },
  {
   "cell_type": "code",
   "execution_count": null,
   "id": "039ffcda",
   "metadata": {},
   "outputs": [],
   "source": [
    "data_area_['area_district'] = data_area_.apply(join_columns, axis=1)\n",
    "plt.figure(figsize=(6, 20))\n",
    "sns.barplot(y='area_district', x='proportion', data=data_area_.sort_values(by ='proportion', ascending=False).head(50)).set(\n",
    "    title='Доля улиц с одним заведением общественного питания \\n от количества локальных улиц района (на которых есть хотя бы одно заведение). \\n',\n",
    "    xlabel='Доля улиц с единственным заведением',\n",
    "    ylabel='Район')\n",
    "\n",
    "plt.show()"
   ]
  },
  {
   "cell_type": "markdown",
   "id": "ed123578",
   "metadata": {},
   "source": [
    "Больше всего доля улиц с единственным заведением общественного питания (больше 50%) в периферийных спальных районах. Скорее всего, здесь небольшой спрос на ресторанные услуги, общее количество заведений общественного питания очень небольшое, и достаточно одного такого заведения на большую площадь.\n",
    "\n",
    "Найдём долю улиц с единственным заведением общественного питания от всех локальных улиц округа, на которых есть хотя бы одно заведение."
   ]
  },
  {
   "cell_type": "code",
   "execution_count": null,
   "id": "c3ec5ee0",
   "metadata": {},
   "outputs": [],
   "source": [
    "data_district_only_object_streets = the_only_object_streets.groupby('district').agg(\n",
    "    {'street' : 'count'})\n",
    "data_district_all_objects_streets = data_street.loc[data_street.loc[:, 'n_districts'] == 1].groupby('district').agg(\n",
    "    {'street' : 'count'})\n",
    "data_district_all_objects_streets.columns = ['all_streets_with_objects']\n",
    "\n",
    "data_district = data_district_only_object_streets.join(data_district_all_objects_streets).reset_index()\n",
    "data_district['proportion'] = data_district['street'] / data_district['all_streets_with_objects']\n",
    "# display(data_district.sort_values(by ='proportion', ascending=False).head(10).round(2))\n",
    "\n",
    "# plt.figure(figsize=(6, 20))\n",
    "sns.barplot(y='district', x='proportion', data=data_district.sort_values(by ='proportion', ascending=False)).set(\n",
    "    title='Доля улиц с одним заведением общественного питания \\n от количества локальных улиц округа (на которых есть хотя бы одно заведение). \\n',\n",
    "    xlabel='Доля улиц с единственным заведением',\n",
    "    ylabel='Округ')\n",
    "\n",
    "plt.show()"
   ]
  },
  {
   "cell_type": "markdown",
   "id": "f1f04a54",
   "metadata": {},
   "source": [
    "Доля локальных улиц с единственным заведением общественного питания не сильно различается по округам (в семи округах, где она наибольшая, она колеблется от 27% до 34%).  \n",
    "Меньше всего доля улиц с единственным заведением общественного питания в ЮЗАО, Зеленограде и ЮАО. \n",
    "\n",
    "##### Вывод\n",
    "Больше всего улиц с единственным заведением общественного питания находится в центре, однако доля таких улиц от общего количества улиц (на которых есть хотя бы одно заведение общественного питания) больше всего в периферийных спальных районах. При этом доля улиц с единственным заведением сильно различается по районами внутри одного округа. Вероятно, это связано с тем, что в спальных районах небольшой спрос на услуги кафе и ресторанов, и общее количество таких заведений небольшое, а ближе к транспортным узлам или другим точкам притяжения посетителей, спрос больше.\n",
    "\n",
    "### Распределение количества посадочных мест в зависимости от количества объектов общественного питания на улице\n",
    "\n",
    "Посмотрим на количество посадочных мест для улиц из списка `top_streets`:"
   ]
  },
  {
   "cell_type": "code",
   "execution_count": null,
   "id": "2ff7a481",
   "metadata": {},
   "outputs": [],
   "source": [
    "plt.figure(figsize=(15, 7))\n",
    "sns.boxplot(y=\"street\", x=\"number\", data=data.query('street in @top_streets'), fliersize = 4).set(\n",
    "    title='Количество посадочных мест на улицах с наибольшим количеством \\n заведений общественного питания',\n",
    "    xlabel='Количество посадочных мест',\n",
    "    ylabel='Улица')\n",
    "\n",
    "plt.show()"
   ]
  },
  {
   "cell_type": "markdown",
   "id": "7b35cc45",
   "metadata": {},
   "source": [
    "Завезения с самым большим количеством посадочных мест находятся на Кутузовском проспекте и проспекте Вернадского (и тот, и другой - достаточно дорогие районы). Среднее количество посадочных мест на всех улицах небольшое: до 100.    \n",
    "Спрячем выбросы и добавим подкатегорию: сетевое заведение или нет."
   ]
  },
  {
   "cell_type": "code",
   "execution_count": null,
   "id": "7ba21c2e",
   "metadata": {},
   "outputs": [],
   "source": [
    "data.columns"
   ]
  },
  {
   "cell_type": "code",
   "execution_count": null,
   "id": "dd2d648f",
   "metadata": {},
   "outputs": [],
   "source": [
    "plt.figure(figsize=(8, 8))\n",
    "sns.boxplot(y=\"street\", x=\"number\", data=data.query('street in @top_streets'), hue='chain', fliersize = 0).set(\n",
    "    title='Количество посадочных мест на улицах с наибольшим количеством \\n заведений общественного питания',\n",
    "    xlabel='Количество посадочных мест',\n",
    "    ylabel='Улица')\n",
    "plt.xlim(-10, 280)\n",
    "\n",
    "plt.show()"
   ]
  },
  {
   "cell_type": "markdown",
   "id": "70cbb40b",
   "metadata": {},
   "source": [
    "В сетевых заведениях количество посадочных мест, как правило, немного больше, чем в несетевых, за исключением улиц: Кутузовский проспект (возможно, это связано с тем, что район очень дорогой и все заведения ориентированы на состоятельных клииентов, не склонных посещать сетевые заведения) и Ленинградский проспект (тут разница совсем небольшая).  \n",
    "Напротив, разброс посадочных мест в сетевых заведениях сильно больше, чем не в сетевых, на улицах: Каширское шоссе, Проспект Мира. Можно предположить, что в этих районах заведения больше ориентированы на менее обеспеченных посетителей.\n",
    "\n",
    "Посмотрим, есть ли различия в количестве посадочных мест по округам:"
   ]
  },
  {
   "cell_type": "code",
   "execution_count": null,
   "id": "94545169",
   "metadata": {},
   "outputs": [],
   "source": [
    "data = data.merge(data_street, how='left', on='street')\n",
    "\n",
    "data.columns"
   ]
  },
  {
   "cell_type": "code",
   "execution_count": null,
   "id": "ddabc1cd",
   "metadata": {},
   "outputs": [],
   "source": [
    "plt.figure(figsize=(12, 5))\n",
    "sns.boxplot(y=\"district\", x=\"number\", data=data[data['n_districts'] == 1], fliersize = 3).set(\n",
    "    title='Распределение количества посадочных мест по округам \\n ',\n",
    "    xlabel='Количество посадочных мест',\n",
    "    ylabel='Округ')\n",
    "\n",
    "plt.show()"
   ]
  },
  {
   "cell_type": "markdown",
   "id": "24110ba2",
   "metadata": {},
   "source": [
    "Заведения с самым большим количеством посадочных мест находятся в ЗАО и ЦАО (и одно - в ВАО). Их очень мало, единицы. Можно предположить, что это дорогие и хорошо раскрученные рестораны с хорошей репутацией и постоянным потоком клиентов.  \n",
    "\n",
    "Спрячем выбросы и добавим подкатегорию: сетевое заведение или нет."
   ]
  },
  {
   "cell_type": "code",
   "execution_count": null,
   "id": "b54a317d",
   "metadata": {},
   "outputs": [],
   "source": [
    "plt.figure(figsize=(12, 8))\n",
    "sns.boxplot(y=\"district\", x=\"number\", data=data[data['n_districts'] == 1], hue='chain', fliersize = 0).set(\n",
    "    title='Распределение количества посадочных мест по округам \\n ',\n",
    "    xlabel='Количество посадочных мест',\n",
    "    ylabel='Округ')\n",
    "plt.xlim(-10, 300)\n",
    "\n",
    "plt.show()"
   ]
  },
  {
   "cell_type": "markdown",
   "id": "f98ed820",
   "metadata": {},
   "source": [
    "Различий по округам практически нет. Разброс количества посадочных мест во всех округах больше в сетевых заведениях. В ЮВАО в сетевых заведениях несколько больше посадочных мест, чем в несетевых, а Зеленограде, наоборот, в несетевых немного больше, чем в сетевых.\n",
    "\n",
    "#### Вывод\n",
    "\n",
    "\n",
    "**Количество посадочных мест по округам**  \n",
    "Различий в количестве посадочных мест по округам практически нет, а разброс во всех округах больше в сетевых заведениях.\n",
    "\n",
    "**Количество посадочных мест на улицах с наибольшим количеством заведений**  \n",
    "На популярных улицах в сетевых заведениях количество посадочных мест, как правило, немного больше, чем в несетевых, за исключением улиц: Кутузовский проспект (возможно, это связано с тем, что район очень дорогой и все заведения ориентированы на состоятельных клииентов, не склонных посещать сетевые заведения) и Ленинградский проспект (тут разница совсем небольшая).  \n",
    "Разброс посадочных мест в сетевых заведениях сильно больше, чем не в сетевых, на улицах: Каширское шоссе, Проспект Мира. Можно предположить, что в этих районах заведения больше ориентированы на менее обеспеченных посетителей.\n",
    "\n",
    "## Выводы и рекомендации\n",
    "\n",
    "### Краткий обзор проведённой работы\n",
    "\n",
    "Данные подготовлены к работе. Найдены и удалены дубликаты, выделены в отдельный столбец и приведены к единому формату данные об улицах. \n",
    "\n",
    "Проанализированы параметры заведений общественного питания:  \n",
    "    - тип заведения\n",
    "    - сетевое или несетевое заведение\n",
    "    - количество посадочных мест\n",
    "\n",
    "Загружены и подготовлены данные о районах и округах для каждой улицы.\n",
    "    \n",
    "Проанализировано расположение улиц с наибольшим количеством заведений общественного питания, сформирован список наиболее популярных улиц и наиболее популярных районов, построены графики. Проанализировано расположение улиц с одним заведением общественного питания.\n",
    "Проанализировано распределение количества посадочных мест в заведениях общественного питания на наиболее популярных улицах и их распределение по типам заведений.\n",
    "    \n",
    "Сформулированы выводы и рекомендации.\n",
    "\n",
    "### Выводы\n",
    "#### **Выводы по продуктовым метрикам**\n",
    "\n",
    "1. В Москве больше всего заведений типа кафе, меньше столовые, рестораны и предприятия быстрого обслуживания. Меньше всего по количеству буфетов, баров, закусочных и отделов кулинарий.  \n",
    "    \n",
    "    \n",
    "2. В Москве преобладают несетевые заведения общественного питания. Сетевых заведений больше только среди предприятий быстрого обслуживания. Достаточно большая доля сетевых заведених среди кафе, ресторанов.\n",
    "    \n",
    "    \n",
    "3. Больше всего посадочных мест обычно в столовых, ресторанах и сетевых барах.  \n",
    "Меньше всего посадочных мест в закусочных, кафетериях и отделах кулинарий.  \n",
    "В предприятиях быстрого обслуживания и барах в сетевых заведениях больше посадочных мест, чем в несетевых.  \n",
    "В сетевых столовых и буфетах посадочных мест гораздо меньше, чем в несетевых. \n",
    "    \n",
    "    \n",
    "4. Больше всего заведений общественного питания расположено на магистральных улицах, ведущих из центра за пределы города: \n",
    "     - проспект Мира,\n",
    "     - Варшавское шоссе\n",
    "     - Ленинский проспект\n",
    "     - Профсоюзная улица\n",
    "     - Дмитровское шоссе\n",
    "     - Ленинградский проспект\n",
    "     - проспект Вернадского\n",
    "     - Ленинградское шоссе\n",
    "     - Каширское шоссе\n",
    "     - Волгоградский проспект\n",
    "     - Пресненская набережная\n",
    "     - Кутузовский проспект\n",
    "     - Кировоградская улица   \n",
    "     \n",
    "Большое количество заведений общественного питания на магистральных улицах (магистральные улицы остаются самыми популярными даже после коррекции на длину улицы). Скорее всего, это связано с тем, что на них находятся крупные транспортные узлы, через которые проходит много людей.  \n",
    "На маленьких улицах, располагающихся в границах одного района, больше всего заведений общественного питания в центре (ЦАО).\n",
    "    \n",
    "    \n",
    "5. Больше всего улиц с единственным заведением общественного питания находится в центре, однако доля таких улиц от общего количества улиц (на которых есть хотя бы одно заведение общественного питания) больше всего в периферийных спальных районах. При этом доля улиц с единственным заведением сильно различается по районами внутри одного округа. Вероятно, это связано с тем, что в спальных районах небольшой спрос на услуги кафе и ресторанов, и общее количество таких заведений небольшое, а ближе к транспортным узлам или другим точкам притяжения посетителей, спрос больше.  \n",
    "    \n",
    "    \n",
    "6. Различий в количестве посадочных мест по округам практически нет, а разброс во всех округах больше в сетевых заведениях. \n",
    "На популярных улицах в сетевых заведениях количество посадочных мест, как правило, немного больше, чем в несетевых, за исключением улиц: Кутузовский проспект (возможно, это связано с тем, что район очень дорогой и все заведения ориентированы на состоятельных клииентов, не склонных посещать сетевые заведения) и Ленинградский проспект (тут разница совсем небольшая).   \n",
    "Разброс посадочных мест в сетевых заведениях сильно больше, чем не в сетевых, на улицах: Каширское шоссе, Проспект Мира. Можно предположить, что в этих районах заведения больше ориентированы на менее обеспеченных посетителей.\n",
    "    \n",
    "\n",
    "### Рекомендации\n",
    "При выборе места для заведения общественного питания стоит обратить внимание на магистральные улицы, соединяющие несколько районов. В случае, если заведение будет размещено на небольшой улице, лучше ограничить район выбора места центральным округом Москвы.  \n",
    "Если заведение позиционируется как доступное для всех, можно выбрать сетевой формат кафе, бара, ресторана или предприятия быстрого обслуживания. В таком случае лучше выбирать расположение заведений не в спальных районах, близко к магистральным улицам и транспортным узнам, через которые ежедневно проходит много людей.  \n",
    "Количество посадочных мест в любом случае стоит сделать небольшим (от 25 да 150 в зависимости от типа заведения). Для ресторана и сетевого бара количество посудочных мест может быть смещено в большую сторону, а для кафе и предприятия быстрого огбслуживания - в меньшую."
   ]
  }
 ],
 "metadata": {
  "kernelspec": {
   "display_name": "Python 3 (ipykernel)",
   "language": "python",
   "name": "python3"
  },
  "language_info": {
   "codemirror_mode": {
    "name": "ipython",
    "version": 3
   },
   "file_extension": ".py",
   "mimetype": "text/x-python",
   "name": "python",
   "nbconvert_exporter": "python",
   "pygments_lexer": "ipython3",
   "version": "3.9.13"
  }
 },
 "nbformat": 4,
 "nbformat_minor": 5
}
