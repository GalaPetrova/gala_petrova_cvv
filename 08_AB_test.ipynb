{
 "cells": [
  {
   "cell_type": "markdown",
   "metadata": {},
   "source": [
    "# Приоритизация гипотез и анализ результатов А/В теста для интернет-магазина\n",
    "\n",
    "Учебная работа. Самостоятельный исследовательский проект в рамках курса \"Аналитик данных\" Яндекс.Практикума.  \n",
    "Спринт 8 \"Принятие решений в бизнесе на основе данных\"\n",
    "\n",
    "## Общая информация о проекте\n",
    "### Описание задания\n",
    "Есть результаты оценки гипотез по параметрам Reach, Impact, Confidence, Effort, нужно рассчитать приоритизировать гипотезы методами ICE и RICE.  \n",
    "Доступны результаты проведения А/В тестов, их нужно проанализировать и принять решение о наличии или отсутствии отличий или о продолжении теста.\n",
    "\n",
    "###  Цель\n",
    "Приоритизировать гипотезы и проанализировать результаты А/В теста. Принять решение по результатам А/В теста.\n",
    "\n",
    "###  Данные\n",
    "Архив объявлений о продаже квартир получен в виде файлов `hypothesis.csv`, `orders.csv`, `visitors.csv`.\n",
    "\n",
    "###  Описание данных\n",
    "\n",
    "**Структура файла `visits_log.csv`**  \n",
    "\n",
    " - `Hypothesis` — краткое описание гипотезы;\n",
    " - `Reach` — охват пользователей по 10-балльной шкале;\n",
    " - `Impact` — влияние на пользователей по 10-балльной шкале;\n",
    " - `Confidence` — уверенность в гипотезе по 10-балльной шкале;\n",
    " - `Efforts` — затраты ресурсов на проверку гипотезы по 10-балльной шкале. \n",
    "\n",
    "\n",
    "**Структура файла `orders.csv`**  \n",
    " - `transactionId` — идентификатор заказа;\n",
    " - `visitorId` — идентификатор пользователя, совершившего заказ;\n",
    " - `date` — дата, когда был совершён заказ;\n",
    " - `revenue` — выручка заказа;\n",
    " - `group` — группа A/B-теста, в которую попал заказ.\n",
    "\n",
    "\n",
    "**Структура файла `visitors.csv`**  \n",
    " - `date` — дата;\n",
    " - `group` — группа A/B-теста;\n",
    " - `visitors` — количество пользователей в указанную дату в указанной группе A/B-теста\n",
    "\n",
    "## Загрузка и обзор данных\n",
    "\n",
    "Загружаем библиотеки:"
   ]
  },
  {
   "cell_type": "code",
   "execution_count": 1,
   "metadata": {},
   "outputs": [],
   "source": [
    "import pandas as pd\n",
    "import numpy as np\n",
    "import datetime as dt\n",
    "import matplotlib.pyplot as plt\n",
    "from scipy import stats as st\n",
    "import math\n",
    "import seaborn as sns\n",
    "\n",
    "import sys\n",
    "import warnings\n",
    "if not sys.warnoptions:\n",
    "       warnings.simplefilter(\"ignore\")"
   ]
  },
  {
   "cell_type": "markdown",
   "metadata": {},
   "source": [
    "Создаём библиотеку стилей:"
   ]
  },
  {
   "cell_type": "code",
   "execution_count": 2,
   "metadata": {},
   "outputs": [],
   "source": [
    "class Color:\n",
    "   PURPLE = '\\033[95m'\n",
    "   CYAN = '\\033[96m'\n",
    "   DARKCYAN = '\\033[36m'\n",
    "   BLUE = '\\033[94m'\n",
    "   GREEN = '\\033[92m'\n",
    "   YELLOW = '\\033[93m'\n",
    "   RED = '\\033[91m'\n",
    "   BOLD = '\\033[1m'\n",
    "   UNDERLINE = '\\033[4m'\n",
    "   END = '\\033[0m'"
   ]
  },
  {
   "cell_type": "markdown",
   "metadata": {},
   "source": [
    "Загружаем файлы с данными:"
   ]
  },
  {
   "cell_type": "code",
   "execution_count": 3,
   "metadata": {},
   "outputs": [],
   "source": [
    "hypothesis = pd.read_csv('/datasets/hypothesis.csv')\n",
    "orders = pd.read_csv('/datasets/orders.csv')\n",
    "visitors = pd.read_csv('/datasets/visitors.csv')"
   ]
  },
  {
   "cell_type": "markdown",
   "metadata": {},
   "source": [
    "### Обзор и подготовка данных о гипотезах\n",
    "Выведем первые 5 строк таблицы `hypothesis`:"
   ]
  },
  {
   "cell_type": "code",
   "execution_count": 4,
   "metadata": {},
   "outputs": [
    {
     "data": {
      "text/html": [
       "<div>\n",
       "<style scoped>\n",
       "    .dataframe tbody tr th:only-of-type {\n",
       "        vertical-align: middle;\n",
       "    }\n",
       "\n",
       "    .dataframe tbody tr th {\n",
       "        vertical-align: top;\n",
       "    }\n",
       "\n",
       "    .dataframe thead th {\n",
       "        text-align: right;\n",
       "    }\n",
       "</style>\n",
       "<table border=\"1\" class=\"dataframe\">\n",
       "  <thead>\n",
       "    <tr style=\"text-align: right;\">\n",
       "      <th></th>\n",
       "      <th>Hypothesis</th>\n",
       "      <th>Reach</th>\n",
       "      <th>Impact</th>\n",
       "      <th>Confidence</th>\n",
       "      <th>Efforts</th>\n",
       "    </tr>\n",
       "  </thead>\n",
       "  <tbody>\n",
       "    <tr>\n",
       "      <td>0</td>\n",
       "      <td>Добавить два новых канала привлечения трафика,...</td>\n",
       "      <td>3</td>\n",
       "      <td>10</td>\n",
       "      <td>8</td>\n",
       "      <td>6</td>\n",
       "    </tr>\n",
       "    <tr>\n",
       "      <td>1</td>\n",
       "      <td>Запустить собственную службу доставки, что сок...</td>\n",
       "      <td>2</td>\n",
       "      <td>5</td>\n",
       "      <td>4</td>\n",
       "      <td>10</td>\n",
       "    </tr>\n",
       "    <tr>\n",
       "      <td>2</td>\n",
       "      <td>Добавить блоки рекомендаций товаров на сайт ин...</td>\n",
       "      <td>8</td>\n",
       "      <td>3</td>\n",
       "      <td>7</td>\n",
       "      <td>3</td>\n",
       "    </tr>\n",
       "    <tr>\n",
       "      <td>3</td>\n",
       "      <td>Изменить структура категорий, что увеличит кон...</td>\n",
       "      <td>8</td>\n",
       "      <td>3</td>\n",
       "      <td>3</td>\n",
       "      <td>8</td>\n",
       "    </tr>\n",
       "    <tr>\n",
       "      <td>4</td>\n",
       "      <td>Изменить цвет фона главной страницы, чтобы уве...</td>\n",
       "      <td>3</td>\n",
       "      <td>1</td>\n",
       "      <td>1</td>\n",
       "      <td>1</td>\n",
       "    </tr>\n",
       "  </tbody>\n",
       "</table>\n",
       "</div>"
      ],
      "text/plain": [
       "                                          Hypothesis  Reach  Impact  \\\n",
       "0  Добавить два новых канала привлечения трафика,...      3      10   \n",
       "1  Запустить собственную службу доставки, что сок...      2       5   \n",
       "2  Добавить блоки рекомендаций товаров на сайт ин...      8       3   \n",
       "3  Изменить структура категорий, что увеличит кон...      8       3   \n",
       "4  Изменить цвет фона главной страницы, чтобы уве...      3       1   \n",
       "\n",
       "   Confidence  Efforts  \n",
       "0           8        6  \n",
       "1           4       10  \n",
       "2           7        3  \n",
       "3           3        8  \n",
       "4           1        1  "
      ]
     },
     "metadata": {},
     "output_type": "display_data"
    }
   ],
   "source": [
    "display(hypothesis.head())"
   ]
  },
  {
   "cell_type": "markdown",
   "metadata": {},
   "source": [
    "Проверим данные о столбцах:"
   ]
  },
  {
   "cell_type": "code",
   "execution_count": 5,
   "metadata": {},
   "outputs": [
    {
     "name": "stdout",
     "output_type": "stream",
     "text": [
      "<class 'pandas.core.frame.DataFrame'>\n",
      "RangeIndex: 9 entries, 0 to 8\n",
      "Data columns (total 5 columns):\n",
      "Hypothesis    9 non-null object\n",
      "Reach         9 non-null int64\n",
      "Impact        9 non-null int64\n",
      "Confidence    9 non-null int64\n",
      "Efforts       9 non-null int64\n",
      "dtypes: int64(4), object(1)\n",
      "memory usage: 488.0+ bytes\n"
     ]
    }
   ],
   "source": [
    "hypothesis.info()"
   ]
  },
  {
   "cell_type": "markdown",
   "metadata": {},
   "source": [
    "Названия столбцов содержат пробелы и заглавные буквы, поменяем регистр."
   ]
  },
  {
   "cell_type": "code",
   "execution_count": 6,
   "metadata": {},
   "outputs": [
    {
     "data": {
      "text/plain": [
       "Index(['hypothesis', 'reach', 'impact', 'confidence', 'efforts'], dtype='object')"
      ]
     },
     "execution_count": 6,
     "metadata": {},
     "output_type": "execute_result"
    }
   ],
   "source": [
    "hypothesis.columns = hypothesis.columns.str.lower()\n",
    "hypothesis.columns"
   ]
  },
  {
   "cell_type": "markdown",
   "metadata": {},
   "source": [
    "### Обзор и подготовка данных о заказах\n",
    "\n",
    "Выведем первые пять строк таблицы `orders`:"
   ]
  },
  {
   "cell_type": "code",
   "execution_count": 7,
   "metadata": {},
   "outputs": [
    {
     "data": {
      "text/html": [
       "<div>\n",
       "<style scoped>\n",
       "    .dataframe tbody tr th:only-of-type {\n",
       "        vertical-align: middle;\n",
       "    }\n",
       "\n",
       "    .dataframe tbody tr th {\n",
       "        vertical-align: top;\n",
       "    }\n",
       "\n",
       "    .dataframe thead th {\n",
       "        text-align: right;\n",
       "    }\n",
       "</style>\n",
       "<table border=\"1\" class=\"dataframe\">\n",
       "  <thead>\n",
       "    <tr style=\"text-align: right;\">\n",
       "      <th></th>\n",
       "      <th>transactionId</th>\n",
       "      <th>visitorId</th>\n",
       "      <th>date</th>\n",
       "      <th>revenue</th>\n",
       "      <th>group</th>\n",
       "    </tr>\n",
       "  </thead>\n",
       "  <tbody>\n",
       "    <tr>\n",
       "      <td>0</td>\n",
       "      <td>3667963787</td>\n",
       "      <td>3312258926</td>\n",
       "      <td>2019-08-15</td>\n",
       "      <td>1650</td>\n",
       "      <td>B</td>\n",
       "    </tr>\n",
       "    <tr>\n",
       "      <td>1</td>\n",
       "      <td>2804400009</td>\n",
       "      <td>3642806036</td>\n",
       "      <td>2019-08-15</td>\n",
       "      <td>730</td>\n",
       "      <td>B</td>\n",
       "    </tr>\n",
       "    <tr>\n",
       "      <td>2</td>\n",
       "      <td>2961555356</td>\n",
       "      <td>4069496402</td>\n",
       "      <td>2019-08-15</td>\n",
       "      <td>400</td>\n",
       "      <td>A</td>\n",
       "    </tr>\n",
       "    <tr>\n",
       "      <td>3</td>\n",
       "      <td>3797467345</td>\n",
       "      <td>1196621759</td>\n",
       "      <td>2019-08-15</td>\n",
       "      <td>9759</td>\n",
       "      <td>B</td>\n",
       "    </tr>\n",
       "    <tr>\n",
       "      <td>4</td>\n",
       "      <td>2282983706</td>\n",
       "      <td>2322279887</td>\n",
       "      <td>2019-08-15</td>\n",
       "      <td>2308</td>\n",
       "      <td>B</td>\n",
       "    </tr>\n",
       "  </tbody>\n",
       "</table>\n",
       "</div>"
      ],
      "text/plain": [
       "   transactionId   visitorId        date  revenue group\n",
       "0     3667963787  3312258926  2019-08-15     1650     B\n",
       "1     2804400009  3642806036  2019-08-15      730     B\n",
       "2     2961555356  4069496402  2019-08-15      400     A\n",
       "3     3797467345  1196621759  2019-08-15     9759     B\n",
       "4     2282983706  2322279887  2019-08-15     2308     B"
      ]
     },
     "metadata": {},
     "output_type": "display_data"
    }
   ],
   "source": [
    "display(orders.head())"
   ]
  },
  {
   "cell_type": "markdown",
   "metadata": {},
   "source": [
    "Проверим данные о столбцах:"
   ]
  },
  {
   "cell_type": "code",
   "execution_count": 8,
   "metadata": {},
   "outputs": [
    {
     "name": "stdout",
     "output_type": "stream",
     "text": [
      "<class 'pandas.core.frame.DataFrame'>\n",
      "RangeIndex: 1197 entries, 0 to 1196\n",
      "Data columns (total 5 columns):\n",
      "transactionId    1197 non-null int64\n",
      "visitorId        1197 non-null int64\n",
      "date             1197 non-null object\n",
      "revenue          1197 non-null int64\n",
      "group            1197 non-null object\n",
      "dtypes: int64(3), object(2)\n",
      "memory usage: 46.9+ KB\n"
     ]
    }
   ],
   "source": [
    "orders.info()"
   ]
  },
  {
   "cell_type": "markdown",
   "metadata": {},
   "source": [
    "Проверяем таблицу на дубликаты:"
   ]
  },
  {
   "cell_type": "markdown",
   "metadata": {},
   "source": [
    "Меняем тип данных в столбце `date`:"
   ]
  },
  {
   "cell_type": "code",
   "execution_count": 9,
   "metadata": {},
   "outputs": [
    {
     "data": {
      "text/plain": [
       "dtype('<M8[ns]')"
      ]
     },
     "execution_count": 9,
     "metadata": {},
     "output_type": "execute_result"
    }
   ],
   "source": [
    "orders['date'] = pd.to_datetime(orders['date'])\n",
    "orders['date'].dtype"
   ]
  },
  {
   "cell_type": "code",
   "execution_count": 10,
   "metadata": {
    "scrolled": true
   },
   "outputs": [
    {
     "name": "stdout",
     "output_type": "stream",
     "text": [
      "Дублирующихся строк: 0\n"
     ]
    }
   ],
   "source": [
    "print('Дублирующихся строк:', orders.duplicated().sum())"
   ]
  },
  {
   "cell_type": "markdown",
   "metadata": {},
   "source": [
    "Проверяем длительность временного интервала в столбце `date`:"
   ]
  },
  {
   "cell_type": "code",
   "execution_count": 11,
   "metadata": {},
   "outputs": [
    {
     "name": "stdout",
     "output_type": "stream",
     "text": [
      "Начало интервала: 2019-08-01 00:00:00\n",
      "Конец интервала: 2019-08-31 00:00:00\n"
     ]
    }
   ],
   "source": [
    "print('Начало интервала:', orders['date'].min())\n",
    "print('Конец интервала:', orders['date'].max())"
   ]
  },
  {
   "cell_type": "markdown",
   "metadata": {},
   "source": [
    "A/B тест шёл ровно месяц, похоже на правду.  \n",
    "Проверим корректность разделения пользователей на группы: проверим, есть ли пользователи, которые были отнесены к обеим группам:"
   ]
  },
  {
   "cell_type": "code",
   "execution_count": 12,
   "metadata": {},
   "outputs": [
    {
     "data": {
      "text/plain": [
       "True"
      ]
     },
     "metadata": {},
     "output_type": "display_data"
    }
   ],
   "source": [
    "ordersA = orders.query('group == \"A\"')\n",
    "ordersB = orders.query('group == \"B\"')\n",
    "display(any(ordersA['visitorId'].isin(ordersB['visitorId'])))"
   ]
  },
  {
   "cell_type": "markdown",
   "metadata": {},
   "source": [
    "Чтобы посчитать количество пользователей, попавших в обе группы, объединим таблицы `ordersA` и `ordersB` методом `inner` и посчитаем уникальных пользователей."
   ]
  },
  {
   "cell_type": "code",
   "execution_count": 13,
   "metadata": {},
   "outputs": [
    {
     "name": "stdout",
     "output_type": "stream",
     "text": [
      "Количество пользователей, попавших в обе группы: 58\n",
      "Доля пользователей, попавших в обе группы: 5.63%\n"
     ]
    }
   ],
   "source": [
    "confused_users = ordersA.merge(ordersB, on='visitorId')\n",
    "print('Количество пользователей, попавших в обе группы:', confused_users['visitorId'].nunique())\n",
    "print('Доля пользователей, попавших в обе группы: {:.2%}'.format(\n",
    "    confused_users['visitorId'].nunique()/orders['visitorId'].nunique()))\n"
   ]
  },
  {
   "cell_type": "markdown",
   "metadata": {},
   "source": [
    "Пользователей, попавших в обе группы, около 6% (58 человек).\n"
   ]
  },
  {
   "cell_type": "markdown",
   "metadata": {},
   "source": [
    "### Обзор и подготовка данных о посетителях\n",
    "\n",
    "Выведем первые пять строк таблицы `visitors`:"
   ]
  },
  {
   "cell_type": "code",
   "execution_count": 14,
   "metadata": {},
   "outputs": [
    {
     "data": {
      "text/html": [
       "<div>\n",
       "<style scoped>\n",
       "    .dataframe tbody tr th:only-of-type {\n",
       "        vertical-align: middle;\n",
       "    }\n",
       "\n",
       "    .dataframe tbody tr th {\n",
       "        vertical-align: top;\n",
       "    }\n",
       "\n",
       "    .dataframe thead th {\n",
       "        text-align: right;\n",
       "    }\n",
       "</style>\n",
       "<table border=\"1\" class=\"dataframe\">\n",
       "  <thead>\n",
       "    <tr style=\"text-align: right;\">\n",
       "      <th></th>\n",
       "      <th>date</th>\n",
       "      <th>group</th>\n",
       "      <th>visitors</th>\n",
       "    </tr>\n",
       "  </thead>\n",
       "  <tbody>\n",
       "    <tr>\n",
       "      <td>0</td>\n",
       "      <td>2019-08-01</td>\n",
       "      <td>A</td>\n",
       "      <td>719</td>\n",
       "    </tr>\n",
       "    <tr>\n",
       "      <td>1</td>\n",
       "      <td>2019-08-02</td>\n",
       "      <td>A</td>\n",
       "      <td>619</td>\n",
       "    </tr>\n",
       "    <tr>\n",
       "      <td>2</td>\n",
       "      <td>2019-08-03</td>\n",
       "      <td>A</td>\n",
       "      <td>507</td>\n",
       "    </tr>\n",
       "    <tr>\n",
       "      <td>3</td>\n",
       "      <td>2019-08-04</td>\n",
       "      <td>A</td>\n",
       "      <td>717</td>\n",
       "    </tr>\n",
       "    <tr>\n",
       "      <td>4</td>\n",
       "      <td>2019-08-05</td>\n",
       "      <td>A</td>\n",
       "      <td>756</td>\n",
       "    </tr>\n",
       "  </tbody>\n",
       "</table>\n",
       "</div>"
      ],
      "text/plain": [
       "         date group  visitors\n",
       "0  2019-08-01     A       719\n",
       "1  2019-08-02     A       619\n",
       "2  2019-08-03     A       507\n",
       "3  2019-08-04     A       717\n",
       "4  2019-08-05     A       756"
      ]
     },
     "metadata": {},
     "output_type": "display_data"
    }
   ],
   "source": [
    "display(visitors.head())"
   ]
  },
  {
   "cell_type": "markdown",
   "metadata": {},
   "source": [
    "Проверим данные о столбцах:"
   ]
  },
  {
   "cell_type": "code",
   "execution_count": 15,
   "metadata": {},
   "outputs": [
    {
     "name": "stdout",
     "output_type": "stream",
     "text": [
      "<class 'pandas.core.frame.DataFrame'>\n",
      "RangeIndex: 62 entries, 0 to 61\n",
      "Data columns (total 3 columns):\n",
      "date        62 non-null object\n",
      "group       62 non-null object\n",
      "visitors    62 non-null int64\n",
      "dtypes: int64(1), object(2)\n",
      "memory usage: 1.6+ KB\n"
     ]
    }
   ],
   "source": [
    "visitors.info()"
   ]
  },
  {
   "cell_type": "markdown",
   "metadata": {},
   "source": [
    "Меняем тип данных в столбце `date`"
   ]
  },
  {
   "cell_type": "code",
   "execution_count": 16,
   "metadata": {},
   "outputs": [
    {
     "data": {
      "text/plain": [
       "dtype('<M8[ns]')"
      ]
     },
     "execution_count": 16,
     "metadata": {},
     "output_type": "execute_result"
    }
   ],
   "source": [
    "visitors['date'] = pd.to_datetime(visitors['date'])\n",
    "visitors['date'].dtype"
   ]
  },
  {
   "cell_type": "markdown",
   "metadata": {},
   "source": [
    "Проверяем таблицу на дубликаты:"
   ]
  },
  {
   "cell_type": "code",
   "execution_count": 17,
   "metadata": {
    "scrolled": true
   },
   "outputs": [
    {
     "name": "stdout",
     "output_type": "stream",
     "text": [
      "Дублирующихся строк: 0\n"
     ]
    }
   ],
   "source": [
    "print('Дублирующихся строк:', visitors.duplicated().sum())"
   ]
  },
  {
   "cell_type": "markdown",
   "metadata": {},
   "source": [
    "Проверяем длительность временного интервала в столбце `date`:"
   ]
  },
  {
   "cell_type": "code",
   "execution_count": 18,
   "metadata": {},
   "outputs": [
    {
     "name": "stdout",
     "output_type": "stream",
     "text": [
      "Начало интервала: 2019-08-01 00:00:00\n",
      "Конец интервала: 2019-08-31 00:00:00\n"
     ]
    }
   ],
   "source": [
    "print('Начало интервала:', visitors['date'].min())\n",
    "print('Конец интервала:', visitors['date'].max())"
   ]
  },
  {
   "cell_type": "markdown",
   "metadata": {},
   "source": [
    "Временной интервал совпадает с данными о заказах, выбросов нет."
   ]
  },
  {
   "cell_type": "markdown",
   "metadata": {},
   "source": [
    "### **Вывод**  \n",
    "Таблицы проверены и подготовлены к работе.  \n",
    "В данных найдены ошибки: некорректно разделены на группы пользователи. Есть пользователи, которые попали и в группу А, и в группу В. Нужно отправить багрепорт, а результаты данного А/В теста считать ненадёжными. \n",
    "\n",
    "## Анализ данных\n",
    "### Приоритизация гипотез\n",
    "\n",
    "Применим фреймворки ICE и RICE и сохраним их значения в новых столбцах таблицы `hypothesis`"
   ]
  },
  {
   "cell_type": "code",
   "execution_count": 19,
   "metadata": {},
   "outputs": [
    {
     "data": {
      "text/html": [
       "<div>\n",
       "<style scoped>\n",
       "    .dataframe tbody tr th:only-of-type {\n",
       "        vertical-align: middle;\n",
       "    }\n",
       "\n",
       "    .dataframe tbody tr th {\n",
       "        vertical-align: top;\n",
       "    }\n",
       "\n",
       "    .dataframe thead th {\n",
       "        text-align: right;\n",
       "    }\n",
       "</style>\n",
       "<table border=\"1\" class=\"dataframe\">\n",
       "  <thead>\n",
       "    <tr style=\"text-align: right;\">\n",
       "      <th></th>\n",
       "      <th>hypothesis</th>\n",
       "      <th>reach</th>\n",
       "      <th>impact</th>\n",
       "      <th>confidence</th>\n",
       "      <th>efforts</th>\n",
       "      <th>ice</th>\n",
       "      <th>rice</th>\n",
       "    </tr>\n",
       "  </thead>\n",
       "  <tbody>\n",
       "    <tr>\n",
       "      <td>7</td>\n",
       "      <td>Добавить форму подписки на все основные страницы, чтобы собрать базу клиентов для email-рассылок</td>\n",
       "      <td>10</td>\n",
       "      <td>7</td>\n",
       "      <td>8</td>\n",
       "      <td>5</td>\n",
       "      <td>11.2</td>\n",
       "      <td>112.0</td>\n",
       "    </tr>\n",
       "    <tr>\n",
       "      <td>2</td>\n",
       "      <td>Добавить блоки рекомендаций товаров на сайт интернет магазина, чтобы повысить конверсию и средний чек заказа</td>\n",
       "      <td>8</td>\n",
       "      <td>3</td>\n",
       "      <td>7</td>\n",
       "      <td>3</td>\n",
       "      <td>7.0</td>\n",
       "      <td>56.0</td>\n",
       "    </tr>\n",
       "    <tr>\n",
       "      <td>0</td>\n",
       "      <td>Добавить два новых канала привлечения трафика, что позволит привлекать на 30% больше пользователей</td>\n",
       "      <td>3</td>\n",
       "      <td>10</td>\n",
       "      <td>8</td>\n",
       "      <td>6</td>\n",
       "      <td>13.3</td>\n",
       "      <td>40.0</td>\n",
       "    </tr>\n",
       "    <tr>\n",
       "      <td>6</td>\n",
       "      <td>Показать на главной странице баннеры с актуальными акциями и распродажами, чтобы увеличить конверсию</td>\n",
       "      <td>5</td>\n",
       "      <td>3</td>\n",
       "      <td>8</td>\n",
       "      <td>3</td>\n",
       "      <td>8.0</td>\n",
       "      <td>40.0</td>\n",
       "    </tr>\n",
       "    <tr>\n",
       "      <td>8</td>\n",
       "      <td>Запустить акцию, дающую скидку на товар в день рождения</td>\n",
       "      <td>1</td>\n",
       "      <td>9</td>\n",
       "      <td>9</td>\n",
       "      <td>5</td>\n",
       "      <td>16.2</td>\n",
       "      <td>16.2</td>\n",
       "    </tr>\n",
       "    <tr>\n",
       "      <td>3</td>\n",
       "      <td>Изменить структура категорий, что увеличит конверсию, т.к. пользователи быстрее найдут нужный товар</td>\n",
       "      <td>8</td>\n",
       "      <td>3</td>\n",
       "      <td>3</td>\n",
       "      <td>8</td>\n",
       "      <td>1.1</td>\n",
       "      <td>9.0</td>\n",
       "    </tr>\n",
       "    <tr>\n",
       "      <td>1</td>\n",
       "      <td>Запустить собственную службу доставки, что сократит срок доставки заказов</td>\n",
       "      <td>2</td>\n",
       "      <td>5</td>\n",
       "      <td>4</td>\n",
       "      <td>10</td>\n",
       "      <td>2.0</td>\n",
       "      <td>4.0</td>\n",
       "    </tr>\n",
       "    <tr>\n",
       "      <td>5</td>\n",
       "      <td>Добавить страницу отзывов клиентов о магазине, что позволит увеличить количество заказов</td>\n",
       "      <td>3</td>\n",
       "      <td>2</td>\n",
       "      <td>2</td>\n",
       "      <td>3</td>\n",
       "      <td>1.3</td>\n",
       "      <td>4.0</td>\n",
       "    </tr>\n",
       "    <tr>\n",
       "      <td>4</td>\n",
       "      <td>Изменить цвет фона главной страницы, чтобы увеличить вовлеченность пользователей</td>\n",
       "      <td>3</td>\n",
       "      <td>1</td>\n",
       "      <td>1</td>\n",
       "      <td>1</td>\n",
       "      <td>1.0</td>\n",
       "      <td>3.0</td>\n",
       "    </tr>\n",
       "  </tbody>\n",
       "</table>\n",
       "</div>"
      ],
      "text/plain": [
       "                                                                                                     hypothesis  \\\n",
       "7              Добавить форму подписки на все основные страницы, чтобы собрать базу клиентов для email-рассылок   \n",
       "2  Добавить блоки рекомендаций товаров на сайт интернет магазина, чтобы повысить конверсию и средний чек заказа   \n",
       "0            Добавить два новых канала привлечения трафика, что позволит привлекать на 30% больше пользователей   \n",
       "6          Показать на главной странице баннеры с актуальными акциями и распродажами, чтобы увеличить конверсию   \n",
       "8                                                       Запустить акцию, дающую скидку на товар в день рождения   \n",
       "3           Изменить структура категорий, что увеличит конверсию, т.к. пользователи быстрее найдут нужный товар   \n",
       "1                                     Запустить собственную службу доставки, что сократит срок доставки заказов   \n",
       "5                      Добавить страницу отзывов клиентов о магазине, что позволит увеличить количество заказов   \n",
       "4                              Изменить цвет фона главной страницы, чтобы увеличить вовлеченность пользователей   \n",
       "\n",
       "   reach  impact  confidence  efforts   ice   rice  \n",
       "7     10       7           8        5  11.2  112.0  \n",
       "2      8       3           7        3   7.0   56.0  \n",
       "0      3      10           8        6  13.3   40.0  \n",
       "6      5       3           8        3   8.0   40.0  \n",
       "8      1       9           9        5  16.2   16.2  \n",
       "3      8       3           3        8   1.1    9.0  \n",
       "1      2       5           4       10   2.0    4.0  \n",
       "5      3       2           2        3   1.3    4.0  \n",
       "4      3       1           1        1   1.0    3.0  "
      ]
     },
     "metadata": {},
     "output_type": "display_data"
    }
   ],
   "source": [
    "hypothesis['ice'] = (hypothesis['impact'] * hypothesis['confidence']) / hypothesis['efforts']\n",
    "hypothesis['rice'] = (hypothesis['reach'] * hypothesis['impact'] * hypothesis['confidence']) / hypothesis['efforts']\n",
    "\n",
    "pd.set_option('max_colwidth', 500)\n",
    "display(hypothesis.round(1).sort_values(by='rice', ascending=False))"
   ]
  },
  {
   "cell_type": "markdown",
   "metadata": {},
   "source": [
    "**ICE**  \n",
    "\n",
    "|N|Гипотеза|ICE|Интерпретация ICE|Приоритет|Решение|\n",
    "|:-|:---|:--|:---|:--|:--|\n",
    "|8|Запустить акцию, дающую скидку на товар в день рождения\t|16.2|С высокой степенью уверенности это изменение окажет сильное влияние на пользователей при среднем уровне усилий.|1|Провести A/B тестирование|\n",
    "|0|Добавить два новых канала привлечения трафика, что позволит привлекать на 30% больше пользователей|13.3|С довольно высокой уверенностью относительно небольшими усилиями можно сильно повлиять на поведение пользователей|2|В очереди|\n",
    "|7|Добавить форму подписки на все основные страницы, чтобы собрать базу клиентов для email-рассылок|11.2|С высокой степенью уверенности это изменение окажет достаточно сильное влияние на пользователей при среднем уровне усилий.|3|В очереди|\n",
    "|6|Показать на главной странице баннеры с актуальными акциями и распродажами, чтобы увеличить конверсию|8.0|Относительно высокая оценка `ICE` получена за счёт высокой степени уверенности. При этом предполагаемый эффект довольно небольшой, но и требуемые усилия тоже небольшие.|4|В очереди|\n",
    "|2|Добавить блоки рекомендаций товаров на сайт интернет магазина, чтобы повысить конверсию и средний чек заказа|7.0|Относительно высокая оценка `ICE` получена за счёт высокой степени уверенности. При этом предполагаемый эффект довольно небольшой, но и требуемые усилия тоже небольшие.|5|В очереди|\n",
    "|1|Запустить собственную службу доставки, что сократит срок доставки заказов|2.0|Значения `ICE` низкие. Для реализации этой идеи требуются очень большие усилия, а влияние на пользоватлей и уверенность в результате - средние|6|Отклонить|\n",
    "|5|Добавить страницу отзывов клиентов о магазине, что позволит увеличить количество заказов|1.3|С низкой степенью уверенности изменение окажет небольшое влияние на пользователей при небольших усилиях|7|Отклонить|\n",
    "|3|Изменить структура категорий, что увеличит конверсию, т.к. пользователи быстрее найдут нужный товар|1.1|Много усилий и небольшое влиение на пользователей при невысокой степени уверенности|8|Отклонить|\n",
    "|4|Изменить цвет фона главной страницы, чтобы увеличить вовлеченность пользователей|1.0|`ICE` этой гипотезы самый низкий: минимальный эффект и минимальная уверенность, хотя и `Efforts` тоже минимальные.|9|Отклонить|\n",
    "\n",
    "В соответствии с фрейворком ICE наиболее перспективными выглядят гипотезы 8, 0 и 7, а наименее перспективными - 1, 3, 4, 5.\n",
    "\n",
    "**RICE**  \n",
    "Посмотрим, что будет, если учесть охват пользователей:\n",
    "\n",
    "|N|Гипотеза|RICE|Интерпретация RICE|Приоритет ICE|Приоритет RICE|Решение|\n",
    "|:-|:--|:--|:--|:--|:--|:--|\n",
    "|7|Добавить форму подписки на все основные страницы, чтобы собрать базу клиентов для email-рассылок|112|У этой гипотезы самый высокий охват при относительно высоких уверенности и влиянии и средних усилиях (форму подписки увидят все пользователи). Учёт охвата выводит гипотезу в приоритетную позицию.|3|1|Провести A/B тестирование|\n",
    "|2|Добавить блоки рекомендаций товаров на сайт интернет магазина, чтобы повысить конверсию и средний чек заказа|56|В рамках фрейворка `ICE` у этой гипотезы был средний приоритет, но за счёт большого охвата рейтинг `RICE` сильно выше. Предполагаемый эффект довольно небольшой, но и требуемые усилия тоже небольшие, а уверенность в результате достаточно высока.|5|2|В очереди|\n",
    "|0|Добавить два новых канала привлечения трафика, что позволит привлекать на 30% больше пользователей|40|Охват относительно небольшой (изменение повлияет только на тех пользователей, которые будут привлечены при помощи двух новых каналов), но уровень влияения и уверенность очень хорошие|2|3|В очереди|\n",
    "|6|Показать на главной странице баннеры с актуальными акциями и распродажами, чтобы увеличить конверсию|40|Средний охват не повлиял на приоритет гипотезы|4|4|В очереди|\n",
    "|8|Запустить акцию, дающую скидку на товар в день рождения\t|16|Эта гипотеза выглядела самой перспективной с точки зрения фрейворка `ICE`, но у неё слишком маленький охват, так что её приоритет `RICE` значительно ниже|1|5|В очереди|\n",
    "|3|Изменить структура категорий, что увеличит конверсию, т.к. пользователи быстрее найдут нужный товар|9|У этого изменения высокий охват, но учитывая, что она требует большого количества усилий и оказывает незначительное влияние, рейтинг всё равно остаётся низким|8|6|Отклонить|\n",
    "|1|Запустить собственную службу доставки, что сократит срок доставки заказов|4|Охват маленький, оценка рейтинга почти не изменилась|6|7|Отклонить|\n",
    "|5|Добавить страницу отзывов клиентов о магазине, что позволит увеличить количество заказов|4|Охват маленький, оценка рейтинга почти не изменилась|7|8|Отклонить|\n",
    "|4|Изменить цвет фона главной страницы, чтобы увеличить вовлеченность пользователей|3|Охват маленький, оценка рейтинга почти не изменилась|9|9|Отклонить|\n",
    "\n",
    "В соответствии с фрейворком RICE на первый план вышла гипотеза 7 (добавить форму подписки), а рейтинг гипотезы 8 (подарок на день рождения) сильно снизился. В нашем случае охват гипотез очень разный и сильно влияет на ожидаемую эффективность изменений, так что лучше будет использовать для принятия решения фреймворк RICE.\n",
    "\n"
   ]
  },
  {
   "cell_type": "markdown",
   "metadata": {},
   "source": [
    "#### **Вывод**  \n",
    "В соответствии с фрейворком ICE наиболее перспективня гипотеза - №8 \"Запустить акцию, дающую скидку на товар в день рождения\". С высокой степенью уверенности при среднем уровне усилий она оказывает значительное влияние на пользователей. Однако у неё слишком маленький охват (только пользователи, у которых близко день рождения), поэтому в рамках фреймворка RICE она проигрывает.  \n",
    "В соответствии с фрейворком RICE наиболее перспективная гипотеза - №7 \"Добавить форму подписки на все основные страницы, чтобы собрать базу клиентов для email-рассылок\". У этой гипотезы очень высокий охват при относительно высоких уверенности и влиянии и средних усилиях (форму подписки увидят все пользователи). "
   ]
  },
  {
   "cell_type": "markdown",
   "metadata": {},
   "source": [
    "### Анализ A/B теста\n"
   ]
  },
  {
   "cell_type": "markdown",
   "metadata": {},
   "source": [
    "Функция `cumulative_data_counter` для подготовки кумулятивных данных о посетителях, заказах и выручке. Принимает названия таблиц с посетителями и заказами и названия столбцов, возвращает таблицу с кумулятивными данными."
   ]
  },
  {
   "cell_type": "code",
   "execution_count": 20,
   "metadata": {},
   "outputs": [],
   "source": [
    "def cumulative_data_counter(data_visitors, group_v, date_v, visitors, data_oders, group_o, date_o, orders, revenue):\n",
    "    \"\"\"Функция для расчёта результатов A/B теста: проверяет значимость различий между группами,\n",
    "    строит графики кумулятивных значений и график относительного различия, \n",
    "    возвращает таблицу с кумулятивными значениями parameter.\n",
    "    Принимает аргументы:\n",
    "    - data_visitors - название таблицы с данными о посетителях;\n",
    "    - group_v - название столбца с данными о группе (А/В) в таблице с данными о посетителях;\n",
    "    - date_v - название столбца с данными о дате посещения в таблице с данными о посетителях;\n",
    "    - visitors - название столбца с данными о посетителях посещения в таблице с данными о посетителях;\n",
    "    - data_oders - название таблицы с данными о заказах;\n",
    "    - group_v - название столбца с данными о группе (А/В) в таблице с данными о заказах;\n",
    "    - date_v - название столбца с данными о дате посещения в таблице с данными о заказах;\n",
    "    - orders - название столбца с данными о заказах в таблице с данными о заказах;\n",
    "    - revenue - название столбца с данными о выручке в таблице с данными о заказах\n",
    "    \n",
    "    Возвращает таблицу с данными о посетителях, заказах и выручке по дням и кумулятивными данными по дням.\"\"\"\n",
    "    \n",
    "    \"\"\"Округляем данные о датах до дней\"\"\"\n",
    "    data_visitors[date_v] = data_visitors[date_v].astype('datetime64[D]')\n",
    "    data_oders[date_o] = data_oders[date_o].astype('datetime64[D]')\n",
    "    \n",
    "    \"\"\"Считаем кумулятивное количество посетителей по группам\"\"\"\n",
    "    visitorsADaily = data_visitors[data_visitors[group_v] == 'A'][[date_v, visitors]]\n",
    "    visitorsADaily.columns = ['date', 'visitorsPerDateA']\n",
    "    visitorsACummulative = visitorsADaily.apply(\n",
    "        lambda x: visitorsADaily[visitorsADaily['date'] <= x['date']].agg(\n",
    "            {'date': 'max', 'visitorsPerDateA': 'sum'}), axis=1)\n",
    "    visitorsACummulative.columns = ['date', 'visitorsCummulativeA']\n",
    "\n",
    "    visitorsBDaily = data_visitors[data_visitors[group_v] == 'B'][[date_v, visitors]]\n",
    "    visitorsBDaily.columns = ['date', 'visitorsPerDateB']\n",
    "    visitorsBCummulative = visitorsBDaily.apply(\n",
    "        lambda x: visitorsBDaily[visitorsBDaily['date'] <= x['date']].agg(\n",
    "            {'date': 'max', 'visitorsPerDateB': 'sum'}), axis=1)\n",
    "    visitorsBCummulative.columns = ['date', 'visitorsCummulativeB']\n",
    "\n",
    "    \"\"\"Считаем кумулятивное количество заказов и прибыль по группам\"\"\"\n",
    "    ordersADaily = (data_oders[data_oders[group_o] == 'A'].groupby(date_o, as_index=False)\n",
    "                    .agg({orders: 'nunique', revenue: 'sum'}))\n",
    "    ordersADaily.columns = ['date', 'ordersPerDateA', 'revenuePerDateA']\n",
    "    ordersACummulative = ordersADaily.apply(\n",
    "        lambda x: ordersADaily[ordersADaily['date'] <= x['date']].agg(\n",
    "            {'date': 'max', 'ordersPerDateA': 'sum', 'revenuePerDateA': 'sum'}), axis=1).sort_values(by=['date'])\n",
    "    ordersACummulative.columns = ['date', 'ordersCummulativeA', 'revenueCummulativeA']\n",
    "\n",
    "    ordersBDaily = (data_oders[data_oders[group_o] == 'B'].groupby(date_o, as_index=False)\n",
    "                    .agg({orders: 'nunique', revenue: 'sum'}))\n",
    "    ordersBDaily.columns = ['date', 'ordersPerDateB', 'revenuePerDateB']\n",
    "    ordersBCummulative = ordersBDaily.apply(\n",
    "        lambda x: ordersBDaily[ordersBDaily['date'] <= x['date']].agg(\n",
    "            {'date': 'max', 'ordersPerDateB': 'sum', 'revenuePerDateB': 'sum'}), axis=1).sort_values(by=['date'])\n",
    "    ordersBCummulative.columns = ['date','ordersCummulativeB','revenueCummulativeB']\n",
    "    \n",
    "    \"\"\"Объединяем кумулятивные данные в таблицу\"\"\"\n",
    "    data = (\n",
    "        ordersADaily.merge(ordersBDaily, on='date', how='left')\n",
    "        .merge(ordersACummulative, on='date', how='left')\n",
    "        .merge(ordersBCummulative, on='date', how='left')\n",
    "        .merge(visitorsADaily, on='date', how='left')\n",
    "        .merge(visitorsBDaily, on='date', how='left')\n",
    "        .merge(visitorsACummulative, on='date', how='left')\n",
    "        .merge(visitorsBCummulative, on='date', how='left')\n",
    "    )\n",
    "    \n",
    "    return data"
   ]
  },
  {
   "cell_type": "code",
   "execution_count": 21,
   "metadata": {},
   "outputs": [
    {
     "data": {
      "text/html": [
       "<div>\n",
       "<style scoped>\n",
       "    .dataframe tbody tr th:only-of-type {\n",
       "        vertical-align: middle;\n",
       "    }\n",
       "\n",
       "    .dataframe tbody tr th {\n",
       "        vertical-align: top;\n",
       "    }\n",
       "\n",
       "    .dataframe thead th {\n",
       "        text-align: right;\n",
       "    }\n",
       "</style>\n",
       "<table border=\"1\" class=\"dataframe\">\n",
       "  <thead>\n",
       "    <tr style=\"text-align: right;\">\n",
       "      <th></th>\n",
       "      <th>date</th>\n",
       "      <th>ordersPerDateA</th>\n",
       "      <th>revenuePerDateA</th>\n",
       "      <th>ordersPerDateB</th>\n",
       "      <th>revenuePerDateB</th>\n",
       "      <th>ordersCummulativeA</th>\n",
       "      <th>revenueCummulativeA</th>\n",
       "      <th>ordersCummulativeB</th>\n",
       "      <th>revenueCummulativeB</th>\n",
       "      <th>visitorsPerDateA</th>\n",
       "      <th>visitorsPerDateB</th>\n",
       "      <th>visitorsCummulativeA</th>\n",
       "      <th>visitorsCummulativeB</th>\n",
       "    </tr>\n",
       "  </thead>\n",
       "  <tbody>\n",
       "    <tr>\n",
       "      <td>0</td>\n",
       "      <td>2019-08-01</td>\n",
       "      <td>24</td>\n",
       "      <td>148579</td>\n",
       "      <td>21</td>\n",
       "      <td>101217</td>\n",
       "      <td>24</td>\n",
       "      <td>148579</td>\n",
       "      <td>21</td>\n",
       "      <td>101217</td>\n",
       "      <td>719</td>\n",
       "      <td>713</td>\n",
       "      <td>719</td>\n",
       "      <td>713</td>\n",
       "    </tr>\n",
       "    <tr>\n",
       "      <td>1</td>\n",
       "      <td>2019-08-02</td>\n",
       "      <td>20</td>\n",
       "      <td>93822</td>\n",
       "      <td>24</td>\n",
       "      <td>165531</td>\n",
       "      <td>44</td>\n",
       "      <td>242401</td>\n",
       "      <td>45</td>\n",
       "      <td>266748</td>\n",
       "      <td>619</td>\n",
       "      <td>581</td>\n",
       "      <td>1338</td>\n",
       "      <td>1294</td>\n",
       "    </tr>\n",
       "    <tr>\n",
       "      <td>2</td>\n",
       "      <td>2019-08-03</td>\n",
       "      <td>24</td>\n",
       "      <td>112473</td>\n",
       "      <td>16</td>\n",
       "      <td>114248</td>\n",
       "      <td>68</td>\n",
       "      <td>354874</td>\n",
       "      <td>61</td>\n",
       "      <td>380996</td>\n",
       "      <td>507</td>\n",
       "      <td>509</td>\n",
       "      <td>1845</td>\n",
       "      <td>1803</td>\n",
       "    </tr>\n",
       "    <tr>\n",
       "      <td>3</td>\n",
       "      <td>2019-08-04</td>\n",
       "      <td>16</td>\n",
       "      <td>70825</td>\n",
       "      <td>17</td>\n",
       "      <td>108571</td>\n",
       "      <td>84</td>\n",
       "      <td>425699</td>\n",
       "      <td>78</td>\n",
       "      <td>489567</td>\n",
       "      <td>717</td>\n",
       "      <td>770</td>\n",
       "      <td>2562</td>\n",
       "      <td>2573</td>\n",
       "    </tr>\n",
       "    <tr>\n",
       "      <td>4</td>\n",
       "      <td>2019-08-05</td>\n",
       "      <td>25</td>\n",
       "      <td>124218</td>\n",
       "      <td>23</td>\n",
       "      <td>92428</td>\n",
       "      <td>109</td>\n",
       "      <td>549917</td>\n",
       "      <td>101</td>\n",
       "      <td>581995</td>\n",
       "      <td>756</td>\n",
       "      <td>707</td>\n",
       "      <td>3318</td>\n",
       "      <td>3280</td>\n",
       "    </tr>\n",
       "  </tbody>\n",
       "</table>\n",
       "</div>"
      ],
      "text/plain": [
       "        date  ordersPerDateA  revenuePerDateA  ordersPerDateB  \\\n",
       "0 2019-08-01              24           148579              21   \n",
       "1 2019-08-02              20            93822              24   \n",
       "2 2019-08-03              24           112473              16   \n",
       "3 2019-08-04              16            70825              17   \n",
       "4 2019-08-05              25           124218              23   \n",
       "\n",
       "   revenuePerDateB  ordersCummulativeA  revenueCummulativeA  \\\n",
       "0           101217                  24               148579   \n",
       "1           165531                  44               242401   \n",
       "2           114248                  68               354874   \n",
       "3           108571                  84               425699   \n",
       "4            92428                 109               549917   \n",
       "\n",
       "   ordersCummulativeB  revenueCummulativeB  visitorsPerDateA  \\\n",
       "0                  21               101217               719   \n",
       "1                  45               266748               619   \n",
       "2                  61               380996               507   \n",
       "3                  78               489567               717   \n",
       "4                 101               581995               756   \n",
       "\n",
       "   visitorsPerDateB  visitorsCummulativeA  visitorsCummulativeB  \n",
       "0               713                   719                   713  \n",
       "1               581                  1338                  1294  \n",
       "2               509                  1845                  1803  \n",
       "3               770                  2562                  2573  \n",
       "4               707                  3318                  3280  "
      ]
     },
     "metadata": {},
     "output_type": "display_data"
    }
   ],
   "source": [
    "cumulative_data = cumulative_data_counter(visitors, 'group', 'date', 'visitors', orders, 'group', 'date', 'transactionId', 'revenue')\n",
    "display(cumulative_data.head())"
   ]
  },
  {
   "cell_type": "markdown",
   "metadata": {},
   "source": [
    "Функция `ab_plots` строит графики параметра по группам."
   ]
  },
  {
   "cell_type": "code",
   "execution_count": 44,
   "metadata": {},
   "outputs": [],
   "source": [
    "def ab_plots(data, sampleA, sampleB, date, name):\n",
    "    \"\"\"Функция для расчёта результатов A/B теста: проверяет значимость различий между группами,\n",
    "    строит графики кумулятивных значений и график относительного различия.\n",
    "    Принимает аргументы:\n",
    "    - data - название таблицы с кумулятивными данными\n",
    "    - sampleA - название столбца с кумулятивными данными группы А;\n",
    "    - sampleB - название столбца с кумулятивными данными группы B;\n",
    "    - date - название столбца с данными о дате посещения;\n",
    "    - name - название параметра (для подписей на графиках).\"\"\"\n",
    "\n",
    "    \"\"\"Строим графики:\n",
    "    ax_1 - кумулятивные значения параметра по группам,\n",
    "    ax-2 - относительное изменение параметра\"\"\"\n",
    "    fig = plt.figure(figsize=(13, 5))\n",
    "    ax_1 = fig.add_subplot(1, 2, 1)\n",
    "    ax_2 = fig.add_subplot(1, 2, 2)\n",
    "    \n",
    "    ax_1.plot(data[sampleA], label = 'группа А')\n",
    "    ax_1.plot(data[sampleB], label = 'группа B')\n",
    "    ax_1.set(title = 'Значения паметра \\n\"{}\" по дням'.format(name), xlabel='время (дни)', ylabel=name)\n",
    "    ax_1.legend()\n",
    "    \n",
    "    data['relative_parameter'] = data[sampleB] / data[sampleA] - 1\n",
    "    \n",
    "    ax_2.plot(data['relative_parameter'])\n",
    "    plt.axhline(y=0, color='grey', linestyle='--')\n",
    "    ax_2.set(title = 'Относительное изменение по дням \\n значений параметра \\n\"{}\"'.\n",
    "             format(name), xlabel='время (дни)', ylabel='отношение параметра \"{}\" групп В/А'.format(name))\n",
    "    plt.show()\n"
   ]
  },
  {
   "cell_type": "markdown",
   "metadata": {},
   "source": [
    "Функция `differences` проверяет распределение на нормальность и считает статистическую значимость различий. "
   ]
  },
  {
   "cell_type": "code",
   "execution_count": 23,
   "metadata": {},
   "outputs": [],
   "source": [
    "def differences(sampleA, sampleB, alpha):\n",
    "    \"\"\"Функция для расчёта статистическую значимость различий распределения двух выборок. \n",
    "    Проверяет распределения на нормальность и рассчитывает для нормально распределённых данных\n",
    "    T-критерий Стьюдента, а для не нормально распределённых данных - критерий Манна-Уитни.\n",
    "    \n",
    "    Принимает аргументы:\n",
    "    - data - название таблицы с данными;\n",
    "    - group - название столбца с данными о группе (А/В);\n",
    "    - date - название столбца с данными о дате посещения;\n",
    "    - visitors - название столбца с данными об посетителях;\n",
    "    - orders - название столбца с данными о заказах;\n",
    "    - alpha - уровень значимости для статистических критериев.\"\"\"\n",
    "    \n",
    "    \"\"\"Применяем критерий Манна-Уитни\"\"\"\n",
    "    print(Color.BOLD + 'Считаем статистическую значимость различий. Критерий Манна-Уитни' + Color.END)\n",
    "    print(Color.GREEN + \n",
    "          'H₀: распределение признака в первой выборке соответствует распределению признака во второй выборке \\n' +\n",
    "          Color.RED + \n",
    "          'H₁: распределение признака в первой выборке не соответствует распределению признака во второй выборке\\n' + \n",
    "          Color.END)\n",
    "    \n",
    "    results = st.mannwhitneyu(sampleA, sampleB, alternative = 'two-sided')\n",
    "\n",
    "    if results.pvalue < alpha:\n",
    "        print(Color.RED + 'mannwhitneyu p-value = {0:.3f}'.format(results.pvalue) + \n",
    "              '\\nОтвергаем нулевую гипотезу: разница статистически значима' + Color.END)\n",
    "    else:\n",
    "        print(Color.GREEN + 'mannwhitneyu p-value = {0:.3f}'.format(results.pvalue) + \n",
    "              '\\nНе получилось отвергнуть нулевую гипотезу, вывод о различии сделать нельзя' + Color.END) \n",
    "  \n",
    " \n",
    "\n",
    "    print(\"Относительное различие между группами: {:.0%}\".format(sampleB.mean() / sampleA.mean() - 1))\n",
    "    \n"
   ]
  },
  {
   "cell_type": "markdown",
   "metadata": {},
   "source": [
    "Функции готовы к работе."
   ]
  },
  {
   "cell_type": "markdown",
   "metadata": {},
   "source": [
    "#### Анализ графиков кумулятивной выручки по сырым данным\n",
    "Построим графики кумулятивной выручки и относительного изменения кумулятивной выручки при помощи функции `ab_plots`"
   ]
  },
  {
   "cell_type": "code",
   "execution_count": 45,
   "metadata": {},
   "outputs": [
    {
     "data": {
      "image/png": "[encoded data removed]",
      "text/plain": [
       "<Figure size 936x360 with 2 Axes>"
      ]
     },
     "metadata": {
      "needs_background": "light"
     },
     "output_type": "display_data"
    }
   ],
   "source": [
    "ab_plots(cumulative_data, 'revenueCummulativeA', 'revenueCummulativeB', 'date', 'кумулятивная выручка')"
   ]
  },
  {
   "cell_type": "markdown",
   "metadata": {},
   "source": [
    "**Анализ графиков**  \n",
    "График группы А равномерно растёт на протяжении всего теста, а график группы В резко подскакивает вверх в одну из дат. Критерий показывает статистически значимые различия, но, скорее всего, они появились за счёт выбросов (резкий скачок на графике).  \n",
    "При этом график относительных изменений показывает преимущество группы B на всём протяжении теста.  "
   ]
  },
  {
   "cell_type": "markdown",
   "metadata": {},
   "source": [
    "#### Анализ  графиков кумулятивного среднего чека по сырым данным\n",
    "\n",
    "Рассчитаем средний чек по группам (разделим кумулятивную выручку по дня на кумулятивное количество заказов по дням)."
   ]
  },
  {
   "cell_type": "code",
   "execution_count": 25,
   "metadata": {},
   "outputs": [],
   "source": [
    "cumulative_data['checkA'] = cumulative_data['revenueCummulativeA'] / cumulative_data['ordersCummulativeA']\n",
    "cumulative_data['checkB'] = cumulative_data['revenueCummulativeB'] / cumulative_data['ordersCummulativeB']"
   ]
  },
  {
   "cell_type": "markdown",
   "metadata": {},
   "source": [
    "Построим графики при помощи функции `ab_plots`."
   ]
  },
  {
   "cell_type": "code",
   "execution_count": 46,
   "metadata": {},
   "outputs": [
    {
     "data": {
      "image/png": "[encoded data removed]",
      "text/plain": [
       "<Figure size 936x360 with 2 Axes>"
      ]
     },
     "metadata": {
      "needs_background": "light"
     },
     "output_type": "display_data"
    }
   ],
   "source": [
    "ab_plots(cumulative_data, 'checkA', 'checkB', 'date', 'кумулятивный средний чек')"
   ]
  },
  {
   "cell_type": "markdown",
   "metadata": {},
   "source": [
    "На графиках кумулятивного среднего чека видны резкие скачки: на 8-12 день в группе А и на 18 день в группе В. В данных есть выбросы.  \n",
    "График относительного изменения среднего чека колеблется. На большем протяжении графика преимущество у группы В, но на 1-12 день оно теряется (вероятно, в группе А была сделана какая-то особо крупная покупка). Посмотрим, что будет видно на очищенных данных."
   ]
  },
  {
   "cell_type": "markdown",
   "metadata": {},
   "source": [
    "#### Анализ выбросов\n",
    "\n",
    "**Количество заказов на пользователя**  \n",
    "Построим scatterplot для количества заказов по пользователям.  \n",
    "Сгруппируем данные по пользователям:"
   ]
  },
  {
   "cell_type": "code",
   "execution_count": 27,
   "metadata": {},
   "outputs": [
    {
     "data": {
      "text/html": [
       "<div>\n",
       "<style scoped>\n",
       "    .dataframe tbody tr th:only-of-type {\n",
       "        vertical-align: middle;\n",
       "    }\n",
       "\n",
       "    .dataframe tbody tr th {\n",
       "        vertical-align: top;\n",
       "    }\n",
       "\n",
       "    .dataframe thead th {\n",
       "        text-align: right;\n",
       "    }\n",
       "</style>\n",
       "<table border=\"1\" class=\"dataframe\">\n",
       "  <thead>\n",
       "    <tr style=\"text-align: right;\">\n",
       "      <th></th>\n",
       "      <th>visitorId</th>\n",
       "      <th>orders</th>\n",
       "    </tr>\n",
       "  </thead>\n",
       "  <tbody>\n",
       "    <tr>\n",
       "      <td>0</td>\n",
       "      <td>5114589</td>\n",
       "      <td>1</td>\n",
       "    </tr>\n",
       "    <tr>\n",
       "      <td>1</td>\n",
       "      <td>6958315</td>\n",
       "      <td>1</td>\n",
       "    </tr>\n",
       "    <tr>\n",
       "      <td>2</td>\n",
       "      <td>8300375</td>\n",
       "      <td>2</td>\n",
       "    </tr>\n",
       "    <tr>\n",
       "      <td>3</td>\n",
       "      <td>11685486</td>\n",
       "      <td>1</td>\n",
       "    </tr>\n",
       "    <tr>\n",
       "      <td>4</td>\n",
       "      <td>39475350</td>\n",
       "      <td>1</td>\n",
       "    </tr>\n",
       "  </tbody>\n",
       "</table>\n",
       "</div>"
      ],
      "text/plain": [
       "   visitorId  orders\n",
       "0    5114589       1\n",
       "1    6958315       1\n",
       "2    8300375       2\n",
       "3   11685486       1\n",
       "4   39475350       1"
      ]
     },
     "metadata": {},
     "output_type": "display_data"
    }
   ],
   "source": [
    "orders_visitors = orders.groupby('visitorId', as_index=False)['transactionId'].count()\n",
    "orders_visitors = orders_visitors.rename(columns={'transactionId':'orders'})\n",
    "\n",
    "display(orders_visitors.head())"
   ]
  },
  {
   "cell_type": "markdown",
   "metadata": {},
   "source": [
    "Построим scatterplot:"
   ]
  },
  {
   "cell_type": "code",
   "execution_count": 28,
   "metadata": {},
   "outputs": [
    {
     "data": {
      "image/png": "[encoded data removed]",
      "text/plain": [
       "<Figure size 432x288 with 1 Axes>"
      ]
     },
     "metadata": {
      "needs_background": "light"
     },
     "output_type": "display_data"
    }
   ],
   "source": [
    "x_values = pd.Series(range(0,len(orders_visitors)))\n",
    "\n",
    "fig = plt.figure()\n",
    "ax = fig.add_subplot(111)\n",
    "ax.scatter(x_values, orders_visitors['orders'])\n",
    "ax.set_title('Количество заказов на одного пользователя')\n",
    "ax.set_ylabel('заказы')\n",
    "ax.set_xlabel('пользователи')\n",
    "plt.show()"
   ]
  },
  {
   "cell_type": "markdown",
   "metadata": {},
   "source": [
    "Большинство пользователей делали заказ только один раз. Довольно много пользователей с 2-3 заказами, и определённо есть выбросы: пользователи с 8-10 заказами.  \n",
    "Посчитаем 95-й и 99-й перцентиль:"
   ]
  },
  {
   "cell_type": "code",
   "execution_count": 29,
   "metadata": {},
   "outputs": [
    {
     "name": "stdout",
     "output_type": "stream",
     "text": [
      "[2. 4.]\n"
     ]
    }
   ],
   "source": [
    "print(np.percentile(orders_visitors['orders'], [95, 99])) "
   ]
  },
  {
   "cell_type": "markdown",
   "metadata": {},
   "source": [
    "5% пользователей оформляли больше двух заказов и 1% пользователей заказывали больше 4 раз. Выберем верхней границей числа заказов 3.\n",
    "\n",
    "**Стоимость заказов**\n",
    "Построим scatterplot для стоимости заказов:"
   ]
  },
  {
   "cell_type": "code",
   "execution_count": 30,
   "metadata": {},
   "outputs": [
    {
     "data": {
      "image/png": "[encoded data removed]",
      "text/plain": [
       "<Figure size 432x288 with 1 Axes>"
      ]
     },
     "metadata": {
      "needs_background": "light"
     },
     "output_type": "display_data"
    }
   ],
   "source": [
    "x_values = pd.Series(range(0,len(orders)))\n",
    "\n",
    "fig = plt.figure()\n",
    "ax = fig.add_subplot(111)\n",
    "ax.scatter(x_values, orders['revenue'])\n",
    "ax.set_title('Разброс стоимости заказов')\n",
    "ax.set_ylabel('стоимость')\n",
    "ax.set_xlabel('пользователи')\n",
    "plt.show()"
   ]
  },
  {
   "cell_type": "markdown",
   "metadata": {},
   "source": [
    "В стоимости заказов выбросов гораздо меньше, но один из них - очень большой. Вероятно, именно его мы и видели на графиках.  \n",
    "Большинство пользователей делает покупки на сумму до 10т. Но есть покупка в 20т и покупка больше 120т. Её, безусловно, надо отсеивать.  \n",
    "Посчитаем 95-й и 99-й перцентиль:"
   ]
  },
  {
   "cell_type": "code",
   "execution_count": 31,
   "metadata": {},
   "outputs": [
    {
     "name": "stdout",
     "output_type": "stream",
     "text": [
      "[28000.  58233.2]\n"
     ]
    }
   ],
   "source": [
    "print(np.percentile(orders['revenue'], [95, 99])) "
   ]
  },
  {
   "cell_type": "markdown",
   "metadata": {},
   "source": [
    "Не более 5% посетителей покупают на сумму больше 28т и не более 1% - на сумму больше 58233. Выберем границей для отсева сумму в 30т."
   ]
  },
  {
   "cell_type": "markdown",
   "metadata": {},
   "source": [
    "#### Отсев данных об аномальных пользователях\n",
    "Сохраним id аномальных пользователей в список `abnormalUsers`."
   ]
  },
  {
   "cell_type": "code",
   "execution_count": 32,
   "metadata": {},
   "outputs": [
    {
     "name": "stdout",
     "output_type": "stream",
     "text": [
      "Количество аномальных пользователей: 61\n"
     ]
    }
   ],
   "source": [
    "usersWithManyOrders = orders_visitors[orders_visitors['orders'] > 3]['visitorId']\n",
    "usersWithExpensiveOrders = orders[orders['revenue'] > 30000]['visitorId']\n",
    "\n",
    "abnormalUsers = (\n",
    "    pd.concat([usersWithManyOrders, usersWithExpensiveOrders], axis=0)\n",
    "    .drop_duplicates()\n",
    "    .sort_values()\n",
    ")\n",
    "\n",
    "print('Количество аномальных пользователей:', len(abnormalUsers))"
   ]
  },
  {
   "cell_type": "markdown",
   "metadata": {},
   "source": [
    "Подготовим таблицу с очищенными кумулятивными данными `cumulative_data_filtered`."
   ]
  },
  {
   "cell_type": "code",
   "execution_count": 33,
   "metadata": {},
   "outputs": [
    {
     "data": {
      "text/html": [
       "<div>\n",
       "<style scoped>\n",
       "    .dataframe tbody tr th:only-of-type {\n",
       "        vertical-align: middle;\n",
       "    }\n",
       "\n",
       "    .dataframe tbody tr th {\n",
       "        vertical-align: top;\n",
       "    }\n",
       "\n",
       "    .dataframe thead th {\n",
       "        text-align: right;\n",
       "    }\n",
       "</style>\n",
       "<table border=\"1\" class=\"dataframe\">\n",
       "  <thead>\n",
       "    <tr style=\"text-align: right;\">\n",
       "      <th></th>\n",
       "      <th>date</th>\n",
       "      <th>ordersPerDateA</th>\n",
       "      <th>revenuePerDateA</th>\n",
       "      <th>ordersPerDateB</th>\n",
       "      <th>revenuePerDateB</th>\n",
       "      <th>ordersCummulativeA</th>\n",
       "      <th>revenueCummulativeA</th>\n",
       "      <th>ordersCummulativeB</th>\n",
       "      <th>revenueCummulativeB</th>\n",
       "      <th>visitorsPerDateA</th>\n",
       "      <th>visitorsPerDateB</th>\n",
       "      <th>visitorsCummulativeA</th>\n",
       "      <th>visitorsCummulativeB</th>\n",
       "    </tr>\n",
       "  </thead>\n",
       "  <tbody>\n",
       "    <tr>\n",
       "      <td>0</td>\n",
       "      <td>2019-08-01</td>\n",
       "      <td>23</td>\n",
       "      <td>142779</td>\n",
       "      <td>19</td>\n",
       "      <td>78258</td>\n",
       "      <td>23</td>\n",
       "      <td>142779</td>\n",
       "      <td>19</td>\n",
       "      <td>78258</td>\n",
       "      <td>719</td>\n",
       "      <td>713</td>\n",
       "      <td>719</td>\n",
       "      <td>713</td>\n",
       "    </tr>\n",
       "    <tr>\n",
       "      <td>1</td>\n",
       "      <td>2019-08-02</td>\n",
       "      <td>20</td>\n",
       "      <td>93822</td>\n",
       "      <td>21</td>\n",
       "      <td>93234</td>\n",
       "      <td>43</td>\n",
       "      <td>236601</td>\n",
       "      <td>40</td>\n",
       "      <td>171492</td>\n",
       "      <td>619</td>\n",
       "      <td>581</td>\n",
       "      <td>1338</td>\n",
       "      <td>1294</td>\n",
       "    </tr>\n",
       "    <tr>\n",
       "      <td>2</td>\n",
       "      <td>2019-08-03</td>\n",
       "      <td>24</td>\n",
       "      <td>112473</td>\n",
       "      <td>16</td>\n",
       "      <td>114248</td>\n",
       "      <td>67</td>\n",
       "      <td>349074</td>\n",
       "      <td>56</td>\n",
       "      <td>285740</td>\n",
       "      <td>507</td>\n",
       "      <td>509</td>\n",
       "      <td>1845</td>\n",
       "      <td>1803</td>\n",
       "    </tr>\n",
       "    <tr>\n",
       "      <td>3</td>\n",
       "      <td>2019-08-04</td>\n",
       "      <td>13</td>\n",
       "      <td>66415</td>\n",
       "      <td>15</td>\n",
       "      <td>74421</td>\n",
       "      <td>80</td>\n",
       "      <td>415489</td>\n",
       "      <td>71</td>\n",
       "      <td>360161</td>\n",
       "      <td>717</td>\n",
       "      <td>770</td>\n",
       "      <td>2562</td>\n",
       "      <td>2573</td>\n",
       "    </tr>\n",
       "    <tr>\n",
       "      <td>4</td>\n",
       "      <td>2019-08-05</td>\n",
       "      <td>25</td>\n",
       "      <td>124218</td>\n",
       "      <td>22</td>\n",
       "      <td>90008</td>\n",
       "      <td>105</td>\n",
       "      <td>539707</td>\n",
       "      <td>93</td>\n",
       "      <td>450169</td>\n",
       "      <td>756</td>\n",
       "      <td>707</td>\n",
       "      <td>3318</td>\n",
       "      <td>3280</td>\n",
       "    </tr>\n",
       "  </tbody>\n",
       "</table>\n",
       "</div>"
      ],
      "text/plain": [
       "        date  ordersPerDateA  revenuePerDateA  ordersPerDateB  \\\n",
       "0 2019-08-01              23           142779              19   \n",
       "1 2019-08-02              20            93822              21   \n",
       "2 2019-08-03              24           112473              16   \n",
       "3 2019-08-04              13            66415              15   \n",
       "4 2019-08-05              25           124218              22   \n",
       "\n",
       "   revenuePerDateB  ordersCummulativeA  revenueCummulativeA  \\\n",
       "0            78258                  23               142779   \n",
       "1            93234                  43               236601   \n",
       "2           114248                  67               349074   \n",
       "3            74421                  80               415489   \n",
       "4            90008                 105               539707   \n",
       "\n",
       "   ordersCummulativeB  revenueCummulativeB  visitorsPerDateA  \\\n",
       "0                  19                78258               719   \n",
       "1                  40               171492               619   \n",
       "2                  56               285740               507   \n",
       "3                  71               360161               717   \n",
       "4                  93               450169               756   \n",
       "\n",
       "   visitorsPerDateB  visitorsCummulativeA  visitorsCummulativeB  \n",
       "0               713                   719                   713  \n",
       "1               581                  1338                  1294  \n",
       "2               509                  1845                  1803  \n",
       "3               770                  2562                  2573  \n",
       "4               707                  3318                  3280  "
      ]
     },
     "metadata": {},
     "output_type": "display_data"
    }
   ],
   "source": [
    "orders_filtered = orders[np.logical_not(orders['visitorId'].isin(abnormalUsers))]\n",
    "cumulative_data_filtered = cumulative_data_counter(\n",
    "    visitors, 'group', 'date', 'visitors', orders_filtered, 'group', 'date', 'transactionId', 'revenue')\n",
    "display(cumulative_data_filtered.head())"
   ]
  },
  {
   "cell_type": "markdown",
   "metadata": {},
   "source": [
    "Данные очищены от выбросов."
   ]
  },
  {
   "cell_type": "markdown",
   "metadata": {},
   "source": [
    "#### Анализ конверсии по сырым данным\n",
    "\n",
    "Добавим в таблицу `cumulative_data` расчёт конверсии по группам."
   ]
  },
  {
   "cell_type": "code",
   "execution_count": 34,
   "metadata": {},
   "outputs": [],
   "source": [
    "cumulative_data['conversionA'] = cumulative_data['ordersCummulativeA'] / cumulative_data['visitorsCummulativeA']\n",
    "cumulative_data['conversionB'] = cumulative_data['ordersCummulativeB'] / cumulative_data['visitorsCummulativeB']"
   ]
  },
  {
   "cell_type": "markdown",
   "metadata": {},
   "source": [
    "Подготовим выборки к проверке критерием Манна-Уитни. Посчитаем число заказов для каждого пользователя."
   ]
  },
  {
   "cell_type": "code",
   "execution_count": 35,
   "metadata": {},
   "outputs": [],
   "source": [
    "ordersByUsersA = (\n",
    "    orders[orders['group'] == 'A']\n",
    "    .groupby('visitorId', as_index=False)\n",
    "    .agg({'transactionId': 'nunique'})\n",
    ")\n",
    "ordersByUsersA.columns = ['visitorId', 'orders']\n",
    "\n",
    "ordersByUsersB = (\n",
    "    orders[orders['group'] == 'B']\n",
    "    .groupby('visitorId', as_index=False)\n",
    "    .agg({'transactionId': 'nunique'})\n",
    ")\n",
    "ordersByUsersB.columns = ['visitorId', 'orders'] "
   ]
  },
  {
   "cell_type": "markdown",
   "metadata": {},
   "source": [
    "В переменных `sampleA` и `sampleB` объединим количество заказов для пользователей, совершавших покупки с нулями для пользователей, которые не совершали покупки."
   ]
  },
  {
   "cell_type": "code",
   "execution_count": 36,
   "metadata": {},
   "outputs": [],
   "source": [
    "sampleA = pd.concat(\n",
    "    [ordersByUsersA['orders'], pd.Series(0, index=np.arange(\n",
    "        cumulative_data['visitorsPerDateA'].sum() - len(ordersByUsersA['orders'])), name='orders')],axis=0)\n",
    "\n",
    "sampleB = pd.concat(\n",
    "    [ordersByUsersB['orders'], pd.Series(0, index=np.arange(\n",
    "        cumulative_data['visitorsPerDateB'].sum() - len(ordersByUsersB['orders'])), name='orders')],axis=0)"
   ]
  },
  {
   "cell_type": "markdown",
   "metadata": {},
   "source": [
    "Передадим переменные `sampleA` и `sampleB` функции `differences` и посчитаем значимость различий. Построим графики кумулятивной конверсии по группам при помощи функции ab_plots."
   ]
  },
  {
   "cell_type": "code",
   "execution_count": 37,
   "metadata": {},
   "outputs": [
    {
     "data": {
      "image/png": "[encoded data removed]",
      "text/plain": [
       "<Figure size 936x360 with 2 Axes>"
      ]
     },
     "metadata": {
      "needs_background": "light"
     },
     "output_type": "display_data"
    },
    {
     "name": "stdout",
     "output_type": "stream",
     "text": [
      "\u001b[1mСчитаем статистическую значимость различий. Критерий Манна-Уитни\u001b[0m\n",
      "\u001b[92mH₀: распределение признака в первой выборке соответствует распределению признака во второй выборке \n",
      "\u001b[91mH₁: распределение признака в первой выборке не соответствует распределению признака во второй выборке\n",
      "\u001b[0m\n",
      "\u001b[91mmannwhitneyu p-value = 0.017\n",
      "Отвергаем нулевую гипотезу: разница статистически значима\u001b[0m\n",
      "Относительное различие между группами: 14%\n"
     ]
    }
   ],
   "source": [
    "ab_plots(cumulative_data, 'conversionA', 'conversionB', 'date', 'кумулятивная конверсия')\n",
    "differences(sampleA, sampleB, 0.05)"
   ]
  },
  {
   "cell_type": "markdown",
   "metadata": {},
   "source": [
    "    \n",
    "__Анализ графиков__   \n",
    "    \n",
    "Графики конверсии \"зубчатые\", \"скачущие\" в обеих группах, но значения держатся в рамках небольшого диапазона, и конверсия в группе B выше, чем в группе А.   \n",
    "График относительного изменения конверсии колеблется лишь в самом начале, а затем принимает стабильные положительные значения.  \n",
    "\n",
    "__Статистическая значимость различий__\n",
    "    \n",
    "    \n",
    "Отвергаем нулевую гипотезу о равенстве распределений выборок с уровнем значимости p-value = 0.017.  \n",
    "Относительное различие между группами: 14% (конверсия в группе В на 14% лучше, чем в группе А).\n"
   ]
  },
  {
   "cell_type": "markdown",
   "metadata": {},
   "source": [
    "#### Анализ среднего чека по сырым данным"
   ]
  },
  {
   "cell_type": "markdown",
   "metadata": {},
   "source": [
    "Чтобы рассчитать статистическую значимость различий в среднем чеке между сегментами, передадим критерию `differences` данные о выручке с заказов.  "
   ]
  },
  {
   "cell_type": "code",
   "execution_count": 38,
   "metadata": {},
   "outputs": [
    {
     "name": "stdout",
     "output_type": "stream",
     "text": [
      "\u001b[1mСчитаем статистическую значимость различий. Критерий Манна-Уитни\u001b[0m\n",
      "\u001b[92mH₀: распределение признака в первой выборке соответствует распределению признака во второй выборке \n",
      "\u001b[91mH₁: распределение признака в первой выборке не соответствует распределению признака во второй выборке\n",
      "\u001b[0m\n",
      "\u001b[92mmannwhitneyu p-value = 0.729\n",
      "Не получилось отвергнуть нулевую гипотезу, вывод о различии сделать нельзя\u001b[0m\n",
      "Относительное различие между группами: 26%\n"
     ]
    }
   ],
   "source": [
    "differences(orders[orders['group']=='A']['revenue'], orders[orders['group']=='B']['revenue'], 0.05)"
   ]
  },
  {
   "cell_type": "markdown",
   "metadata": {},
   "source": [
    "__Статистическая значимость различий__\n",
    "       \n",
    "Относительное различие между группами большое (26%), но уровень значимости значительно больше 0.05, что не даёт нам возможности отвергнуть нулевую гипотезу. Причин считать, что в среднем чеке по группам есть различия, нет (p-value > 0.7).\n",
    "Однако по графику кумулятивного среднего чека мы знаем, что в данных есть выбросы. Возможно, удастся получить статистически значимые различия по очищенным данным.                                                                                           "
   ]
  },
  {
   "cell_type": "markdown",
   "metadata": {},
   "source": [
    "#### Анализ конверсии по очищенным данным"
   ]
  },
  {
   "cell_type": "markdown",
   "metadata": {},
   "source": [
    "Рассчитаем конверсию по очищенным данным."
   ]
  },
  {
   "cell_type": "code",
   "execution_count": 39,
   "metadata": {},
   "outputs": [],
   "source": [
    "cumulative_data_filtered['conversionA'] = cumulative_data_filtered[\n",
    "    'ordersCummulativeA'] / cumulative_data_filtered['visitorsCummulativeA']\n",
    "cumulative_data_filtered['conversionB'] = cumulative_data_filtered[\n",
    "    'ordersCummulativeB'] / cumulative_data_filtered['visitorsCummulativeB']"
   ]
  },
  {
   "cell_type": "markdown",
   "metadata": {},
   "source": [
    "Подготовим выборки к проверке критерием Манна-Уитни. Посчитаем число заказов для каждого пользователя по очищенным данным."
   ]
  },
  {
   "cell_type": "code",
   "execution_count": 40,
   "metadata": {},
   "outputs": [],
   "source": [
    "ordersByUsersA_filtered = (\n",
    "    orders_filtered[orders_filtered['group'] == 'A']\n",
    "    .groupby('visitorId', as_index=False)\n",
    "    .agg({'transactionId': 'nunique'})\n",
    ")\n",
    "ordersByUsersA_filtered.columns = ['visitorId', 'orders']\n",
    "\n",
    "ordersByUsersB_filtered = (\n",
    "    orders_filtered[orders_filtered['group'] == 'B']\n",
    "    .groupby('visitorId', as_index=False)\n",
    "    .agg({'transactionId': 'nunique'})\n",
    ")\n",
    "ordersByUsersB_filtered.columns = ['visitorId', 'orders'] "
   ]
  },
  {
   "cell_type": "markdown",
   "metadata": {},
   "source": [
    "В переменных `sampleA` и `sampleB` объединим количество заказов для пользователей, совершавших покупки с нулями для пользователей, которые не совершали покупки."
   ]
  },
  {
   "cell_type": "code",
   "execution_count": 41,
   "metadata": {},
   "outputs": [],
   "source": [
    "sampleA_filtered = pd.concat(\n",
    "    [ordersByUsersA_filtered['orders'], pd.Series(0, index=np.arange(\n",
    "        cumulative_data_filtered['visitorsPerDateA'].sum() - \n",
    "        len(ordersByUsersA_filtered['orders'])), name='orders')],axis=0)\n",
    "\n",
    "sampleB_filtered = pd.concat(\n",
    "    [ordersByUsersB_filtered['orders'], pd.Series(0, index=np.arange(\n",
    "        cumulative_data_filtered['visitorsPerDateB'].sum() - \n",
    "        len(ordersByUsersB_filtered['orders'])), name='orders')],axis=0)"
   ]
  },
  {
   "cell_type": "markdown",
   "metadata": {},
   "source": [
    "Передадим переменные `sampleA` и `sampleB` функции `differences` и посчитаем значимость различий. Построим графики кумулятивной конверсии по группам при помощи функции ab_plots."
   ]
  },
  {
   "cell_type": "code",
   "execution_count": 42,
   "metadata": {
    "scrolled": false
   },
   "outputs": [
    {
     "data": {
      "image/png": "[encoded data removed]",
      "text/plain": [
       "<Figure size 936x360 with 2 Axes>"
      ]
     },
     "metadata": {
      "needs_background": "light"
     },
     "output_type": "display_data"
    },
    {
     "name": "stdout",
     "output_type": "stream",
     "text": [
      "\u001b[1mСчитаем статистическую значимость различий. Критерий Манна-Уитни\u001b[0m\n",
      "\u001b[92mH₀: распределение признака в первой выборке соответствует распределению признака во второй выборке \n",
      "\u001b[91mH₁: распределение признака в первой выборке не соответствует распределению признака во второй выборке\n",
      "\u001b[0m\n",
      "\u001b[91mmannwhitneyu p-value = 0.017\n",
      "Отвергаем нулевую гипотезу: разница статистически значима\u001b[0m\n",
      "Относительное различие между группами: 14%\n"
     ]
    }
   ],
   "source": [
    "ab_plots(cumulative_data_filtered, 'conversionA', 'conversionB', 'date', 'кумулятивная конверсия')\n",
    "differences(sampleA, sampleB, 0.05)"
   ]
  },
  {
   "cell_type": "markdown",
   "metadata": {},
   "source": [
    "__Анализ графиков__   \n",
    "    \n",
    "Как и на сырых данных, графики конверсии \"зубчатые\", \"скачущие\" в обеих группах, но значения держатся в рамках небольшого диапазона, и конверсия в группе B выше, чем в группе А.   \n",
    "График относительного изменения конверсии колеблется лишь в самом начале, а затем принимает стабильные положительные значения.  \n",
    "\n",
    "__Статистическая значимость различий__\n",
    "    \n",
    "Отвергаем нулевую гипотезу о равенстве распределений выборок с уровнем значимости p-value = 0.017.  \n",
    "Относительное различие между группами: 14% (конверсия в группе В на 14% лучше, чем в группе А).  \n",
    "В результате очистки данных от выбросов вывод для конверсии пользователей практически не изменился. \n",
    "    \n",
    "__Решение__\n",
    "    \n",
    "Графики всё ещё \"зубчатые\", но уже примерно понятно, в каких пределах значения установятся, при этом конверсия группы В стабильно выше конверсии группы А. Различия между группами значимые. Тест можно останавливать, зафиксировав победу группы В.    "
   ]
  },
  {
   "cell_type": "markdown",
   "metadata": {},
   "source": [
    "#### Анализ среднего чека по очищенным данным"
   ]
  },
  {
   "cell_type": "markdown",
   "metadata": {},
   "source": [
    "Построим графики кумулятивного среднего чека по очищенным данным при помощи функции `ab_plots` и передадим их функции `differences`.  "
   ]
  },
  {
   "cell_type": "code",
   "execution_count": 43,
   "metadata": {},
   "outputs": [
    {
     "data": {
      "image/png": "[encoded data removed]",
      "text/plain": [
       "<Figure size 936x360 with 2 Axes>"
      ]
     },
     "metadata": {
      "needs_background": "light"
     },
     "output_type": "display_data"
    },
    {
     "name": "stdout",
     "output_type": "stream",
     "text": [
      "\u001b[1mСчитаем статистическую значимость различий. Критерий Манна-Уитни\u001b[0m\n",
      "\u001b[92mH₀: распределение признака в первой выборке соответствует распределению признака во второй выборке \n",
      "\u001b[91mH₁: распределение признака в первой выборке не соответствует распределению признака во второй выборке\n",
      "\u001b[0m\n",
      "\u001b[92mmannwhitneyu p-value = 0.815\n",
      "Не получилось отвергнуть нулевую гипотезу, вывод о различии сделать нельзя\u001b[0m\n",
      "Относительное различие между группами: -3%\n"
     ]
    }
   ],
   "source": [
    "cumulative_data_filtered['checkA'] = cumulative_data_filtered[\n",
    "    'revenueCummulativeA'] / cumulative_data_filtered['ordersCummulativeA']\n",
    "cumulative_data_filtered['checkB'] = cumulative_data_filtered[\n",
    "    'revenueCummulativeB'] / cumulative_data_filtered['ordersCummulativeB']\n",
    "\n",
    "ab_plots(cumulative_data_filtered, 'checkA', 'checkB', 'date', ' кумулятивный средний чек')\n",
    "differences(orders_filtered[orders_filtered['group']=='A']['revenue'], \n",
    "            orders_filtered[orders_filtered['group']=='B']['revenue'], 0.05)"
   ]
  },
  {
   "cell_type": "markdown",
   "metadata": {},
   "source": [
    "__Анализ графиков__   \n",
    "    \n",
    "Значения кумулятивного среднего чека колеблются в обеих группах, а график относительного изменения кумулятивного среднего чека колеблется вокруг нуля. Нет оснований говорить о преимуществе какой-либо из групп.  \n",
    "    \n",
    "__Статистическая значимость различий__\n",
    "\n",
    "На очищенных данных отвергнуть нулевую гипотезу тоже не получилось, вывод о различии сделать нельзя (p-value > 0.8). В отличие от сырых данных относительное различие между группами совсем небольшое (-3%), вероятно, на сырых данных это различие создавалось именно выбросами. \n",
    "    \n",
    "__Решение__\n",
    "    \n",
    "Графики кумулятивного среднего чека колебляются, а различия между группами - небольшие и не значимые. Не оснований ожидать, что при продолжении теста группа В обгонит группу А по размеру среднего чека. Можно останавливать тест, зафиксировав отсутствие различий между группами по размеру среднего чека.\n"
   ]
  },
  {
   "cell_type": "markdown",
   "metadata": {},
   "source": [
    "#### **Вывод**"
   ]
  },
  {
   "cell_type": "markdown",
   "metadata": {},
   "source": [
    "Анализ данных о выручке и среднем чеке показал наличие в данных выбросов.  \n",
    "Анализ данных о среднем чеке не показал различий между группами (по сырым данным p-value > 0.7, по очищенным данным p-value > 0.8).  \n",
    "Анализ данных о выручке показал различия между группами и по сырым, и по очищенным данным (p-value = 0.017).  \n",
    "По обоим параметрам тест можно останавливать, зафиксировав отсутствие различий между группами по среднему чеку и победу группы В по конверсии."
   ]
  },
  {
   "cell_type": "markdown",
   "metadata": {},
   "source": [
    "## Общие выводы"
   ]
  },
  {
   "cell_type": "markdown",
   "metadata": {},
   "source": [
    "### Краткий обзор проведённой работы\n",
    "\n",
    "Данные подготовлены к работе. Данные проверены на наличие пропусков и дубликатов. Изменён тип данных столбцов в тех случаях, где он не соответствовал цели.  \n",
    "\n",
    "Проведена приоритизация гипотез при помощи фреймворков `ICE` и `RICE`.\n",
    "\n",
    "Проанализированы результаты А/В теста. Построены графики кумулятивных значений по группам и относительного изменения кумулятивных значений для параметров:\n",
    " - выручка;\n",
    " - средний чек;\n",
    " - конверсия.\n",
    " \n",
    "Рассчитана статистическая значимость различий по сырым и очищенным данным для параметров:\n",
    " - средний чек;\n",
    " - конверсия.\n",
    "\n",
    "Принято решение по результатам А/В теста и сформулированы выводы."
   ]
  },
  {
   "cell_type": "markdown",
   "metadata": {},
   "source": [
    "### Выводы \n",
    "----\n",
    "1. **Корректность проведения A/B теста**  \n",
    "    При проведении А/В теста была нарушена процедура: значительная часть пользователей (16%) попала в обе группы. Результаты теста нельзя в полной мере считать надёжными.\n",
    "-----\n",
    "2. **Приоритизация гипотез**  \n",
    "    В соответствии с фрейворком ICE наиболее перспективня гипотеза - №8 \"Запустить акцию, дающую скидку на товар в день рождения\". С высокой степенью уверенности при среднем уровне усилий она оказывает значительное влияние на пользователей. Однако у неё слишком маленький охват (только пользователи, у которых близко день рождения), поэтому в рамках фреймворка RICE она проигрывает.  \n",
    "    В соответствии с фрейворком RICE наиболее перспективная гипотеза - №7 \"Добавить форму подписки на все основные страницы, чтобы собрать базу клиентов для email-рассылок\". У этой гипотезы очень высокий охват при относительно высоких уверенности и влиянии и средних усилиях (форму подписки увидят все пользователи).  \n",
    "    Для проведения А/В теста лучше выбрать гипотезу №7:  \n",
    "    ***Добавить форму подписки на все основные страницы, чтобы собрать базу клиентов для email-рассылок***  \n",
    "----\n",
    "3. **Анализ результатов А/В теста**  \n",
    "    Анализ данных кумулятивной выручки и кумулятивного среднего чека показал наличие в данных выбросов.  \n",
    "    \n",
    "    Анализ данным по среднему чеку не показал различий между группами (по сырым данным p-value > 0.7, по очищенным данным p-value > 0.8). Графики кумулятивного среднего чека в обеих группах колеблются (и для сырых, и для очищенных данных). Тест можно останавливать, зафиксировав отсутствие различий между группами по размеру среднего чека.\n",
    "    \n",
    "    Анализ данных выручки показал различия между группами (и по сырым, и по очищенным данным p-value = 0.017). Графики стабилизировались в пределах небольшого диапазона. Тест можно останавливать, зафиксировав победу группы B. \n",
    "----    \n",
    "4. **Решение**    \n",
    "    По обоим параметрам тест можно останавливать, зафиксировав отсутствие различий между группами по среднему чеку и победу группы В по конверсии."
   ]
  },
  {
   "cell_type": "code",
   "execution_count": null,
   "metadata": {},
   "outputs": [],
   "source": []
  }
 ],
 "metadata": {
  "ExecuteTimeLog": [
   {
    "duration": 1134,
    "start_time": "2021-11-05T09:09:00.220Z"
   },
   {
    "duration": 1870,
    "start_time": "2021-11-05T09:09:01.356Z"
   },
   {
    "duration": 66,
    "start_time": "2021-11-05T09:09:13.876Z"
   },
   {
    "duration": 13,
    "start_time": "2021-11-05T09:11:37.798Z"
   },
   {
    "duration": 7,
    "start_time": "2021-11-05T09:11:42.515Z"
   },
   {
    "duration": 5,
    "start_time": "2021-11-05T09:11:54.710Z"
   },
   {
    "duration": 9,
    "start_time": "2021-11-05T09:14:33.220Z"
   },
   {
    "duration": 7,
    "start_time": "2021-11-05T09:14:50.706Z"
   },
   {
    "duration": 6,
    "start_time": "2021-11-05T09:15:39.580Z"
   },
   {
    "duration": 5,
    "start_time": "2021-11-05T09:21:08.955Z"
   },
   {
    "duration": 7,
    "start_time": "2021-11-05T09:22:28.153Z"
   },
   {
    "duration": 5,
    "start_time": "2021-11-05T09:22:30.949Z"
   },
   {
    "duration": 6467,
    "start_time": "2021-11-05T09:27:38.585Z"
   },
   {
    "duration": 12,
    "start_time": "2021-11-05T09:27:54.545Z"
   },
   {
    "duration": 14,
    "start_time": "2021-11-05T09:28:40.906Z"
   },
   {
    "duration": 14,
    "start_time": "2021-11-05T09:29:07.186Z"
   },
   {
    "duration": 12,
    "start_time": "2021-11-05T09:29:44.715Z"
   },
   {
    "duration": 14,
    "start_time": "2021-11-05T09:30:29.334Z"
   },
   {
    "duration": 480,
    "start_time": "2021-11-05T10:24:06.813Z"
   },
   {
    "duration": 15,
    "start_time": "2021-11-05T10:24:57.715Z"
   },
   {
    "duration": 15,
    "start_time": "2021-11-05T10:27:46.075Z"
   },
   {
    "duration": 3,
    "start_time": "2021-11-05T10:32:36.066Z"
   },
   {
    "duration": 86,
    "start_time": "2021-11-05T10:47:54.941Z"
   },
   {
    "duration": 13,
    "start_time": "2021-11-05T10:48:15.507Z"
   },
   {
    "duration": 1165,
    "start_time": "2021-11-05T13:27:11.570Z"
   },
   {
    "duration": 3,
    "start_time": "2021-11-05T13:27:12.737Z"
   },
   {
    "duration": 68,
    "start_time": "2021-11-05T13:27:12.742Z"
   },
   {
    "duration": 12,
    "start_time": "2021-11-05T13:27:12.812Z"
   },
   {
    "duration": 7,
    "start_time": "2021-11-05T13:27:12.825Z"
   },
   {
    "duration": 7,
    "start_time": "2021-11-05T13:27:12.833Z"
   },
   {
    "duration": 13,
    "start_time": "2021-11-05T13:27:12.842Z"
   },
   {
    "duration": 8,
    "start_time": "2021-11-05T13:27:12.858Z"
   },
   {
    "duration": 8,
    "start_time": "2021-11-05T13:27:12.868Z"
   },
   {
    "duration": 6,
    "start_time": "2021-11-05T13:27:12.878Z"
   },
   {
    "duration": 10,
    "start_time": "2021-11-05T13:27:12.886Z"
   },
   {
    "duration": 10,
    "start_time": "2021-11-05T13:27:12.898Z"
   },
   {
    "duration": 13,
    "start_time": "2021-11-05T13:27:12.909Z"
   },
   {
    "duration": 12,
    "start_time": "2021-11-05T13:27:12.924Z"
   },
   {
    "duration": 30,
    "start_time": "2021-11-05T13:27:12.937Z"
   },
   {
    "duration": 15,
    "start_time": "2021-11-05T13:46:18.534Z"
   },
   {
    "duration": 411,
    "start_time": "2021-11-05T16:24:00.428Z"
   },
   {
    "duration": 285,
    "start_time": "2021-11-05T16:24:03.377Z"
   },
   {
    "duration": 88,
    "start_time": "2021-11-05T16:24:06.531Z"
   },
   {
    "duration": 8,
    "start_time": "2021-11-05T16:24:28.944Z"
   },
   {
    "duration": 333,
    "start_time": "2021-11-05T16:24:29.573Z"
   },
   {
    "duration": 264,
    "start_time": "2021-11-05T16:25:00.925Z"
   },
   {
    "duration": 7426,
    "start_time": "2021-11-05T16:26:05.526Z"
   },
   {
    "duration": 7,
    "start_time": "2021-11-05T16:28:37.691Z"
   },
   {
    "duration": 1844,
    "start_time": "2021-11-05T16:28:38.252Z"
   },
   {
    "duration": 3,
    "start_time": "2021-11-05T16:29:44.086Z"
   },
   {
    "duration": 8,
    "start_time": "2021-11-05T16:29:49.148Z"
   },
   {
    "duration": 1401,
    "start_time": "2021-11-05T16:29:49.617Z"
   },
   {
    "duration": 8,
    "start_time": "2021-11-05T16:30:19.592Z"
   },
   {
    "duration": 1396,
    "start_time": "2021-11-05T16:30:20.101Z"
   },
   {
    "duration": 9,
    "start_time": "2021-11-05T16:31:24.651Z"
   },
   {
    "duration": 518,
    "start_time": "2021-11-05T16:31:25.252Z"
   },
   {
    "duration": 7,
    "start_time": "2021-11-05T16:33:06.293Z"
   },
   {
    "duration": 501,
    "start_time": "2021-11-05T16:33:06.302Z"
   },
   {
    "duration": 6,
    "start_time": "2021-11-05T16:35:05.292Z"
   },
   {
    "duration": 595,
    "start_time": "2021-11-05T16:35:05.857Z"
   },
   {
    "duration": 6,
    "start_time": "2021-11-05T16:36:05.027Z"
   },
   {
    "duration": 7,
    "start_time": "2021-11-05T16:36:05.501Z"
   },
   {
    "duration": 6,
    "start_time": "2021-11-05T16:36:27.206Z"
   },
   {
    "duration": 14,
    "start_time": "2021-11-05T16:36:27.666Z"
   },
   {
    "duration": 7,
    "start_time": "2021-11-05T16:37:46.988Z"
   },
   {
    "duration": 18,
    "start_time": "2021-11-05T16:37:47.460Z"
   },
   {
    "duration": 8,
    "start_time": "2021-11-05T16:40:00.897Z"
   },
   {
    "duration": 141,
    "start_time": "2021-11-05T16:40:00.907Z"
   },
   {
    "duration": 8,
    "start_time": "2021-11-05T16:40:43.967Z"
   },
   {
    "duration": 7,
    "start_time": "2021-11-05T16:40:50.311Z"
   },
   {
    "duration": 153,
    "start_time": "2021-11-05T16:40:50.818Z"
   },
   {
    "duration": 11,
    "start_time": "2021-11-05T16:46:05.771Z"
   },
   {
    "duration": 6814,
    "start_time": "2021-11-05T16:46:06.213Z"
   },
   {
    "duration": 9,
    "start_time": "2021-11-05T16:47:14.776Z"
   },
   {
    "duration": 7389,
    "start_time": "2021-11-05T16:47:15.293Z"
   },
   {
    "duration": 7,
    "start_time": "2021-11-05T16:48:12.093Z"
   },
   {
    "duration": 7672,
    "start_time": "2021-11-05T16:48:27.172Z"
   },
   {
    "duration": 10,
    "start_time": "2021-11-05T16:49:15.449Z"
   },
   {
    "duration": 6762,
    "start_time": "2021-11-05T16:49:15.886Z"
   },
   {
    "duration": 257,
    "start_time": "2021-11-05T16:49:31.548Z"
   },
   {
    "duration": 8,
    "start_time": "2021-11-05T16:50:52.450Z"
   },
   {
    "duration": 6760,
    "start_time": "2021-11-05T16:50:52.933Z"
   },
   {
    "duration": 12,
    "start_time": "2021-11-05T16:53:28.271Z"
   },
   {
    "duration": 134,
    "start_time": "2021-11-05T16:53:28.732Z"
   },
   {
    "duration": 12,
    "start_time": "2021-11-05T16:54:11.476Z"
   },
   {
    "duration": 137,
    "start_time": "2021-11-05T16:54:11.926Z"
   },
   {
    "duration": 13,
    "start_time": "2021-11-05T16:54:43.772Z"
   },
   {
    "duration": 6579,
    "start_time": "2021-11-05T16:54:44.606Z"
   },
   {
    "duration": 125,
    "start_time": "2021-11-05T16:55:26.334Z"
   },
   {
    "duration": 11,
    "start_time": "2021-11-05T16:56:14.613Z"
   },
   {
    "duration": 136,
    "start_time": "2021-11-05T16:56:15.028Z"
   },
   {
    "duration": 11,
    "start_time": "2021-11-05T16:57:51.179Z"
   },
   {
    "duration": 198,
    "start_time": "2021-11-05T16:57:51.626Z"
   },
   {
    "duration": 11,
    "start_time": "2021-11-05T16:59:01.731Z"
   },
   {
    "duration": 247,
    "start_time": "2021-11-05T16:59:02.098Z"
   },
   {
    "duration": 12,
    "start_time": "2021-11-05T17:01:11.551Z"
   },
   {
    "duration": 284,
    "start_time": "2021-11-05T17:01:12.006Z"
   },
   {
    "duration": 257,
    "start_time": "2021-11-05T17:03:22.566Z"
   },
   {
    "duration": 81,
    "start_time": "2021-11-05T18:14:16.991Z"
   },
   {
    "duration": 7,
    "start_time": "2021-11-05T18:15:04.104Z"
   },
   {
    "duration": 6935,
    "start_time": "2021-11-05T18:15:09.126Z"
   },
   {
    "duration": 6252,
    "start_time": "2021-11-05T18:16:34.948Z"
   },
   {
    "duration": 5,
    "start_time": "2021-11-05T18:17:19.849Z"
   },
   {
    "duration": 4,
    "start_time": "2021-11-05T18:17:28.230Z"
   },
   {
    "duration": 4,
    "start_time": "2021-11-05T18:18:07.696Z"
   },
   {
    "duration": 15,
    "start_time": "2021-11-05T18:18:08.375Z"
   },
   {
    "duration": 5,
    "start_time": "2021-11-05T18:18:21.581Z"
   },
   {
    "duration": 19,
    "start_time": "2021-11-05T18:18:22.053Z"
   },
   {
    "duration": 5,
    "start_time": "2021-11-05T18:18:39.903Z"
   },
   {
    "duration": 72,
    "start_time": "2021-11-05T18:18:40.372Z"
   },
   {
    "duration": 6,
    "start_time": "2021-11-05T18:18:53.502Z"
   },
   {
    "duration": 119,
    "start_time": "2021-11-05T18:18:53.926Z"
   },
   {
    "duration": 7,
    "start_time": "2021-11-05T18:19:10.780Z"
   },
   {
    "duration": 6507,
    "start_time": "2021-11-05T18:19:11.588Z"
   },
   {
    "duration": 7,
    "start_time": "2021-11-05T18:20:14.182Z"
   },
   {
    "duration": 122,
    "start_time": "2021-11-05T18:20:14.766Z"
   },
   {
    "duration": 8,
    "start_time": "2021-11-05T18:21:42.386Z"
   },
   {
    "duration": 114,
    "start_time": "2021-11-05T18:21:43.697Z"
   },
   {
    "duration": 10,
    "start_time": "2021-11-05T18:22:39.847Z"
   },
   {
    "duration": 110,
    "start_time": "2021-11-05T18:22:40.498Z"
   },
   {
    "duration": 8,
    "start_time": "2021-11-05T18:22:56.181Z"
   },
   {
    "duration": 286,
    "start_time": "2021-11-05T18:22:56.885Z"
   },
   {
    "duration": 12,
    "start_time": "2021-11-05T18:23:40.498Z"
   },
   {
    "duration": 437,
    "start_time": "2021-11-05T18:23:40.948Z"
   },
   {
    "duration": 12,
    "start_time": "2021-11-05T18:24:11.575Z"
   },
   {
    "duration": 423,
    "start_time": "2021-11-05T18:24:12.308Z"
   },
   {
    "duration": 11,
    "start_time": "2021-11-05T18:42:48.631Z"
   },
   {
    "duration": 457,
    "start_time": "2021-11-05T18:42:49.308Z"
   },
   {
    "duration": 94,
    "start_time": "2021-11-05T18:45:05.533Z"
   },
   {
    "duration": 519,
    "start_time": "2021-11-05T18:45:05.629Z"
   },
   {
    "duration": 12,
    "start_time": "2021-11-05T18:46:07.054Z"
   },
   {
    "duration": 461,
    "start_time": "2021-11-05T18:46:07.573Z"
   },
   {
    "duration": 11,
    "start_time": "2021-11-05T18:48:47.740Z"
   },
   {
    "duration": 611,
    "start_time": "2021-11-05T18:48:47.753Z"
   },
   {
    "duration": 257,
    "start_time": "2021-11-05T19:06:16.899Z"
   },
   {
    "duration": 247,
    "start_time": "2021-11-05T19:06:48.327Z"
   },
   {
    "duration": 295,
    "start_time": "2021-11-05T19:07:30.189Z"
   },
   {
    "duration": 242,
    "start_time": "2021-11-05T19:07:37.694Z"
   },
   {
    "duration": 7,
    "start_time": "2021-11-05T19:07:57.988Z"
   },
   {
    "duration": 320,
    "start_time": "2021-11-05T19:08:17.668Z"
   },
   {
    "duration": 244,
    "start_time": "2021-11-05T19:08:28.566Z"
   },
   {
    "duration": 272,
    "start_time": "2021-11-05T19:08:57.455Z"
   },
   {
    "duration": 1166,
    "start_time": "2021-11-05T19:10:37.779Z"
   },
   {
    "duration": 4,
    "start_time": "2021-11-05T19:10:38.947Z"
   },
   {
    "duration": 73,
    "start_time": "2021-11-05T19:10:38.954Z"
   },
   {
    "duration": 12,
    "start_time": "2021-11-05T19:10:39.029Z"
   },
   {
    "duration": 9,
    "start_time": "2021-11-05T19:10:39.043Z"
   },
   {
    "duration": 7,
    "start_time": "2021-11-05T19:10:39.054Z"
   },
   {
    "duration": 13,
    "start_time": "2021-11-05T19:10:39.063Z"
   },
   {
    "duration": 19,
    "start_time": "2021-11-05T19:10:39.078Z"
   },
   {
    "duration": 10,
    "start_time": "2021-11-05T19:10:39.101Z"
   },
   {
    "duration": 10,
    "start_time": "2021-11-05T19:10:39.113Z"
   },
   {
    "duration": 9,
    "start_time": "2021-11-05T19:10:39.125Z"
   },
   {
    "duration": 10,
    "start_time": "2021-11-05T19:10:39.136Z"
   },
   {
    "duration": 17,
    "start_time": "2021-11-05T19:10:39.148Z"
   },
   {
    "duration": 16,
    "start_time": "2021-11-05T19:10:39.166Z"
   },
   {
    "duration": 18,
    "start_time": "2021-11-05T19:10:39.184Z"
   },
   {
    "duration": 13,
    "start_time": "2021-11-05T19:10:39.204Z"
   },
   {
    "duration": 659,
    "start_time": "2021-11-05T19:10:39.219Z"
   },
   {
    "duration": 427,
    "start_time": "2021-11-05T19:10:39.881Z"
   },
   {
    "duration": -922,
    "start_time": "2021-11-05T19:10:41.232Z"
   },
   {
    "duration": 17,
    "start_time": "2021-11-05T19:11:13.370Z"
   },
   {
    "duration": 239,
    "start_time": "2021-11-05T19:12:06.097Z"
   },
   {
    "duration": 11,
    "start_time": "2021-11-05T19:12:10.742Z"
   },
   {
    "duration": 13,
    "start_time": "2021-11-05T19:13:19.090Z"
   },
   {
    "duration": 19,
    "start_time": "2021-11-05T19:14:33.992Z"
   },
   {
    "duration": 594,
    "start_time": "2021-11-05T19:16:03.662Z"
   },
   {
    "duration": 12,
    "start_time": "2021-11-05T19:18:27.917Z"
   },
   {
    "duration": 577,
    "start_time": "2021-11-05T19:18:29.010Z"
   },
   {
    "duration": 671,
    "start_time": "2021-11-05T19:21:20.618Z"
   },
   {
    "duration": 17,
    "start_time": "2021-11-05T19:27:22.658Z"
   },
   {
    "duration": 1323,
    "start_time": "2021-11-05T19:30:32.258Z"
   },
   {
    "duration": 7,
    "start_time": "2021-11-05T19:31:23.690Z"
   },
   {
    "duration": 245,
    "start_time": "2021-11-05T19:31:39.410Z"
   },
   {
    "duration": 9,
    "start_time": "2021-11-05T19:31:44.872Z"
   },
   {
    "duration": 5,
    "start_time": "2021-11-05T19:33:56.771Z"
   },
   {
    "duration": 6,
    "start_time": "2021-11-05T19:34:09.672Z"
   },
   {
    "duration": 6,
    "start_time": "2021-11-05T19:35:06.158Z"
   },
   {
    "duration": 14,
    "start_time": "2021-11-05T19:35:14.577Z"
   },
   {
    "duration": 84,
    "start_time": "2021-11-05T19:47:25.529Z"
   },
   {
    "duration": 243,
    "start_time": "2021-11-05T19:47:29.711Z"
   },
   {
    "duration": 6,
    "start_time": "2021-11-05T19:47:34.532Z"
   },
   {
    "duration": 19,
    "start_time": "2021-11-05T19:47:34.936Z"
   },
   {
    "duration": 6,
    "start_time": "2021-11-05T19:47:57.298Z"
   },
   {
    "duration": 19,
    "start_time": "2021-11-05T19:47:57.689Z"
   },
   {
    "duration": 7,
    "start_time": "2021-11-05T19:48:44.193Z"
   },
   {
    "duration": 122,
    "start_time": "2021-11-05T19:48:44.496Z"
   },
   {
    "duration": 9,
    "start_time": "2021-11-05T19:50:30.932Z"
   },
   {
    "duration": 593,
    "start_time": "2021-11-05T19:50:31.435Z"
   },
   {
    "duration": 9,
    "start_time": "2021-11-05T19:51:01.409Z"
   },
   {
    "duration": 230,
    "start_time": "2021-11-05T19:51:01.889Z"
   },
   {
    "duration": 11,
    "start_time": "2021-11-05T19:54:01.775Z"
   },
   {
    "duration": 250,
    "start_time": "2021-11-05T19:54:01.864Z"
   },
   {
    "duration": 15,
    "start_time": "2021-11-05T19:59:27.748Z"
   },
   {
    "duration": 717,
    "start_time": "2021-11-05T19:59:28.849Z"
   },
   {
    "duration": 15,
    "start_time": "2021-11-05T20:03:22.356Z"
   },
   {
    "duration": 769,
    "start_time": "2021-11-05T20:03:23.017Z"
   },
   {
    "duration": 17,
    "start_time": "2021-11-05T20:03:52.335Z"
   },
   {
    "duration": 802,
    "start_time": "2021-11-05T20:03:54.032Z"
   },
   {
    "duration": 790,
    "start_time": "2021-11-05T20:04:47.496Z"
   },
   {
    "duration": 97,
    "start_time": "2021-11-05T20:12:25.915Z"
   },
   {
    "duration": 682,
    "start_time": "2021-11-05T20:12:26.375Z"
   },
   {
    "duration": 14,
    "start_time": "2021-11-05T20:12:38.903Z"
   },
   {
    "duration": 702,
    "start_time": "2021-11-05T20:12:39.376Z"
   },
   {
    "duration": 12,
    "start_time": "2021-11-05T20:13:14.850Z"
   },
   {
    "duration": 622,
    "start_time": "2021-11-05T20:13:15.856Z"
   },
   {
    "duration": 11,
    "start_time": "2021-11-05T20:23:51.657Z"
   },
   {
    "duration": 6489,
    "start_time": "2021-11-05T20:26:02.009Z"
   },
   {
    "duration": 11,
    "start_time": "2021-11-05T20:26:36.569Z"
   },
   {
    "duration": 10,
    "start_time": "2021-11-05T20:27:07.489Z"
   },
   {
    "duration": 10,
    "start_time": "2021-11-05T20:27:31.072Z"
   },
   {
    "duration": 9,
    "start_time": "2021-11-05T20:27:49.391Z"
   },
   {
    "duration": 9,
    "start_time": "2021-11-05T20:29:39.591Z"
   },
   {
    "duration": 87,
    "start_time": "2021-11-05T20:33:32.709Z"
   },
   {
    "duration": 8,
    "start_time": "2021-11-05T20:33:39.912Z"
   },
   {
    "duration": 7,
    "start_time": "2021-11-05T20:34:05.289Z"
   },
   {
    "duration": 6248,
    "start_time": "2021-11-05T20:37:01.609Z"
   },
   {
    "duration": 1163,
    "start_time": "2021-11-06T07:41:38.458Z"
   },
   {
    "duration": 3,
    "start_time": "2021-11-06T07:41:39.623Z"
   },
   {
    "duration": 76,
    "start_time": "2021-11-06T07:41:39.627Z"
   },
   {
    "duration": 12,
    "start_time": "2021-11-06T07:41:39.706Z"
   },
   {
    "duration": 7,
    "start_time": "2021-11-06T07:41:39.721Z"
   },
   {
    "duration": 8,
    "start_time": "2021-11-06T07:41:39.730Z"
   },
   {
    "duration": 10,
    "start_time": "2021-11-06T07:41:39.739Z"
   },
   {
    "duration": 11,
    "start_time": "2021-11-06T07:41:39.752Z"
   },
   {
    "duration": 9,
    "start_time": "2021-11-06T07:41:39.766Z"
   },
   {
    "duration": 7,
    "start_time": "2021-11-06T07:41:39.778Z"
   },
   {
    "duration": 6,
    "start_time": "2021-11-06T07:41:39.787Z"
   },
   {
    "duration": 11,
    "start_time": "2021-11-06T07:41:39.795Z"
   },
   {
    "duration": 40,
    "start_time": "2021-11-06T07:41:39.809Z"
   },
   {
    "duration": 8,
    "start_time": "2021-11-06T07:41:39.851Z"
   },
   {
    "duration": 9,
    "start_time": "2021-11-06T07:41:39.861Z"
   },
   {
    "duration": 7,
    "start_time": "2021-11-06T07:41:39.872Z"
   },
   {
    "duration": 6,
    "start_time": "2021-11-06T07:41:39.881Z"
   },
   {
    "duration": 5,
    "start_time": "2021-11-06T07:41:39.889Z"
   },
   {
    "duration": 62,
    "start_time": "2021-11-06T07:41:39.896Z"
   },
   {
    "duration": 13,
    "start_time": "2021-11-06T07:41:39.960Z"
   },
   {
    "duration": 580,
    "start_time": "2021-11-06T07:41:39.975Z"
   },
   {
    "duration": 18,
    "start_time": "2021-11-06T07:41:40.557Z"
   },
   {
    "duration": 555,
    "start_time": "2021-11-06T07:41:40.578Z"
   },
   {
    "duration": 19,
    "start_time": "2021-11-06T07:41:41.135Z"
   },
   {
    "duration": 16,
    "start_time": "2021-11-06T07:41:41.156Z"
   },
   {
    "duration": 675,
    "start_time": "2021-11-06T07:41:41.174Z"
   },
   {
    "duration": 5,
    "start_time": "2021-11-06T07:43:00.798Z"
   },
   {
    "duration": 4,
    "start_time": "2021-11-06T07:43:24.385Z"
   },
   {
    "duration": 6,
    "start_time": "2021-11-06T07:45:25.958Z"
   },
   {
    "duration": 9,
    "start_time": "2021-11-06T07:45:45.747Z"
   },
   {
    "duration": 10,
    "start_time": "2021-11-06T07:47:07.318Z"
   },
   {
    "duration": 10,
    "start_time": "2021-11-06T07:47:22.017Z"
   },
   {
    "duration": 565,
    "start_time": "2021-11-06T07:50:22.896Z"
   },
   {
    "duration": 282,
    "start_time": "2021-11-06T07:51:00.116Z"
   },
   {
    "duration": 266,
    "start_time": "2021-11-06T07:51:12.725Z"
   },
   {
    "duration": 450,
    "start_time": "2021-11-06T07:53:58.751Z"
   },
   {
    "duration": 406,
    "start_time": "2021-11-06T07:56:17.481Z"
   },
   {
    "duration": 415,
    "start_time": "2021-11-06T07:59:09.336Z"
   },
   {
    "duration": 233,
    "start_time": "2021-11-06T08:00:38.896Z"
   },
   {
    "duration": 290,
    "start_time": "2021-11-06T08:03:17.856Z"
   },
   {
    "duration": 309,
    "start_time": "2021-11-06T08:03:28.119Z"
   },
   {
    "duration": 273,
    "start_time": "2021-11-06T08:04:34.656Z"
   },
   {
    "duration": 300,
    "start_time": "2021-11-06T08:04:54.022Z"
   },
   {
    "duration": 6601,
    "start_time": "2021-11-06T08:08:58.511Z"
   },
   {
    "duration": 5,
    "start_time": "2021-11-06T08:09:07.838Z"
   },
   {
    "duration": 304,
    "start_time": "2021-11-06T08:19:01.349Z"
   },
   {
    "duration": 275,
    "start_time": "2021-11-06T08:19:14.669Z"
   },
   {
    "duration": 4,
    "start_time": "2021-11-06T08:22:29.137Z"
   },
   {
    "duration": 9,
    "start_time": "2021-11-06T08:34:59.977Z"
   },
   {
    "duration": 8,
    "start_time": "2021-11-06T08:35:47.497Z"
   },
   {
    "duration": 333,
    "start_time": "2021-11-06T11:07:31.796Z"
   },
   {
    "duration": 3433,
    "start_time": "2021-11-06T11:08:14.588Z"
   },
   {
    "duration": 1119,
    "start_time": "2021-11-06T11:09:25.994Z"
   },
   {
    "duration": 3,
    "start_time": "2021-11-06T11:09:27.115Z"
   },
   {
    "duration": 73,
    "start_time": "2021-11-06T11:09:27.120Z"
   },
   {
    "duration": 12,
    "start_time": "2021-11-06T11:09:27.195Z"
   },
   {
    "duration": 7,
    "start_time": "2021-11-06T11:09:27.208Z"
   },
   {
    "duration": 8,
    "start_time": "2021-11-06T11:09:27.216Z"
   },
   {
    "duration": 8,
    "start_time": "2021-11-06T11:09:27.225Z"
   },
   {
    "duration": 6,
    "start_time": "2021-11-06T11:09:27.236Z"
   },
   {
    "duration": 9,
    "start_time": "2021-11-06T11:09:27.244Z"
   },
   {
    "duration": 6,
    "start_time": "2021-11-06T11:09:27.255Z"
   },
   {
    "duration": 5,
    "start_time": "2021-11-06T11:09:27.263Z"
   },
   {
    "duration": 15,
    "start_time": "2021-11-06T11:09:27.269Z"
   },
   {
    "duration": 6,
    "start_time": "2021-11-06T11:09:27.286Z"
   },
   {
    "duration": 13,
    "start_time": "2021-11-06T11:09:27.293Z"
   },
   {
    "duration": 37,
    "start_time": "2021-11-06T11:09:27.308Z"
   },
   {
    "duration": 6,
    "start_time": "2021-11-06T11:09:27.347Z"
   },
   {
    "duration": 7,
    "start_time": "2021-11-06T11:09:27.355Z"
   },
   {
    "duration": 6,
    "start_time": "2021-11-06T11:09:27.363Z"
   },
   {
    "duration": 17,
    "start_time": "2021-11-06T11:09:27.371Z"
   },
   {
    "duration": 13,
    "start_time": "2021-11-06T11:09:27.390Z"
   },
   {
    "duration": 646,
    "start_time": "2021-11-06T11:09:27.405Z"
   },
   {
    "duration": 16,
    "start_time": "2021-11-06T11:09:28.052Z"
   },
   {
    "duration": 585,
    "start_time": "2021-11-06T11:09:28.071Z"
   },
   {
    "duration": 14,
    "start_time": "2021-11-06T11:09:28.659Z"
   },
   {
    "duration": 15,
    "start_time": "2021-11-06T11:09:28.675Z"
   },
   {
    "duration": 765,
    "start_time": "2021-11-06T11:09:28.692Z"
   },
   {
    "duration": 91,
    "start_time": "2021-11-06T11:09:29.459Z"
   },
   {
    "duration": -1947,
    "start_time": "2021-11-06T11:09:31.499Z"
   },
   {
    "duration": -1962,
    "start_time": "2021-11-06T11:09:31.515Z"
   },
   {
    "duration": -1964,
    "start_time": "2021-11-06T11:09:31.519Z"
   },
   {
    "duration": -1971,
    "start_time": "2021-11-06T11:09:31.527Z"
   },
   {
    "duration": -1973,
    "start_time": "2021-11-06T11:09:31.530Z"
   },
   {
    "duration": -1975,
    "start_time": "2021-11-06T11:09:31.533Z"
   },
   {
    "duration": 11,
    "start_time": "2021-11-06T11:10:11.348Z"
   },
   {
    "duration": 349,
    "start_time": "2021-11-06T11:10:19.828Z"
   },
   {
    "duration": 4,
    "start_time": "2021-11-06T11:10:20.179Z"
   },
   {
    "duration": 295,
    "start_time": "2021-11-06T11:10:20.185Z"
   },
   {
    "duration": 4,
    "start_time": "2021-11-06T11:10:20.482Z"
   },
   {
    "duration": 11,
    "start_time": "2021-11-06T11:10:20.488Z"
   },
   {
    "duration": 11,
    "start_time": "2021-11-06T11:10:20.501Z"
   },
   {
    "duration": 11,
    "start_time": "2021-11-06T11:10:50.833Z"
   },
   {
    "duration": 351,
    "start_time": "2021-11-06T11:10:57.681Z"
   },
   {
    "duration": 1123,
    "start_time": "2021-11-06T11:11:28.184Z"
   },
   {
    "duration": 3,
    "start_time": "2021-11-06T11:11:29.309Z"
   },
   {
    "duration": 64,
    "start_time": "2021-11-06T11:11:29.314Z"
   },
   {
    "duration": 11,
    "start_time": "2021-11-06T11:11:29.380Z"
   },
   {
    "duration": 8,
    "start_time": "2021-11-06T11:11:29.392Z"
   },
   {
    "duration": 8,
    "start_time": "2021-11-06T11:11:29.401Z"
   },
   {
    "duration": 10,
    "start_time": "2021-11-06T11:11:29.411Z"
   },
   {
    "duration": 6,
    "start_time": "2021-11-06T11:11:29.424Z"
   },
   {
    "duration": 8,
    "start_time": "2021-11-06T11:11:29.432Z"
   },
   {
    "duration": 11,
    "start_time": "2021-11-06T11:11:29.442Z"
   },
   {
    "duration": 7,
    "start_time": "2021-11-06T11:11:29.454Z"
   },
   {
    "duration": 11,
    "start_time": "2021-11-06T11:11:29.463Z"
   },
   {
    "duration": 6,
    "start_time": "2021-11-06T11:11:29.476Z"
   },
   {
    "duration": 8,
    "start_time": "2021-11-06T11:11:29.484Z"
   },
   {
    "duration": 10,
    "start_time": "2021-11-06T11:11:29.494Z"
   },
   {
    "duration": 41,
    "start_time": "2021-11-06T11:11:29.505Z"
   },
   {
    "duration": 6,
    "start_time": "2021-11-06T11:11:29.548Z"
   },
   {
    "duration": 10,
    "start_time": "2021-11-06T11:11:29.556Z"
   },
   {
    "duration": 22,
    "start_time": "2021-11-06T11:11:29.568Z"
   },
   {
    "duration": 13,
    "start_time": "2021-11-06T11:11:29.592Z"
   },
   {
    "duration": 619,
    "start_time": "2021-11-06T11:11:29.607Z"
   },
   {
    "duration": 27,
    "start_time": "2021-11-06T11:11:30.228Z"
   },
   {
    "duration": 607,
    "start_time": "2021-11-06T11:11:30.258Z"
   },
   {
    "duration": 14,
    "start_time": "2021-11-06T11:11:30.867Z"
   },
   {
    "duration": 16,
    "start_time": "2021-11-06T11:11:30.882Z"
   },
   {
    "duration": 760,
    "start_time": "2021-11-06T11:11:30.900Z"
   },
   {
    "duration": 9,
    "start_time": "2021-11-06T11:11:31.662Z"
   },
   {
    "duration": 384,
    "start_time": "2021-11-06T11:11:31.673Z"
   },
   {
    "duration": 3,
    "start_time": "2021-11-06T11:11:32.059Z"
   },
   {
    "duration": 306,
    "start_time": "2021-11-06T11:11:32.064Z"
   },
   {
    "duration": 4,
    "start_time": "2021-11-06T11:11:32.372Z"
   },
   {
    "duration": 9,
    "start_time": "2021-11-06T11:11:32.377Z"
   },
   {
    "duration": 16,
    "start_time": "2021-11-06T11:11:32.387Z"
   },
   {
    "duration": 17,
    "start_time": "2021-11-06T11:12:04.310Z"
   },
   {
    "duration": 18,
    "start_time": "2021-11-06T11:14:26.145Z"
   },
   {
    "duration": 577,
    "start_time": "2021-11-06T11:14:30.854Z"
   },
   {
    "duration": 13,
    "start_time": "2021-11-06T11:33:23.156Z"
   },
   {
    "duration": 7285,
    "start_time": "2021-11-06T11:34:12.701Z"
   },
   {
    "duration": -2068,
    "start_time": "2021-11-06T11:34:37.266Z"
   },
   {
    "duration": 708,
    "start_time": "2021-11-06T11:35:55.274Z"
   },
   {
    "duration": 15,
    "start_time": "2021-11-06T11:56:24.276Z"
   },
   {
    "duration": 7069,
    "start_time": "2021-11-06T11:56:25.067Z"
   },
   {
    "duration": 1161,
    "start_time": "2021-11-06T11:56:45.349Z"
   },
   {
    "duration": 3,
    "start_time": "2021-11-06T11:56:46.513Z"
   },
   {
    "duration": 74,
    "start_time": "2021-11-06T11:56:46.519Z"
   },
   {
    "duration": 11,
    "start_time": "2021-11-06T11:56:46.595Z"
   },
   {
    "duration": 14,
    "start_time": "2021-11-06T11:56:46.607Z"
   },
   {
    "duration": 6,
    "start_time": "2021-11-06T11:56:46.623Z"
   },
   {
    "duration": 10,
    "start_time": "2021-11-06T11:56:46.631Z"
   },
   {
    "duration": 14,
    "start_time": "2021-11-06T11:56:46.643Z"
   },
   {
    "duration": 10,
    "start_time": "2021-11-06T11:56:46.660Z"
   },
   {
    "duration": 7,
    "start_time": "2021-11-06T11:56:46.672Z"
   },
   {
    "duration": 5,
    "start_time": "2021-11-06T11:56:46.681Z"
   },
   {
    "duration": 28,
    "start_time": "2021-11-06T11:56:46.688Z"
   },
   {
    "duration": 6,
    "start_time": "2021-11-06T11:56:46.718Z"
   },
   {
    "duration": 10,
    "start_time": "2021-11-06T11:56:46.726Z"
   },
   {
    "duration": 5,
    "start_time": "2021-11-06T11:56:46.745Z"
   },
   {
    "duration": 10,
    "start_time": "2021-11-06T11:56:46.752Z"
   },
   {
    "duration": 11,
    "start_time": "2021-11-06T11:56:46.764Z"
   },
   {
    "duration": 8,
    "start_time": "2021-11-06T11:56:46.777Z"
   },
   {
    "duration": 22,
    "start_time": "2021-11-06T11:56:46.787Z"
   },
   {
    "duration": 34,
    "start_time": "2021-11-06T11:56:46.811Z"
   },
   {
    "duration": 605,
    "start_time": "2021-11-06T11:56:46.847Z"
   },
   {
    "duration": 18,
    "start_time": "2021-11-06T11:56:47.455Z"
   },
   {
    "duration": 592,
    "start_time": "2021-11-06T11:56:47.475Z"
   },
   {
    "duration": 15,
    "start_time": "2021-11-06T11:56:48.070Z"
   },
   {
    "duration": 17,
    "start_time": "2021-11-06T11:56:48.087Z"
   },
   {
    "duration": 681,
    "start_time": "2021-11-06T11:56:48.106Z"
   },
   {
    "duration": 9,
    "start_time": "2021-11-06T11:56:48.791Z"
   },
   {
    "duration": 352,
    "start_time": "2021-11-06T11:56:48.802Z"
   },
   {
    "duration": 4,
    "start_time": "2021-11-06T11:56:49.155Z"
   },
   {
    "duration": 318,
    "start_time": "2021-11-06T11:56:49.160Z"
   },
   {
    "duration": 4,
    "start_time": "2021-11-06T11:56:49.480Z"
   },
   {
    "duration": 23,
    "start_time": "2021-11-06T11:56:49.486Z"
   },
   {
    "duration": 43,
    "start_time": "2021-11-06T11:56:49.511Z"
   },
   {
    "duration": 582,
    "start_time": "2021-11-06T11:56:49.556Z"
   },
   {
    "duration": 12,
    "start_time": "2021-11-06T11:56:50.144Z"
   },
   {
    "duration": 650,
    "start_time": "2021-11-06T11:56:50.158Z"
   },
   {
    "duration": 16,
    "start_time": "2021-11-06T11:57:56.429Z"
   },
   {
    "duration": 856,
    "start_time": "2021-11-06T11:57:57.219Z"
   },
   {
    "duration": 15,
    "start_time": "2021-11-06T11:58:16.389Z"
   },
   {
    "duration": 989,
    "start_time": "2021-11-06T11:58:17.141Z"
   },
   {
    "duration": 1184,
    "start_time": "2021-11-06T11:58:56.525Z"
   },
   {
    "duration": 4,
    "start_time": "2021-11-06T11:58:57.711Z"
   },
   {
    "duration": 68,
    "start_time": "2021-11-06T11:58:57.717Z"
   },
   {
    "duration": 11,
    "start_time": "2021-11-06T11:58:57.787Z"
   },
   {
    "duration": 7,
    "start_time": "2021-11-06T11:58:57.800Z"
   },
   {
    "duration": 7,
    "start_time": "2021-11-06T11:58:57.809Z"
   },
   {
    "duration": 9,
    "start_time": "2021-11-06T11:58:57.818Z"
   },
   {
    "duration": 6,
    "start_time": "2021-11-06T11:58:57.830Z"
   },
   {
    "duration": 8,
    "start_time": "2021-11-06T11:58:57.838Z"
   },
   {
    "duration": 7,
    "start_time": "2021-11-06T11:58:57.848Z"
   },
   {
    "duration": 5,
    "start_time": "2021-11-06T11:58:57.857Z"
   },
   {
    "duration": 11,
    "start_time": "2021-11-06T11:58:57.863Z"
   },
   {
    "duration": 5,
    "start_time": "2021-11-06T11:58:57.876Z"
   },
   {
    "duration": 7,
    "start_time": "2021-11-06T11:58:57.882Z"
   },
   {
    "duration": 18,
    "start_time": "2021-11-06T11:58:57.891Z"
   },
   {
    "duration": 9,
    "start_time": "2021-11-06T11:58:57.911Z"
   },
   {
    "duration": 26,
    "start_time": "2021-11-06T11:58:57.922Z"
   },
   {
    "duration": 7,
    "start_time": "2021-11-06T11:58:57.950Z"
   },
   {
    "duration": 16,
    "start_time": "2021-11-06T11:58:57.958Z"
   },
   {
    "duration": 12,
    "start_time": "2021-11-06T11:58:57.976Z"
   },
   {
    "duration": 632,
    "start_time": "2021-11-06T11:58:57.990Z"
   },
   {
    "duration": 25,
    "start_time": "2021-11-06T11:58:58.624Z"
   },
   {
    "duration": 676,
    "start_time": "2021-11-06T11:58:58.653Z"
   },
   {
    "duration": 23,
    "start_time": "2021-11-06T11:58:59.332Z"
   },
   {
    "duration": 17,
    "start_time": "2021-11-06T11:58:59.356Z"
   },
   {
    "duration": 1294,
    "start_time": "2021-11-06T11:58:59.375Z"
   },
   {
    "duration": -1986,
    "start_time": "2021-11-06T11:59:02.658Z"
   },
   {
    "duration": -1988,
    "start_time": "2021-11-06T11:59:02.661Z"
   },
   {
    "duration": -1991,
    "start_time": "2021-11-06T11:59:02.664Z"
   },
   {
    "duration": -1996,
    "start_time": "2021-11-06T11:59:02.670Z"
   },
   {
    "duration": -2007,
    "start_time": "2021-11-06T11:59:02.683Z"
   },
   {
    "duration": -2010,
    "start_time": "2021-11-06T11:59:02.687Z"
   },
   {
    "duration": -2012,
    "start_time": "2021-11-06T11:59:02.690Z"
   },
   {
    "duration": -2014,
    "start_time": "2021-11-06T11:59:02.693Z"
   },
   {
    "duration": -2016,
    "start_time": "2021-11-06T11:59:02.696Z"
   },
   {
    "duration": -2018,
    "start_time": "2021-11-06T11:59:02.699Z"
   },
   {
    "duration": 78,
    "start_time": "2021-11-06T11:59:41.384Z"
   },
   {
    "duration": 747,
    "start_time": "2021-11-06T11:59:41.999Z"
   },
   {
    "duration": 16,
    "start_time": "2021-11-06T12:02:06.912Z"
   },
   {
    "duration": 739,
    "start_time": "2021-11-06T12:02:07.910Z"
   },
   {
    "duration": 12,
    "start_time": "2021-11-06T12:06:33.318Z"
   },
   {
    "duration": 601,
    "start_time": "2021-11-06T12:06:34.977Z"
   },
   {
    "duration": 17,
    "start_time": "2021-11-06T12:06:44.513Z"
   },
   {
    "duration": 611,
    "start_time": "2021-11-06T12:06:45.630Z"
   },
   {
    "duration": 16,
    "start_time": "2021-11-06T12:07:10.155Z"
   },
   {
    "duration": 727,
    "start_time": "2021-11-06T12:07:10.708Z"
   },
   {
    "duration": 1125,
    "start_time": "2021-11-06T12:07:38.066Z"
   },
   {
    "duration": 3,
    "start_time": "2021-11-06T12:07:39.193Z"
   },
   {
    "duration": 71,
    "start_time": "2021-11-06T12:07:39.198Z"
   },
   {
    "duration": 11,
    "start_time": "2021-11-06T12:07:39.271Z"
   },
   {
    "duration": 19,
    "start_time": "2021-11-06T12:07:39.283Z"
   },
   {
    "duration": 16,
    "start_time": "2021-11-06T12:07:39.303Z"
   },
   {
    "duration": 12,
    "start_time": "2021-11-06T12:07:39.320Z"
   },
   {
    "duration": 11,
    "start_time": "2021-11-06T12:07:39.333Z"
   },
   {
    "duration": 10,
    "start_time": "2021-11-06T12:07:39.346Z"
   },
   {
    "duration": 26,
    "start_time": "2021-11-06T12:07:39.358Z"
   },
   {
    "duration": 15,
    "start_time": "2021-11-06T12:07:39.386Z"
   },
   {
    "duration": 45,
    "start_time": "2021-11-06T12:07:39.403Z"
   },
   {
    "duration": 10,
    "start_time": "2021-11-06T12:07:39.450Z"
   },
   {
    "duration": 19,
    "start_time": "2021-11-06T12:07:39.462Z"
   },
   {
    "duration": 8,
    "start_time": "2021-11-06T12:07:39.482Z"
   },
   {
    "duration": 13,
    "start_time": "2021-11-06T12:07:39.491Z"
   },
   {
    "duration": 11,
    "start_time": "2021-11-06T12:07:39.505Z"
   },
   {
    "duration": 19,
    "start_time": "2021-11-06T12:07:39.518Z"
   },
   {
    "duration": 25,
    "start_time": "2021-11-06T12:07:39.538Z"
   },
   {
    "duration": 12,
    "start_time": "2021-11-06T12:07:39.565Z"
   },
   {
    "duration": 655,
    "start_time": "2021-11-06T12:07:39.579Z"
   },
   {
    "duration": 21,
    "start_time": "2021-11-06T12:07:40.236Z"
   },
   {
    "duration": 569,
    "start_time": "2021-11-06T12:07:40.258Z"
   },
   {
    "duration": 19,
    "start_time": "2021-11-06T12:07:40.829Z"
   },
   {
    "duration": 15,
    "start_time": "2021-11-06T12:07:40.850Z"
   },
   {
    "duration": 741,
    "start_time": "2021-11-06T12:07:40.867Z"
   },
   {
    "duration": 10,
    "start_time": "2021-11-06T12:07:41.611Z"
   },
   {
    "duration": 324,
    "start_time": "2021-11-06T12:07:41.623Z"
   },
   {
    "duration": 3,
    "start_time": "2021-11-06T12:07:41.949Z"
   },
   {
    "duration": 412,
    "start_time": "2021-11-06T12:07:41.954Z"
   },
   {
    "duration": 4,
    "start_time": "2021-11-06T12:07:42.367Z"
   },
   {
    "duration": 10,
    "start_time": "2021-11-06T12:07:42.373Z"
   },
   {
    "duration": 20,
    "start_time": "2021-11-06T12:07:42.385Z"
   },
   {
    "duration": 611,
    "start_time": "2021-11-06T12:07:42.406Z"
   },
   {
    "duration": 25,
    "start_time": "2021-11-06T12:07:43.019Z"
   },
   {
    "duration": 692,
    "start_time": "2021-11-06T12:07:43.046Z"
   },
   {
    "duration": 1176,
    "start_time": "2021-11-06T13:09:55.226Z"
   },
   {
    "duration": 4,
    "start_time": "2021-11-06T13:09:56.404Z"
   },
   {
    "duration": 67,
    "start_time": "2021-11-06T13:09:56.411Z"
   },
   {
    "duration": 11,
    "start_time": "2021-11-06T13:09:56.480Z"
   },
   {
    "duration": 8,
    "start_time": "2021-11-06T13:09:56.492Z"
   },
   {
    "duration": 8,
    "start_time": "2021-11-06T13:09:56.501Z"
   },
   {
    "duration": 11,
    "start_time": "2021-11-06T13:09:56.510Z"
   },
   {
    "duration": 18,
    "start_time": "2021-11-06T13:09:56.523Z"
   },
   {
    "duration": 9,
    "start_time": "2021-11-06T13:09:56.544Z"
   },
   {
    "duration": 7,
    "start_time": "2021-11-06T13:09:56.555Z"
   },
   {
    "duration": 4,
    "start_time": "2021-11-06T13:09:56.565Z"
   },
   {
    "duration": 18,
    "start_time": "2021-11-06T13:09:56.571Z"
   },
   {
    "duration": 6,
    "start_time": "2021-11-06T13:09:56.590Z"
   },
   {
    "duration": 10,
    "start_time": "2021-11-06T13:09:56.598Z"
   },
   {
    "duration": 36,
    "start_time": "2021-11-06T13:09:56.609Z"
   },
   {
    "duration": 6,
    "start_time": "2021-11-06T13:09:56.647Z"
   },
   {
    "duration": 8,
    "start_time": "2021-11-06T13:09:56.655Z"
   },
   {
    "duration": 10,
    "start_time": "2021-11-06T13:09:56.665Z"
   },
   {
    "duration": 18,
    "start_time": "2021-11-06T13:09:56.677Z"
   },
   {
    "duration": 12,
    "start_time": "2021-11-06T13:09:56.697Z"
   },
   {
    "duration": 642,
    "start_time": "2021-11-06T13:09:56.711Z"
   },
   {
    "duration": 17,
    "start_time": "2021-11-06T13:09:57.355Z"
   },
   {
    "duration": 778,
    "start_time": "2021-11-06T13:09:57.373Z"
   },
   {
    "duration": 12,
    "start_time": "2021-11-06T13:09:58.153Z"
   },
   {
    "duration": 15,
    "start_time": "2021-11-06T13:09:58.167Z"
   },
   {
    "duration": 764,
    "start_time": "2021-11-06T13:09:58.184Z"
   },
   {
    "duration": 9,
    "start_time": "2021-11-06T13:09:58.952Z"
   },
   {
    "duration": 326,
    "start_time": "2021-11-06T13:09:58.963Z"
   },
   {
    "duration": 5,
    "start_time": "2021-11-06T13:09:59.292Z"
   },
   {
    "duration": 397,
    "start_time": "2021-11-06T13:09:59.299Z"
   },
   {
    "duration": 4,
    "start_time": "2021-11-06T13:09:59.698Z"
   },
   {
    "duration": 11,
    "start_time": "2021-11-06T13:09:59.703Z"
   },
   {
    "duration": 36,
    "start_time": "2021-11-06T13:09:59.715Z"
   },
   {
    "duration": 569,
    "start_time": "2021-11-06T13:09:59.752Z"
   },
   {
    "duration": 21,
    "start_time": "2021-11-06T13:10:00.323Z"
   },
   {
    "duration": 689,
    "start_time": "2021-11-06T13:10:00.346Z"
   },
   {
    "duration": 1161,
    "start_time": "2021-11-06T13:11:11.439Z"
   },
   {
    "duration": 65,
    "start_time": "2021-11-06T13:11:12.602Z"
   },
   {
    "duration": 13,
    "start_time": "2021-11-06T13:11:12.669Z"
   },
   {
    "duration": 7,
    "start_time": "2021-11-06T13:11:12.684Z"
   },
   {
    "duration": 14,
    "start_time": "2021-11-06T13:11:12.693Z"
   },
   {
    "duration": 11,
    "start_time": "2021-11-06T13:11:12.709Z"
   },
   {
    "duration": 8,
    "start_time": "2021-11-06T13:11:12.722Z"
   },
   {
    "duration": 8,
    "start_time": "2021-11-06T13:11:12.744Z"
   },
   {
    "duration": 7,
    "start_time": "2021-11-06T13:11:12.756Z"
   },
   {
    "duration": 6,
    "start_time": "2021-11-06T13:11:12.765Z"
   },
   {
    "duration": 17,
    "start_time": "2021-11-06T13:11:12.773Z"
   },
   {
    "duration": 6,
    "start_time": "2021-11-06T13:11:12.791Z"
   },
   {
    "duration": 10,
    "start_time": "2021-11-06T13:11:12.799Z"
   },
   {
    "duration": 39,
    "start_time": "2021-11-06T13:11:12.811Z"
   },
   {
    "duration": 8,
    "start_time": "2021-11-06T13:11:12.852Z"
   },
   {
    "duration": 9,
    "start_time": "2021-11-06T13:11:12.861Z"
   },
   {
    "duration": 7,
    "start_time": "2021-11-06T13:11:12.872Z"
   },
   {
    "duration": 18,
    "start_time": "2021-11-06T13:11:12.881Z"
   },
   {
    "duration": 15,
    "start_time": "2021-11-06T13:11:12.901Z"
   },
   {
    "duration": 763,
    "start_time": "2021-11-06T13:11:12.917Z"
   },
   {
    "duration": -1967,
    "start_time": "2021-11-06T13:11:15.649Z"
   },
   {
    "duration": -1969,
    "start_time": "2021-11-06T13:11:15.652Z"
   },
   {
    "duration": -2007,
    "start_time": "2021-11-06T13:11:15.691Z"
   },
   {
    "duration": -2015,
    "start_time": "2021-11-06T13:11:15.700Z"
   },
   {
    "duration": -2016,
    "start_time": "2021-11-06T13:11:15.703Z"
   },
   {
    "duration": -2017,
    "start_time": "2021-11-06T13:11:15.705Z"
   },
   {
    "duration": -2020,
    "start_time": "2021-11-06T13:11:15.708Z"
   },
   {
    "duration": -2021,
    "start_time": "2021-11-06T13:11:15.711Z"
   },
   {
    "duration": -2024,
    "start_time": "2021-11-06T13:11:15.715Z"
   },
   {
    "duration": -2026,
    "start_time": "2021-11-06T13:11:15.718Z"
   },
   {
    "duration": -2028,
    "start_time": "2021-11-06T13:11:15.721Z"
   },
   {
    "duration": -2030,
    "start_time": "2021-11-06T13:11:15.724Z"
   },
   {
    "duration": -2032,
    "start_time": "2021-11-06T13:11:15.726Z"
   },
   {
    "duration": -2033,
    "start_time": "2021-11-06T13:11:15.729Z"
   },
   {
    "duration": -2036,
    "start_time": "2021-11-06T13:11:15.732Z"
   },
   {
    "duration": 1188,
    "start_time": "2021-11-06T13:12:13.944Z"
   },
   {
    "duration": 8,
    "start_time": "2021-11-06T13:12:15.139Z"
   },
   {
    "duration": 75,
    "start_time": "2021-11-06T13:12:15.150Z"
   },
   {
    "duration": 19,
    "start_time": "2021-11-06T13:12:15.227Z"
   },
   {
    "duration": 19,
    "start_time": "2021-11-06T13:12:15.249Z"
   },
   {
    "duration": 7,
    "start_time": "2021-11-06T13:12:15.270Z"
   },
   {
    "duration": 12,
    "start_time": "2021-11-06T13:12:15.280Z"
   },
   {
    "duration": 9,
    "start_time": "2021-11-06T13:12:15.295Z"
   },
   {
    "duration": 46,
    "start_time": "2021-11-06T13:12:15.307Z"
   },
   {
    "duration": 12,
    "start_time": "2021-11-06T13:12:15.355Z"
   },
   {
    "duration": 9,
    "start_time": "2021-11-06T13:12:15.369Z"
   },
   {
    "duration": 27,
    "start_time": "2021-11-06T13:12:15.380Z"
   },
   {
    "duration": 12,
    "start_time": "2021-11-06T13:12:15.409Z"
   },
   {
    "duration": 23,
    "start_time": "2021-11-06T13:12:15.423Z"
   },
   {
    "duration": 11,
    "start_time": "2021-11-06T13:12:15.448Z"
   },
   {
    "duration": 27,
    "start_time": "2021-11-06T13:12:15.461Z"
   },
   {
    "duration": 7,
    "start_time": "2021-11-06T13:12:15.490Z"
   },
   {
    "duration": 8,
    "start_time": "2021-11-06T13:12:15.499Z"
   },
   {
    "duration": 36,
    "start_time": "2021-11-06T13:12:15.509Z"
   },
   {
    "duration": 13,
    "start_time": "2021-11-06T13:12:15.547Z"
   },
   {
    "duration": 602,
    "start_time": "2021-11-06T13:12:15.561Z"
   },
   {
    "duration": 17,
    "start_time": "2021-11-06T13:12:16.166Z"
   },
   {
    "duration": 660,
    "start_time": "2021-11-06T13:12:16.185Z"
   },
   {
    "duration": 13,
    "start_time": "2021-11-06T13:12:16.847Z"
   },
   {
    "duration": 16,
    "start_time": "2021-11-06T13:12:16.862Z"
   },
   {
    "duration": 747,
    "start_time": "2021-11-06T13:12:16.880Z"
   },
   {
    "duration": 19,
    "start_time": "2021-11-06T13:12:17.629Z"
   },
   {
    "duration": 310,
    "start_time": "2021-11-06T13:12:17.650Z"
   },
   {
    "duration": 5,
    "start_time": "2021-11-06T13:12:17.961Z"
   },
   {
    "duration": 415,
    "start_time": "2021-11-06T13:12:17.967Z"
   },
   {
    "duration": 3,
    "start_time": "2021-11-06T13:12:18.384Z"
   },
   {
    "duration": 10,
    "start_time": "2021-11-06T13:12:18.389Z"
   },
   {
    "duration": 21,
    "start_time": "2021-11-06T13:12:18.400Z"
   },
   {
    "duration": 587,
    "start_time": "2021-11-06T13:12:18.422Z"
   },
   {
    "duration": 14,
    "start_time": "2021-11-06T13:12:19.011Z"
   },
   {
    "duration": 730,
    "start_time": "2021-11-06T13:12:19.027Z"
   },
   {
    "duration": 1190,
    "start_time": "2021-11-06T14:56:22.894Z"
   },
   {
    "duration": 3,
    "start_time": "2021-11-06T14:56:24.086Z"
   },
   {
    "duration": 72,
    "start_time": "2021-11-06T14:56:24.091Z"
   },
   {
    "duration": 11,
    "start_time": "2021-11-06T14:56:24.165Z"
   },
   {
    "duration": 19,
    "start_time": "2021-11-06T14:56:24.177Z"
   },
   {
    "duration": 14,
    "start_time": "2021-11-06T14:56:24.197Z"
   },
   {
    "duration": 9,
    "start_time": "2021-11-06T14:56:24.213Z"
   },
   {
    "duration": 10,
    "start_time": "2021-11-06T14:56:24.224Z"
   },
   {
    "duration": 12,
    "start_time": "2021-11-06T14:56:24.236Z"
   },
   {
    "duration": 9,
    "start_time": "2021-11-06T14:56:24.250Z"
   },
   {
    "duration": 7,
    "start_time": "2021-11-06T14:56:24.261Z"
   },
   {
    "duration": 20,
    "start_time": "2021-11-06T14:56:24.270Z"
   },
   {
    "duration": 19,
    "start_time": "2021-11-06T14:56:24.292Z"
   },
   {
    "duration": 8,
    "start_time": "2021-11-06T14:56:24.313Z"
   },
   {
    "duration": 8,
    "start_time": "2021-11-06T14:56:24.323Z"
   },
   {
    "duration": 8,
    "start_time": "2021-11-06T14:56:24.333Z"
   },
   {
    "duration": 13,
    "start_time": "2021-11-06T14:56:24.343Z"
   },
   {
    "duration": 11,
    "start_time": "2021-11-06T14:56:24.358Z"
   },
   {
    "duration": 49,
    "start_time": "2021-11-06T14:56:24.371Z"
   },
   {
    "duration": 13,
    "start_time": "2021-11-06T14:56:24.421Z"
   },
   {
    "duration": 673,
    "start_time": "2021-11-06T14:56:24.436Z"
   },
   {
    "duration": 20,
    "start_time": "2021-11-06T14:56:25.112Z"
   },
   {
    "duration": 674,
    "start_time": "2021-11-06T14:56:25.136Z"
   },
   {
    "duration": 15,
    "start_time": "2021-11-06T14:56:25.812Z"
   },
   {
    "duration": 22,
    "start_time": "2021-11-06T14:56:25.829Z"
   },
   {
    "duration": 758,
    "start_time": "2021-11-06T14:56:25.853Z"
   },
   {
    "duration": 12,
    "start_time": "2021-11-06T14:56:26.614Z"
   },
   {
    "duration": 294,
    "start_time": "2021-11-06T14:56:26.628Z"
   },
   {
    "duration": 5,
    "start_time": "2021-11-06T14:56:26.923Z"
   },
   {
    "duration": 389,
    "start_time": "2021-11-06T14:56:26.930Z"
   },
   {
    "duration": 4,
    "start_time": "2021-11-06T14:56:27.321Z"
   },
   {
    "duration": 12,
    "start_time": "2021-11-06T14:56:27.327Z"
   },
   {
    "duration": 23,
    "start_time": "2021-11-06T14:56:27.340Z"
   },
   {
    "duration": 626,
    "start_time": "2021-11-06T14:56:27.365Z"
   },
   {
    "duration": 24,
    "start_time": "2021-11-06T14:56:27.994Z"
   },
   {
    "duration": 773,
    "start_time": "2021-11-06T14:56:28.020Z"
   },
   {
    "duration": 344,
    "start_time": "2021-11-06T15:26:12.591Z"
   },
   {
    "duration": 1495,
    "start_time": "2021-11-06T15:26:19.591Z"
   },
   {
    "duration": 4,
    "start_time": "2021-11-06T15:26:21.089Z"
   },
   {
    "duration": 79,
    "start_time": "2021-11-06T15:26:21.095Z"
   },
   {
    "duration": 15,
    "start_time": "2021-11-06T15:26:21.176Z"
   },
   {
    "duration": 13,
    "start_time": "2021-11-06T15:26:21.193Z"
   },
   {
    "duration": 9,
    "start_time": "2021-11-06T15:26:21.208Z"
   },
   {
    "duration": 14,
    "start_time": "2021-11-06T15:26:21.220Z"
   },
   {
    "duration": 10,
    "start_time": "2021-11-06T15:26:21.240Z"
   },
   {
    "duration": 11,
    "start_time": "2021-11-06T15:26:21.254Z"
   },
   {
    "duration": 10,
    "start_time": "2021-11-06T15:26:21.268Z"
   },
   {
    "duration": 8,
    "start_time": "2021-11-06T15:26:21.323Z"
   },
   {
    "duration": 16,
    "start_time": "2021-11-06T15:26:21.334Z"
   },
   {
    "duration": 9,
    "start_time": "2021-11-06T15:26:21.353Z"
   },
   {
    "duration": 57,
    "start_time": "2021-11-06T15:26:21.365Z"
   },
   {
    "duration": 12,
    "start_time": "2021-11-06T15:26:21.425Z"
   },
   {
    "duration": 9,
    "start_time": "2021-11-06T15:26:21.440Z"
   },
   {
    "duration": 8,
    "start_time": "2021-11-06T15:26:21.451Z"
   },
   {
    "duration": 10,
    "start_time": "2021-11-06T15:26:21.461Z"
   },
   {
    "duration": 15,
    "start_time": "2021-11-06T15:26:21.474Z"
   },
   {
    "duration": 23,
    "start_time": "2021-11-06T15:26:21.524Z"
   },
   {
    "duration": 18,
    "start_time": "2021-11-06T15:26:21.550Z"
   },
   {
    "duration": 895,
    "start_time": "2021-11-06T15:26:21.570Z"
   },
   {
    "duration": 23,
    "start_time": "2021-11-06T15:26:22.470Z"
   },
   {
    "duration": 885,
    "start_time": "2021-11-06T15:26:22.496Z"
   },
   {
    "duration": 39,
    "start_time": "2021-11-06T15:26:23.383Z"
   },
   {
    "duration": 24,
    "start_time": "2021-11-06T15:26:23.425Z"
   },
   {
    "duration": 1123,
    "start_time": "2021-11-06T15:26:23.452Z"
   },
   {
    "duration": 15,
    "start_time": "2021-11-06T15:26:24.578Z"
   },
   {
    "duration": 400,
    "start_time": "2021-11-06T15:26:24.595Z"
   },
   {
    "duration": 5,
    "start_time": "2021-11-06T15:26:24.998Z"
   },
   {
    "duration": 530,
    "start_time": "2021-11-06T15:26:25.005Z"
   },
   {
    "duration": 6,
    "start_time": "2021-11-06T15:26:25.538Z"
   },
   {
    "duration": 14,
    "start_time": "2021-11-06T15:26:25.546Z"
   },
   {
    "duration": 27,
    "start_time": "2021-11-06T15:26:25.562Z"
   },
   {
    "duration": 879,
    "start_time": "2021-11-06T15:26:25.623Z"
   },
   {
    "duration": 27,
    "start_time": "2021-11-06T15:26:26.505Z"
   },
   {
    "duration": 1113,
    "start_time": "2021-11-06T15:26:26.535Z"
   },
   {
    "duration": 14,
    "start_time": "2021-11-06T15:27:08.201Z"
   },
   {
    "duration": 18,
    "start_time": "2021-11-06T15:29:15.661Z"
   },
   {
    "duration": 7,
    "start_time": "2021-11-06T15:38:22.459Z"
   },
   {
    "duration": 8,
    "start_time": "2021-11-06T15:38:47.366Z"
   },
   {
    "duration": 8,
    "start_time": "2021-11-06T15:39:49.668Z"
   },
   {
    "duration": 15,
    "start_time": "2021-11-06T15:40:29.264Z"
   },
   {
    "duration": 8,
    "start_time": "2021-11-06T15:42:00.520Z"
   },
   {
    "duration": 6,
    "start_time": "2021-11-06T15:42:43.298Z"
   },
   {
    "duration": 9,
    "start_time": "2021-11-06T15:42:57.356Z"
   },
   {
    "duration": 3685,
    "start_time": "2021-11-06T15:43:30.904Z"
   },
   {
    "duration": 14,
    "start_time": "2021-11-06T15:47:55.559Z"
   },
   {
    "duration": 14,
    "start_time": "2021-11-06T15:52:47.149Z"
   },
   {
    "duration": 15,
    "start_time": "2021-11-06T15:53:05.177Z"
   },
   {
    "duration": 15,
    "start_time": "2021-11-06T15:53:20.709Z"
   },
   {
    "duration": 18,
    "start_time": "2021-11-06T16:21:52.315Z"
   },
   {
    "duration": 281,
    "start_time": "2021-11-06T16:21:53.788Z"
   },
   {
    "duration": 929,
    "start_time": "2021-11-06T16:22:12.296Z"
   },
   {
    "duration": 19,
    "start_time": "2021-11-06T16:22:43.763Z"
   },
   {
    "duration": 935,
    "start_time": "2021-11-06T16:22:45.057Z"
   },
   {
    "duration": 101,
    "start_time": "2021-11-06T16:23:32.509Z"
   },
   {
    "duration": 959,
    "start_time": "2021-11-06T16:23:33.918Z"
   },
   {
    "duration": 18,
    "start_time": "2021-11-06T16:26:05.309Z"
   },
   {
    "duration": 906,
    "start_time": "2021-11-06T16:26:06.192Z"
   },
   {
    "duration": 17,
    "start_time": "2021-11-06T16:27:38.548Z"
   },
   {
    "duration": 882,
    "start_time": "2021-11-06T16:27:39.544Z"
   },
   {
    "duration": 23,
    "start_time": "2021-11-06T16:31:24.821Z"
   },
   {
    "duration": 1116,
    "start_time": "2021-11-06T16:31:25.817Z"
   },
   {
    "duration": 20,
    "start_time": "2021-11-06T17:02:15.038Z"
   },
   {
    "duration": 933,
    "start_time": "2021-11-06T17:02:15.938Z"
   },
   {
    "duration": 21,
    "start_time": "2021-11-06T17:04:28.791Z"
   },
   {
    "duration": 1031,
    "start_time": "2021-11-06T17:04:29.858Z"
   },
   {
    "duration": 20,
    "start_time": "2021-11-06T17:05:44.978Z"
   },
   {
    "duration": 932,
    "start_time": "2021-11-06T17:05:45.713Z"
   },
   {
    "duration": 21,
    "start_time": "2021-11-06T17:07:14.316Z"
   },
   {
    "duration": 885,
    "start_time": "2021-11-06T17:07:15.337Z"
   },
   {
    "duration": 20,
    "start_time": "2021-11-06T17:11:28.878Z"
   },
   {
    "duration": 899,
    "start_time": "2021-11-06T17:11:31.352Z"
   },
   {
    "duration": 21,
    "start_time": "2021-11-06T17:17:12.620Z"
   },
   {
    "duration": 940,
    "start_time": "2021-11-06T17:17:14.005Z"
   },
   {
    "duration": 24,
    "start_time": "2021-11-06T17:35:34.424Z"
   },
   {
    "duration": 908,
    "start_time": "2021-11-06T17:35:35.618Z"
   },
   {
    "duration": 23,
    "start_time": "2021-11-06T17:36:10.684Z"
   },
   {
    "duration": 921,
    "start_time": "2021-11-06T17:36:11.798Z"
   },
   {
    "duration": 1422,
    "start_time": "2021-11-06T17:36:58.260Z"
   },
   {
    "duration": 5,
    "start_time": "2021-11-06T17:36:59.684Z"
   },
   {
    "duration": 78,
    "start_time": "2021-11-06T17:36:59.691Z"
   },
   {
    "duration": 15,
    "start_time": "2021-11-06T17:36:59.772Z"
   },
   {
    "duration": 9,
    "start_time": "2021-11-06T17:36:59.790Z"
   },
   {
    "duration": 10,
    "start_time": "2021-11-06T17:36:59.801Z"
   },
   {
    "duration": 11,
    "start_time": "2021-11-06T17:36:59.813Z"
   },
   {
    "duration": 11,
    "start_time": "2021-11-06T17:36:59.827Z"
   },
   {
    "duration": 9,
    "start_time": "2021-11-06T17:36:59.841Z"
   },
   {
    "duration": 9,
    "start_time": "2021-11-06T17:36:59.853Z"
   },
   {
    "duration": 11,
    "start_time": "2021-11-06T17:36:59.865Z"
   },
   {
    "duration": 54,
    "start_time": "2021-11-06T17:36:59.879Z"
   },
   {
    "duration": 17,
    "start_time": "2021-11-06T17:36:59.936Z"
   },
   {
    "duration": 10,
    "start_time": "2021-11-06T17:36:59.956Z"
   },
   {
    "duration": 53,
    "start_time": "2021-11-06T17:36:59.970Z"
   },
   {
    "duration": 10,
    "start_time": "2021-11-06T17:37:00.026Z"
   },
   {
    "duration": 15,
    "start_time": "2021-11-06T17:37:00.039Z"
   },
   {
    "duration": 12,
    "start_time": "2021-11-06T17:37:00.057Z"
   },
   {
    "duration": 53,
    "start_time": "2021-11-06T17:37:00.071Z"
   },
   {
    "duration": 23,
    "start_time": "2021-11-06T17:37:00.127Z"
   },
   {
    "duration": 950,
    "start_time": "2021-11-06T17:37:00.152Z"
   },
   {
    "duration": 36,
    "start_time": "2021-11-06T17:37:01.104Z"
   },
   {
    "duration": 409,
    "start_time": "2021-11-06T17:37:01.142Z"
   },
   {
    "duration": -1980,
    "start_time": "2021-11-06T17:37:03.535Z"
   },
   {
    "duration": -1985,
    "start_time": "2021-11-06T17:37:03.541Z"
   },
   {
    "duration": -1994,
    "start_time": "2021-11-06T17:37:03.551Z"
   },
   {
    "duration": -1997,
    "start_time": "2021-11-06T17:37:03.556Z"
   },
   {
    "duration": -1999,
    "start_time": "2021-11-06T17:37:03.559Z"
   },
   {
    "duration": -2002,
    "start_time": "2021-11-06T17:37:03.563Z"
   },
   {
    "duration": -2002,
    "start_time": "2021-11-06T17:37:03.565Z"
   },
   {
    "duration": -2005,
    "start_time": "2021-11-06T17:37:03.569Z"
   },
   {
    "duration": -2006,
    "start_time": "2021-11-06T17:37:03.571Z"
   },
   {
    "duration": -2014,
    "start_time": "2021-11-06T17:37:03.580Z"
   },
   {
    "duration": -2016,
    "start_time": "2021-11-06T17:37:03.584Z"
   },
   {
    "duration": -2018,
    "start_time": "2021-11-06T17:37:03.588Z"
   },
   {
    "duration": -2021,
    "start_time": "2021-11-06T17:37:03.592Z"
   },
   {
    "duration": 924,
    "start_time": "2021-11-06T17:37:42.505Z"
   },
   {
    "duration": 22,
    "start_time": "2021-11-06T17:38:14.985Z"
   },
   {
    "duration": 20,
    "start_time": "2021-11-06T17:39:07.065Z"
   },
   {
    "duration": 20,
    "start_time": "2021-11-06T17:39:40.830Z"
   },
   {
    "duration": 901,
    "start_time": "2021-11-06T17:39:43.418Z"
   },
   {
    "duration": 989,
    "start_time": "2021-11-06T17:40:13.939Z"
   },
   {
    "duration": 90,
    "start_time": "2021-11-06T17:40:44.226Z"
   },
   {
    "duration": 21,
    "start_time": "2021-11-06T17:41:14.236Z"
   },
   {
    "duration": 946,
    "start_time": "2021-11-06T17:41:20.679Z"
   },
   {
    "duration": 21,
    "start_time": "2021-11-06T17:41:44.476Z"
   },
   {
    "duration": 963,
    "start_time": "2021-11-06T17:41:47.949Z"
   },
   {
    "duration": 22,
    "start_time": "2021-11-06T17:42:14.759Z"
   },
   {
    "duration": 892,
    "start_time": "2021-11-06T17:42:15.826Z"
   },
   {
    "duration": 21,
    "start_time": "2021-11-06T17:43:09.941Z"
   },
   {
    "duration": 873,
    "start_time": "2021-11-06T17:43:13.720Z"
   },
   {
    "duration": 892,
    "start_time": "2021-11-06T17:43:26.141Z"
   },
   {
    "duration": 1420,
    "start_time": "2021-11-06T19:09:05.686Z"
   },
   {
    "duration": 4,
    "start_time": "2021-11-06T19:09:07.109Z"
   },
   {
    "duration": 75,
    "start_time": "2021-11-06T19:09:07.124Z"
   },
   {
    "duration": 15,
    "start_time": "2021-11-06T19:09:07.201Z"
   },
   {
    "duration": 16,
    "start_time": "2021-11-06T19:09:07.219Z"
   },
   {
    "duration": 6,
    "start_time": "2021-11-06T19:09:07.238Z"
   },
   {
    "duration": 20,
    "start_time": "2021-11-06T19:09:07.247Z"
   },
   {
    "duration": 12,
    "start_time": "2021-11-06T19:09:07.269Z"
   },
   {
    "duration": 53,
    "start_time": "2021-11-06T19:09:07.285Z"
   },
   {
    "duration": 8,
    "start_time": "2021-11-06T19:09:07.342Z"
   },
   {
    "duration": 6,
    "start_time": "2021-11-06T19:09:07.353Z"
   },
   {
    "duration": 13,
    "start_time": "2021-11-06T19:09:07.361Z"
   },
   {
    "duration": 53,
    "start_time": "2021-11-06T19:09:07.376Z"
   },
   {
    "duration": 10,
    "start_time": "2021-11-06T19:09:07.432Z"
   },
   {
    "duration": 11,
    "start_time": "2021-11-06T19:09:07.444Z"
   },
   {
    "duration": 9,
    "start_time": "2021-11-06T19:09:07.457Z"
   },
   {
    "duration": 9,
    "start_time": "2021-11-06T19:09:07.468Z"
   },
   {
    "duration": 46,
    "start_time": "2021-11-06T19:09:07.479Z"
   },
   {
    "duration": 27,
    "start_time": "2021-11-06T19:09:07.528Z"
   },
   {
    "duration": 22,
    "start_time": "2021-11-06T19:09:07.558Z"
   },
   {
    "duration": 978,
    "start_time": "2021-11-06T19:09:07.583Z"
   },
   {
    "duration": 24,
    "start_time": "2021-11-06T19:09:08.565Z"
   },
   {
    "duration": 980,
    "start_time": "2021-11-06T19:09:08.592Z"
   },
   {
    "duration": 21,
    "start_time": "2021-11-06T19:09:09.575Z"
   },
   {
    "duration": 47,
    "start_time": "2021-11-06T19:09:09.599Z"
   },
   {
    "duration": 1187,
    "start_time": "2021-11-06T19:09:09.649Z"
   },
   {
    "duration": 16,
    "start_time": "2021-11-06T19:09:10.843Z"
   },
   {
    "duration": 477,
    "start_time": "2021-11-06T19:09:10.862Z"
   },
   {
    "duration": 6,
    "start_time": "2021-11-06T19:09:11.343Z"
   },
   {
    "duration": 504,
    "start_time": "2021-11-06T19:09:11.351Z"
   },
   {
    "duration": 7,
    "start_time": "2021-11-06T19:09:11.858Z"
   },
   {
    "duration": 13,
    "start_time": "2021-11-06T19:09:11.868Z"
   },
   {
    "duration": 65,
    "start_time": "2021-11-06T19:09:11.884Z"
   },
   {
    "duration": 452,
    "start_time": "2021-11-06T19:09:11.952Z"
   },
   {
    "duration": -1979,
    "start_time": "2021-11-06T19:09:14.385Z"
   },
   {
    "duration": -1995,
    "start_time": "2021-11-06T19:09:14.402Z"
   },
   {
    "duration": 869,
    "start_time": "2021-11-06T19:09:53.938Z"
   },
   {
    "duration": 18,
    "start_time": "2021-11-06T19:10:47.881Z"
   },
   {
    "duration": 1129,
    "start_time": "2021-11-06T19:10:47.903Z"
   },
   {
    "duration": 24,
    "start_time": "2021-11-06T22:31:20.798Z"
   },
   {
    "duration": 1826,
    "start_time": "2021-11-06T22:32:06.937Z"
   },
   {
    "duration": 12,
    "start_time": "2021-11-06T22:33:30.645Z"
   },
   {
    "duration": 330,
    "start_time": "2021-11-06T22:58:10.071Z"
   },
   {
    "duration": 14,
    "start_time": "2021-11-06T22:58:23.002Z"
   },
   {
    "duration": 37,
    "start_time": "2021-11-06T23:01:26.118Z"
   },
   {
    "duration": 2203,
    "start_time": "2021-11-06T23:01:32.184Z"
   },
   {
    "duration": 12,
    "start_time": "2021-11-06T23:01:42.761Z"
   },
   {
    "duration": 425,
    "start_time": "2021-11-07T05:55:13.169Z"
   },
   {
    "duration": 1516,
    "start_time": "2021-11-07T05:55:21.090Z"
   },
   {
    "duration": 3,
    "start_time": "2021-11-07T05:55:22.609Z"
   },
   {
    "duration": 64,
    "start_time": "2021-11-07T05:55:22.616Z"
   },
   {
    "duration": 14,
    "start_time": "2021-11-07T05:55:22.683Z"
   },
   {
    "duration": 10,
    "start_time": "2021-11-07T05:55:22.700Z"
   },
   {
    "duration": 11,
    "start_time": "2021-11-07T05:55:22.712Z"
   },
   {
    "duration": 12,
    "start_time": "2021-11-07T05:55:22.725Z"
   },
   {
    "duration": 26,
    "start_time": "2021-11-07T05:55:22.739Z"
   },
   {
    "duration": 9,
    "start_time": "2021-11-07T05:55:22.769Z"
   },
   {
    "duration": 8,
    "start_time": "2021-11-07T05:55:22.781Z"
   },
   {
    "duration": 5,
    "start_time": "2021-11-07T05:55:22.792Z"
   },
   {
    "duration": 61,
    "start_time": "2021-11-07T05:55:22.800Z"
   },
   {
    "duration": 15,
    "start_time": "2021-11-07T05:55:22.863Z"
   },
   {
    "duration": 10,
    "start_time": "2021-11-07T05:55:22.880Z"
   },
   {
    "duration": 9,
    "start_time": "2021-11-07T05:55:22.892Z"
   },
   {
    "duration": 9,
    "start_time": "2021-11-07T05:55:22.903Z"
   },
   {
    "duration": 7,
    "start_time": "2021-11-07T05:55:22.959Z"
   },
   {
    "duration": 10,
    "start_time": "2021-11-07T05:55:22.968Z"
   },
   {
    "duration": 24,
    "start_time": "2021-11-07T05:55:22.980Z"
   },
   {
    "duration": 53,
    "start_time": "2021-11-07T05:55:23.006Z"
   },
   {
    "duration": 2236,
    "start_time": "2021-11-07T05:55:23.062Z"
   },
   {
    "duration": 61,
    "start_time": "2021-11-07T05:55:25.301Z"
   },
   {
    "duration": 1063,
    "start_time": "2021-11-07T05:55:25.364Z"
   },
   {
    "duration": 33,
    "start_time": "2021-11-07T05:55:26.429Z"
   },
   {
    "duration": 531,
    "start_time": "2021-11-07T05:55:26.464Z"
   },
   {
    "duration": 320,
    "start_time": "2021-11-07T05:55:26.678Z"
   },
   {
    "duration": 308,
    "start_time": "2021-11-07T05:55:26.692Z"
   },
   {
    "duration": 306,
    "start_time": "2021-11-07T05:55:26.695Z"
   },
   {
    "duration": 295,
    "start_time": "2021-11-07T05:55:26.708Z"
   },
   {
    "duration": 283,
    "start_time": "2021-11-07T05:55:26.721Z"
   },
   {
    "duration": 280,
    "start_time": "2021-11-07T05:55:26.725Z"
   },
   {
    "duration": 278,
    "start_time": "2021-11-07T05:55:26.729Z"
   },
   {
    "duration": 276,
    "start_time": "2021-11-07T05:55:26.732Z"
   },
   {
    "duration": 273,
    "start_time": "2021-11-07T05:55:26.736Z"
   },
   {
    "duration": 271,
    "start_time": "2021-11-07T05:55:26.740Z"
   },
   {
    "duration": 268,
    "start_time": "2021-11-07T05:55:26.744Z"
   },
   {
    "duration": 266,
    "start_time": "2021-11-07T05:55:26.747Z"
   },
   {
    "duration": 258,
    "start_time": "2021-11-07T05:55:26.757Z"
   },
   {
    "duration": 15,
    "start_time": "2021-11-07T06:45:44.583Z"
   },
   {
    "duration": 6,
    "start_time": "2021-11-07T06:46:55.216Z"
   },
   {
    "duration": 5,
    "start_time": "2021-11-07T06:47:36.512Z"
   },
   {
    "duration": 417,
    "start_time": "2021-11-07T06:48:07.985Z"
   },
   {
    "duration": 1425,
    "start_time": "2021-11-07T06:48:43.777Z"
   },
   {
    "duration": 4,
    "start_time": "2021-11-07T06:48:45.204Z"
   },
   {
    "duration": 72,
    "start_time": "2021-11-07T06:48:45.211Z"
   },
   {
    "duration": 15,
    "start_time": "2021-11-07T06:48:45.286Z"
   },
   {
    "duration": 11,
    "start_time": "2021-11-07T06:48:45.303Z"
   },
   {
    "duration": 9,
    "start_time": "2021-11-07T06:48:45.316Z"
   },
   {
    "duration": 13,
    "start_time": "2021-11-07T06:48:45.327Z"
   },
   {
    "duration": 22,
    "start_time": "2021-11-07T06:48:45.343Z"
   },
   {
    "duration": 23,
    "start_time": "2021-11-07T06:48:45.368Z"
   },
   {
    "duration": 11,
    "start_time": "2021-11-07T06:48:45.393Z"
   },
   {
    "duration": 11,
    "start_time": "2021-11-07T06:48:45.406Z"
   },
   {
    "duration": 13,
    "start_time": "2021-11-07T06:48:45.420Z"
   },
   {
    "duration": 36,
    "start_time": "2021-11-07T06:48:45.435Z"
   },
   {
    "duration": 9,
    "start_time": "2021-11-07T06:48:45.473Z"
   },
   {
    "duration": 8,
    "start_time": "2021-11-07T06:48:45.485Z"
   },
   {
    "duration": 7,
    "start_time": "2021-11-07T06:48:45.496Z"
   },
   {
    "duration": 7,
    "start_time": "2021-11-07T06:48:45.505Z"
   },
   {
    "duration": 6,
    "start_time": "2021-11-07T06:48:45.560Z"
   },
   {
    "duration": 25,
    "start_time": "2021-11-07T06:48:45.569Z"
   },
   {
    "duration": 16,
    "start_time": "2021-11-07T06:48:45.596Z"
   },
   {
    "duration": 549,
    "start_time": "2021-11-07T06:48:45.614Z"
   },
   {
    "duration": 297,
    "start_time": "2021-11-07T06:48:45.869Z"
   },
   {
    "duration": 295,
    "start_time": "2021-11-07T06:48:45.873Z"
   },
   {
    "duration": 292,
    "start_time": "2021-11-07T06:48:45.877Z"
   },
   {
    "duration": 279,
    "start_time": "2021-11-07T06:48:45.891Z"
   },
   {
    "duration": 271,
    "start_time": "2021-11-07T06:48:45.900Z"
   },
   {
    "duration": 269,
    "start_time": "2021-11-07T06:48:45.904Z"
   },
   {
    "duration": 266,
    "start_time": "2021-11-07T06:48:45.908Z"
   },
   {
    "duration": 264,
    "start_time": "2021-11-07T06:48:45.911Z"
   },
   {
    "duration": 261,
    "start_time": "2021-11-07T06:48:45.915Z"
   },
   {
    "duration": 261,
    "start_time": "2021-11-07T06:48:45.918Z"
   },
   {
    "duration": 258,
    "start_time": "2021-11-07T06:48:45.922Z"
   },
   {
    "duration": 257,
    "start_time": "2021-11-07T06:48:45.925Z"
   },
   {
    "duration": 254,
    "start_time": "2021-11-07T06:48:45.929Z"
   },
   {
    "duration": 252,
    "start_time": "2021-11-07T06:48:45.933Z"
   },
   {
    "duration": -62,
    "start_time": "2021-11-07T06:48:46.248Z"
   },
   {
    "duration": -64,
    "start_time": "2021-11-07T06:48:46.252Z"
   },
   {
    "duration": -78,
    "start_time": "2021-11-07T06:48:46.268Z"
   },
   {
    "duration": -81,
    "start_time": "2021-11-07T06:48:46.272Z"
   },
   {
    "duration": -84,
    "start_time": "2021-11-07T06:48:46.276Z"
   },
   {
    "duration": -85,
    "start_time": "2021-11-07T06:48:46.279Z"
   },
   {
    "duration": 733,
    "start_time": "2021-11-07T06:48:55.871Z"
   },
   {
    "duration": 15,
    "start_time": "2021-11-07T06:49:29.358Z"
   },
   {
    "duration": 416,
    "start_time": "2021-11-07T06:49:30.224Z"
   },
   {
    "duration": 397,
    "start_time": "2021-11-07T06:50:16.815Z"
   },
   {
    "duration": 6,
    "start_time": "2021-11-07T07:51:59.310Z"
   },
   {
    "duration": 130,
    "start_time": "2021-11-07T07:53:12.290Z"
   },
   {
    "duration": 424,
    "start_time": "2021-11-07T07:53:16.341Z"
   },
   {
    "duration": 13,
    "start_time": "2021-11-07T07:53:24.059Z"
   },
   {
    "duration": 1233,
    "start_time": "2021-11-07T07:53:28.301Z"
   },
   {
    "duration": 1561,
    "start_time": "2021-11-07T07:53:56.180Z"
   },
   {
    "duration": 4,
    "start_time": "2021-11-07T07:53:57.744Z"
   },
   {
    "duration": 85,
    "start_time": "2021-11-07T07:53:57.751Z"
   },
   {
    "duration": 17,
    "start_time": "2021-11-07T07:53:57.839Z"
   },
   {
    "duration": 16,
    "start_time": "2021-11-07T07:53:57.859Z"
   },
   {
    "duration": 12,
    "start_time": "2021-11-07T07:53:57.879Z"
   },
   {
    "duration": 13,
    "start_time": "2021-11-07T07:53:57.893Z"
   },
   {
    "duration": 10,
    "start_time": "2021-11-07T07:53:57.908Z"
   },
   {
    "duration": 43,
    "start_time": "2021-11-07T07:53:57.922Z"
   },
   {
    "duration": 13,
    "start_time": "2021-11-07T07:53:57.970Z"
   },
   {
    "duration": 5,
    "start_time": "2021-11-07T07:53:57.986Z"
   },
   {
    "duration": 19,
    "start_time": "2021-11-07T07:53:57.993Z"
   },
   {
    "duration": 46,
    "start_time": "2021-11-07T07:53:58.015Z"
   },
   {
    "duration": 16,
    "start_time": "2021-11-07T07:53:58.065Z"
   },
   {
    "duration": 12,
    "start_time": "2021-11-07T07:53:58.083Z"
   },
   {
    "duration": 11,
    "start_time": "2021-11-07T07:53:58.097Z"
   },
   {
    "duration": 11,
    "start_time": "2021-11-07T07:53:58.111Z"
   },
   {
    "duration": 38,
    "start_time": "2021-11-07T07:53:58.124Z"
   },
   {
    "duration": 41,
    "start_time": "2021-11-07T07:53:58.165Z"
   },
   {
    "duration": 16,
    "start_time": "2021-11-07T07:53:58.208Z"
   },
   {
    "duration": 453,
    "start_time": "2021-11-07T07:53:58.226Z"
   },
   {
    "duration": 8,
    "start_time": "2021-11-07T07:53:58.682Z"
   },
   {
    "duration": 11,
    "start_time": "2021-11-07T07:53:58.693Z"
   },
   {
    "duration": 17,
    "start_time": "2021-11-07T07:53:58.706Z"
   },
   {
    "duration": 1442,
    "start_time": "2021-11-07T07:53:58.726Z"
   },
   {
    "duration": 227,
    "start_time": "2021-11-07T07:53:59.945Z"
   },
   {
    "duration": 221,
    "start_time": "2021-11-07T07:53:59.952Z"
   },
   {
    "duration": 218,
    "start_time": "2021-11-07T07:53:59.957Z"
   },
   {
    "duration": 216,
    "start_time": "2021-11-07T07:53:59.960Z"
   },
   {
    "duration": 213,
    "start_time": "2021-11-07T07:53:59.964Z"
   },
   {
    "duration": 200,
    "start_time": "2021-11-07T07:53:59.979Z"
   },
   {
    "duration": 198,
    "start_time": "2021-11-07T07:53:59.983Z"
   },
   {
    "duration": 196,
    "start_time": "2021-11-07T07:53:59.987Z"
   },
   {
    "duration": 194,
    "start_time": "2021-11-07T07:53:59.991Z"
   },
   {
    "duration": 193,
    "start_time": "2021-11-07T07:53:59.995Z"
   },
   {
    "duration": 190,
    "start_time": "2021-11-07T07:53:59.999Z"
   },
   {
    "duration": 179,
    "start_time": "2021-11-07T07:54:00.012Z"
   },
   {
    "duration": 176,
    "start_time": "2021-11-07T07:54:00.017Z"
   },
   {
    "duration": 174,
    "start_time": "2021-11-07T07:54:00.021Z"
   },
   {
    "duration": 170,
    "start_time": "2021-11-07T07:54:00.026Z"
   },
   {
    "duration": 163,
    "start_time": "2021-11-07T07:54:00.035Z"
   },
   {
    "duration": 160,
    "start_time": "2021-11-07T07:54:00.039Z"
   },
   {
    "duration": 150,
    "start_time": "2021-11-07T07:54:00.051Z"
   },
   {
    "duration": 9,
    "start_time": "2021-11-07T07:58:22.878Z"
   },
   {
    "duration": 858,
    "start_time": "2021-11-07T07:59:04.345Z"
   },
   {
    "duration": 6,
    "start_time": "2021-11-07T08:12:20.268Z"
   },
   {
    "duration": 7966,
    "start_time": "2021-11-07T08:14:22.315Z"
   },
   {
    "duration": 254,
    "start_time": "2021-11-07T08:14:30.033Z"
   },
   {
    "duration": 5768,
    "start_time": "2021-11-07T08:14:35.995Z"
   },
   {
    "duration": 7,
    "start_time": "2021-11-07T08:14:42.745Z"
   },
   {
    "duration": 819,
    "start_time": "2021-11-07T08:14:44.194Z"
   },
   {
    "duration": 6,
    "start_time": "2021-11-07T08:32:17.901Z"
   },
   {
    "duration": 7,
    "start_time": "2021-11-07T08:33:27.435Z"
   },
   {
    "duration": 815,
    "start_time": "2021-11-07T08:33:32.061Z"
   },
   {
    "duration": 1434,
    "start_time": "2021-11-07T08:36:17.097Z"
   },
   {
    "duration": 5,
    "start_time": "2021-11-07T08:36:18.534Z"
   },
   {
    "duration": 81,
    "start_time": "2021-11-07T08:36:18.544Z"
   },
   {
    "duration": 15,
    "start_time": "2021-11-07T08:36:18.627Z"
   },
   {
    "duration": 14,
    "start_time": "2021-11-07T08:36:18.644Z"
   },
   {
    "duration": 31,
    "start_time": "2021-11-07T08:36:18.661Z"
   },
   {
    "duration": 21,
    "start_time": "2021-11-07T08:36:18.694Z"
   },
   {
    "duration": 26,
    "start_time": "2021-11-07T08:36:18.717Z"
   },
   {
    "duration": 13,
    "start_time": "2021-11-07T08:36:18.747Z"
   },
   {
    "duration": 19,
    "start_time": "2021-11-07T08:36:18.765Z"
   },
   {
    "duration": 16,
    "start_time": "2021-11-07T08:36:18.787Z"
   },
   {
    "duration": 28,
    "start_time": "2021-11-07T08:36:18.806Z"
   },
   {
    "duration": 26,
    "start_time": "2021-11-07T08:36:18.837Z"
   },
   {
    "duration": 15,
    "start_time": "2021-11-07T08:36:18.868Z"
   },
   {
    "duration": 21,
    "start_time": "2021-11-07T08:36:18.885Z"
   },
   {
    "duration": 16,
    "start_time": "2021-11-07T08:36:18.908Z"
   },
   {
    "duration": 20,
    "start_time": "2021-11-07T08:36:18.926Z"
   },
   {
    "duration": 7,
    "start_time": "2021-11-07T08:36:18.961Z"
   },
   {
    "duration": 30,
    "start_time": "2021-11-07T08:36:18.971Z"
   },
   {
    "duration": 15,
    "start_time": "2021-11-07T08:36:19.004Z"
   },
   {
    "duration": 466,
    "start_time": "2021-11-07T08:36:19.022Z"
   },
   {
    "duration": 9,
    "start_time": "2021-11-07T08:36:19.491Z"
   },
   {
    "duration": 751,
    "start_time": "2021-11-07T08:36:19.502Z"
   },
   {
    "duration": 9,
    "start_time": "2021-11-07T08:36:20.256Z"
   },
   {
    "duration": 919,
    "start_time": "2021-11-07T08:36:20.269Z"
   },
   {
    "duration": 13,
    "start_time": "2021-11-07T08:36:21.196Z"
   },
   {
    "duration": 893,
    "start_time": "2021-11-07T08:36:21.216Z"
   },
   {
    "duration": 6,
    "start_time": "2021-11-07T08:36:22.112Z"
   },
   {
    "duration": 40,
    "start_time": "2021-11-07T08:36:22.120Z"
   },
   {
    "duration": 529,
    "start_time": "2021-11-07T08:36:22.163Z"
   },
   {
    "duration": 268,
    "start_time": "2021-11-07T08:36:22.427Z"
   },
   {
    "duration": 253,
    "start_time": "2021-11-07T08:36:22.443Z"
   },
   {
    "duration": 249,
    "start_time": "2021-11-07T08:36:22.449Z"
   },
   {
    "duration": 247,
    "start_time": "2021-11-07T08:36:22.453Z"
   },
   {
    "duration": 245,
    "start_time": "2021-11-07T08:36:22.456Z"
   },
   {
    "duration": 243,
    "start_time": "2021-11-07T08:36:22.460Z"
   },
   {
    "duration": 241,
    "start_time": "2021-11-07T08:36:22.463Z"
   },
   {
    "duration": 239,
    "start_time": "2021-11-07T08:36:22.467Z"
   },
   {
    "duration": 237,
    "start_time": "2021-11-07T08:36:22.470Z"
   },
   {
    "duration": 235,
    "start_time": "2021-11-07T08:36:22.474Z"
   },
   {
    "duration": 1456,
    "start_time": "2021-11-07T09:50:58.060Z"
   },
   {
    "duration": 4,
    "start_time": "2021-11-07T09:50:59.519Z"
   },
   {
    "duration": 96,
    "start_time": "2021-11-07T09:50:59.526Z"
   },
   {
    "duration": 15,
    "start_time": "2021-11-07T09:50:59.624Z"
   },
   {
    "duration": 11,
    "start_time": "2021-11-07T09:50:59.642Z"
   },
   {
    "duration": 9,
    "start_time": "2021-11-07T09:50:59.655Z"
   },
   {
    "duration": 17,
    "start_time": "2021-11-07T09:50:59.666Z"
   },
   {
    "duration": 18,
    "start_time": "2021-11-07T09:50:59.687Z"
   },
   {
    "duration": 34,
    "start_time": "2021-11-07T09:50:59.708Z"
   },
   {
    "duration": 11,
    "start_time": "2021-11-07T09:50:59.744Z"
   },
   {
    "duration": 8,
    "start_time": "2021-11-07T09:50:59.757Z"
   },
   {
    "duration": 16,
    "start_time": "2021-11-07T09:50:59.767Z"
   },
   {
    "duration": 19,
    "start_time": "2021-11-07T09:50:59.785Z"
   },
   {
    "duration": 9,
    "start_time": "2021-11-07T09:50:59.807Z"
   },
   {
    "duration": 12,
    "start_time": "2021-11-07T09:50:59.818Z"
   },
   {
    "duration": 8,
    "start_time": "2021-11-07T09:50:59.860Z"
   },
   {
    "duration": 8,
    "start_time": "2021-11-07T09:50:59.870Z"
   },
   {
    "duration": 9,
    "start_time": "2021-11-07T09:50:59.880Z"
   },
   {
    "duration": 23,
    "start_time": "2021-11-07T09:50:59.891Z"
   },
   {
    "duration": 49,
    "start_time": "2021-11-07T09:50:59.916Z"
   },
   {
    "duration": 419,
    "start_time": "2021-11-07T09:50:59.967Z"
   },
   {
    "duration": 8,
    "start_time": "2021-11-07T09:51:00.388Z"
   },
   {
    "duration": 837,
    "start_time": "2021-11-07T09:51:00.400Z"
   },
   {
    "duration": 6,
    "start_time": "2021-11-07T09:51:01.240Z"
   },
   {
    "duration": 1043,
    "start_time": "2021-11-07T09:51:01.259Z"
   },
   {
    "duration": 7,
    "start_time": "2021-11-07T09:51:02.304Z"
   },
   {
    "duration": 719,
    "start_time": "2021-11-07T09:51:02.314Z"
   },
   {
    "duration": 32,
    "start_time": "2021-11-07T09:51:03.035Z"
   },
   {
    "duration": 372,
    "start_time": "2021-11-07T09:51:03.070Z"
   },
   {
    "duration": 14,
    "start_time": "2021-11-07T09:51:03.445Z"
   },
   {
    "duration": 410,
    "start_time": "2021-11-07T09:51:03.462Z"
   },
   {
    "duration": 7,
    "start_time": "2021-11-07T09:51:03.875Z"
   },
   {
    "duration": 14,
    "start_time": "2021-11-07T09:51:03.885Z"
   },
   {
    "duration": 63,
    "start_time": "2021-11-07T09:51:03.902Z"
   },
   {
    "duration": 29,
    "start_time": "2021-11-07T09:51:03.968Z"
   },
   {
    "duration": 474,
    "start_time": "2021-11-07T09:51:04.000Z"
   },
   {
    "duration": 184,
    "start_time": "2021-11-07T09:51:04.292Z"
   },
   {
    "duration": 182,
    "start_time": "2021-11-07T09:51:04.295Z"
   },
   {
    "duration": 1416,
    "start_time": "2021-11-07T09:51:56.488Z"
   },
   {
    "duration": 4,
    "start_time": "2021-11-07T09:51:57.907Z"
   },
   {
    "duration": 82,
    "start_time": "2021-11-07T09:51:57.913Z"
   },
   {
    "duration": 15,
    "start_time": "2021-11-07T09:51:57.997Z"
   },
   {
    "duration": 9,
    "start_time": "2021-11-07T09:51:58.014Z"
   },
   {
    "duration": 6,
    "start_time": "2021-11-07T09:51:58.025Z"
   },
   {
    "duration": 13,
    "start_time": "2021-11-07T09:51:58.033Z"
   },
   {
    "duration": 11,
    "start_time": "2021-11-07T09:51:58.050Z"
   },
   {
    "duration": 8,
    "start_time": "2021-11-07T09:51:58.064Z"
   },
   {
    "duration": 9,
    "start_time": "2021-11-07T09:51:58.074Z"
   },
   {
    "duration": 6,
    "start_time": "2021-11-07T09:51:58.085Z"
   },
   {
    "duration": 13,
    "start_time": "2021-11-07T09:51:58.094Z"
   },
   {
    "duration": 61,
    "start_time": "2021-11-07T09:51:58.109Z"
   },
   {
    "duration": 11,
    "start_time": "2021-11-07T09:51:58.172Z"
   },
   {
    "duration": 12,
    "start_time": "2021-11-07T09:51:58.185Z"
   },
   {
    "duration": 9,
    "start_time": "2021-11-07T09:51:58.200Z"
   },
   {
    "duration": 53,
    "start_time": "2021-11-07T09:51:58.212Z"
   },
   {
    "duration": 7,
    "start_time": "2021-11-07T09:51:58.268Z"
   },
   {
    "duration": 24,
    "start_time": "2021-11-07T09:51:58.277Z"
   },
   {
    "duration": 15,
    "start_time": "2021-11-07T09:51:58.304Z"
   },
   {
    "duration": 441,
    "start_time": "2021-11-07T09:51:58.321Z"
   },
   {
    "duration": 9,
    "start_time": "2021-11-07T09:51:58.765Z"
   },
   {
    "duration": 782,
    "start_time": "2021-11-07T09:51:58.781Z"
   },
   {
    "duration": 7,
    "start_time": "2021-11-07T09:51:59.566Z"
   },
   {
    "duration": 702,
    "start_time": "2021-11-07T09:51:59.575Z"
   },
   {
    "duration": 7,
    "start_time": "2021-11-07T09:52:00.279Z"
   },
   {
    "duration": 756,
    "start_time": "2021-11-07T09:52:00.289Z"
   },
   {
    "duration": 25,
    "start_time": "2021-11-07T09:52:01.047Z"
   },
   {
    "duration": 390,
    "start_time": "2021-11-07T09:52:01.075Z"
   },
   {
    "duration": 5,
    "start_time": "2021-11-07T09:52:01.468Z"
   },
   {
    "duration": 387,
    "start_time": "2021-11-07T09:52:01.475Z"
   },
   {
    "duration": 5,
    "start_time": "2021-11-07T09:52:01.864Z"
   },
   {
    "duration": 23,
    "start_time": "2021-11-07T09:52:01.871Z"
   },
   {
    "duration": 31,
    "start_time": "2021-11-07T09:52:01.897Z"
   },
   {
    "duration": 40,
    "start_time": "2021-11-07T09:52:01.931Z"
   },
   {
    "duration": 547,
    "start_time": "2021-11-07T09:52:01.973Z"
   },
   {
    "duration": 293,
    "start_time": "2021-11-07T09:52:02.231Z"
   },
   {
    "duration": 289,
    "start_time": "2021-11-07T09:52:02.237Z"
   },
   {
    "duration": 407,
    "start_time": "2021-11-07T10:03:55.399Z"
   },
   {
    "duration": 1480,
    "start_time": "2021-11-07T10:04:19.662Z"
   },
   {
    "duration": 4,
    "start_time": "2021-11-07T10:04:21.145Z"
   },
   {
    "duration": 117,
    "start_time": "2021-11-07T10:04:21.160Z"
   },
   {
    "duration": 18,
    "start_time": "2021-11-07T10:04:21.280Z"
   },
   {
    "duration": 16,
    "start_time": "2021-11-07T10:04:21.301Z"
   },
   {
    "duration": 19,
    "start_time": "2021-11-07T10:04:21.320Z"
   },
   {
    "duration": 22,
    "start_time": "2021-11-07T10:04:21.342Z"
   },
   {
    "duration": 30,
    "start_time": "2021-11-07T10:04:21.369Z"
   },
   {
    "duration": 22,
    "start_time": "2021-11-07T10:04:21.404Z"
   },
   {
    "duration": 15,
    "start_time": "2021-11-07T10:04:21.430Z"
   },
   {
    "duration": 12,
    "start_time": "2021-11-07T10:04:21.448Z"
   },
   {
    "duration": 26,
    "start_time": "2021-11-07T10:04:21.463Z"
   },
   {
    "duration": 18,
    "start_time": "2021-11-07T10:04:21.492Z"
   },
   {
    "duration": 10,
    "start_time": "2021-11-07T10:04:21.512Z"
   },
   {
    "duration": 45,
    "start_time": "2021-11-07T10:04:21.524Z"
   },
   {
    "duration": 12,
    "start_time": "2021-11-07T10:04:21.572Z"
   },
   {
    "duration": 20,
    "start_time": "2021-11-07T10:04:21.587Z"
   },
   {
    "duration": 8,
    "start_time": "2021-11-07T10:04:21.609Z"
   },
   {
    "duration": 43,
    "start_time": "2021-11-07T10:04:21.625Z"
   },
   {
    "duration": 17,
    "start_time": "2021-11-07T10:04:21.671Z"
   },
   {
    "duration": 440,
    "start_time": "2021-11-07T10:04:21.691Z"
   },
   {
    "duration": 8,
    "start_time": "2021-11-07T10:04:22.134Z"
   },
   {
    "duration": 1006,
    "start_time": "2021-11-07T10:04:22.159Z"
   },
   {
    "duration": 7,
    "start_time": "2021-11-07T10:04:23.168Z"
   },
   {
    "duration": 691,
    "start_time": "2021-11-07T10:04:23.177Z"
   },
   {
    "duration": 6,
    "start_time": "2021-11-07T10:04:23.870Z"
   },
   {
    "duration": 803,
    "start_time": "2021-11-07T10:04:23.878Z"
   },
   {
    "duration": 16,
    "start_time": "2021-11-07T10:04:24.683Z"
   },
   {
    "duration": 365,
    "start_time": "2021-11-07T10:04:24.701Z"
   },
   {
    "duration": 6,
    "start_time": "2021-11-07T10:04:25.068Z"
   },
   {
    "duration": 392,
    "start_time": "2021-11-07T10:04:25.076Z"
   },
   {
    "duration": 7,
    "start_time": "2021-11-07T10:04:25.470Z"
   },
   {
    "duration": 11,
    "start_time": "2021-11-07T10:04:25.479Z"
   },
   {
    "duration": 487,
    "start_time": "2021-11-07T10:04:25.492Z"
   },
   {
    "duration": 271,
    "start_time": "2021-11-07T10:04:25.711Z"
   },
   {
    "duration": 269,
    "start_time": "2021-11-07T10:04:25.714Z"
   },
   {
    "duration": 267,
    "start_time": "2021-11-07T10:04:25.719Z"
   },
   {
    "duration": 265,
    "start_time": "2021-11-07T10:04:25.723Z"
   },
   {
    "duration": 1457,
    "start_time": "2021-11-07T10:06:00.876Z"
   },
   {
    "duration": 4,
    "start_time": "2021-11-07T10:06:02.336Z"
   },
   {
    "duration": 95,
    "start_time": "2021-11-07T10:06:02.344Z"
   },
   {
    "duration": 18,
    "start_time": "2021-11-07T10:06:02.442Z"
   },
   {
    "duration": 16,
    "start_time": "2021-11-07T10:06:02.462Z"
   },
   {
    "duration": 14,
    "start_time": "2021-11-07T10:06:02.481Z"
   },
   {
    "duration": 14,
    "start_time": "2021-11-07T10:06:02.498Z"
   },
   {
    "duration": 9,
    "start_time": "2021-11-07T10:06:02.517Z"
   },
   {
    "duration": 10,
    "start_time": "2021-11-07T10:06:02.559Z"
   },
   {
    "duration": 14,
    "start_time": "2021-11-07T10:06:02.571Z"
   },
   {
    "duration": 7,
    "start_time": "2021-11-07T10:06:02.588Z"
   },
   {
    "duration": 15,
    "start_time": "2021-11-07T10:06:02.597Z"
   },
   {
    "duration": 14,
    "start_time": "2021-11-07T10:06:02.614Z"
   },
   {
    "duration": 10,
    "start_time": "2021-11-07T10:06:02.660Z"
   },
   {
    "duration": 12,
    "start_time": "2021-11-07T10:06:02.673Z"
   },
   {
    "duration": 17,
    "start_time": "2021-11-07T10:06:02.687Z"
   },
   {
    "duration": 8,
    "start_time": "2021-11-07T10:06:02.706Z"
   },
   {
    "duration": 44,
    "start_time": "2021-11-07T10:06:02.716Z"
   },
   {
    "duration": 23,
    "start_time": "2021-11-07T10:06:02.762Z"
   },
   {
    "duration": 16,
    "start_time": "2021-11-07T10:06:02.787Z"
   },
   {
    "duration": 791,
    "start_time": "2021-11-07T10:06:02.806Z"
   },
   {
    "duration": 8,
    "start_time": "2021-11-07T10:06:03.599Z"
   },
   {
    "duration": 742,
    "start_time": "2021-11-07T10:06:03.611Z"
   },
   {
    "duration": 7,
    "start_time": "2021-11-07T10:06:04.360Z"
   },
   {
    "duration": 689,
    "start_time": "2021-11-07T10:06:04.370Z"
   },
   {
    "duration": 7,
    "start_time": "2021-11-07T10:06:05.061Z"
   },
   {
    "duration": 739,
    "start_time": "2021-11-07T10:06:05.071Z"
   },
   {
    "duration": 15,
    "start_time": "2021-11-07T10:06:05.812Z"
   },
   {
    "duration": 413,
    "start_time": "2021-11-07T10:06:05.829Z"
   },
   {
    "duration": 5,
    "start_time": "2021-11-07T10:06:06.245Z"
   },
   {
    "duration": 394,
    "start_time": "2021-11-07T10:06:06.260Z"
   },
   {
    "duration": 6,
    "start_time": "2021-11-07T10:06:06.656Z"
   },
   {
    "duration": 16,
    "start_time": "2021-11-07T10:06:06.664Z"
   },
   {
    "duration": 425,
    "start_time": "2021-11-07T10:06:06.683Z"
   },
   {
    "duration": 25,
    "start_time": "2021-11-07T10:06:07.111Z"
   },
   {
    "duration": 494,
    "start_time": "2021-11-07T10:06:07.139Z"
   },
   {
    "duration": 284,
    "start_time": "2021-11-07T10:06:07.353Z"
   },
   {
    "duration": 280,
    "start_time": "2021-11-07T10:06:07.358Z"
   },
   {
    "duration": 135,
    "start_time": "2021-11-07T10:51:47.437Z"
   },
   {
    "duration": 13,
    "start_time": "2021-11-07T10:52:09.181Z"
   },
   {
    "duration": 6,
    "start_time": "2021-11-07T11:00:00.653Z"
   },
   {
    "duration": 359,
    "start_time": "2021-11-07T11:06:23.173Z"
   },
   {
    "duration": 711,
    "start_time": "2021-11-07T11:06:29.861Z"
   },
   {
    "duration": 9902,
    "start_time": "2021-11-07T11:07:18.955Z"
   },
   {
    "duration": 54,
    "start_time": "2021-11-07T11:07:28.805Z"
   },
   {
    "duration": 16,
    "start_time": "2021-11-07T11:08:01.454Z"
   },
   {
    "duration": 15,
    "start_time": "2021-11-07T11:08:06.533Z"
   },
   {
    "duration": 8,
    "start_time": "2021-11-07T11:08:43.380Z"
   },
   {
    "duration": 770,
    "start_time": "2021-11-07T11:10:17.694Z"
   },
   {
    "duration": 15,
    "start_time": "2021-11-07T11:12:28.985Z"
   },
   {
    "duration": 700,
    "start_time": "2021-11-07T11:12:36.260Z"
   },
   {
    "duration": 12,
    "start_time": "2021-11-07T11:18:37.758Z"
   },
   {
    "duration": 724,
    "start_time": "2021-11-07T11:18:42.835Z"
   },
   {
    "duration": 8,
    "start_time": "2021-11-07T11:20:30.104Z"
   },
   {
    "duration": 699,
    "start_time": "2021-11-07T11:22:31.954Z"
   },
   {
    "duration": 9,
    "start_time": "2021-11-07T11:25:28.116Z"
   },
   {
    "duration": 745,
    "start_time": "2021-11-07T11:25:37.020Z"
   },
   {
    "duration": 7,
    "start_time": "2021-11-07T11:26:44.792Z"
   },
   {
    "duration": 763,
    "start_time": "2021-11-07T11:26:51.435Z"
   },
   {
    "duration": 382,
    "start_time": "2021-11-07T11:38:32.228Z"
   },
   {
    "duration": 17,
    "start_time": "2021-11-07T11:39:13.744Z"
   },
   {
    "duration": 14,
    "start_time": "2021-11-07T11:39:31.293Z"
   },
   {
    "duration": 14,
    "start_time": "2021-11-07T11:39:37.380Z"
   },
   {
    "duration": 11,
    "start_time": "2021-11-07T11:40:54.348Z"
   },
   {
    "duration": 7,
    "start_time": "2021-11-07T11:57:18.035Z"
   },
   {
    "duration": 16,
    "start_time": "2021-11-07T11:58:14.453Z"
   },
   {
    "duration": 9,
    "start_time": "2021-11-07T11:58:23.385Z"
   },
   {
    "duration": 93,
    "start_time": "2021-11-07T11:58:45.666Z"
   },
   {
    "duration": 9,
    "start_time": "2021-11-07T12:00:14.316Z"
   },
   {
    "duration": 8,
    "start_time": "2021-11-07T12:00:25.988Z"
   },
   {
    "duration": 812,
    "start_time": "2021-11-07T12:00:28.415Z"
   },
   {
    "duration": 730,
    "start_time": "2021-11-07T12:01:01.306Z"
   },
   {
    "duration": 695,
    "start_time": "2021-11-07T12:01:14.076Z"
   },
   {
    "duration": 12,
    "start_time": "2021-11-07T12:11:06.740Z"
   },
   {
    "duration": 10411,
    "start_time": "2021-11-07T12:19:11.624Z"
   },
   {
    "duration": 663,
    "start_time": "2021-11-07T12:20:10.674Z"
   },
   {
    "duration": 1519,
    "start_time": "2021-11-07T12:28:53.433Z"
   },
   {
    "duration": 6,
    "start_time": "2021-11-07T12:28:54.954Z"
   },
   {
    "duration": 120,
    "start_time": "2021-11-07T12:28:54.964Z"
   },
   {
    "duration": 24,
    "start_time": "2021-11-07T12:28:55.088Z"
   },
   {
    "duration": 10,
    "start_time": "2021-11-07T12:28:55.116Z"
   },
   {
    "duration": 19,
    "start_time": "2021-11-07T12:28:55.128Z"
   },
   {
    "duration": 24,
    "start_time": "2021-11-07T12:28:55.150Z"
   },
   {
    "duration": 19,
    "start_time": "2021-11-07T12:28:55.181Z"
   },
   {
    "duration": 20,
    "start_time": "2021-11-07T12:28:55.205Z"
   },
   {
    "duration": 37,
    "start_time": "2021-11-07T12:28:55.229Z"
   },
   {
    "duration": 9,
    "start_time": "2021-11-07T12:28:55.270Z"
   },
   {
    "duration": 28,
    "start_time": "2021-11-07T12:28:55.283Z"
   },
   {
    "duration": 51,
    "start_time": "2021-11-07T12:28:55.315Z"
   },
   {
    "duration": 14,
    "start_time": "2021-11-07T12:28:55.369Z"
   },
   {
    "duration": 31,
    "start_time": "2021-11-07T12:28:55.386Z"
   },
   {
    "duration": 22,
    "start_time": "2021-11-07T12:28:55.420Z"
   },
   {
    "duration": 14,
    "start_time": "2021-11-07T12:28:55.445Z"
   },
   {
    "duration": 15,
    "start_time": "2021-11-07T12:28:55.462Z"
   },
   {
    "duration": 27,
    "start_time": "2021-11-07T12:28:55.480Z"
   },
   {
    "duration": 16,
    "start_time": "2021-11-07T12:28:55.511Z"
   },
   {
    "duration": 433,
    "start_time": "2021-11-07T12:28:55.530Z"
   },
   {
    "duration": 8,
    "start_time": "2021-11-07T12:28:55.966Z"
   },
   {
    "duration": 9,
    "start_time": "2021-11-07T12:28:55.979Z"
   },
   {
    "duration": 793,
    "start_time": "2021-11-07T12:28:55.991Z"
   },
   {
    "duration": 6,
    "start_time": "2021-11-07T12:28:56.787Z"
   },
   {
    "duration": 768,
    "start_time": "2021-11-07T12:28:56.796Z"
   },
   {
    "duration": 20,
    "start_time": "2021-11-07T12:28:57.568Z"
   },
   {
    "duration": 477,
    "start_time": "2021-11-07T12:28:57.591Z"
   },
   {
    "duration": 7,
    "start_time": "2021-11-07T12:28:58.071Z"
   },
   {
    "duration": 405,
    "start_time": "2021-11-07T12:28:58.080Z"
   },
   {
    "duration": 7,
    "start_time": "2021-11-07T12:28:58.487Z"
   },
   {
    "duration": 16,
    "start_time": "2021-11-07T12:28:58.497Z"
   },
   {
    "duration": 463,
    "start_time": "2021-11-07T12:28:58.515Z"
   },
   {
    "duration": 8,
    "start_time": "2021-11-07T12:28:58.982Z"
   },
   {
    "duration": 18,
    "start_time": "2021-11-07T12:28:58.993Z"
   },
   {
    "duration": 9,
    "start_time": "2021-11-07T12:28:59.014Z"
   },
   {
    "duration": 740,
    "start_time": "2021-11-07T12:28:59.026Z"
   },
   {
    "duration": 11,
    "start_time": "2021-11-07T12:28:59.769Z"
   },
   {
    "duration": 7,
    "start_time": "2021-11-07T12:28:59.782Z"
   },
   {
    "duration": 23,
    "start_time": "2021-11-07T12:28:59.792Z"
   },
   {
    "duration": 8,
    "start_time": "2021-11-07T12:28:59.818Z"
   },
   {
    "duration": 1305,
    "start_time": "2021-11-07T12:28:59.861Z"
   },
   {
    "duration": 776,
    "start_time": "2021-11-07T12:29:01.170Z"
   },
   {
    "duration": 13,
    "start_time": "2021-11-07T12:31:52.876Z"
   },
   {
    "duration": 2229,
    "start_time": "2021-11-07T12:33:17.579Z"
   },
   {
    "duration": 6,
    "start_time": "2021-11-07T12:33:19.813Z"
   },
   {
    "duration": 170,
    "start_time": "2021-11-07T12:33:19.824Z"
   },
   {
    "duration": 77,
    "start_time": "2021-11-07T12:33:19.999Z"
   },
   {
    "duration": 16,
    "start_time": "2021-11-07T12:33:20.080Z"
   },
   {
    "duration": 10,
    "start_time": "2021-11-07T12:33:20.100Z"
   },
   {
    "duration": 16,
    "start_time": "2021-11-07T12:33:20.112Z"
   },
   {
    "duration": 34,
    "start_time": "2021-11-07T12:33:20.131Z"
   },
   {
    "duration": 9,
    "start_time": "2021-11-07T12:33:20.169Z"
   },
   {
    "duration": 13,
    "start_time": "2021-11-07T12:33:20.181Z"
   },
   {
    "duration": 6,
    "start_time": "2021-11-07T12:33:20.197Z"
   },
   {
    "duration": 15,
    "start_time": "2021-11-07T12:33:20.206Z"
   },
   {
    "duration": 16,
    "start_time": "2021-11-07T12:33:20.261Z"
   },
   {
    "duration": 13,
    "start_time": "2021-11-07T12:33:20.279Z"
   },
   {
    "duration": 10,
    "start_time": "2021-11-07T12:33:20.296Z"
   },
   {
    "duration": 52,
    "start_time": "2021-11-07T12:33:20.309Z"
   },
   {
    "duration": 6,
    "start_time": "2021-11-07T12:33:20.364Z"
   },
   {
    "duration": 16,
    "start_time": "2021-11-07T12:33:20.373Z"
   },
   {
    "duration": 29,
    "start_time": "2021-11-07T12:33:20.392Z"
   },
   {
    "duration": 16,
    "start_time": "2021-11-07T12:33:20.460Z"
   },
   {
    "duration": 438,
    "start_time": "2021-11-07T12:33:20.479Z"
   },
   {
    "duration": 7,
    "start_time": "2021-11-07T12:33:20.920Z"
   },
   {
    "duration": 9,
    "start_time": "2021-11-07T12:33:20.930Z"
   },
   {
    "duration": 844,
    "start_time": "2021-11-07T12:33:20.959Z"
   },
   {
    "duration": 7,
    "start_time": "2021-11-07T12:33:21.805Z"
   },
   {
    "duration": 734,
    "start_time": "2021-11-07T12:33:21.814Z"
   },
   {
    "duration": 19,
    "start_time": "2021-11-07T12:33:22.553Z"
   },
   {
    "duration": 380,
    "start_time": "2021-11-07T12:33:22.575Z"
   },
   {
    "duration": 5,
    "start_time": "2021-11-07T12:33:22.957Z"
   },
   {
    "duration": 405,
    "start_time": "2021-11-07T12:33:22.965Z"
   },
   {
    "duration": 6,
    "start_time": "2021-11-07T12:33:23.373Z"
   },
   {
    "duration": 13,
    "start_time": "2021-11-07T12:33:23.382Z"
   },
   {
    "duration": 435,
    "start_time": "2021-11-07T12:33:23.397Z"
   },
   {
    "duration": 7,
    "start_time": "2021-11-07T12:33:23.834Z"
   },
   {
    "duration": 18,
    "start_time": "2021-11-07T12:33:23.860Z"
   },
   {
    "duration": 7,
    "start_time": "2021-11-07T12:33:23.881Z"
   },
   {
    "duration": 773,
    "start_time": "2021-11-07T12:33:23.891Z"
   },
   {
    "duration": 16,
    "start_time": "2021-11-07T12:33:24.668Z"
   },
   {
    "duration": 10,
    "start_time": "2021-11-07T12:33:24.687Z"
   },
   {
    "duration": 28,
    "start_time": "2021-11-07T12:33:24.701Z"
   },
   {
    "duration": 36,
    "start_time": "2021-11-07T12:33:24.732Z"
   },
   {
    "duration": 1321,
    "start_time": "2021-11-07T12:33:24.772Z"
   },
   {
    "duration": 1132,
    "start_time": "2021-11-07T12:33:26.096Z"
   },
   {
    "duration": 11,
    "start_time": "2021-11-07T12:34:24.861Z"
   },
   {
    "duration": 765,
    "start_time": "2021-11-07T12:34:28.514Z"
   },
   {
    "duration": 826,
    "start_time": "2021-11-07T12:34:59.384Z"
   }
  ],
  "kernelspec": {
   "display_name": "Python 3 (ipykernel)",
   "language": "python",
   "name": "python3"
  },
  "language_info": {
   "codemirror_mode": {
    "name": "ipython",
    "version": 3
   },
   "file_extension": ".py",
   "mimetype": "text/x-python",
   "name": "python",
   "nbconvert_exporter": "python",
   "pygments_lexer": "ipython3",
   "version": "3.9.13"
  },
  "toc": {
   "base_numbering": 1,
   "nav_menu": {},
   "number_sections": true,
   "sideBar": true,
   "skip_h1_title": true,
   "title_cell": "Table of Contents",
   "title_sidebar": "Contents",
   "toc_cell": false,
   "toc_position": {},
   "toc_section_display": true,
   "toc_window_display": false
  }
 },
 "nbformat": 4,
 "nbformat_minor": 2
}
