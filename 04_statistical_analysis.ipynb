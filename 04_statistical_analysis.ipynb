{
 "cells": [
  {
   "cell_type": "markdown",
   "metadata": {},
   "source": [
    "# Определение перспективного тарифа для телеком компании"
   ]
  },
  {
   "cell_type": "markdown",
   "metadata": {},
   "source": [
    "**Учебная работа. Самостоятельный исследовательский проект в рамках курса \"Аналитик данных\" Яндекс.Практикума  \n",
    "Спринт 4 \"Статистический анализ данных\"**"
   ]
  },
  {
   "cell_type": "markdown",
   "metadata": {},
   "source": [
    "## Общая информация о проекте\n",
    "### Описание задания\n",
    "Необходимо изучить и сравнить два тарифных плана компании «Мегалайн» — федерального оператора сотовой связи: «Смарт» и «Ультра». Для анализа доступна выборка данных: 500 пользователей «Мегалайна».\n",
    "\n",
    "###  Цель\n",
    "Выяснить, различается ли средняя выручка пользователей тарифов «Ультра» и «Смарт» и средняя выручка пользователей из Москвы и из других регионов.\n",
    "\n",
    "###  Задачи\n",
    "1. Подготовить данные: найти и удалить дублирующиеся данные, найти и обработать пропущенные значения, найти и исправить ошибки в данных.\n",
    "2. Рассчитать и добавить в таблицу параметры, которые понадобятся для сравнения двух тарифов (количество сделанных звонков и израсходованных минут разговора, количество отправленных сообщений, объем израсходованного интернет-трафика по месяцам, помесячную выручку с каждого пользователя).\n",
    "3. Проанализировать  поведение клиентов оператора, исходя из выборки.\n",
    "4. Ответить на вопросы исследования (проверить гипотезы).\n",
    "5. Описать и оформить результаты.\n",
    "\n",
    "### Гипотезы\n",
    "1. Средняя выручка пользователей тарифов «Ультра» и «Смарт» различаются;\n",
    "2. Средняя выручка пользователи из Москвы отличается от выручки пользователей из других регионов.\n",
    "\n",
    "###  Данные\n",
    "Архив объявлений о продаже квартир получен в виде пяти файлов:\n",
    "   calls.csv \n",
    "   internet.csv\n",
    "   messages.csv\n",
    "   tariffs.csv\n",
    "   users.csv\n",
    "\n",
    "###  Описание данных\n",
    "Таблица `users` (информация о пользователях):  \n",
    "`user_id` — уникальный идентификатор пользователя  \n",
    "`first_name` — имя пользователя  \n",
    "`last_name` — фамилия пользователя  \n",
    "`age` — возраст пользователя (годы)  \n",
    "`reg_date` — дата подключения тарифа (день, месяц, год)  \n",
    "`churn_date` — дата прекращения пользования тарифом (если значение пропущено, то тариф ещё действовал на момент выгрузки данных)  \n",
    "`city` — город проживания пользователя  \n",
    "`tarif` — название тарифного плана  \n",
    "  \n",
    "Таблица `calls` (информация о звонках):  \n",
    "`id` — уникальный номер звонка  \n",
    "`call_date` — дата звонка  \n",
    "`duration` — длительность звонка в минутах  \n",
    "`user_id` — идентификатор пользователя, сделавшего звонок  \n",
    "  \n",
    "Таблица `messages` (информация о сообщениях):  \n",
    "`id` — уникальный номер сообщения  \n",
    "`message_date` — дата сообщения  \n",
    "`user_id` — идентификатор пользователя, отправившего сообщение  \n",
    "  \n",
    "Таблица `internet` (информация об интернет-сессиях):  \n",
    "`id` — уникальный номер сессии  \n",
    "`mb_used` — объём потраченного за сессию интернет-трафика (в мегабайтах)  \n",
    "`session_date` — дата интернет-сессии  \n",
    "`user_id` — идентификатор пользователя  \n",
    "  \n",
    "Таблица `tariffs` (информация о тарифах):  \n",
    "`tariff_name` — название тарифа  \n",
    "`rub_monthly_fee` — ежемесячная абонентская плата в рублях  \n",
    "`minutes_included` — количество минут разговора в месяц, включённых в абонентскую плату  \n",
    "`messages_included` — количество сообщений в месяц, включённых в абонентскую плату  \n",
    "`mb_per_month_included` — объём интернет-трафика, включённого в абонентскую плату (в мегабайтах)  \n",
    "`rub_per_minute` — стоимость минуты разговора сверх тарифного пакета (например, если в тарифе 100 минут разговора в месяц, то со 101 минуты будет взиматься плата)  \n",
    "`rub_per_message` — стоимость отправки сообщения сверх тарифного пакета  \n",
    "`rub_per_gb` — стоимость дополнительного гигабайта интернет-трафика сверх тарифного пакета (1 гигабайт = 1024 мегабайта)  "
   ]
  },
  {
   "cell_type": "markdown",
   "metadata": {},
   "source": [
    "### План работы  \n",
    "1. Изучить данные по каждому столбцу. Выявить аномалии, исправить ошибки и по возможности заполнить пропуски. При необходимости изменить тип данных в столбце.\n",
    "2. Проверить данные на наличие дубликатов.\n",
    "3. Создать таблицу `data`, рассчитать и добавить в неё недостающие параметры (количество сделанных звонков и израсходованных минут разговора, количество отправленных сообщений, объем израсходованного интернет-трафика по месяцам, помесячную выручку с каждого пользователя).\n",
    "4. Проанализировать и описать особенности поведения клиентов на каждом из тарифных планов.\n",
    "5. Ответить на вопросы исследования (проверить гипотезы).\n",
    "6. Описать полученные выводы."
   ]
  },
  {
   "cell_type": "markdown",
   "metadata": {},
   "source": [
    "## Загрузка и обзор данных"
   ]
  },
  {
   "cell_type": "markdown",
   "metadata": {},
   "source": [
    "Загружаем библиотеки:"
   ]
  },
  {
   "cell_type": "code",
   "execution_count": 1,
   "metadata": {},
   "outputs": [],
   "source": [
    "import pandas as pd\n",
    "import numpy as np\n",
    "import matplotlib.pyplot as plt\n",
    "from scipy import stats as st\n",
    "import math"
   ]
  },
  {
   "cell_type": "markdown",
   "metadata": {},
   "source": [
    "Создаём библиотеку стилей"
   ]
  },
  {
   "cell_type": "code",
   "execution_count": 2,
   "metadata": {},
   "outputs": [],
   "source": [
    "class color:\n",
    "   PURPLE = '\\033[95m'\n",
    "   CYAN = '\\033[96m'\n",
    "   DARKCYAN = '\\033[36m'\n",
    "   BLUE = '\\033[94m'\n",
    "   GREEN = '\\033[92m'\n",
    "   YELLOW = '\\033[93m'\n",
    "   RED = '\\033[91m'\n",
    "   BOLD = '\\033[1m'\n",
    "   UNDERLINE = '\\033[4m'\n",
    "   END = '\\033[0m'\n",
    "        "
   ]
  },
  {
   "cell_type": "markdown",
   "metadata": {},
   "source": [
    "### Информация о клиентах\n",
    "\n",
    "Загружаем файл `users`:"
   ]
  },
  {
   "cell_type": "code",
   "execution_count": 3,
   "metadata": {},
   "outputs": [],
   "source": [
    "users = pd.read_csv('/datasets/users.csv')"
   ]
  },
  {
   "cell_type": "markdown",
   "metadata": {},
   "source": [
    "Просматриваем информацию о столбцах:"
   ]
  },
  {
   "cell_type": "code",
   "execution_count": 4,
   "metadata": {},
   "outputs": [
    {
     "name": "stdout",
     "output_type": "stream",
     "text": [
      "<class 'pandas.core.frame.DataFrame'>\n",
      "RangeIndex: 500 entries, 0 to 499\n",
      "Data columns (total 8 columns):\n",
      "user_id       500 non-null int64\n",
      "age           500 non-null int64\n",
      "churn_date    38 non-null object\n",
      "city          500 non-null object\n",
      "first_name    500 non-null object\n",
      "last_name     500 non-null object\n",
      "reg_date      500 non-null object\n",
      "tariff        500 non-null object\n",
      "dtypes: int64(2), object(6)\n",
      "memory usage: 31.4+ KB\n"
     ]
    }
   ],
   "source": [
    "users.info()"
   ]
  },
  {
   "cell_type": "markdown",
   "metadata": {},
   "source": [
    "Пропусков нет. В столбце `churn_date` всего 38 строк, но мы знаем, что это дата окончания использования тарифа, то есть пропуски означают, что клиент пользуется этим тарифом на момент выгрузки данных.\n",
    "\n",
    "У нескольких столбцов нужно изменить тип данных:  \n",
    "- `user_id` с целочисленного на вещественный;\n",
    "- `churn_date` с вещественного на дату;\n",
    "- `reg_date ` с вещественного на дату."
   ]
  },
  {
   "cell_type": "markdown",
   "metadata": {},
   "source": [
    "### Инфонрмация о звонках\n",
    "\n",
    "Загружаем файл `calls` и просматриваем информацию о столбцах:"
   ]
  },
  {
   "cell_type": "code",
   "execution_count": 5,
   "metadata": {},
   "outputs": [
    {
     "name": "stdout",
     "output_type": "stream",
     "text": [
      "<class 'pandas.core.frame.DataFrame'>\n",
      "RangeIndex: 202607 entries, 0 to 202606\n",
      "Data columns (total 4 columns):\n",
      "id           202607 non-null object\n",
      "call_date    202607 non-null object\n",
      "duration     202607 non-null float64\n",
      "user_id      202607 non-null int64\n",
      "dtypes: float64(1), int64(1), object(2)\n",
      "memory usage: 6.2+ MB\n"
     ]
    }
   ],
   "source": [
    "calls = pd.read_csv('/datasets/calls.csv')\n",
    "calls.info()"
   ]
  },
  {
   "cell_type": "markdown",
   "metadata": {},
   "source": [
    "Пропусков нет.  \n",
    "Нужно изменить тип данных для столбцов:\n",
    "- `call_date` с вещественного на дату;\n",
    "- `user_id ` с целочисленного на вещественный.\n",
    "\n",
    "### Информация о сообщениях\n",
    "\n",
    "Загружаем файл `messages` и просматриваем информацию о столбцах:"
   ]
  },
  {
   "cell_type": "code",
   "execution_count": 6,
   "metadata": {},
   "outputs": [
    {
     "name": "stdout",
     "output_type": "stream",
     "text": [
      "<class 'pandas.core.frame.DataFrame'>\n",
      "RangeIndex: 123036 entries, 0 to 123035\n",
      "Data columns (total 3 columns):\n",
      "id              123036 non-null object\n",
      "message_date    123036 non-null object\n",
      "user_id         123036 non-null int64\n",
      "dtypes: int64(1), object(2)\n",
      "memory usage: 2.8+ MB\n"
     ]
    }
   ],
   "source": [
    "messages = pd.read_csv('/datasets/messages.csv')\n",
    "messages.info()"
   ]
  },
  {
   "cell_type": "markdown",
   "metadata": {},
   "source": [
    "Пропусков нет.  \n",
    "Нужно изменить тип данных для столбцов:\n",
    "- `message_date` с вещественного на дату;\n",
    "- `user_id ` с целочисленного на вещественный.\n",
    "\n",
    "### Информация об использованном трафике\n",
    "\n",
    "Загружаем файл `internet` и просматриваем информацию о столбцах:"
   ]
  },
  {
   "cell_type": "code",
   "execution_count": 7,
   "metadata": {},
   "outputs": [
    {
     "name": "stdout",
     "output_type": "stream",
     "text": [
      "<class 'pandas.core.frame.DataFrame'>\n",
      "RangeIndex: 149396 entries, 0 to 149395\n",
      "Data columns (total 5 columns):\n",
      "Unnamed: 0      149396 non-null int64\n",
      "id              149396 non-null object\n",
      "mb_used         149396 non-null float64\n",
      "session_date    149396 non-null object\n",
      "user_id         149396 non-null int64\n",
      "dtypes: float64(1), int64(2), object(2)\n",
      "memory usage: 5.7+ MB\n"
     ]
    }
   ],
   "source": [
    "internet = pd.read_csv('/datasets/internet.csv')\n",
    "internet.info()"
   ]
  },
  {
   "cell_type": "markdown",
   "metadata": {},
   "source": [
    "Пропусков нет. \n",
    "\n",
    "Нужно изменить тип данных для столбцов:\n",
    "- `session_date` с вещественного на дату;\n",
    "- `user_id ` с целочисленного на вещественный.\n",
    "  \n",
    "Есть дополнительный, не указанный в описании столбец `Unnamed`, нужно проверить, что в нём хранится. "
   ]
  },
  {
   "cell_type": "code",
   "execution_count": 8,
   "metadata": {},
   "outputs": [
    {
     "data": {
      "text/html": [
       "<div>\n",
       "<style scoped>\n",
       "    .dataframe tbody tr th:only-of-type {\n",
       "        vertical-align: middle;\n",
       "    }\n",
       "\n",
       "    .dataframe tbody tr th {\n",
       "        vertical-align: top;\n",
       "    }\n",
       "\n",
       "    .dataframe thead th {\n",
       "        text-align: right;\n",
       "    }\n",
       "</style>\n",
       "<table border=\"1\" class=\"dataframe\">\n",
       "  <thead>\n",
       "    <tr style=\"text-align: right;\">\n",
       "      <th></th>\n",
       "      <th>Unnamed: 0</th>\n",
       "      <th>id</th>\n",
       "      <th>mb_used</th>\n",
       "      <th>session_date</th>\n",
       "      <th>user_id</th>\n",
       "    </tr>\n",
       "  </thead>\n",
       "  <tbody>\n",
       "    <tr>\n",
       "      <td>0</td>\n",
       "      <td>0</td>\n",
       "      <td>1000_0</td>\n",
       "      <td>112.95</td>\n",
       "      <td>2018-11-25</td>\n",
       "      <td>1000</td>\n",
       "    </tr>\n",
       "    <tr>\n",
       "      <td>1</td>\n",
       "      <td>1</td>\n",
       "      <td>1000_1</td>\n",
       "      <td>1052.81</td>\n",
       "      <td>2018-09-07</td>\n",
       "      <td>1000</td>\n",
       "    </tr>\n",
       "    <tr>\n",
       "      <td>2</td>\n",
       "      <td>2</td>\n",
       "      <td>1000_2</td>\n",
       "      <td>1197.26</td>\n",
       "      <td>2018-06-25</td>\n",
       "      <td>1000</td>\n",
       "    </tr>\n",
       "    <tr>\n",
       "      <td>3</td>\n",
       "      <td>3</td>\n",
       "      <td>1000_3</td>\n",
       "      <td>550.27</td>\n",
       "      <td>2018-08-22</td>\n",
       "      <td>1000</td>\n",
       "    </tr>\n",
       "    <tr>\n",
       "      <td>4</td>\n",
       "      <td>4</td>\n",
       "      <td>1000_4</td>\n",
       "      <td>302.56</td>\n",
       "      <td>2018-09-24</td>\n",
       "      <td>1000</td>\n",
       "    </tr>\n",
       "  </tbody>\n",
       "</table>\n",
       "</div>"
      ],
      "text/plain": [
       "   Unnamed: 0      id  mb_used session_date  user_id\n",
       "0           0  1000_0   112.95   2018-11-25     1000\n",
       "1           1  1000_1  1052.81   2018-09-07     1000\n",
       "2           2  1000_2  1197.26   2018-06-25     1000\n",
       "3           3  1000_3   550.27   2018-08-22     1000\n",
       "4           4  1000_4   302.56   2018-09-24     1000"
      ]
     },
     "metadata": {},
     "output_type": "display_data"
    }
   ],
   "source": [
    "display(internet.head())"
   ]
  },
  {
   "cell_type": "markdown",
   "metadata": {},
   "source": [
    "Похлже, что в столбце `Unnamed` продублированы индексы. Это стоит проверить, если это так, его можно будет удалить.  \n",
    "\n",
    "### Информация о тарифах\n",
    "\n",
    "Загружаем файл `tariffs` и просматриваем информацию о столбцах:"
   ]
  },
  {
   "cell_type": "code",
   "execution_count": 9,
   "metadata": {},
   "outputs": [
    {
     "name": "stdout",
     "output_type": "stream",
     "text": [
      "<class 'pandas.core.frame.DataFrame'>\n",
      "RangeIndex: 2 entries, 0 to 1\n",
      "Data columns (total 8 columns):\n",
      "messages_included        2 non-null int64\n",
      "mb_per_month_included    2 non-null int64\n",
      "minutes_included         2 non-null int64\n",
      "rub_monthly_fee          2 non-null int64\n",
      "rub_per_gb               2 non-null int64\n",
      "rub_per_message          2 non-null int64\n",
      "rub_per_minute           2 non-null int64\n",
      "tariff_name              2 non-null object\n",
      "dtypes: int64(7), object(1)\n",
      "memory usage: 256.0+ bytes\n"
     ]
    }
   ],
   "source": [
    "tariffs = pd.read_csv('/datasets/tariffs.csv')\n",
    "tariffs.info()"
   ]
  },
  {
   "cell_type": "markdown",
   "metadata": {},
   "source": [
    "Пропусков нет, типы данных правильные.\n",
    "\n",
    "### Вывод  \n",
    "После первого знакомства с данными можно сказать о том, что:  \n",
    "- в данных нет пропусков, это хорошо.\n",
    "- в некоторых столбцах нужно исправить тип данных.\n",
    "- в одной из таблиц оказался лишний столбец, который, скорее всего, дублирует индексы."
   ]
  },
  {
   "cell_type": "markdown",
   "metadata": {},
   "source": [
    "## Предобработка данных"
   ]
  },
  {
   "cell_type": "markdown",
   "metadata": {},
   "source": [
    "В рамках предобработки данных мы последовательно подготовим каждую из таблиц к работе (проверим все столбцы на наличие ошибок и странных значений и исправим типы данных), рассчитаем недостающие параметры и добавим их в общую таблицу `data`.\n",
    "\n",
    "### Подготовка данных о пользователях\n",
    "Начнём с таблицы `users`. "
   ]
  },
  {
   "cell_type": "markdown",
   "metadata": {},
   "source": [
    "Изменим типы данных и сделаем проверку. Для этого распечатаем ещё раз информацию о таблице и первые 5 строк таблицы."
   ]
  },
  {
   "cell_type": "code",
   "execution_count": 10,
   "metadata": {},
   "outputs": [
    {
     "name": "stdout",
     "output_type": "stream",
     "text": [
      "<class 'pandas.core.frame.DataFrame'>\n",
      "RangeIndex: 500 entries, 0 to 499\n",
      "Data columns (total 8 columns):\n",
      "user_id       500 non-null int64\n",
      "age           500 non-null int64\n",
      "churn_date    38 non-null object\n",
      "city          500 non-null object\n",
      "first_name    500 non-null object\n",
      "last_name     500 non-null object\n",
      "reg_date      500 non-null object\n",
      "tariff        500 non-null object\n",
      "dtypes: int64(2), object(6)\n",
      "memory usage: 31.4+ KB\n"
     ]
    },
    {
     "data": {
      "text/html": [
       "<div>\n",
       "<style scoped>\n",
       "    .dataframe tbody tr th:only-of-type {\n",
       "        vertical-align: middle;\n",
       "    }\n",
       "\n",
       "    .dataframe tbody tr th {\n",
       "        vertical-align: top;\n",
       "    }\n",
       "\n",
       "    .dataframe thead th {\n",
       "        text-align: right;\n",
       "    }\n",
       "</style>\n",
       "<table border=\"1\" class=\"dataframe\">\n",
       "  <thead>\n",
       "    <tr style=\"text-align: right;\">\n",
       "      <th></th>\n",
       "      <th>user_id</th>\n",
       "      <th>age</th>\n",
       "      <th>churn_date</th>\n",
       "      <th>city</th>\n",
       "      <th>first_name</th>\n",
       "      <th>last_name</th>\n",
       "      <th>reg_date</th>\n",
       "      <th>tariff</th>\n",
       "    </tr>\n",
       "  </thead>\n",
       "  <tbody>\n",
       "    <tr>\n",
       "      <td>0</td>\n",
       "      <td>1000</td>\n",
       "      <td>52</td>\n",
       "      <td>NaN</td>\n",
       "      <td>Краснодар</td>\n",
       "      <td>Рафаил</td>\n",
       "      <td>Верещагин</td>\n",
       "      <td>2018-05-25</td>\n",
       "      <td>ultra</td>\n",
       "    </tr>\n",
       "    <tr>\n",
       "      <td>1</td>\n",
       "      <td>1001</td>\n",
       "      <td>41</td>\n",
       "      <td>NaN</td>\n",
       "      <td>Москва</td>\n",
       "      <td>Иван</td>\n",
       "      <td>Ежов</td>\n",
       "      <td>2018-11-01</td>\n",
       "      <td>smart</td>\n",
       "    </tr>\n",
       "    <tr>\n",
       "      <td>2</td>\n",
       "      <td>1002</td>\n",
       "      <td>59</td>\n",
       "      <td>NaN</td>\n",
       "      <td>Стерлитамак</td>\n",
       "      <td>Евгений</td>\n",
       "      <td>Абрамович</td>\n",
       "      <td>2018-06-17</td>\n",
       "      <td>smart</td>\n",
       "    </tr>\n",
       "    <tr>\n",
       "      <td>3</td>\n",
       "      <td>1003</td>\n",
       "      <td>23</td>\n",
       "      <td>NaN</td>\n",
       "      <td>Москва</td>\n",
       "      <td>Белла</td>\n",
       "      <td>Белякова</td>\n",
       "      <td>2018-08-17</td>\n",
       "      <td>ultra</td>\n",
       "    </tr>\n",
       "    <tr>\n",
       "      <td>4</td>\n",
       "      <td>1004</td>\n",
       "      <td>68</td>\n",
       "      <td>NaN</td>\n",
       "      <td>Новокузнецк</td>\n",
       "      <td>Татьяна</td>\n",
       "      <td>Авдеенко</td>\n",
       "      <td>2018-05-14</td>\n",
       "      <td>ultra</td>\n",
       "    </tr>\n",
       "  </tbody>\n",
       "</table>\n",
       "</div>"
      ],
      "text/plain": [
       "   user_id  age churn_date         city first_name  last_name    reg_date  \\\n",
       "0     1000   52        NaN    Краснодар     Рафаил  Верещагин  2018-05-25   \n",
       "1     1001   41        NaN       Москва       Иван       Ежов  2018-11-01   \n",
       "2     1002   59        NaN  Стерлитамак    Евгений  Абрамович  2018-06-17   \n",
       "3     1003   23        NaN       Москва      Белла   Белякова  2018-08-17   \n",
       "4     1004   68        NaN  Новокузнецк    Татьяна   Авдеенко  2018-05-14   \n",
       "\n",
       "  tariff  \n",
       "0  ultra  \n",
       "1  smart  \n",
       "2  smart  \n",
       "3  ultra  \n",
       "4  ultra  "
      ]
     },
     "metadata": {},
     "output_type": "display_data"
    }
   ],
   "source": [
    "users.info()\n",
    "display(users.head())"
   ]
  },
  {
   "cell_type": "code",
   "execution_count": 11,
   "metadata": {},
   "outputs": [
    {
     "name": "stdout",
     "output_type": "stream",
     "text": [
      "<class 'pandas.core.frame.DataFrame'>\n",
      "RangeIndex: 500 entries, 0 to 499\n",
      "Data columns (total 8 columns):\n",
      "user_id       500 non-null object\n",
      "age           500 non-null int64\n",
      "churn_date    38 non-null datetime64[ns]\n",
      "city          500 non-null object\n",
      "first_name    500 non-null object\n",
      "last_name     500 non-null object\n",
      "reg_date      500 non-null datetime64[ns]\n",
      "tariff        500 non-null object\n",
      "dtypes: datetime64[ns](2), int64(1), object(5)\n",
      "memory usage: 31.4+ KB\n"
     ]
    },
    {
     "data": {
      "text/html": [
       "<div>\n",
       "<style scoped>\n",
       "    .dataframe tbody tr th:only-of-type {\n",
       "        vertical-align: middle;\n",
       "    }\n",
       "\n",
       "    .dataframe tbody tr th {\n",
       "        vertical-align: top;\n",
       "    }\n",
       "\n",
       "    .dataframe thead th {\n",
       "        text-align: right;\n",
       "    }\n",
       "</style>\n",
       "<table border=\"1\" class=\"dataframe\">\n",
       "  <thead>\n",
       "    <tr style=\"text-align: right;\">\n",
       "      <th></th>\n",
       "      <th>user_id</th>\n",
       "      <th>age</th>\n",
       "      <th>churn_date</th>\n",
       "      <th>city</th>\n",
       "      <th>first_name</th>\n",
       "      <th>last_name</th>\n",
       "      <th>reg_date</th>\n",
       "      <th>tariff</th>\n",
       "    </tr>\n",
       "  </thead>\n",
       "  <tbody>\n",
       "    <tr>\n",
       "      <td>0</td>\n",
       "      <td>1000</td>\n",
       "      <td>52</td>\n",
       "      <td>NaT</td>\n",
       "      <td>Краснодар</td>\n",
       "      <td>Рафаил</td>\n",
       "      <td>Верещагин</td>\n",
       "      <td>2018-05-25</td>\n",
       "      <td>ultra</td>\n",
       "    </tr>\n",
       "    <tr>\n",
       "      <td>1</td>\n",
       "      <td>1001</td>\n",
       "      <td>41</td>\n",
       "      <td>NaT</td>\n",
       "      <td>Москва</td>\n",
       "      <td>Иван</td>\n",
       "      <td>Ежов</td>\n",
       "      <td>2018-11-01</td>\n",
       "      <td>smart</td>\n",
       "    </tr>\n",
       "    <tr>\n",
       "      <td>2</td>\n",
       "      <td>1002</td>\n",
       "      <td>59</td>\n",
       "      <td>NaT</td>\n",
       "      <td>Стерлитамак</td>\n",
       "      <td>Евгений</td>\n",
       "      <td>Абрамович</td>\n",
       "      <td>2018-06-17</td>\n",
       "      <td>smart</td>\n",
       "    </tr>\n",
       "    <tr>\n",
       "      <td>3</td>\n",
       "      <td>1003</td>\n",
       "      <td>23</td>\n",
       "      <td>NaT</td>\n",
       "      <td>Москва</td>\n",
       "      <td>Белла</td>\n",
       "      <td>Белякова</td>\n",
       "      <td>2018-08-17</td>\n",
       "      <td>ultra</td>\n",
       "    </tr>\n",
       "    <tr>\n",
       "      <td>4</td>\n",
       "      <td>1004</td>\n",
       "      <td>68</td>\n",
       "      <td>NaT</td>\n",
       "      <td>Новокузнецк</td>\n",
       "      <td>Татьяна</td>\n",
       "      <td>Авдеенко</td>\n",
       "      <td>2018-05-14</td>\n",
       "      <td>ultra</td>\n",
       "    </tr>\n",
       "  </tbody>\n",
       "</table>\n",
       "</div>"
      ],
      "text/plain": [
       "  user_id  age churn_date         city first_name  last_name   reg_date tariff\n",
       "0    1000   52        NaT    Краснодар     Рафаил  Верещагин 2018-05-25  ultra\n",
       "1    1001   41        NaT       Москва       Иван       Ежов 2018-11-01  smart\n",
       "2    1002   59        NaT  Стерлитамак    Евгений  Абрамович 2018-06-17  smart\n",
       "3    1003   23        NaT       Москва      Белла   Белякова 2018-08-17  ultra\n",
       "4    1004   68        NaT  Новокузнецк    Татьяна   Авдеенко 2018-05-14  ultra"
      ]
     },
     "metadata": {},
     "output_type": "display_data"
    }
   ],
   "source": [
    "users['user_id'] = users['user_id'].astype('object')\n",
    "users['churn_date'] = pd.to_datetime(users['churn_date'], format='%Y-%m-%dT%H:%M:%S')\n",
    "users['reg_date'] = pd.to_datetime(users['reg_date'], format='%Y-%m-%dT%H:%M:%S')\n",
    "\n",
    "users.info()\n",
    "display(users.head())"
   ]
  },
  {
   "cell_type": "markdown",
   "metadata": {},
   "source": [
    "Посмотрим на минимальные и максимальные значения."
   ]
  },
  {
   "cell_type": "code",
   "execution_count": 12,
   "metadata": {},
   "outputs": [
    {
     "data": {
      "text/html": [
       "<div>\n",
       "<style scoped>\n",
       "    .dataframe tbody tr th:only-of-type {\n",
       "        vertical-align: middle;\n",
       "    }\n",
       "\n",
       "    .dataframe tbody tr th {\n",
       "        vertical-align: top;\n",
       "    }\n",
       "\n",
       "    .dataframe thead th {\n",
       "        text-align: right;\n",
       "    }\n",
       "</style>\n",
       "<table border=\"1\" class=\"dataframe\">\n",
       "  <thead>\n",
       "    <tr style=\"text-align: right;\">\n",
       "      <th></th>\n",
       "      <th>user_id</th>\n",
       "      <th>age</th>\n",
       "      <th>churn_date</th>\n",
       "      <th>city</th>\n",
       "      <th>first_name</th>\n",
       "      <th>last_name</th>\n",
       "      <th>reg_date</th>\n",
       "      <th>tariff</th>\n",
       "    </tr>\n",
       "  </thead>\n",
       "  <tbody>\n",
       "    <tr>\n",
       "      <td>min</td>\n",
       "      <td>1000</td>\n",
       "      <td>18</td>\n",
       "      <td>2018-08-17</td>\n",
       "      <td>Архангельск</td>\n",
       "      <td>Авксентий</td>\n",
       "      <td>Ёлчина</td>\n",
       "      <td>2018-01-01</td>\n",
       "      <td>smart</td>\n",
       "    </tr>\n",
       "    <tr>\n",
       "      <td>max</td>\n",
       "      <td>1499</td>\n",
       "      <td>75</td>\n",
       "      <td>2018-12-30</td>\n",
       "      <td>Ярославль</td>\n",
       "      <td>Яна</td>\n",
       "      <td>Яшина</td>\n",
       "      <td>2018-12-31</td>\n",
       "      <td>ultra</td>\n",
       "    </tr>\n",
       "  </tbody>\n",
       "</table>\n",
       "</div>"
      ],
      "text/plain": [
       "     user_id  age churn_date         city first_name last_name   reg_date  \\\n",
       "min     1000   18 2018-08-17  Архангельск  Авксентий    Ёлчина 2018-01-01   \n",
       "max     1499   75 2018-12-30    Ярославль        Яна     Яшина 2018-12-31   \n",
       "\n",
       "    tariff  \n",
       "min  smart  \n",
       "max  ultra  "
      ]
     },
     "metadata": {},
     "output_type": "display_data"
    }
   ],
   "source": [
    "display(users.agg(['min', 'max']))"
   ]
  },
  {
   "cell_type": "markdown",
   "metadata": {},
   "source": [
    "В нашем распоряжении есть 500 записей о клиентах c id от 1000 до 1499, подключивших один из исследуемых тарифов в период с 1 января по 31 декабря 2018 года.  \n",
    "Проверим, сколько клиентов на каждом из тарифов."
   ]
  },
  {
   "cell_type": "code",
   "execution_count": 13,
   "metadata": {},
   "outputs": [
    {
     "data": {
      "text/plain": [
       "tariff  tariff\n",
       "smart   smart     351\n",
       "ultra   ultra     149\n",
       "Name: tariff, dtype: int64"
      ]
     },
     "execution_count": 13,
     "metadata": {},
     "output_type": "execute_result"
    }
   ],
   "source": [
    "users.groupby('tariff')['tariff'].value_counts()"
   ]
  },
  {
   "cell_type": "markdown",
   "metadata": {},
   "source": [
    "На тарифе \"Smart\" пользователей в два раза больше, чем на тарифе \"Ultra\". Это и естественно, учитывая, что он дешевле.\n",
    "\n",
    "Проверим таблицу на наличие дублирующихся строк."
   ]
  },
  {
   "cell_type": "code",
   "execution_count": 14,
   "metadata": {},
   "outputs": [
    {
     "data": {
      "text/plain": [
       "0"
      ]
     },
     "execution_count": 14,
     "metadata": {},
     "output_type": "execute_result"
    }
   ],
   "source": [
    "users.duplicated().sum()"
   ]
  },
  {
   "cell_type": "code",
   "execution_count": 15,
   "metadata": {},
   "outputs": [
    {
     "data": {
      "text/plain": [
       "last_name  first_name  city           \n",
       "Ёлчина     Валерия     Санкт-Петербург    1\n",
       "Малышев    Авксентий   Москва             1\n",
       "Малинина   Юлия        Москва             1\n",
       "Малинин    Рустам      Волгоград          1\n",
       "Малахов    Исак        Астрахань          1\n",
       "                                         ..\n",
       "Березина   Луиза       Казань             1\n",
       "           Дайна       Череповец          1\n",
       "Белякова   Джулия      Санкт-Петербург    1\n",
       "Болдырева  Оксана      Нижний Тагил       1\n",
       "Яшина      Эльмира     Новороссийск       1\n",
       "Name: city, Length: 500, dtype: int64"
      ]
     },
     "execution_count": 15,
     "metadata": {},
     "output_type": "execute_result"
    }
   ],
   "source": [
    "users.groupby(['last_name', 'first_name'])['city'].value_counts().sort_values()"
   ]
  },
  {
   "cell_type": "markdown",
   "metadata": {},
   "source": [
    "Дублирующихся строк нет.  \n",
    "Нам нужно будет проверить гипотезу о том, отличается ли выручка пользователей Москвы от выручки из других регионов, так что сразу добавим в таблицу столбец `moscow` (при помощи функции)."
   ]
  },
  {
   "cell_type": "code",
   "execution_count": 16,
   "metadata": {},
   "outputs": [],
   "source": [
    "def city(str):\n",
    "    if str == \"Москва\":\n",
    "        return True\n",
    "    else:\n",
    "        return False"
   ]
  },
  {
   "cell_type": "code",
   "execution_count": 17,
   "metadata": {},
   "outputs": [
    {
     "data": {
      "text/html": [
       "<div>\n",
       "<style scoped>\n",
       "    .dataframe tbody tr th:only-of-type {\n",
       "        vertical-align: middle;\n",
       "    }\n",
       "\n",
       "    .dataframe tbody tr th {\n",
       "        vertical-align: top;\n",
       "    }\n",
       "\n",
       "    .dataframe thead th {\n",
       "        text-align: right;\n",
       "    }\n",
       "</style>\n",
       "<table border=\"1\" class=\"dataframe\">\n",
       "  <thead>\n",
       "    <tr style=\"text-align: right;\">\n",
       "      <th></th>\n",
       "      <th>user_id</th>\n",
       "      <th>age</th>\n",
       "      <th>churn_date</th>\n",
       "      <th>city</th>\n",
       "      <th>first_name</th>\n",
       "      <th>last_name</th>\n",
       "      <th>reg_date</th>\n",
       "      <th>tariff</th>\n",
       "      <th>moscow</th>\n",
       "    </tr>\n",
       "  </thead>\n",
       "  <tbody>\n",
       "    <tr>\n",
       "      <td>0</td>\n",
       "      <td>1000</td>\n",
       "      <td>52</td>\n",
       "      <td>NaT</td>\n",
       "      <td>Краснодар</td>\n",
       "      <td>Рафаил</td>\n",
       "      <td>Верещагин</td>\n",
       "      <td>2018-05-25</td>\n",
       "      <td>ultra</td>\n",
       "      <td>False</td>\n",
       "    </tr>\n",
       "    <tr>\n",
       "      <td>1</td>\n",
       "      <td>1001</td>\n",
       "      <td>41</td>\n",
       "      <td>NaT</td>\n",
       "      <td>Москва</td>\n",
       "      <td>Иван</td>\n",
       "      <td>Ежов</td>\n",
       "      <td>2018-11-01</td>\n",
       "      <td>smart</td>\n",
       "      <td>True</td>\n",
       "    </tr>\n",
       "    <tr>\n",
       "      <td>2</td>\n",
       "      <td>1002</td>\n",
       "      <td>59</td>\n",
       "      <td>NaT</td>\n",
       "      <td>Стерлитамак</td>\n",
       "      <td>Евгений</td>\n",
       "      <td>Абрамович</td>\n",
       "      <td>2018-06-17</td>\n",
       "      <td>smart</td>\n",
       "      <td>False</td>\n",
       "    </tr>\n",
       "    <tr>\n",
       "      <td>3</td>\n",
       "      <td>1003</td>\n",
       "      <td>23</td>\n",
       "      <td>NaT</td>\n",
       "      <td>Москва</td>\n",
       "      <td>Белла</td>\n",
       "      <td>Белякова</td>\n",
       "      <td>2018-08-17</td>\n",
       "      <td>ultra</td>\n",
       "      <td>True</td>\n",
       "    </tr>\n",
       "    <tr>\n",
       "      <td>4</td>\n",
       "      <td>1004</td>\n",
       "      <td>68</td>\n",
       "      <td>NaT</td>\n",
       "      <td>Новокузнецк</td>\n",
       "      <td>Татьяна</td>\n",
       "      <td>Авдеенко</td>\n",
       "      <td>2018-05-14</td>\n",
       "      <td>ultra</td>\n",
       "      <td>False</td>\n",
       "    </tr>\n",
       "  </tbody>\n",
       "</table>\n",
       "</div>"
      ],
      "text/plain": [
       "  user_id  age churn_date         city first_name  last_name   reg_date  \\\n",
       "0    1000   52        NaT    Краснодар     Рафаил  Верещагин 2018-05-25   \n",
       "1    1001   41        NaT       Москва       Иван       Ежов 2018-11-01   \n",
       "2    1002   59        NaT  Стерлитамак    Евгений  Абрамович 2018-06-17   \n",
       "3    1003   23        NaT       Москва      Белла   Белякова 2018-08-17   \n",
       "4    1004   68        NaT  Новокузнецк    Татьяна   Авдеенко 2018-05-14   \n",
       "\n",
       "  tariff  moscow  \n",
       "0  ultra   False  \n",
       "1  smart    True  \n",
       "2  smart   False  \n",
       "3  ultra    True  \n",
       "4  ultra   False  "
      ]
     },
     "metadata": {},
     "output_type": "display_data"
    }
   ],
   "source": [
    "users['moscow'] = users['city'].apply(city)\n",
    "display(users.head())"
   ]
  },
  {
   "cell_type": "markdown",
   "metadata": {},
   "source": [
    "Скопируем строки, нужные для анализа в общую таблицу `data`. Нам понадобится вся информация, кроме имён и фамилий клиентов."
   ]
  },
  {
   "cell_type": "code",
   "execution_count": 18,
   "metadata": {},
   "outputs": [
    {
     "name": "stdout",
     "output_type": "stream",
     "text": [
      "<class 'pandas.core.frame.DataFrame'>\n",
      "RangeIndex: 500 entries, 0 to 499\n",
      "Data columns (total 7 columns):\n",
      "user_id       500 non-null object\n",
      "tariff        500 non-null object\n",
      "age           500 non-null int64\n",
      "city          500 non-null object\n",
      "reg_date      500 non-null datetime64[ns]\n",
      "churn_date    38 non-null datetime64[ns]\n",
      "moscow        500 non-null bool\n",
      "dtypes: bool(1), datetime64[ns](2), int64(1), object(3)\n",
      "memory usage: 24.1+ KB\n"
     ]
    }
   ],
   "source": [
    "data = users[['user_id', 'tariff', 'age', 'city', 'reg_date', 'churn_date', 'moscow']]\n",
    "data.info()"
   ]
  },
  {
   "cell_type": "code",
   "execution_count": 19,
   "metadata": {},
   "outputs": [
    {
     "data": {
      "text/plain": [
       "Index(['user_id', 'tariff', 'age', 'city', 'reg_date', 'churn_date', 'moscow'], dtype='object')"
      ]
     },
     "execution_count": 19,
     "metadata": {},
     "output_type": "execute_result"
    }
   ],
   "source": [
    "data.columns"
   ]
  },
  {
   "cell_type": "markdown",
   "metadata": {},
   "source": [
    "Данные о пользователях проверены и готовы к роботе.\n",
    "\n",
    "### Подготовка данных о звонках  \n",
    "Проверим и подготовим к анализу таблицу `calls`. Изменим на нужный тип данных столбцов. Для этого ещё раз распечатаем информацию о столбцах и первые строки таблицы."
   ]
  },
  {
   "cell_type": "code",
   "execution_count": 20,
   "metadata": {},
   "outputs": [
    {
     "name": "stdout",
     "output_type": "stream",
     "text": [
      "<class 'pandas.core.frame.DataFrame'>\n",
      "RangeIndex: 202607 entries, 0 to 202606\n",
      "Data columns (total 4 columns):\n",
      "id           202607 non-null object\n",
      "call_date    202607 non-null object\n",
      "duration     202607 non-null float64\n",
      "user_id      202607 non-null int64\n",
      "dtypes: float64(1), int64(1), object(2)\n",
      "memory usage: 6.2+ MB\n"
     ]
    },
    {
     "data": {
      "text/html": [
       "<div>\n",
       "<style scoped>\n",
       "    .dataframe tbody tr th:only-of-type {\n",
       "        vertical-align: middle;\n",
       "    }\n",
       "\n",
       "    .dataframe tbody tr th {\n",
       "        vertical-align: top;\n",
       "    }\n",
       "\n",
       "    .dataframe thead th {\n",
       "        text-align: right;\n",
       "    }\n",
       "</style>\n",
       "<table border=\"1\" class=\"dataframe\">\n",
       "  <thead>\n",
       "    <tr style=\"text-align: right;\">\n",
       "      <th></th>\n",
       "      <th>id</th>\n",
       "      <th>call_date</th>\n",
       "      <th>duration</th>\n",
       "      <th>user_id</th>\n",
       "    </tr>\n",
       "  </thead>\n",
       "  <tbody>\n",
       "    <tr>\n",
       "      <td>0</td>\n",
       "      <td>1000_0</td>\n",
       "      <td>2018-07-25</td>\n",
       "      <td>0.00</td>\n",
       "      <td>1000</td>\n",
       "    </tr>\n",
       "    <tr>\n",
       "      <td>1</td>\n",
       "      <td>1000_1</td>\n",
       "      <td>2018-08-17</td>\n",
       "      <td>0.00</td>\n",
       "      <td>1000</td>\n",
       "    </tr>\n",
       "    <tr>\n",
       "      <td>2</td>\n",
       "      <td>1000_2</td>\n",
       "      <td>2018-06-11</td>\n",
       "      <td>2.85</td>\n",
       "      <td>1000</td>\n",
       "    </tr>\n",
       "    <tr>\n",
       "      <td>3</td>\n",
       "      <td>1000_3</td>\n",
       "      <td>2018-09-21</td>\n",
       "      <td>13.80</td>\n",
       "      <td>1000</td>\n",
       "    </tr>\n",
       "    <tr>\n",
       "      <td>4</td>\n",
       "      <td>1000_4</td>\n",
       "      <td>2018-12-15</td>\n",
       "      <td>5.18</td>\n",
       "      <td>1000</td>\n",
       "    </tr>\n",
       "  </tbody>\n",
       "</table>\n",
       "</div>"
      ],
      "text/plain": [
       "       id   call_date  duration  user_id\n",
       "0  1000_0  2018-07-25      0.00     1000\n",
       "1  1000_1  2018-08-17      0.00     1000\n",
       "2  1000_2  2018-06-11      2.85     1000\n",
       "3  1000_3  2018-09-21     13.80     1000\n",
       "4  1000_4  2018-12-15      5.18     1000"
      ]
     },
     "metadata": {},
     "output_type": "display_data"
    }
   ],
   "source": [
    "calls.info()\n",
    "display(calls.head())"
   ]
  },
  {
   "cell_type": "code",
   "execution_count": 21,
   "metadata": {},
   "outputs": [
    {
     "name": "stdout",
     "output_type": "stream",
     "text": [
      "<class 'pandas.core.frame.DataFrame'>\n",
      "RangeIndex: 202607 entries, 0 to 202606\n",
      "Data columns (total 4 columns):\n",
      "id           202607 non-null object\n",
      "call_date    202607 non-null datetime64[ns]\n",
      "duration     202607 non-null float64\n",
      "user_id      202607 non-null object\n",
      "dtypes: datetime64[ns](1), float64(1), object(2)\n",
      "memory usage: 6.2+ MB\n"
     ]
    },
    {
     "data": {
      "text/html": [
       "<div>\n",
       "<style scoped>\n",
       "    .dataframe tbody tr th:only-of-type {\n",
       "        vertical-align: middle;\n",
       "    }\n",
       "\n",
       "    .dataframe tbody tr th {\n",
       "        vertical-align: top;\n",
       "    }\n",
       "\n",
       "    .dataframe thead th {\n",
       "        text-align: right;\n",
       "    }\n",
       "</style>\n",
       "<table border=\"1\" class=\"dataframe\">\n",
       "  <thead>\n",
       "    <tr style=\"text-align: right;\">\n",
       "      <th></th>\n",
       "      <th>id</th>\n",
       "      <th>call_date</th>\n",
       "      <th>duration</th>\n",
       "      <th>user_id</th>\n",
       "    </tr>\n",
       "  </thead>\n",
       "  <tbody>\n",
       "    <tr>\n",
       "      <td>0</td>\n",
       "      <td>1000_0</td>\n",
       "      <td>2018-07-25</td>\n",
       "      <td>0.00</td>\n",
       "      <td>1000</td>\n",
       "    </tr>\n",
       "    <tr>\n",
       "      <td>1</td>\n",
       "      <td>1000_1</td>\n",
       "      <td>2018-08-17</td>\n",
       "      <td>0.00</td>\n",
       "      <td>1000</td>\n",
       "    </tr>\n",
       "    <tr>\n",
       "      <td>2</td>\n",
       "      <td>1000_2</td>\n",
       "      <td>2018-06-11</td>\n",
       "      <td>2.85</td>\n",
       "      <td>1000</td>\n",
       "    </tr>\n",
       "    <tr>\n",
       "      <td>3</td>\n",
       "      <td>1000_3</td>\n",
       "      <td>2018-09-21</td>\n",
       "      <td>13.80</td>\n",
       "      <td>1000</td>\n",
       "    </tr>\n",
       "    <tr>\n",
       "      <td>4</td>\n",
       "      <td>1000_4</td>\n",
       "      <td>2018-12-15</td>\n",
       "      <td>5.18</td>\n",
       "      <td>1000</td>\n",
       "    </tr>\n",
       "  </tbody>\n",
       "</table>\n",
       "</div>"
      ],
      "text/plain": [
       "       id  call_date  duration user_id\n",
       "0  1000_0 2018-07-25      0.00    1000\n",
       "1  1000_1 2018-08-17      0.00    1000\n",
       "2  1000_2 2018-06-11      2.85    1000\n",
       "3  1000_3 2018-09-21     13.80    1000\n",
       "4  1000_4 2018-12-15      5.18    1000"
      ]
     },
     "metadata": {},
     "output_type": "display_data"
    }
   ],
   "source": [
    "calls['call_date'] = pd.to_datetime(calls['call_date'], format='%Y-%m-%dT%H:%M:%S')\n",
    "calls['user_id'] = calls['user_id'].astype('object')\n",
    "\n",
    "calls.info()\n",
    "display(calls.head())"
   ]
  },
  {
   "cell_type": "markdown",
   "metadata": {},
   "source": [
    "Посмотрим на минимальные и максимальные значения, чтобы проверить, есть ли странные и выбивающиеся значения."
   ]
  },
  {
   "cell_type": "code",
   "execution_count": 22,
   "metadata": {},
   "outputs": [
    {
     "data": {
      "text/html": [
       "<div>\n",
       "<style scoped>\n",
       "    .dataframe tbody tr th:only-of-type {\n",
       "        vertical-align: middle;\n",
       "    }\n",
       "\n",
       "    .dataframe tbody tr th {\n",
       "        vertical-align: top;\n",
       "    }\n",
       "\n",
       "    .dataframe thead th {\n",
       "        text-align: right;\n",
       "    }\n",
       "</style>\n",
       "<table border=\"1\" class=\"dataframe\">\n",
       "  <thead>\n",
       "    <tr style=\"text-align: right;\">\n",
       "      <th></th>\n",
       "      <th>id</th>\n",
       "      <th>call_date</th>\n",
       "      <th>duration</th>\n",
       "      <th>user_id</th>\n",
       "    </tr>\n",
       "  </thead>\n",
       "  <tbody>\n",
       "    <tr>\n",
       "      <td>min</td>\n",
       "      <td>1000_0</td>\n",
       "      <td>2018-01-01</td>\n",
       "      <td>0.0</td>\n",
       "      <td>1000</td>\n",
       "    </tr>\n",
       "    <tr>\n",
       "      <td>max</td>\n",
       "      <td>1499_99</td>\n",
       "      <td>2018-12-31</td>\n",
       "      <td>38.0</td>\n",
       "      <td>1499</td>\n",
       "    </tr>\n",
       "  </tbody>\n",
       "</table>\n",
       "</div>"
      ],
      "text/plain": [
       "          id  call_date  duration  user_id\n",
       "min   1000_0 2018-01-01       0.0     1000\n",
       "max  1499_99 2018-12-31      38.0     1499"
      ]
     },
     "metadata": {},
     "output_type": "display_data"
    }
   ],
   "source": [
    "display(calls.agg(['min', 'max']))"
   ]
  },
  {
   "cell_type": "markdown",
   "metadata": {},
   "source": [
    "Первая запись - 1 января, последняя - 31 декабря 2018 года, минимальная продолжительность звонка - 0 минут (неотвеченный вызов), а максимальная - 38 минут. Похоже, всё в порядке.\n",
    "\n",
    "Добавим в таблицу столбцы и рассчитаем количество сделанных звонков и израсходованных минут разговора по месяцам.  \n",
    "У оператора \"Мегалайн\" помитутная тарификация, так что нужно округлить длительность всех звонков до минут в большую сторону."
   ]
  },
  {
   "cell_type": "code",
   "execution_count": 23,
   "metadata": {},
   "outputs": [
    {
     "data": {
      "text/html": [
       "<div>\n",
       "<style scoped>\n",
       "    .dataframe tbody tr th:only-of-type {\n",
       "        vertical-align: middle;\n",
       "    }\n",
       "\n",
       "    .dataframe tbody tr th {\n",
       "        vertical-align: top;\n",
       "    }\n",
       "\n",
       "    .dataframe thead th {\n",
       "        text-align: right;\n",
       "    }\n",
       "</style>\n",
       "<table border=\"1\" class=\"dataframe\">\n",
       "  <thead>\n",
       "    <tr style=\"text-align: right;\">\n",
       "      <th></th>\n",
       "      <th>id</th>\n",
       "      <th>call_date</th>\n",
       "      <th>duration</th>\n",
       "      <th>user_id</th>\n",
       "    </tr>\n",
       "  </thead>\n",
       "  <tbody>\n",
       "    <tr>\n",
       "      <td>0</td>\n",
       "      <td>1000_0</td>\n",
       "      <td>2018-07-25</td>\n",
       "      <td>0.0</td>\n",
       "      <td>1000</td>\n",
       "    </tr>\n",
       "    <tr>\n",
       "      <td>1</td>\n",
       "      <td>1000_1</td>\n",
       "      <td>2018-08-17</td>\n",
       "      <td>0.0</td>\n",
       "      <td>1000</td>\n",
       "    </tr>\n",
       "    <tr>\n",
       "      <td>2</td>\n",
       "      <td>1000_2</td>\n",
       "      <td>2018-06-11</td>\n",
       "      <td>3.0</td>\n",
       "      <td>1000</td>\n",
       "    </tr>\n",
       "    <tr>\n",
       "      <td>3</td>\n",
       "      <td>1000_3</td>\n",
       "      <td>2018-09-21</td>\n",
       "      <td>14.0</td>\n",
       "      <td>1000</td>\n",
       "    </tr>\n",
       "    <tr>\n",
       "      <td>4</td>\n",
       "      <td>1000_4</td>\n",
       "      <td>2018-12-15</td>\n",
       "      <td>6.0</td>\n",
       "      <td>1000</td>\n",
       "    </tr>\n",
       "  </tbody>\n",
       "</table>\n",
       "</div>"
      ],
      "text/plain": [
       "       id  call_date  duration user_id\n",
       "0  1000_0 2018-07-25       0.0    1000\n",
       "1  1000_1 2018-08-17       0.0    1000\n",
       "2  1000_2 2018-06-11       3.0    1000\n",
       "3  1000_3 2018-09-21      14.0    1000\n",
       "4  1000_4 2018-12-15       6.0    1000"
      ]
     },
     "metadata": {},
     "output_type": "display_data"
    }
   ],
   "source": [
    "calls['duration'] = np.ceil(calls['duration'])\n",
    "display(calls.head())"
   ]
  },
  {
   "cell_type": "markdown",
   "metadata": {},
   "source": [
    "Создаём столбец `month` и записываем в него месяц совершения звонка."
   ]
  },
  {
   "cell_type": "code",
   "execution_count": 24,
   "metadata": {},
   "outputs": [
    {
     "data": {
      "text/html": [
       "<div>\n",
       "<style scoped>\n",
       "    .dataframe tbody tr th:only-of-type {\n",
       "        vertical-align: middle;\n",
       "    }\n",
       "\n",
       "    .dataframe tbody tr th {\n",
       "        vertical-align: top;\n",
       "    }\n",
       "\n",
       "    .dataframe thead th {\n",
       "        text-align: right;\n",
       "    }\n",
       "</style>\n",
       "<table border=\"1\" class=\"dataframe\">\n",
       "  <thead>\n",
       "    <tr style=\"text-align: right;\">\n",
       "      <th></th>\n",
       "      <th>id</th>\n",
       "      <th>call_date</th>\n",
       "      <th>duration</th>\n",
       "      <th>user_id</th>\n",
       "      <th>month</th>\n",
       "    </tr>\n",
       "  </thead>\n",
       "  <tbody>\n",
       "    <tr>\n",
       "      <td>0</td>\n",
       "      <td>1000_0</td>\n",
       "      <td>2018-07-25</td>\n",
       "      <td>0.0</td>\n",
       "      <td>1000</td>\n",
       "      <td>7</td>\n",
       "    </tr>\n",
       "    <tr>\n",
       "      <td>1</td>\n",
       "      <td>1000_1</td>\n",
       "      <td>2018-08-17</td>\n",
       "      <td>0.0</td>\n",
       "      <td>1000</td>\n",
       "      <td>8</td>\n",
       "    </tr>\n",
       "    <tr>\n",
       "      <td>2</td>\n",
       "      <td>1000_2</td>\n",
       "      <td>2018-06-11</td>\n",
       "      <td>3.0</td>\n",
       "      <td>1000</td>\n",
       "      <td>6</td>\n",
       "    </tr>\n",
       "    <tr>\n",
       "      <td>3</td>\n",
       "      <td>1000_3</td>\n",
       "      <td>2018-09-21</td>\n",
       "      <td>14.0</td>\n",
       "      <td>1000</td>\n",
       "      <td>9</td>\n",
       "    </tr>\n",
       "    <tr>\n",
       "      <td>4</td>\n",
       "      <td>1000_4</td>\n",
       "      <td>2018-12-15</td>\n",
       "      <td>6.0</td>\n",
       "      <td>1000</td>\n",
       "      <td>12</td>\n",
       "    </tr>\n",
       "  </tbody>\n",
       "</table>\n",
       "</div>"
      ],
      "text/plain": [
       "       id  call_date  duration user_id  month\n",
       "0  1000_0 2018-07-25       0.0    1000      7\n",
       "1  1000_1 2018-08-17       0.0    1000      8\n",
       "2  1000_2 2018-06-11       3.0    1000      6\n",
       "3  1000_3 2018-09-21      14.0    1000      9\n",
       "4  1000_4 2018-12-15       6.0    1000     12"
      ]
     },
     "metadata": {},
     "output_type": "display_data"
    }
   ],
   "source": [
    "calls['month'] = pd.DatetimeIndex(calls['call_date']).month\n",
    "display(calls.head())"
   ]
  },
  {
   "cell_type": "markdown",
   "metadata": {},
   "source": [
    "Для того, чтобы посчитать количество и длительность звонков каждого абонента по месяцам, создаём сводную таблицу `calls_month`. По строкам размещаем данные для каждого пользователя и для каждого месяца, рассчитываем общее количество и длительность звонков."
   ]
  },
  {
   "cell_type": "code",
   "execution_count": 25,
   "metadata": {},
   "outputs": [
    {
     "data": {
      "text/html": [
       "<div>\n",
       "<style scoped>\n",
       "    .dataframe tbody tr th:only-of-type {\n",
       "        vertical-align: middle;\n",
       "    }\n",
       "\n",
       "    .dataframe tbody tr th {\n",
       "        vertical-align: top;\n",
       "    }\n",
       "\n",
       "    .dataframe thead tr th {\n",
       "        text-align: left;\n",
       "    }\n",
       "\n",
       "    .dataframe thead tr:last-of-type th {\n",
       "        text-align: right;\n",
       "    }\n",
       "</style>\n",
       "<table border=\"1\" class=\"dataframe\">\n",
       "  <thead>\n",
       "    <tr>\n",
       "      <th></th>\n",
       "      <th></th>\n",
       "      <th>count</th>\n",
       "      <th>sum</th>\n",
       "    </tr>\n",
       "    <tr>\n",
       "      <th></th>\n",
       "      <th></th>\n",
       "      <th>duration</th>\n",
       "      <th>duration</th>\n",
       "    </tr>\n",
       "    <tr>\n",
       "      <th>user_id</th>\n",
       "      <th>month</th>\n",
       "      <th></th>\n",
       "      <th></th>\n",
       "    </tr>\n",
       "  </thead>\n",
       "  <tbody>\n",
       "    <tr>\n",
       "      <td rowspan=\"8\" valign=\"top\">1000</td>\n",
       "      <td>5</td>\n",
       "      <td>22</td>\n",
       "      <td>159.0</td>\n",
       "    </tr>\n",
       "    <tr>\n",
       "      <td>6</td>\n",
       "      <td>43</td>\n",
       "      <td>172.0</td>\n",
       "    </tr>\n",
       "    <tr>\n",
       "      <td>7</td>\n",
       "      <td>47</td>\n",
       "      <td>340.0</td>\n",
       "    </tr>\n",
       "    <tr>\n",
       "      <td>8</td>\n",
       "      <td>52</td>\n",
       "      <td>408.0</td>\n",
       "    </tr>\n",
       "    <tr>\n",
       "      <td>9</td>\n",
       "      <td>58</td>\n",
       "      <td>466.0</td>\n",
       "    </tr>\n",
       "    <tr>\n",
       "      <td>10</td>\n",
       "      <td>57</td>\n",
       "      <td>350.0</td>\n",
       "    </tr>\n",
       "    <tr>\n",
       "      <td>11</td>\n",
       "      <td>43</td>\n",
       "      <td>338.0</td>\n",
       "    </tr>\n",
       "    <tr>\n",
       "      <td>12</td>\n",
       "      <td>46</td>\n",
       "      <td>333.0</td>\n",
       "    </tr>\n",
       "    <tr>\n",
       "      <td rowspan=\"2\" valign=\"top\">1001</td>\n",
       "      <td>11</td>\n",
       "      <td>59</td>\n",
       "      <td>430.0</td>\n",
       "    </tr>\n",
       "    <tr>\n",
       "      <td>12</td>\n",
       "      <td>63</td>\n",
       "      <td>414.0</td>\n",
       "    </tr>\n",
       "  </tbody>\n",
       "</table>\n",
       "</div>"
      ],
      "text/plain": [
       "                 count      sum\n",
       "              duration duration\n",
       "user_id month                  \n",
       "1000    5           22    159.0\n",
       "        6           43    172.0\n",
       "        7           47    340.0\n",
       "        8           52    408.0\n",
       "        9           58    466.0\n",
       "        10          57    350.0\n",
       "        11          43    338.0\n",
       "        12          46    333.0\n",
       "1001    11          59    430.0\n",
       "        12          63    414.0"
      ]
     },
     "metadata": {},
     "output_type": "display_data"
    }
   ],
   "source": [
    "calls_month = calls.pivot_table(\n",
    "    index=['user_id', 'month'],\n",
    "    values=['duration'],\n",
    "    aggfunc=['count', 'sum']\n",
    ")\n",
    "\n",
    "display(calls_month.head(10))"
   ]
  },
  {
   "cell_type": "markdown",
   "metadata": {},
   "source": [
    "Переименуем столбцы, чтобы было удобнее в них ориентироваться:"
   ]
  },
  {
   "cell_type": "code",
   "execution_count": 26,
   "metadata": {},
   "outputs": [
    {
     "data": {
      "text/html": [
       "<div>\n",
       "<style scoped>\n",
       "    .dataframe tbody tr th:only-of-type {\n",
       "        vertical-align: middle;\n",
       "    }\n",
       "\n",
       "    .dataframe tbody tr th {\n",
       "        vertical-align: top;\n",
       "    }\n",
       "\n",
       "    .dataframe thead th {\n",
       "        text-align: right;\n",
       "    }\n",
       "</style>\n",
       "<table border=\"1\" class=\"dataframe\">\n",
       "  <thead>\n",
       "    <tr style=\"text-align: right;\">\n",
       "      <th></th>\n",
       "      <th></th>\n",
       "      <th>calls</th>\n",
       "      <th>duration</th>\n",
       "    </tr>\n",
       "    <tr>\n",
       "      <th>user_id</th>\n",
       "      <th>month</th>\n",
       "      <th></th>\n",
       "      <th></th>\n",
       "    </tr>\n",
       "  </thead>\n",
       "  <tbody>\n",
       "    <tr>\n",
       "      <td rowspan=\"5\" valign=\"top\">1000</td>\n",
       "      <td>5</td>\n",
       "      <td>22</td>\n",
       "      <td>159.0</td>\n",
       "    </tr>\n",
       "    <tr>\n",
       "      <td>6</td>\n",
       "      <td>43</td>\n",
       "      <td>172.0</td>\n",
       "    </tr>\n",
       "    <tr>\n",
       "      <td>7</td>\n",
       "      <td>47</td>\n",
       "      <td>340.0</td>\n",
       "    </tr>\n",
       "    <tr>\n",
       "      <td>8</td>\n",
       "      <td>52</td>\n",
       "      <td>408.0</td>\n",
       "    </tr>\n",
       "    <tr>\n",
       "      <td>9</td>\n",
       "      <td>58</td>\n",
       "      <td>466.0</td>\n",
       "    </tr>\n",
       "  </tbody>\n",
       "</table>\n",
       "</div>"
      ],
      "text/plain": [
       "               calls  duration\n",
       "user_id month                 \n",
       "1000    5         22     159.0\n",
       "        6         43     172.0\n",
       "        7         47     340.0\n",
       "        8         52     408.0\n",
       "        9         58     466.0"
      ]
     },
     "metadata": {},
     "output_type": "display_data"
    }
   ],
   "source": [
    "calls_month.columns = ['calls', 'duration']\n",
    "display(calls_month.head())"
   ]
  },
  {
   "cell_type": "markdown",
   "metadata": {},
   "source": [
    "Скопируем из мультииндекса столбец `month`, чтобы при добавлении в таблицу дата он не потерялся."
   ]
  },
  {
   "cell_type": "code",
   "execution_count": 27,
   "metadata": {
    "scrolled": true
   },
   "outputs": [
    {
     "data": {
      "text/html": [
       "<div>\n",
       "<style scoped>\n",
       "    .dataframe tbody tr th:only-of-type {\n",
       "        vertical-align: middle;\n",
       "    }\n",
       "\n",
       "    .dataframe tbody tr th {\n",
       "        vertical-align: top;\n",
       "    }\n",
       "\n",
       "    .dataframe thead th {\n",
       "        text-align: right;\n",
       "    }\n",
       "</style>\n",
       "<table border=\"1\" class=\"dataframe\">\n",
       "  <thead>\n",
       "    <tr style=\"text-align: right;\">\n",
       "      <th></th>\n",
       "      <th></th>\n",
       "      <th>calls</th>\n",
       "      <th>duration</th>\n",
       "      <th>month</th>\n",
       "    </tr>\n",
       "    <tr>\n",
       "      <th>user_id</th>\n",
       "      <th>month</th>\n",
       "      <th></th>\n",
       "      <th></th>\n",
       "      <th></th>\n",
       "    </tr>\n",
       "  </thead>\n",
       "  <tbody>\n",
       "    <tr>\n",
       "      <td rowspan=\"8\" valign=\"top\">1000</td>\n",
       "      <td>5</td>\n",
       "      <td>22</td>\n",
       "      <td>159.0</td>\n",
       "      <td>5</td>\n",
       "    </tr>\n",
       "    <tr>\n",
       "      <td>6</td>\n",
       "      <td>43</td>\n",
       "      <td>172.0</td>\n",
       "      <td>6</td>\n",
       "    </tr>\n",
       "    <tr>\n",
       "      <td>7</td>\n",
       "      <td>47</td>\n",
       "      <td>340.0</td>\n",
       "      <td>7</td>\n",
       "    </tr>\n",
       "    <tr>\n",
       "      <td>8</td>\n",
       "      <td>52</td>\n",
       "      <td>408.0</td>\n",
       "      <td>8</td>\n",
       "    </tr>\n",
       "    <tr>\n",
       "      <td>9</td>\n",
       "      <td>58</td>\n",
       "      <td>466.0</td>\n",
       "      <td>9</td>\n",
       "    </tr>\n",
       "    <tr>\n",
       "      <td>10</td>\n",
       "      <td>57</td>\n",
       "      <td>350.0</td>\n",
       "      <td>10</td>\n",
       "    </tr>\n",
       "    <tr>\n",
       "      <td>11</td>\n",
       "      <td>43</td>\n",
       "      <td>338.0</td>\n",
       "      <td>11</td>\n",
       "    </tr>\n",
       "    <tr>\n",
       "      <td>12</td>\n",
       "      <td>46</td>\n",
       "      <td>333.0</td>\n",
       "      <td>12</td>\n",
       "    </tr>\n",
       "    <tr>\n",
       "      <td rowspan=\"2\" valign=\"top\">1001</td>\n",
       "      <td>11</td>\n",
       "      <td>59</td>\n",
       "      <td>430.0</td>\n",
       "      <td>11</td>\n",
       "    </tr>\n",
       "    <tr>\n",
       "      <td>12</td>\n",
       "      <td>63</td>\n",
       "      <td>414.0</td>\n",
       "      <td>12</td>\n",
       "    </tr>\n",
       "  </tbody>\n",
       "</table>\n",
       "</div>"
      ],
      "text/plain": [
       "               calls  duration  month\n",
       "user_id month                        \n",
       "1000    5         22     159.0      5\n",
       "        6         43     172.0      6\n",
       "        7         47     340.0      7\n",
       "        8         52     408.0      8\n",
       "        9         58     466.0      9\n",
       "        10        57     350.0     10\n",
       "        11        43     338.0     11\n",
       "        12        46     333.0     12\n",
       "1001    11        59     430.0     11\n",
       "        12        63     414.0     12"
      ]
     },
     "metadata": {},
     "output_type": "display_data"
    }
   ],
   "source": [
    "calls_month['month'] = calls_month.index.get_level_values(1)\n",
    "display(calls_month.head(10))"
   ]
  },
  {
   "cell_type": "markdown",
   "metadata": {},
   "source": [
    "Теперь данные по количеству и длительности звонков каждого абонента по месяцам можно добавить в основную таблицу `data`."
   ]
  },
  {
   "cell_type": "code",
   "execution_count": 28,
   "metadata": {
    "scrolled": true
   },
   "outputs": [
    {
     "data": {
      "text/html": [
       "<div>\n",
       "<style scoped>\n",
       "    .dataframe tbody tr th:only-of-type {\n",
       "        vertical-align: middle;\n",
       "    }\n",
       "\n",
       "    .dataframe tbody tr th {\n",
       "        vertical-align: top;\n",
       "    }\n",
       "\n",
       "    .dataframe thead th {\n",
       "        text-align: right;\n",
       "    }\n",
       "</style>\n",
       "<table border=\"1\" class=\"dataframe\">\n",
       "  <thead>\n",
       "    <tr style=\"text-align: right;\">\n",
       "      <th></th>\n",
       "      <th>user_id</th>\n",
       "      <th>tariff</th>\n",
       "      <th>age</th>\n",
       "      <th>city</th>\n",
       "      <th>reg_date</th>\n",
       "      <th>churn_date</th>\n",
       "      <th>moscow</th>\n",
       "      <th>calls</th>\n",
       "      <th>duration</th>\n",
       "      <th>month</th>\n",
       "    </tr>\n",
       "  </thead>\n",
       "  <tbody>\n",
       "    <tr>\n",
       "      <td>0</td>\n",
       "      <td>1000</td>\n",
       "      <td>ultra</td>\n",
       "      <td>52</td>\n",
       "      <td>Краснодар</td>\n",
       "      <td>2018-05-25</td>\n",
       "      <td>NaT</td>\n",
       "      <td>False</td>\n",
       "      <td>22.0</td>\n",
       "      <td>159.0</td>\n",
       "      <td>5.0</td>\n",
       "    </tr>\n",
       "    <tr>\n",
       "      <td>1</td>\n",
       "      <td>1000</td>\n",
       "      <td>ultra</td>\n",
       "      <td>52</td>\n",
       "      <td>Краснодар</td>\n",
       "      <td>2018-05-25</td>\n",
       "      <td>NaT</td>\n",
       "      <td>False</td>\n",
       "      <td>43.0</td>\n",
       "      <td>172.0</td>\n",
       "      <td>6.0</td>\n",
       "    </tr>\n",
       "    <tr>\n",
       "      <td>2</td>\n",
       "      <td>1000</td>\n",
       "      <td>ultra</td>\n",
       "      <td>52</td>\n",
       "      <td>Краснодар</td>\n",
       "      <td>2018-05-25</td>\n",
       "      <td>NaT</td>\n",
       "      <td>False</td>\n",
       "      <td>47.0</td>\n",
       "      <td>340.0</td>\n",
       "      <td>7.0</td>\n",
       "    </tr>\n",
       "    <tr>\n",
       "      <td>3</td>\n",
       "      <td>1000</td>\n",
       "      <td>ultra</td>\n",
       "      <td>52</td>\n",
       "      <td>Краснодар</td>\n",
       "      <td>2018-05-25</td>\n",
       "      <td>NaT</td>\n",
       "      <td>False</td>\n",
       "      <td>52.0</td>\n",
       "      <td>408.0</td>\n",
       "      <td>8.0</td>\n",
       "    </tr>\n",
       "    <tr>\n",
       "      <td>4</td>\n",
       "      <td>1000</td>\n",
       "      <td>ultra</td>\n",
       "      <td>52</td>\n",
       "      <td>Краснодар</td>\n",
       "      <td>2018-05-25</td>\n",
       "      <td>NaT</td>\n",
       "      <td>False</td>\n",
       "      <td>58.0</td>\n",
       "      <td>466.0</td>\n",
       "      <td>9.0</td>\n",
       "    </tr>\n",
       "  </tbody>\n",
       "</table>\n",
       "</div>"
      ],
      "text/plain": [
       "  user_id tariff  age       city   reg_date churn_date  moscow  calls  \\\n",
       "0    1000  ultra   52  Краснодар 2018-05-25        NaT   False   22.0   \n",
       "1    1000  ultra   52  Краснодар 2018-05-25        NaT   False   43.0   \n",
       "2    1000  ultra   52  Краснодар 2018-05-25        NaT   False   47.0   \n",
       "3    1000  ultra   52  Краснодар 2018-05-25        NaT   False   52.0   \n",
       "4    1000  ultra   52  Краснодар 2018-05-25        NaT   False   58.0   \n",
       "\n",
       "   duration  month  \n",
       "0     159.0    5.0  \n",
       "1     172.0    6.0  \n",
       "2     340.0    7.0  \n",
       "3     408.0    8.0  \n",
       "4     466.0    9.0  "
      ]
     },
     "metadata": {},
     "output_type": "display_data"
    }
   ],
   "source": [
    "data = data.merge(calls_month, on='user_id', how='left')\n",
    "display(data.head())"
   ]
  },
  {
   "cell_type": "markdown",
   "metadata": {},
   "source": [
    "### Подготовка данных о сообщениях  \n",
    "Проверим и подготовим к анализу таблицу `messages`. Изменим на нужный тип данных столбцов. Для этого ещё раз распечатаем информацию о столбцах и первые строки таблицы."
   ]
  },
  {
   "cell_type": "code",
   "execution_count": 29,
   "metadata": {
    "scrolled": true
   },
   "outputs": [
    {
     "name": "stdout",
     "output_type": "stream",
     "text": [
      "<class 'pandas.core.frame.DataFrame'>\n",
      "RangeIndex: 123036 entries, 0 to 123035\n",
      "Data columns (total 3 columns):\n",
      "id              123036 non-null object\n",
      "message_date    123036 non-null object\n",
      "user_id         123036 non-null int64\n",
      "dtypes: int64(1), object(2)\n",
      "memory usage: 2.8+ MB\n"
     ]
    },
    {
     "data": {
      "text/html": [
       "<div>\n",
       "<style scoped>\n",
       "    .dataframe tbody tr th:only-of-type {\n",
       "        vertical-align: middle;\n",
       "    }\n",
       "\n",
       "    .dataframe tbody tr th {\n",
       "        vertical-align: top;\n",
       "    }\n",
       "\n",
       "    .dataframe thead th {\n",
       "        text-align: right;\n",
       "    }\n",
       "</style>\n",
       "<table border=\"1\" class=\"dataframe\">\n",
       "  <thead>\n",
       "    <tr style=\"text-align: right;\">\n",
       "      <th></th>\n",
       "      <th>id</th>\n",
       "      <th>message_date</th>\n",
       "      <th>user_id</th>\n",
       "    </tr>\n",
       "  </thead>\n",
       "  <tbody>\n",
       "    <tr>\n",
       "      <td>0</td>\n",
       "      <td>1000_0</td>\n",
       "      <td>2018-06-27</td>\n",
       "      <td>1000</td>\n",
       "    </tr>\n",
       "    <tr>\n",
       "      <td>1</td>\n",
       "      <td>1000_1</td>\n",
       "      <td>2018-10-08</td>\n",
       "      <td>1000</td>\n",
       "    </tr>\n",
       "    <tr>\n",
       "      <td>2</td>\n",
       "      <td>1000_2</td>\n",
       "      <td>2018-08-04</td>\n",
       "      <td>1000</td>\n",
       "    </tr>\n",
       "    <tr>\n",
       "      <td>3</td>\n",
       "      <td>1000_3</td>\n",
       "      <td>2018-06-16</td>\n",
       "      <td>1000</td>\n",
       "    </tr>\n",
       "    <tr>\n",
       "      <td>4</td>\n",
       "      <td>1000_4</td>\n",
       "      <td>2018-12-05</td>\n",
       "      <td>1000</td>\n",
       "    </tr>\n",
       "  </tbody>\n",
       "</table>\n",
       "</div>"
      ],
      "text/plain": [
       "       id message_date  user_id\n",
       "0  1000_0   2018-06-27     1000\n",
       "1  1000_1   2018-10-08     1000\n",
       "2  1000_2   2018-08-04     1000\n",
       "3  1000_3   2018-06-16     1000\n",
       "4  1000_4   2018-12-05     1000"
      ]
     },
     "metadata": {},
     "output_type": "display_data"
    }
   ],
   "source": [
    "messages.info()\n",
    "display(messages.head())"
   ]
  },
  {
   "cell_type": "markdown",
   "metadata": {},
   "source": [
    "Меняем типы данных столбцов:"
   ]
  },
  {
   "cell_type": "code",
   "execution_count": 30,
   "metadata": {
    "scrolled": true
   },
   "outputs": [
    {
     "name": "stdout",
     "output_type": "stream",
     "text": [
      "<class 'pandas.core.frame.DataFrame'>\n",
      "RangeIndex: 123036 entries, 0 to 123035\n",
      "Data columns (total 3 columns):\n",
      "id              123036 non-null object\n",
      "message_date    123036 non-null datetime64[ns]\n",
      "user_id         123036 non-null object\n",
      "dtypes: datetime64[ns](1), object(2)\n",
      "memory usage: 2.8+ MB\n"
     ]
    },
    {
     "data": {
      "text/html": [
       "<div>\n",
       "<style scoped>\n",
       "    .dataframe tbody tr th:only-of-type {\n",
       "        vertical-align: middle;\n",
       "    }\n",
       "\n",
       "    .dataframe tbody tr th {\n",
       "        vertical-align: top;\n",
       "    }\n",
       "\n",
       "    .dataframe thead th {\n",
       "        text-align: right;\n",
       "    }\n",
       "</style>\n",
       "<table border=\"1\" class=\"dataframe\">\n",
       "  <thead>\n",
       "    <tr style=\"text-align: right;\">\n",
       "      <th></th>\n",
       "      <th>id</th>\n",
       "      <th>message_date</th>\n",
       "      <th>user_id</th>\n",
       "    </tr>\n",
       "  </thead>\n",
       "  <tbody>\n",
       "    <tr>\n",
       "      <td>0</td>\n",
       "      <td>1000_0</td>\n",
       "      <td>2018-06-27</td>\n",
       "      <td>1000</td>\n",
       "    </tr>\n",
       "    <tr>\n",
       "      <td>1</td>\n",
       "      <td>1000_1</td>\n",
       "      <td>2018-10-08</td>\n",
       "      <td>1000</td>\n",
       "    </tr>\n",
       "    <tr>\n",
       "      <td>2</td>\n",
       "      <td>1000_2</td>\n",
       "      <td>2018-08-04</td>\n",
       "      <td>1000</td>\n",
       "    </tr>\n",
       "    <tr>\n",
       "      <td>3</td>\n",
       "      <td>1000_3</td>\n",
       "      <td>2018-06-16</td>\n",
       "      <td>1000</td>\n",
       "    </tr>\n",
       "    <tr>\n",
       "      <td>4</td>\n",
       "      <td>1000_4</td>\n",
       "      <td>2018-12-05</td>\n",
       "      <td>1000</td>\n",
       "    </tr>\n",
       "  </tbody>\n",
       "</table>\n",
       "</div>"
      ],
      "text/plain": [
       "       id message_date user_id\n",
       "0  1000_0   2018-06-27    1000\n",
       "1  1000_1   2018-10-08    1000\n",
       "2  1000_2   2018-08-04    1000\n",
       "3  1000_3   2018-06-16    1000\n",
       "4  1000_4   2018-12-05    1000"
      ]
     },
     "metadata": {},
     "output_type": "display_data"
    }
   ],
   "source": [
    "messages['message_date'] = pd.to_datetime(messages['message_date'], format='%Y-%m-%dT%H:%M:%S')\n",
    "messages['user_id'] = messages['user_id'].astype('object')\n",
    "\n",
    "messages.info()\n",
    "display(messages.head())"
   ]
  },
  {
   "cell_type": "markdown",
   "metadata": {},
   "source": [
    "Проверяем, есть ли выбивающиеся значения (слишком большие или слишком маленькие):"
   ]
  },
  {
   "cell_type": "code",
   "execution_count": 31,
   "metadata": {
    "scrolled": false
   },
   "outputs": [
    {
     "data": {
      "text/html": [
       "<div>\n",
       "<style scoped>\n",
       "    .dataframe tbody tr th:only-of-type {\n",
       "        vertical-align: middle;\n",
       "    }\n",
       "\n",
       "    .dataframe tbody tr th {\n",
       "        vertical-align: top;\n",
       "    }\n",
       "\n",
       "    .dataframe thead th {\n",
       "        text-align: right;\n",
       "    }\n",
       "</style>\n",
       "<table border=\"1\" class=\"dataframe\">\n",
       "  <thead>\n",
       "    <tr style=\"text-align: right;\">\n",
       "      <th></th>\n",
       "      <th>id</th>\n",
       "      <th>message_date</th>\n",
       "      <th>user_id</th>\n",
       "    </tr>\n",
       "  </thead>\n",
       "  <tbody>\n",
       "    <tr>\n",
       "      <td>min</td>\n",
       "      <td>1000_0</td>\n",
       "      <td>2018-01-02</td>\n",
       "      <td>1000</td>\n",
       "    </tr>\n",
       "    <tr>\n",
       "      <td>max</td>\n",
       "      <td>1499_99</td>\n",
       "      <td>2018-12-31</td>\n",
       "      <td>1499</td>\n",
       "    </tr>\n",
       "  </tbody>\n",
       "</table>\n",
       "</div>"
      ],
      "text/plain": [
       "          id message_date  user_id\n",
       "min   1000_0   2018-01-02     1000\n",
       "max  1499_99   2018-12-31     1499"
      ]
     },
     "metadata": {},
     "output_type": "display_data"
    }
   ],
   "source": [
    "display(messages.agg(['min', 'max']))"
   ]
  },
  {
   "cell_type": "markdown",
   "metadata": {},
   "source": [
    "Создадим столбец `month`  и сохраним в него месяц из `message_date`."
   ]
  },
  {
   "cell_type": "code",
   "execution_count": 32,
   "metadata": {},
   "outputs": [
    {
     "data": {
      "text/html": [
       "<div>\n",
       "<style scoped>\n",
       "    .dataframe tbody tr th:only-of-type {\n",
       "        vertical-align: middle;\n",
       "    }\n",
       "\n",
       "    .dataframe tbody tr th {\n",
       "        vertical-align: top;\n",
       "    }\n",
       "\n",
       "    .dataframe thead th {\n",
       "        text-align: right;\n",
       "    }\n",
       "</style>\n",
       "<table border=\"1\" class=\"dataframe\">\n",
       "  <thead>\n",
       "    <tr style=\"text-align: right;\">\n",
       "      <th></th>\n",
       "      <th>id</th>\n",
       "      <th>message_date</th>\n",
       "      <th>user_id</th>\n",
       "      <th>month</th>\n",
       "    </tr>\n",
       "  </thead>\n",
       "  <tbody>\n",
       "    <tr>\n",
       "      <td>0</td>\n",
       "      <td>1000_0</td>\n",
       "      <td>2018-06-27</td>\n",
       "      <td>1000</td>\n",
       "      <td>6</td>\n",
       "    </tr>\n",
       "    <tr>\n",
       "      <td>1</td>\n",
       "      <td>1000_1</td>\n",
       "      <td>2018-10-08</td>\n",
       "      <td>1000</td>\n",
       "      <td>10</td>\n",
       "    </tr>\n",
       "    <tr>\n",
       "      <td>2</td>\n",
       "      <td>1000_2</td>\n",
       "      <td>2018-08-04</td>\n",
       "      <td>1000</td>\n",
       "      <td>8</td>\n",
       "    </tr>\n",
       "    <tr>\n",
       "      <td>3</td>\n",
       "      <td>1000_3</td>\n",
       "      <td>2018-06-16</td>\n",
       "      <td>1000</td>\n",
       "      <td>6</td>\n",
       "    </tr>\n",
       "    <tr>\n",
       "      <td>4</td>\n",
       "      <td>1000_4</td>\n",
       "      <td>2018-12-05</td>\n",
       "      <td>1000</td>\n",
       "      <td>12</td>\n",
       "    </tr>\n",
       "  </tbody>\n",
       "</table>\n",
       "</div>"
      ],
      "text/plain": [
       "       id message_date user_id  month\n",
       "0  1000_0   2018-06-27    1000      6\n",
       "1  1000_1   2018-10-08    1000     10\n",
       "2  1000_2   2018-08-04    1000      8\n",
       "3  1000_3   2018-06-16    1000      6\n",
       "4  1000_4   2018-12-05    1000     12"
      ]
     },
     "metadata": {},
     "output_type": "display_data"
    }
   ],
   "source": [
    "messages['month'] = pd.DatetimeIndex(messages['message_date']).month\n",
    "display(messages.head())"
   ]
  },
  {
   "cell_type": "markdown",
   "metadata": {},
   "source": [
    "Для того, чтобы посчитать количество отправленных сообщений по месяцам, создадим сводную таблицу `messages_month`."
   ]
  },
  {
   "cell_type": "code",
   "execution_count": 33,
   "metadata": {},
   "outputs": [
    {
     "data": {
      "text/html": [
       "<div>\n",
       "<style scoped>\n",
       "    .dataframe tbody tr th:only-of-type {\n",
       "        vertical-align: middle;\n",
       "    }\n",
       "\n",
       "    .dataframe tbody tr th {\n",
       "        vertical-align: top;\n",
       "    }\n",
       "\n",
       "    .dataframe thead th {\n",
       "        text-align: right;\n",
       "    }\n",
       "</style>\n",
       "<table border=\"1\" class=\"dataframe\">\n",
       "  <thead>\n",
       "    <tr style=\"text-align: right;\">\n",
       "      <th></th>\n",
       "      <th></th>\n",
       "      <th>id</th>\n",
       "    </tr>\n",
       "    <tr>\n",
       "      <th>user_id</th>\n",
       "      <th>month</th>\n",
       "      <th></th>\n",
       "    </tr>\n",
       "  </thead>\n",
       "  <tbody>\n",
       "    <tr>\n",
       "      <td rowspan=\"5\" valign=\"top\">1000</td>\n",
       "      <td>5</td>\n",
       "      <td>22</td>\n",
       "    </tr>\n",
       "    <tr>\n",
       "      <td>6</td>\n",
       "      <td>60</td>\n",
       "    </tr>\n",
       "    <tr>\n",
       "      <td>7</td>\n",
       "      <td>75</td>\n",
       "    </tr>\n",
       "    <tr>\n",
       "      <td>8</td>\n",
       "      <td>81</td>\n",
       "    </tr>\n",
       "    <tr>\n",
       "      <td>9</td>\n",
       "      <td>57</td>\n",
       "    </tr>\n",
       "  </tbody>\n",
       "</table>\n",
       "</div>"
      ],
      "text/plain": [
       "               id\n",
       "user_id month    \n",
       "1000    5      22\n",
       "        6      60\n",
       "        7      75\n",
       "        8      81\n",
       "        9      57"
      ]
     },
     "metadata": {},
     "output_type": "display_data"
    }
   ],
   "source": [
    "messages_month = messages.pivot_table(\n",
    "    index=['user_id', 'month'],\n",
    "    values='id',\n",
    "    aggfunc='count'\n",
    ")\n",
    "\n",
    "display(messages_month.head())"
   ]
  },
  {
   "cell_type": "markdown",
   "metadata": {},
   "source": [
    "Переименуем столбцы, чтобы было понятно, что речь идёт о количестве сообщений в конкретном месяце."
   ]
  },
  {
   "cell_type": "code",
   "execution_count": 34,
   "metadata": {},
   "outputs": [
    {
     "data": {
      "text/html": [
       "<div>\n",
       "<style scoped>\n",
       "    .dataframe tbody tr th:only-of-type {\n",
       "        vertical-align: middle;\n",
       "    }\n",
       "\n",
       "    .dataframe tbody tr th {\n",
       "        vertical-align: top;\n",
       "    }\n",
       "\n",
       "    .dataframe thead th {\n",
       "        text-align: right;\n",
       "    }\n",
       "</style>\n",
       "<table border=\"1\" class=\"dataframe\">\n",
       "  <thead>\n",
       "    <tr style=\"text-align: right;\">\n",
       "      <th></th>\n",
       "      <th></th>\n",
       "      <th>messages</th>\n",
       "    </tr>\n",
       "    <tr>\n",
       "      <th>user_id</th>\n",
       "      <th>month</th>\n",
       "      <th></th>\n",
       "    </tr>\n",
       "  </thead>\n",
       "  <tbody>\n",
       "    <tr>\n",
       "      <td rowspan=\"5\" valign=\"top\">1000</td>\n",
       "      <td>5</td>\n",
       "      <td>22</td>\n",
       "    </tr>\n",
       "    <tr>\n",
       "      <td>6</td>\n",
       "      <td>60</td>\n",
       "    </tr>\n",
       "    <tr>\n",
       "      <td>7</td>\n",
       "      <td>75</td>\n",
       "    </tr>\n",
       "    <tr>\n",
       "      <td>8</td>\n",
       "      <td>81</td>\n",
       "    </tr>\n",
       "    <tr>\n",
       "      <td>9</td>\n",
       "      <td>57</td>\n",
       "    </tr>\n",
       "  </tbody>\n",
       "</table>\n",
       "</div>"
      ],
      "text/plain": [
       "               messages\n",
       "user_id month          \n",
       "1000    5            22\n",
       "        6            60\n",
       "        7            75\n",
       "        8            81\n",
       "        9            57"
      ]
     },
     "metadata": {},
     "output_type": "display_data"
    }
   ],
   "source": [
    "messages_month.columns = ['messages']\n",
    "display(messages_month.head())"
   ]
  },
  {
   "cell_type": "markdown",
   "metadata": {},
   "source": [
    "Добавляем данные о количестве сообщений по месяцам в таблицу `data`."
   ]
  },
  {
   "cell_type": "code",
   "execution_count": 35,
   "metadata": {
    "scrolled": true
   },
   "outputs": [
    {
     "data": {
      "text/html": [
       "<div>\n",
       "<style scoped>\n",
       "    .dataframe tbody tr th:only-of-type {\n",
       "        vertical-align: middle;\n",
       "    }\n",
       "\n",
       "    .dataframe tbody tr th {\n",
       "        vertical-align: top;\n",
       "    }\n",
       "\n",
       "    .dataframe thead th {\n",
       "        text-align: right;\n",
       "    }\n",
       "</style>\n",
       "<table border=\"1\" class=\"dataframe\">\n",
       "  <thead>\n",
       "    <tr style=\"text-align: right;\">\n",
       "      <th></th>\n",
       "      <th>user_id</th>\n",
       "      <th>tariff</th>\n",
       "      <th>age</th>\n",
       "      <th>city</th>\n",
       "      <th>reg_date</th>\n",
       "      <th>churn_date</th>\n",
       "      <th>moscow</th>\n",
       "      <th>calls</th>\n",
       "      <th>duration</th>\n",
       "      <th>month</th>\n",
       "      <th>messages</th>\n",
       "    </tr>\n",
       "  </thead>\n",
       "  <tbody>\n",
       "    <tr>\n",
       "      <td>0</td>\n",
       "      <td>1000</td>\n",
       "      <td>ultra</td>\n",
       "      <td>52</td>\n",
       "      <td>Краснодар</td>\n",
       "      <td>2018-05-25</td>\n",
       "      <td>NaT</td>\n",
       "      <td>False</td>\n",
       "      <td>22.0</td>\n",
       "      <td>159.0</td>\n",
       "      <td>5.0</td>\n",
       "      <td>22.0</td>\n",
       "    </tr>\n",
       "    <tr>\n",
       "      <td>1</td>\n",
       "      <td>1000</td>\n",
       "      <td>ultra</td>\n",
       "      <td>52</td>\n",
       "      <td>Краснодар</td>\n",
       "      <td>2018-05-25</td>\n",
       "      <td>NaT</td>\n",
       "      <td>False</td>\n",
       "      <td>43.0</td>\n",
       "      <td>172.0</td>\n",
       "      <td>6.0</td>\n",
       "      <td>60.0</td>\n",
       "    </tr>\n",
       "    <tr>\n",
       "      <td>2</td>\n",
       "      <td>1000</td>\n",
       "      <td>ultra</td>\n",
       "      <td>52</td>\n",
       "      <td>Краснодар</td>\n",
       "      <td>2018-05-25</td>\n",
       "      <td>NaT</td>\n",
       "      <td>False</td>\n",
       "      <td>47.0</td>\n",
       "      <td>340.0</td>\n",
       "      <td>7.0</td>\n",
       "      <td>75.0</td>\n",
       "    </tr>\n",
       "    <tr>\n",
       "      <td>3</td>\n",
       "      <td>1000</td>\n",
       "      <td>ultra</td>\n",
       "      <td>52</td>\n",
       "      <td>Краснодар</td>\n",
       "      <td>2018-05-25</td>\n",
       "      <td>NaT</td>\n",
       "      <td>False</td>\n",
       "      <td>52.0</td>\n",
       "      <td>408.0</td>\n",
       "      <td>8.0</td>\n",
       "      <td>81.0</td>\n",
       "    </tr>\n",
       "    <tr>\n",
       "      <td>4</td>\n",
       "      <td>1000</td>\n",
       "      <td>ultra</td>\n",
       "      <td>52</td>\n",
       "      <td>Краснодар</td>\n",
       "      <td>2018-05-25</td>\n",
       "      <td>NaT</td>\n",
       "      <td>False</td>\n",
       "      <td>58.0</td>\n",
       "      <td>466.0</td>\n",
       "      <td>9.0</td>\n",
       "      <td>57.0</td>\n",
       "    </tr>\n",
       "  </tbody>\n",
       "</table>\n",
       "</div>"
      ],
      "text/plain": [
       "  user_id tariff  age       city   reg_date churn_date  moscow  calls  \\\n",
       "0    1000  ultra   52  Краснодар 2018-05-25        NaT   False   22.0   \n",
       "1    1000  ultra   52  Краснодар 2018-05-25        NaT   False   43.0   \n",
       "2    1000  ultra   52  Краснодар 2018-05-25        NaT   False   47.0   \n",
       "3    1000  ultra   52  Краснодар 2018-05-25        NaT   False   52.0   \n",
       "4    1000  ultra   52  Краснодар 2018-05-25        NaT   False   58.0   \n",
       "\n",
       "   duration  month  messages  \n",
       "0     159.0    5.0      22.0  \n",
       "1     172.0    6.0      60.0  \n",
       "2     340.0    7.0      75.0  \n",
       "3     408.0    8.0      81.0  \n",
       "4     466.0    9.0      57.0  "
      ]
     },
     "metadata": {},
     "output_type": "display_data"
    }
   ],
   "source": [
    "data = data.merge(messages_month, on=['user_id', 'month'], how='left')\n",
    "display(data.head())"
   ]
  },
  {
   "cell_type": "markdown",
   "metadata": {},
   "source": [
    "### Подготовка данных об интернет-трафике  \n",
    "Проверим и подготовим к анализу таблицу `internet`. Изменим на нужный тип данных столбцов. Для этого ещё раз распечатаем информацию о столбцах и первые строки таблицы."
   ]
  },
  {
   "cell_type": "code",
   "execution_count": 36,
   "metadata": {},
   "outputs": [
    {
     "name": "stdout",
     "output_type": "stream",
     "text": [
      "<class 'pandas.core.frame.DataFrame'>\n",
      "RangeIndex: 149396 entries, 0 to 149395\n",
      "Data columns (total 5 columns):\n",
      "Unnamed: 0      149396 non-null int64\n",
      "id              149396 non-null object\n",
      "mb_used         149396 non-null float64\n",
      "session_date    149396 non-null object\n",
      "user_id         149396 non-null int64\n",
      "dtypes: float64(1), int64(2), object(2)\n",
      "memory usage: 5.7+ MB\n"
     ]
    },
    {
     "data": {
      "text/html": [
       "<div>\n",
       "<style scoped>\n",
       "    .dataframe tbody tr th:only-of-type {\n",
       "        vertical-align: middle;\n",
       "    }\n",
       "\n",
       "    .dataframe tbody tr th {\n",
       "        vertical-align: top;\n",
       "    }\n",
       "\n",
       "    .dataframe thead th {\n",
       "        text-align: right;\n",
       "    }\n",
       "</style>\n",
       "<table border=\"1\" class=\"dataframe\">\n",
       "  <thead>\n",
       "    <tr style=\"text-align: right;\">\n",
       "      <th></th>\n",
       "      <th>Unnamed: 0</th>\n",
       "      <th>id</th>\n",
       "      <th>mb_used</th>\n",
       "      <th>session_date</th>\n",
       "      <th>user_id</th>\n",
       "    </tr>\n",
       "  </thead>\n",
       "  <tbody>\n",
       "    <tr>\n",
       "      <td>0</td>\n",
       "      <td>0</td>\n",
       "      <td>1000_0</td>\n",
       "      <td>112.95</td>\n",
       "      <td>2018-11-25</td>\n",
       "      <td>1000</td>\n",
       "    </tr>\n",
       "    <tr>\n",
       "      <td>1</td>\n",
       "      <td>1</td>\n",
       "      <td>1000_1</td>\n",
       "      <td>1052.81</td>\n",
       "      <td>2018-09-07</td>\n",
       "      <td>1000</td>\n",
       "    </tr>\n",
       "    <tr>\n",
       "      <td>2</td>\n",
       "      <td>2</td>\n",
       "      <td>1000_2</td>\n",
       "      <td>1197.26</td>\n",
       "      <td>2018-06-25</td>\n",
       "      <td>1000</td>\n",
       "    </tr>\n",
       "    <tr>\n",
       "      <td>3</td>\n",
       "      <td>3</td>\n",
       "      <td>1000_3</td>\n",
       "      <td>550.27</td>\n",
       "      <td>2018-08-22</td>\n",
       "      <td>1000</td>\n",
       "    </tr>\n",
       "    <tr>\n",
       "      <td>4</td>\n",
       "      <td>4</td>\n",
       "      <td>1000_4</td>\n",
       "      <td>302.56</td>\n",
       "      <td>2018-09-24</td>\n",
       "      <td>1000</td>\n",
       "    </tr>\n",
       "  </tbody>\n",
       "</table>\n",
       "</div>"
      ],
      "text/plain": [
       "   Unnamed: 0      id  mb_used session_date  user_id\n",
       "0           0  1000_0   112.95   2018-11-25     1000\n",
       "1           1  1000_1  1052.81   2018-09-07     1000\n",
       "2           2  1000_2  1197.26   2018-06-25     1000\n",
       "3           3  1000_3   550.27   2018-08-22     1000\n",
       "4           4  1000_4   302.56   2018-09-24     1000"
      ]
     },
     "metadata": {},
     "output_type": "display_data"
    }
   ],
   "source": [
    "internet.info()\n",
    "display(internet.head())"
   ]
  },
  {
   "cell_type": "markdown",
   "metadata": {},
   "source": [
    "Исправим типы данных в столбцах."
   ]
  },
  {
   "cell_type": "code",
   "execution_count": 37,
   "metadata": {},
   "outputs": [
    {
     "name": "stdout",
     "output_type": "stream",
     "text": [
      "<class 'pandas.core.frame.DataFrame'>\n",
      "RangeIndex: 149396 entries, 0 to 149395\n",
      "Data columns (total 5 columns):\n",
      "Unnamed: 0      149396 non-null int64\n",
      "id              149396 non-null object\n",
      "mb_used         149396 non-null float64\n",
      "session_date    149396 non-null datetime64[ns]\n",
      "user_id         149396 non-null object\n",
      "dtypes: datetime64[ns](1), float64(1), int64(1), object(2)\n",
      "memory usage: 5.7+ MB\n"
     ]
    },
    {
     "data": {
      "text/html": [
       "<div>\n",
       "<style scoped>\n",
       "    .dataframe tbody tr th:only-of-type {\n",
       "        vertical-align: middle;\n",
       "    }\n",
       "\n",
       "    .dataframe tbody tr th {\n",
       "        vertical-align: top;\n",
       "    }\n",
       "\n",
       "    .dataframe thead th {\n",
       "        text-align: right;\n",
       "    }\n",
       "</style>\n",
       "<table border=\"1\" class=\"dataframe\">\n",
       "  <thead>\n",
       "    <tr style=\"text-align: right;\">\n",
       "      <th></th>\n",
       "      <th>Unnamed: 0</th>\n",
       "      <th>id</th>\n",
       "      <th>mb_used</th>\n",
       "      <th>session_date</th>\n",
       "      <th>user_id</th>\n",
       "    </tr>\n",
       "  </thead>\n",
       "  <tbody>\n",
       "    <tr>\n",
       "      <td>0</td>\n",
       "      <td>0</td>\n",
       "      <td>1000_0</td>\n",
       "      <td>112.95</td>\n",
       "      <td>2018-11-25</td>\n",
       "      <td>1000</td>\n",
       "    </tr>\n",
       "    <tr>\n",
       "      <td>1</td>\n",
       "      <td>1</td>\n",
       "      <td>1000_1</td>\n",
       "      <td>1052.81</td>\n",
       "      <td>2018-09-07</td>\n",
       "      <td>1000</td>\n",
       "    </tr>\n",
       "    <tr>\n",
       "      <td>2</td>\n",
       "      <td>2</td>\n",
       "      <td>1000_2</td>\n",
       "      <td>1197.26</td>\n",
       "      <td>2018-06-25</td>\n",
       "      <td>1000</td>\n",
       "    </tr>\n",
       "    <tr>\n",
       "      <td>3</td>\n",
       "      <td>3</td>\n",
       "      <td>1000_3</td>\n",
       "      <td>550.27</td>\n",
       "      <td>2018-08-22</td>\n",
       "      <td>1000</td>\n",
       "    </tr>\n",
       "    <tr>\n",
       "      <td>4</td>\n",
       "      <td>4</td>\n",
       "      <td>1000_4</td>\n",
       "      <td>302.56</td>\n",
       "      <td>2018-09-24</td>\n",
       "      <td>1000</td>\n",
       "    </tr>\n",
       "  </tbody>\n",
       "</table>\n",
       "</div>"
      ],
      "text/plain": [
       "   Unnamed: 0      id  mb_used session_date user_id\n",
       "0           0  1000_0   112.95   2018-11-25    1000\n",
       "1           1  1000_1  1052.81   2018-09-07    1000\n",
       "2           2  1000_2  1197.26   2018-06-25    1000\n",
       "3           3  1000_3   550.27   2018-08-22    1000\n",
       "4           4  1000_4   302.56   2018-09-24    1000"
      ]
     },
     "metadata": {},
     "output_type": "display_data"
    }
   ],
   "source": [
    "internet['session_date'] = pd.to_datetime(internet['session_date'], format='%Y-%m-%dT%H:%M:%S')\n",
    "internet['user_id'] = internet['user_id'].astype('object')\n",
    "\n",
    "internet.info()\n",
    "display(internet.head())"
   ]
  },
  {
   "cell_type": "markdown",
   "metadata": {},
   "source": [
    "Проверим данные на наличие выбивающихся значений (слишком больших или слишком маленьких)"
   ]
  },
  {
   "cell_type": "code",
   "execution_count": 38,
   "metadata": {},
   "outputs": [
    {
     "data": {
      "text/html": [
       "<div>\n",
       "<style scoped>\n",
       "    .dataframe tbody tr th:only-of-type {\n",
       "        vertical-align: middle;\n",
       "    }\n",
       "\n",
       "    .dataframe tbody tr th {\n",
       "        vertical-align: top;\n",
       "    }\n",
       "\n",
       "    .dataframe thead th {\n",
       "        text-align: right;\n",
       "    }\n",
       "</style>\n",
       "<table border=\"1\" class=\"dataframe\">\n",
       "  <thead>\n",
       "    <tr style=\"text-align: right;\">\n",
       "      <th></th>\n",
       "      <th>Unnamed: 0</th>\n",
       "      <th>id</th>\n",
       "      <th>mb_used</th>\n",
       "      <th>session_date</th>\n",
       "      <th>user_id</th>\n",
       "    </tr>\n",
       "  </thead>\n",
       "  <tbody>\n",
       "    <tr>\n",
       "      <td>min</td>\n",
       "      <td>0</td>\n",
       "      <td>1000_0</td>\n",
       "      <td>0.00</td>\n",
       "      <td>2018-01-01</td>\n",
       "      <td>1000</td>\n",
       "    </tr>\n",
       "    <tr>\n",
       "      <td>max</td>\n",
       "      <td>149395</td>\n",
       "      <td>1499_99</td>\n",
       "      <td>1724.83</td>\n",
       "      <td>2018-12-31</td>\n",
       "      <td>1499</td>\n",
       "    </tr>\n",
       "  </tbody>\n",
       "</table>\n",
       "</div>"
      ],
      "text/plain": [
       "     Unnamed: 0       id  mb_used session_date  user_id\n",
       "min           0   1000_0     0.00   2018-01-01     1000\n",
       "max      149395  1499_99  1724.83   2018-12-31     1499"
      ]
     },
     "metadata": {},
     "output_type": "display_data"
    }
   ],
   "source": [
    "display(internet.agg(['min', 'max']))"
   ]
  },
  {
   "cell_type": "markdown",
   "metadata": {},
   "source": [
    "Столбец `Unnamed: 0` действительно дублирует индексы (самое большое значение в нём на 1 меньше, чем количество строк). Удаляем его."
   ]
  },
  {
   "cell_type": "code",
   "execution_count": 39,
   "metadata": {},
   "outputs": [
    {
     "data": {
      "text/plain": [
       "Index(['id', 'mb_used', 'session_date', 'user_id'], dtype='object')"
      ]
     },
     "execution_count": 39,
     "metadata": {},
     "output_type": "execute_result"
    }
   ],
   "source": [
    "internet = internet.drop('Unnamed: 0', axis=1)\n",
    "internet.columns"
   ]
  },
  {
   "cell_type": "markdown",
   "metadata": {},
   "source": [
    "Создадим столбец `month`  и сохраним в него месяц из `session_date`."
   ]
  },
  {
   "cell_type": "code",
   "execution_count": 40,
   "metadata": {},
   "outputs": [
    {
     "data": {
      "text/html": [
       "<div>\n",
       "<style scoped>\n",
       "    .dataframe tbody tr th:only-of-type {\n",
       "        vertical-align: middle;\n",
       "    }\n",
       "\n",
       "    .dataframe tbody tr th {\n",
       "        vertical-align: top;\n",
       "    }\n",
       "\n",
       "    .dataframe thead th {\n",
       "        text-align: right;\n",
       "    }\n",
       "</style>\n",
       "<table border=\"1\" class=\"dataframe\">\n",
       "  <thead>\n",
       "    <tr style=\"text-align: right;\">\n",
       "      <th></th>\n",
       "      <th>id</th>\n",
       "      <th>mb_used</th>\n",
       "      <th>session_date</th>\n",
       "      <th>user_id</th>\n",
       "      <th>month</th>\n",
       "    </tr>\n",
       "  </thead>\n",
       "  <tbody>\n",
       "    <tr>\n",
       "      <td>0</td>\n",
       "      <td>1000_0</td>\n",
       "      <td>112.95</td>\n",
       "      <td>2018-11-25</td>\n",
       "      <td>1000</td>\n",
       "      <td>11</td>\n",
       "    </tr>\n",
       "    <tr>\n",
       "      <td>1</td>\n",
       "      <td>1000_1</td>\n",
       "      <td>1052.81</td>\n",
       "      <td>2018-09-07</td>\n",
       "      <td>1000</td>\n",
       "      <td>9</td>\n",
       "    </tr>\n",
       "    <tr>\n",
       "      <td>2</td>\n",
       "      <td>1000_2</td>\n",
       "      <td>1197.26</td>\n",
       "      <td>2018-06-25</td>\n",
       "      <td>1000</td>\n",
       "      <td>6</td>\n",
       "    </tr>\n",
       "    <tr>\n",
       "      <td>3</td>\n",
       "      <td>1000_3</td>\n",
       "      <td>550.27</td>\n",
       "      <td>2018-08-22</td>\n",
       "      <td>1000</td>\n",
       "      <td>8</td>\n",
       "    </tr>\n",
       "    <tr>\n",
       "      <td>4</td>\n",
       "      <td>1000_4</td>\n",
       "      <td>302.56</td>\n",
       "      <td>2018-09-24</td>\n",
       "      <td>1000</td>\n",
       "      <td>9</td>\n",
       "    </tr>\n",
       "  </tbody>\n",
       "</table>\n",
       "</div>"
      ],
      "text/plain": [
       "       id  mb_used session_date user_id  month\n",
       "0  1000_0   112.95   2018-11-25    1000     11\n",
       "1  1000_1  1052.81   2018-09-07    1000      9\n",
       "2  1000_2  1197.26   2018-06-25    1000      6\n",
       "3  1000_3   550.27   2018-08-22    1000      8\n",
       "4  1000_4   302.56   2018-09-24    1000      9"
      ]
     },
     "metadata": {},
     "output_type": "display_data"
    }
   ],
   "source": [
    "internet['month'] = pd.DatetimeIndex(internet['session_date']).month\n",
    "display(internet.head())"
   ]
  },
  {
   "cell_type": "markdown",
   "metadata": {},
   "source": [
    "Оператор \"Мегалайн\" округляет до гигабайт количество потраченных мегабайт в конце месяца. Посчитаем объем израсходованного интернет-трафика по месяцам для каждого пользователя при помощи сводной таблицы `internet_month`."
   ]
  },
  {
   "cell_type": "code",
   "execution_count": 41,
   "metadata": {},
   "outputs": [
    {
     "data": {
      "text/html": [
       "<div>\n",
       "<style scoped>\n",
       "    .dataframe tbody tr th:only-of-type {\n",
       "        vertical-align: middle;\n",
       "    }\n",
       "\n",
       "    .dataframe tbody tr th {\n",
       "        vertical-align: top;\n",
       "    }\n",
       "\n",
       "    .dataframe thead th {\n",
       "        text-align: right;\n",
       "    }\n",
       "</style>\n",
       "<table border=\"1\" class=\"dataframe\">\n",
       "  <thead>\n",
       "    <tr style=\"text-align: right;\">\n",
       "      <th></th>\n",
       "      <th></th>\n",
       "      <th>mb_used</th>\n",
       "    </tr>\n",
       "    <tr>\n",
       "      <th>user_id</th>\n",
       "      <th>month</th>\n",
       "      <th></th>\n",
       "    </tr>\n",
       "  </thead>\n",
       "  <tbody>\n",
       "    <tr>\n",
       "      <td rowspan=\"5\" valign=\"top\">1000</td>\n",
       "      <td>5</td>\n",
       "      <td>2253.49</td>\n",
       "    </tr>\n",
       "    <tr>\n",
       "      <td>6</td>\n",
       "      <td>23233.77</td>\n",
       "    </tr>\n",
       "    <tr>\n",
       "      <td>7</td>\n",
       "      <td>14003.64</td>\n",
       "    </tr>\n",
       "    <tr>\n",
       "      <td>8</td>\n",
       "      <td>14055.93</td>\n",
       "    </tr>\n",
       "    <tr>\n",
       "      <td>9</td>\n",
       "      <td>14568.91</td>\n",
       "    </tr>\n",
       "  </tbody>\n",
       "</table>\n",
       "</div>"
      ],
      "text/plain": [
       "                mb_used\n",
       "user_id month          \n",
       "1000    5       2253.49\n",
       "        6      23233.77\n",
       "        7      14003.64\n",
       "        8      14055.93\n",
       "        9      14568.91"
      ]
     },
     "metadata": {},
     "output_type": "display_data"
    }
   ],
   "source": [
    "internet_month = internet.pivot_table(\n",
    "    index=['user_id', 'month'],\n",
    "    values='mb_used',\n",
    "    aggfunc='sum'\n",
    ")\n",
    "\n",
    "display(internet_month.head())"
   ]
  },
  {
   "cell_type": "markdown",
   "metadata": {},
   "source": [
    "Округляем получившуюся сумму до гигабайт в большую сторону и переименовываем столбец в `gb_used`."
   ]
  },
  {
   "cell_type": "code",
   "execution_count": 42,
   "metadata": {},
   "outputs": [
    {
     "data": {
      "text/html": [
       "<div>\n",
       "<style scoped>\n",
       "    .dataframe tbody tr th:only-of-type {\n",
       "        vertical-align: middle;\n",
       "    }\n",
       "\n",
       "    .dataframe tbody tr th {\n",
       "        vertical-align: top;\n",
       "    }\n",
       "\n",
       "    .dataframe thead th {\n",
       "        text-align: right;\n",
       "    }\n",
       "</style>\n",
       "<table border=\"1\" class=\"dataframe\">\n",
       "  <thead>\n",
       "    <tr style=\"text-align: right;\">\n",
       "      <th></th>\n",
       "      <th></th>\n",
       "      <th>gb_used</th>\n",
       "    </tr>\n",
       "    <tr>\n",
       "      <th>user_id</th>\n",
       "      <th>month</th>\n",
       "      <th></th>\n",
       "    </tr>\n",
       "  </thead>\n",
       "  <tbody>\n",
       "    <tr>\n",
       "      <td rowspan=\"5\" valign=\"top\">1000</td>\n",
       "      <td>5</td>\n",
       "      <td>3.0</td>\n",
       "    </tr>\n",
       "    <tr>\n",
       "      <td>6</td>\n",
       "      <td>23.0</td>\n",
       "    </tr>\n",
       "    <tr>\n",
       "      <td>7</td>\n",
       "      <td>14.0</td>\n",
       "    </tr>\n",
       "    <tr>\n",
       "      <td>8</td>\n",
       "      <td>14.0</td>\n",
       "    </tr>\n",
       "    <tr>\n",
       "      <td>9</td>\n",
       "      <td>15.0</td>\n",
       "    </tr>\n",
       "  </tbody>\n",
       "</table>\n",
       "</div>"
      ],
      "text/plain": [
       "               gb_used\n",
       "user_id month         \n",
       "1000    5          3.0\n",
       "        6         23.0\n",
       "        7         14.0\n",
       "        8         14.0\n",
       "        9         15.0"
      ]
     },
     "metadata": {},
     "output_type": "display_data"
    }
   ],
   "source": [
    "internet_month['mb_used'] = internet_month['mb_used'] / 1024\n",
    "internet_month = np.ceil(internet_month)\n",
    "internet_month = internet_month.rename(columns = {'mb_used' : 'gb_used'})\n",
    "display(internet_month.head())"
   ]
  },
  {
   "cell_type": "markdown",
   "metadata": {},
   "source": [
    "Добавляем данные об использованном трафике в таблицу `data`."
   ]
  },
  {
   "cell_type": "code",
   "execution_count": 43,
   "metadata": {
    "scrolled": true
   },
   "outputs": [
    {
     "data": {
      "text/html": [
       "<div>\n",
       "<style scoped>\n",
       "    .dataframe tbody tr th:only-of-type {\n",
       "        vertical-align: middle;\n",
       "    }\n",
       "\n",
       "    .dataframe tbody tr th {\n",
       "        vertical-align: top;\n",
       "    }\n",
       "\n",
       "    .dataframe thead th {\n",
       "        text-align: right;\n",
       "    }\n",
       "</style>\n",
       "<table border=\"1\" class=\"dataframe\">\n",
       "  <thead>\n",
       "    <tr style=\"text-align: right;\">\n",
       "      <th></th>\n",
       "      <th>user_id</th>\n",
       "      <th>tariff</th>\n",
       "      <th>age</th>\n",
       "      <th>city</th>\n",
       "      <th>reg_date</th>\n",
       "      <th>churn_date</th>\n",
       "      <th>moscow</th>\n",
       "      <th>calls</th>\n",
       "      <th>duration</th>\n",
       "      <th>month</th>\n",
       "      <th>messages</th>\n",
       "      <th>gb_used</th>\n",
       "    </tr>\n",
       "  </thead>\n",
       "  <tbody>\n",
       "    <tr>\n",
       "      <td>0</td>\n",
       "      <td>1000</td>\n",
       "      <td>ultra</td>\n",
       "      <td>52</td>\n",
       "      <td>Краснодар</td>\n",
       "      <td>2018-05-25</td>\n",
       "      <td>NaT</td>\n",
       "      <td>False</td>\n",
       "      <td>22.0</td>\n",
       "      <td>159.0</td>\n",
       "      <td>5.0</td>\n",
       "      <td>22.0</td>\n",
       "      <td>3.0</td>\n",
       "    </tr>\n",
       "    <tr>\n",
       "      <td>1</td>\n",
       "      <td>1000</td>\n",
       "      <td>ultra</td>\n",
       "      <td>52</td>\n",
       "      <td>Краснодар</td>\n",
       "      <td>2018-05-25</td>\n",
       "      <td>NaT</td>\n",
       "      <td>False</td>\n",
       "      <td>43.0</td>\n",
       "      <td>172.0</td>\n",
       "      <td>6.0</td>\n",
       "      <td>60.0</td>\n",
       "      <td>23.0</td>\n",
       "    </tr>\n",
       "    <tr>\n",
       "      <td>2</td>\n",
       "      <td>1000</td>\n",
       "      <td>ultra</td>\n",
       "      <td>52</td>\n",
       "      <td>Краснодар</td>\n",
       "      <td>2018-05-25</td>\n",
       "      <td>NaT</td>\n",
       "      <td>False</td>\n",
       "      <td>47.0</td>\n",
       "      <td>340.0</td>\n",
       "      <td>7.0</td>\n",
       "      <td>75.0</td>\n",
       "      <td>14.0</td>\n",
       "    </tr>\n",
       "    <tr>\n",
       "      <td>3</td>\n",
       "      <td>1000</td>\n",
       "      <td>ultra</td>\n",
       "      <td>52</td>\n",
       "      <td>Краснодар</td>\n",
       "      <td>2018-05-25</td>\n",
       "      <td>NaT</td>\n",
       "      <td>False</td>\n",
       "      <td>52.0</td>\n",
       "      <td>408.0</td>\n",
       "      <td>8.0</td>\n",
       "      <td>81.0</td>\n",
       "      <td>14.0</td>\n",
       "    </tr>\n",
       "    <tr>\n",
       "      <td>4</td>\n",
       "      <td>1000</td>\n",
       "      <td>ultra</td>\n",
       "      <td>52</td>\n",
       "      <td>Краснодар</td>\n",
       "      <td>2018-05-25</td>\n",
       "      <td>NaT</td>\n",
       "      <td>False</td>\n",
       "      <td>58.0</td>\n",
       "      <td>466.0</td>\n",
       "      <td>9.0</td>\n",
       "      <td>57.0</td>\n",
       "      <td>15.0</td>\n",
       "    </tr>\n",
       "  </tbody>\n",
       "</table>\n",
       "</div>"
      ],
      "text/plain": [
       "  user_id tariff  age       city   reg_date churn_date  moscow  calls  \\\n",
       "0    1000  ultra   52  Краснодар 2018-05-25        NaT   False   22.0   \n",
       "1    1000  ultra   52  Краснодар 2018-05-25        NaT   False   43.0   \n",
       "2    1000  ultra   52  Краснодар 2018-05-25        NaT   False   47.0   \n",
       "3    1000  ultra   52  Краснодар 2018-05-25        NaT   False   52.0   \n",
       "4    1000  ultra   52  Краснодар 2018-05-25        NaT   False   58.0   \n",
       "\n",
       "   duration  month  messages  gb_used  \n",
       "0     159.0    5.0      22.0      3.0  \n",
       "1     172.0    6.0      60.0     23.0  \n",
       "2     340.0    7.0      75.0     14.0  \n",
       "3     408.0    8.0      81.0     14.0  \n",
       "4     466.0    9.0      57.0     15.0  "
      ]
     },
     "metadata": {},
     "output_type": "display_data"
    }
   ],
   "source": [
    "data = data.merge(internet_month, on=['user_id', 'month'], how='left')\n",
    "display(data.head())"
   ]
  },
  {
   "cell_type": "markdown",
   "metadata": {},
   "source": [
    "### Подготовка информации о тарифе  \n",
    "Проверим и подготовим к анализу таблицу `tariffs`.  \n",
    "Ещё раз распечатаем информацию о столбцах."
   ]
  },
  {
   "cell_type": "code",
   "execution_count": 44,
   "metadata": {},
   "outputs": [
    {
     "data": {
      "text/plain": [
       "Index(['messages_included', 'mb_per_month_included', 'minutes_included',\n",
       "       'rub_monthly_fee', 'rub_per_gb', 'rub_per_message', 'rub_per_minute',\n",
       "       'tariff_name'],\n",
       "      dtype='object')"
      ]
     },
     "execution_count": 44,
     "metadata": {},
     "output_type": "execute_result"
    }
   ],
   "source": [
    "tariffs.columns"
   ]
  },
  {
   "cell_type": "markdown",
   "metadata": {},
   "source": [
    "Чтобы добавить информацию о тарифах в таблицу `data`, нужно переименовать столбец `tariff_name` в `tariff`."
   ]
  },
  {
   "cell_type": "code",
   "execution_count": 45,
   "metadata": {},
   "outputs": [
    {
     "data": {
      "text/plain": [
       "Index(['messages_included', 'mb_per_month_included', 'minutes_included',\n",
       "       'rub_monthly_fee', 'rub_per_gb', 'rub_per_message', 'rub_per_minute',\n",
       "       'tariff'],\n",
       "      dtype='object')"
      ]
     },
     "execution_count": 45,
     "metadata": {},
     "output_type": "execute_result"
    }
   ],
   "source": [
    "tariffs = tariffs.rename(columns={'tariff_name' : 'tariff'})\n",
    "tariffs.columns"
   ]
  },
  {
   "cell_type": "markdown",
   "metadata": {},
   "source": [
    "Объединим таблицу `data` и таблицу `tariffs` по столбцу `tariff`."
   ]
  },
  {
   "cell_type": "code",
   "execution_count": 46,
   "metadata": {},
   "outputs": [
    {
     "data": {
      "text/html": [
       "<div>\n",
       "<style scoped>\n",
       "    .dataframe tbody tr th:only-of-type {\n",
       "        vertical-align: middle;\n",
       "    }\n",
       "\n",
       "    .dataframe tbody tr th {\n",
       "        vertical-align: top;\n",
       "    }\n",
       "\n",
       "    .dataframe thead th {\n",
       "        text-align: right;\n",
       "    }\n",
       "</style>\n",
       "<table border=\"1\" class=\"dataframe\">\n",
       "  <thead>\n",
       "    <tr style=\"text-align: right;\">\n",
       "      <th></th>\n",
       "      <th>user_id</th>\n",
       "      <th>tariff</th>\n",
       "      <th>age</th>\n",
       "      <th>city</th>\n",
       "      <th>reg_date</th>\n",
       "      <th>churn_date</th>\n",
       "      <th>moscow</th>\n",
       "      <th>calls</th>\n",
       "      <th>duration</th>\n",
       "      <th>month</th>\n",
       "      <th>messages</th>\n",
       "      <th>gb_used</th>\n",
       "      <th>messages_included</th>\n",
       "      <th>mb_per_month_included</th>\n",
       "      <th>minutes_included</th>\n",
       "      <th>rub_monthly_fee</th>\n",
       "      <th>rub_per_gb</th>\n",
       "      <th>rub_per_message</th>\n",
       "      <th>rub_per_minute</th>\n",
       "    </tr>\n",
       "  </thead>\n",
       "  <tbody>\n",
       "    <tr>\n",
       "      <td>0</td>\n",
       "      <td>1000</td>\n",
       "      <td>ultra</td>\n",
       "      <td>52</td>\n",
       "      <td>Краснодар</td>\n",
       "      <td>2018-05-25</td>\n",
       "      <td>NaT</td>\n",
       "      <td>False</td>\n",
       "      <td>22.0</td>\n",
       "      <td>159.0</td>\n",
       "      <td>5.0</td>\n",
       "      <td>22.0</td>\n",
       "      <td>3.0</td>\n",
       "      <td>1000</td>\n",
       "      <td>30720</td>\n",
       "      <td>3000</td>\n",
       "      <td>1950</td>\n",
       "      <td>150</td>\n",
       "      <td>1</td>\n",
       "      <td>1</td>\n",
       "    </tr>\n",
       "    <tr>\n",
       "      <td>1</td>\n",
       "      <td>1000</td>\n",
       "      <td>ultra</td>\n",
       "      <td>52</td>\n",
       "      <td>Краснодар</td>\n",
       "      <td>2018-05-25</td>\n",
       "      <td>NaT</td>\n",
       "      <td>False</td>\n",
       "      <td>43.0</td>\n",
       "      <td>172.0</td>\n",
       "      <td>6.0</td>\n",
       "      <td>60.0</td>\n",
       "      <td>23.0</td>\n",
       "      <td>1000</td>\n",
       "      <td>30720</td>\n",
       "      <td>3000</td>\n",
       "      <td>1950</td>\n",
       "      <td>150</td>\n",
       "      <td>1</td>\n",
       "      <td>1</td>\n",
       "    </tr>\n",
       "    <tr>\n",
       "      <td>2</td>\n",
       "      <td>1000</td>\n",
       "      <td>ultra</td>\n",
       "      <td>52</td>\n",
       "      <td>Краснодар</td>\n",
       "      <td>2018-05-25</td>\n",
       "      <td>NaT</td>\n",
       "      <td>False</td>\n",
       "      <td>47.0</td>\n",
       "      <td>340.0</td>\n",
       "      <td>7.0</td>\n",
       "      <td>75.0</td>\n",
       "      <td>14.0</td>\n",
       "      <td>1000</td>\n",
       "      <td>30720</td>\n",
       "      <td>3000</td>\n",
       "      <td>1950</td>\n",
       "      <td>150</td>\n",
       "      <td>1</td>\n",
       "      <td>1</td>\n",
       "    </tr>\n",
       "    <tr>\n",
       "      <td>3</td>\n",
       "      <td>1000</td>\n",
       "      <td>ultra</td>\n",
       "      <td>52</td>\n",
       "      <td>Краснодар</td>\n",
       "      <td>2018-05-25</td>\n",
       "      <td>NaT</td>\n",
       "      <td>False</td>\n",
       "      <td>52.0</td>\n",
       "      <td>408.0</td>\n",
       "      <td>8.0</td>\n",
       "      <td>81.0</td>\n",
       "      <td>14.0</td>\n",
       "      <td>1000</td>\n",
       "      <td>30720</td>\n",
       "      <td>3000</td>\n",
       "      <td>1950</td>\n",
       "      <td>150</td>\n",
       "      <td>1</td>\n",
       "      <td>1</td>\n",
       "    </tr>\n",
       "    <tr>\n",
       "      <td>4</td>\n",
       "      <td>1000</td>\n",
       "      <td>ultra</td>\n",
       "      <td>52</td>\n",
       "      <td>Краснодар</td>\n",
       "      <td>2018-05-25</td>\n",
       "      <td>NaT</td>\n",
       "      <td>False</td>\n",
       "      <td>58.0</td>\n",
       "      <td>466.0</td>\n",
       "      <td>9.0</td>\n",
       "      <td>57.0</td>\n",
       "      <td>15.0</td>\n",
       "      <td>1000</td>\n",
       "      <td>30720</td>\n",
       "      <td>3000</td>\n",
       "      <td>1950</td>\n",
       "      <td>150</td>\n",
       "      <td>1</td>\n",
       "      <td>1</td>\n",
       "    </tr>\n",
       "  </tbody>\n",
       "</table>\n",
       "</div>"
      ],
      "text/plain": [
       "  user_id tariff  age       city   reg_date churn_date  moscow  calls  \\\n",
       "0    1000  ultra   52  Краснодар 2018-05-25        NaT   False   22.0   \n",
       "1    1000  ultra   52  Краснодар 2018-05-25        NaT   False   43.0   \n",
       "2    1000  ultra   52  Краснодар 2018-05-25        NaT   False   47.0   \n",
       "3    1000  ultra   52  Краснодар 2018-05-25        NaT   False   52.0   \n",
       "4    1000  ultra   52  Краснодар 2018-05-25        NaT   False   58.0   \n",
       "\n",
       "   duration  month  messages  gb_used  messages_included  \\\n",
       "0     159.0    5.0      22.0      3.0               1000   \n",
       "1     172.0    6.0      60.0     23.0               1000   \n",
       "2     340.0    7.0      75.0     14.0               1000   \n",
       "3     408.0    8.0      81.0     14.0               1000   \n",
       "4     466.0    9.0      57.0     15.0               1000   \n",
       "\n",
       "   mb_per_month_included  minutes_included  rub_monthly_fee  rub_per_gb  \\\n",
       "0                  30720              3000             1950         150   \n",
       "1                  30720              3000             1950         150   \n",
       "2                  30720              3000             1950         150   \n",
       "3                  30720              3000             1950         150   \n",
       "4                  30720              3000             1950         150   \n",
       "\n",
       "   rub_per_message  rub_per_minute  \n",
       "0                1               1  \n",
       "1                1               1  \n",
       "2                1               1  \n",
       "3                1               1  \n",
       "4                1               1  "
      ]
     },
     "metadata": {},
     "output_type": "display_data"
    }
   ],
   "source": [
    "data = data.merge(tariffs, on='tariff', how='left')\n",
    "display(data.head())"
   ]
  },
  {
   "cell_type": "markdown",
   "metadata": {},
   "source": [
    "Данные о трафике сейчас в разном формате: использованный трафик и цена приведены за гигабайт, а предоплаченный трафик по тарифу - в мегабайтах. Переведём в гигабайты и переименуем столбец `mb_per_month_included`."
   ]
  },
  {
   "cell_type": "code",
   "execution_count": 47,
   "metadata": {},
   "outputs": [
    {
     "data": {
      "text/html": [
       "<div>\n",
       "<style scoped>\n",
       "    .dataframe tbody tr th:only-of-type {\n",
       "        vertical-align: middle;\n",
       "    }\n",
       "\n",
       "    .dataframe tbody tr th {\n",
       "        vertical-align: top;\n",
       "    }\n",
       "\n",
       "    .dataframe thead th {\n",
       "        text-align: right;\n",
       "    }\n",
       "</style>\n",
       "<table border=\"1\" class=\"dataframe\">\n",
       "  <thead>\n",
       "    <tr style=\"text-align: right;\">\n",
       "      <th></th>\n",
       "      <th>user_id</th>\n",
       "      <th>tariff</th>\n",
       "      <th>age</th>\n",
       "      <th>city</th>\n",
       "      <th>reg_date</th>\n",
       "      <th>churn_date</th>\n",
       "      <th>moscow</th>\n",
       "      <th>calls</th>\n",
       "      <th>duration</th>\n",
       "      <th>month</th>\n",
       "      <th>messages</th>\n",
       "      <th>gb_used</th>\n",
       "      <th>messages_included</th>\n",
       "      <th>gb_per_month_included</th>\n",
       "      <th>minutes_included</th>\n",
       "      <th>rub_monthly_fee</th>\n",
       "      <th>rub_per_gb</th>\n",
       "      <th>rub_per_message</th>\n",
       "      <th>rub_per_minute</th>\n",
       "    </tr>\n",
       "  </thead>\n",
       "  <tbody>\n",
       "    <tr>\n",
       "      <td>0</td>\n",
       "      <td>1000</td>\n",
       "      <td>ultra</td>\n",
       "      <td>52</td>\n",
       "      <td>Краснодар</td>\n",
       "      <td>2018-05-25</td>\n",
       "      <td>NaT</td>\n",
       "      <td>False</td>\n",
       "      <td>22.0</td>\n",
       "      <td>159.0</td>\n",
       "      <td>5.0</td>\n",
       "      <td>22.0</td>\n",
       "      <td>3.0</td>\n",
       "      <td>1000</td>\n",
       "      <td>30.0</td>\n",
       "      <td>3000</td>\n",
       "      <td>1950</td>\n",
       "      <td>150</td>\n",
       "      <td>1</td>\n",
       "      <td>1</td>\n",
       "    </tr>\n",
       "    <tr>\n",
       "      <td>1</td>\n",
       "      <td>1000</td>\n",
       "      <td>ultra</td>\n",
       "      <td>52</td>\n",
       "      <td>Краснодар</td>\n",
       "      <td>2018-05-25</td>\n",
       "      <td>NaT</td>\n",
       "      <td>False</td>\n",
       "      <td>43.0</td>\n",
       "      <td>172.0</td>\n",
       "      <td>6.0</td>\n",
       "      <td>60.0</td>\n",
       "      <td>23.0</td>\n",
       "      <td>1000</td>\n",
       "      <td>30.0</td>\n",
       "      <td>3000</td>\n",
       "      <td>1950</td>\n",
       "      <td>150</td>\n",
       "      <td>1</td>\n",
       "      <td>1</td>\n",
       "    </tr>\n",
       "    <tr>\n",
       "      <td>2</td>\n",
       "      <td>1000</td>\n",
       "      <td>ultra</td>\n",
       "      <td>52</td>\n",
       "      <td>Краснодар</td>\n",
       "      <td>2018-05-25</td>\n",
       "      <td>NaT</td>\n",
       "      <td>False</td>\n",
       "      <td>47.0</td>\n",
       "      <td>340.0</td>\n",
       "      <td>7.0</td>\n",
       "      <td>75.0</td>\n",
       "      <td>14.0</td>\n",
       "      <td>1000</td>\n",
       "      <td>30.0</td>\n",
       "      <td>3000</td>\n",
       "      <td>1950</td>\n",
       "      <td>150</td>\n",
       "      <td>1</td>\n",
       "      <td>1</td>\n",
       "    </tr>\n",
       "    <tr>\n",
       "      <td>3</td>\n",
       "      <td>1000</td>\n",
       "      <td>ultra</td>\n",
       "      <td>52</td>\n",
       "      <td>Краснодар</td>\n",
       "      <td>2018-05-25</td>\n",
       "      <td>NaT</td>\n",
       "      <td>False</td>\n",
       "      <td>52.0</td>\n",
       "      <td>408.0</td>\n",
       "      <td>8.0</td>\n",
       "      <td>81.0</td>\n",
       "      <td>14.0</td>\n",
       "      <td>1000</td>\n",
       "      <td>30.0</td>\n",
       "      <td>3000</td>\n",
       "      <td>1950</td>\n",
       "      <td>150</td>\n",
       "      <td>1</td>\n",
       "      <td>1</td>\n",
       "    </tr>\n",
       "    <tr>\n",
       "      <td>4</td>\n",
       "      <td>1000</td>\n",
       "      <td>ultra</td>\n",
       "      <td>52</td>\n",
       "      <td>Краснодар</td>\n",
       "      <td>2018-05-25</td>\n",
       "      <td>NaT</td>\n",
       "      <td>False</td>\n",
       "      <td>58.0</td>\n",
       "      <td>466.0</td>\n",
       "      <td>9.0</td>\n",
       "      <td>57.0</td>\n",
       "      <td>15.0</td>\n",
       "      <td>1000</td>\n",
       "      <td>30.0</td>\n",
       "      <td>3000</td>\n",
       "      <td>1950</td>\n",
       "      <td>150</td>\n",
       "      <td>1</td>\n",
       "      <td>1</td>\n",
       "    </tr>\n",
       "    <tr>\n",
       "      <td>5</td>\n",
       "      <td>1000</td>\n",
       "      <td>ultra</td>\n",
       "      <td>52</td>\n",
       "      <td>Краснодар</td>\n",
       "      <td>2018-05-25</td>\n",
       "      <td>NaT</td>\n",
       "      <td>False</td>\n",
       "      <td>57.0</td>\n",
       "      <td>350.0</td>\n",
       "      <td>10.0</td>\n",
       "      <td>73.0</td>\n",
       "      <td>15.0</td>\n",
       "      <td>1000</td>\n",
       "      <td>30.0</td>\n",
       "      <td>3000</td>\n",
       "      <td>1950</td>\n",
       "      <td>150</td>\n",
       "      <td>1</td>\n",
       "      <td>1</td>\n",
       "    </tr>\n",
       "    <tr>\n",
       "      <td>6</td>\n",
       "      <td>1000</td>\n",
       "      <td>ultra</td>\n",
       "      <td>52</td>\n",
       "      <td>Краснодар</td>\n",
       "      <td>2018-05-25</td>\n",
       "      <td>NaT</td>\n",
       "      <td>False</td>\n",
       "      <td>43.0</td>\n",
       "      <td>338.0</td>\n",
       "      <td>11.0</td>\n",
       "      <td>58.0</td>\n",
       "      <td>15.0</td>\n",
       "      <td>1000</td>\n",
       "      <td>30.0</td>\n",
       "      <td>3000</td>\n",
       "      <td>1950</td>\n",
       "      <td>150</td>\n",
       "      <td>1</td>\n",
       "      <td>1</td>\n",
       "    </tr>\n",
       "    <tr>\n",
       "      <td>7</td>\n",
       "      <td>1000</td>\n",
       "      <td>ultra</td>\n",
       "      <td>52</td>\n",
       "      <td>Краснодар</td>\n",
       "      <td>2018-05-25</td>\n",
       "      <td>NaT</td>\n",
       "      <td>False</td>\n",
       "      <td>46.0</td>\n",
       "      <td>333.0</td>\n",
       "      <td>12.0</td>\n",
       "      <td>70.0</td>\n",
       "      <td>10.0</td>\n",
       "      <td>1000</td>\n",
       "      <td>30.0</td>\n",
       "      <td>3000</td>\n",
       "      <td>1950</td>\n",
       "      <td>150</td>\n",
       "      <td>1</td>\n",
       "      <td>1</td>\n",
       "    </tr>\n",
       "    <tr>\n",
       "      <td>8</td>\n",
       "      <td>1001</td>\n",
       "      <td>smart</td>\n",
       "      <td>41</td>\n",
       "      <td>Москва</td>\n",
       "      <td>2018-11-01</td>\n",
       "      <td>NaT</td>\n",
       "      <td>True</td>\n",
       "      <td>59.0</td>\n",
       "      <td>430.0</td>\n",
       "      <td>11.0</td>\n",
       "      <td>NaN</td>\n",
       "      <td>18.0</td>\n",
       "      <td>50</td>\n",
       "      <td>15.0</td>\n",
       "      <td>500</td>\n",
       "      <td>550</td>\n",
       "      <td>200</td>\n",
       "      <td>3</td>\n",
       "      <td>3</td>\n",
       "    </tr>\n",
       "    <tr>\n",
       "      <td>9</td>\n",
       "      <td>1001</td>\n",
       "      <td>smart</td>\n",
       "      <td>41</td>\n",
       "      <td>Москва</td>\n",
       "      <td>2018-11-01</td>\n",
       "      <td>NaT</td>\n",
       "      <td>True</td>\n",
       "      <td>63.0</td>\n",
       "      <td>414.0</td>\n",
       "      <td>12.0</td>\n",
       "      <td>NaN</td>\n",
       "      <td>14.0</td>\n",
       "      <td>50</td>\n",
       "      <td>15.0</td>\n",
       "      <td>500</td>\n",
       "      <td>550</td>\n",
       "      <td>200</td>\n",
       "      <td>3</td>\n",
       "      <td>3</td>\n",
       "    </tr>\n",
       "  </tbody>\n",
       "</table>\n",
       "</div>"
      ],
      "text/plain": [
       "  user_id tariff  age       city   reg_date churn_date  moscow  calls  \\\n",
       "0    1000  ultra   52  Краснодар 2018-05-25        NaT   False   22.0   \n",
       "1    1000  ultra   52  Краснодар 2018-05-25        NaT   False   43.0   \n",
       "2    1000  ultra   52  Краснодар 2018-05-25        NaT   False   47.0   \n",
       "3    1000  ultra   52  Краснодар 2018-05-25        NaT   False   52.0   \n",
       "4    1000  ultra   52  Краснодар 2018-05-25        NaT   False   58.0   \n",
       "5    1000  ultra   52  Краснодар 2018-05-25        NaT   False   57.0   \n",
       "6    1000  ultra   52  Краснодар 2018-05-25        NaT   False   43.0   \n",
       "7    1000  ultra   52  Краснодар 2018-05-25        NaT   False   46.0   \n",
       "8    1001  smart   41     Москва 2018-11-01        NaT    True   59.0   \n",
       "9    1001  smart   41     Москва 2018-11-01        NaT    True   63.0   \n",
       "\n",
       "   duration  month  messages  gb_used  messages_included  \\\n",
       "0     159.0    5.0      22.0      3.0               1000   \n",
       "1     172.0    6.0      60.0     23.0               1000   \n",
       "2     340.0    7.0      75.0     14.0               1000   \n",
       "3     408.0    8.0      81.0     14.0               1000   \n",
       "4     466.0    9.0      57.0     15.0               1000   \n",
       "5     350.0   10.0      73.0     15.0               1000   \n",
       "6     338.0   11.0      58.0     15.0               1000   \n",
       "7     333.0   12.0      70.0     10.0               1000   \n",
       "8     430.0   11.0       NaN     18.0                 50   \n",
       "9     414.0   12.0       NaN     14.0                 50   \n",
       "\n",
       "   gb_per_month_included  minutes_included  rub_monthly_fee  rub_per_gb  \\\n",
       "0                   30.0              3000             1950         150   \n",
       "1                   30.0              3000             1950         150   \n",
       "2                   30.0              3000             1950         150   \n",
       "3                   30.0              3000             1950         150   \n",
       "4                   30.0              3000             1950         150   \n",
       "5                   30.0              3000             1950         150   \n",
       "6                   30.0              3000             1950         150   \n",
       "7                   30.0              3000             1950         150   \n",
       "8                   15.0               500              550         200   \n",
       "9                   15.0               500              550         200   \n",
       "\n",
       "   rub_per_message  rub_per_minute  \n",
       "0                1               1  \n",
       "1                1               1  \n",
       "2                1               1  \n",
       "3                1               1  \n",
       "4                1               1  \n",
       "5                1               1  \n",
       "6                1               1  \n",
       "7                1               1  \n",
       "8                3               3  \n",
       "9                3               3  "
      ]
     },
     "metadata": {},
     "output_type": "display_data"
    }
   ],
   "source": [
    "data['mb_per_month_included'] = data['mb_per_month_included']/1024\n",
    "data = data.rename(columns={'mb_per_month_included' : 'gb_per_month_included'})\n",
    "display(data.head(10))"
   ]
  },
  {
   "cell_type": "markdown",
   "metadata": {},
   "source": [
    "Пользователи подключались к тарифу в разное время, раньше момента подключния данных нет. Заменим пустые значения на нули и сделаем проверку."
   ]
  },
  {
   "cell_type": "code",
   "execution_count": 48,
   "metadata": {},
   "outputs": [
    {
     "name": "stdout",
     "output_type": "stream",
     "text": [
      "calls 8\n",
      "duration 8\n",
      "messages 504\n",
      "gb_used 19\n"
     ]
    }
   ],
   "source": [
    "print('calls', data['calls'].isna().sum())\n",
    "print('duration', data['duration'].isna().sum())\n",
    "print('messages', data['messages'].isna().sum())\n",
    "print('gb_used', data['gb_used'].isna().sum())"
   ]
  },
  {
   "cell_type": "code",
   "execution_count": 49,
   "metadata": {},
   "outputs": [
    {
     "name": "stdout",
     "output_type": "stream",
     "text": [
      "calls 0\n",
      "duration 0\n",
      "messages 0\n",
      "gb_used 0\n"
     ]
    }
   ],
   "source": [
    "data['calls'] = data['calls'].fillna(0)\n",
    "data['duration'] = data['duration'].fillna(0)\n",
    "data['messages'] = data['messages'].fillna(0)\n",
    "data['gb_used'] = data['gb_used'].fillna(0)\n",
    "\n",
    "print('calls', data['calls'].isna().sum())\n",
    "print('duration', data['duration'].isna().sum())\n",
    "print('messages', data['messages'].isna().sum())\n",
    "print('gb_used', data['gb_used'].isna().sum())"
   ]
  },
  {
   "cell_type": "markdown",
   "metadata": {},
   "source": [
    "```python\n",
    "\n",
    "columns = [col1, col2, col3]\n",
    "\n",
    "for i in columns:\n",
    "    df[i] = df[i].fillna(0)\n",
    "\n",
    "```"
   ]
  },
  {
   "cell_type": "code",
   "execution_count": 62,
   "metadata": {},
   "outputs": [
    {
     "data": {
      "text/plain": [
       "500"
      ]
     },
     "execution_count": 62,
     "metadata": {},
     "output_type": "execute_result"
    }
   ],
   "source": [
    "data[\"user_id\"].nunique()"
   ]
  },
  {
   "cell_type": "markdown",
   "metadata": {},
   "source": [
    "### Расчёт месячной выручки\n",
    "Посчитаем выручку с каждого пользователя. \n",
    "Напишем функцию `calculate_income`, которая будет рассчитывать дополнительную прибыль с пользователя со звонков, сообщений и трафика сверх тарифного пакета.\n",
    "Функция принимает аргументы: строка таблицы и индексы столбцов, соответственно относящиеся к использованному объёму услуг, включённому в тариф и стоимость на услуги сверх пакета. Если объём использованной услуги меньше или равен включённой в тарифный план, функция возвращает значение дополнительной прибыли 0. Если больше, функция возвращает дополнительную стоимость."
   ]
  },
  {
   "cell_type": "code",
   "execution_count": 50,
   "metadata": {},
   "outputs": [],
   "source": [
    "def calculate_income(row, used, included, price):\n",
    "    \"\"\"Функция для расчёта стоимости услуг сверх включённых в тарифный план.\n",
    "    Принимает аргументы: \n",
    "    - строка таблицы и индексы столбцов, соответственно относящиеся к использованному объёму услуг, \n",
    "    включённому в тариф и стоимость на услуги сверх пакета. \n",
    "    Если объём использованной услуги меньше или равен включённой в тарифный план, \n",
    "    функция возвращает значение дополнительной прибыли 0. \n",
    "    Если больше, функция возвращает размер дополнительной прибыли.\"\"\"\n",
    "    \n",
    "    extra_services = row[included] - row[used]\n",
    "    if extra_services >= 0:\n",
    "        return 0\n",
    "    else:\n",
    "        extra_income = extra_services * row[price]*(-1)\n",
    "        return extra_income"
   ]
  },
  {
   "cell_type": "markdown",
   "metadata": {},
   "source": [
    "Выведем индексы интересующих нас столбцов:"
   ]
  },
  {
   "cell_type": "code",
   "execution_count": 51,
   "metadata": {},
   "outputs": [
    {
     "name": "stdout",
     "output_type": "stream",
     "text": [
      "минуты [ 8 14 18]\n",
      "сообщения [10 12 17]\n",
      "гигабайты [11 13 16]\n"
     ]
    }
   ],
   "source": [
    "out_min = np.argwhere(data.columns.isin(['duration', 'minutes_included', 'rub_per_minute'])).ravel()\n",
    "out_mess = np.argwhere(data.columns.isin(['messages', 'messages_included', 'rub_per_message'])).ravel()\n",
    "out_gb = np.argwhere(data.columns.isin(['gb_used', 'gb_per_month_included', 'rub_per_gb'])).ravel()\n",
    "print('минуты', out_min)\n",
    "print('сообщения', out_mess)\n",
    "print('гигабайты', out_gb)"
   ]
  },
  {
   "cell_type": "markdown",
   "metadata": {},
   "source": [
    "Применяем функцию `calculate_income`, рассчитываем стоимость дополнительных минут, сообщений и трафика для каждого пользователя.  \n",
    "Создаём столбец `extra_income`, суммируя стоимость всех дополнительных услуг в данном месяце.  \n",
    "Создаём столбец `total_income` - сумма платы за тариф и всех дополнительных услуг."
   ]
  },
  {
   "cell_type": "code",
   "execution_count": 52,
   "metadata": {},
   "outputs": [
    {
     "data": {
      "text/html": [
       "<div>\n",
       "<style scoped>\n",
       "    .dataframe tbody tr th:only-of-type {\n",
       "        vertical-align: middle;\n",
       "    }\n",
       "\n",
       "    .dataframe tbody tr th {\n",
       "        vertical-align: top;\n",
       "    }\n",
       "\n",
       "    .dataframe thead th {\n",
       "        text-align: right;\n",
       "    }\n",
       "</style>\n",
       "<table border=\"1\" class=\"dataframe\">\n",
       "  <thead>\n",
       "    <tr style=\"text-align: right;\">\n",
       "      <th></th>\n",
       "      <th>user_id</th>\n",
       "      <th>tariff</th>\n",
       "      <th>age</th>\n",
       "      <th>city</th>\n",
       "      <th>reg_date</th>\n",
       "      <th>churn_date</th>\n",
       "      <th>moscow</th>\n",
       "      <th>calls</th>\n",
       "      <th>duration</th>\n",
       "      <th>month</th>\n",
       "      <th>...</th>\n",
       "      <th>minutes_included</th>\n",
       "      <th>rub_monthly_fee</th>\n",
       "      <th>rub_per_gb</th>\n",
       "      <th>rub_per_message</th>\n",
       "      <th>rub_per_minute</th>\n",
       "      <th>extra_calls</th>\n",
       "      <th>extra_messages</th>\n",
       "      <th>extra_internet</th>\n",
       "      <th>extra_income</th>\n",
       "      <th>total_income</th>\n",
       "    </tr>\n",
       "  </thead>\n",
       "  <tbody>\n",
       "    <tr>\n",
       "      <td>0</td>\n",
       "      <td>1000</td>\n",
       "      <td>ultra</td>\n",
       "      <td>52</td>\n",
       "      <td>Краснодар</td>\n",
       "      <td>2018-05-25</td>\n",
       "      <td>NaT</td>\n",
       "      <td>False</td>\n",
       "      <td>22.0</td>\n",
       "      <td>159.0</td>\n",
       "      <td>5.0</td>\n",
       "      <td>...</td>\n",
       "      <td>3000</td>\n",
       "      <td>1950</td>\n",
       "      <td>150</td>\n",
       "      <td>1</td>\n",
       "      <td>1</td>\n",
       "      <td>0.0</td>\n",
       "      <td>0.0</td>\n",
       "      <td>0.0</td>\n",
       "      <td>0.0</td>\n",
       "      <td>1950.0</td>\n",
       "    </tr>\n",
       "    <tr>\n",
       "      <td>1</td>\n",
       "      <td>1000</td>\n",
       "      <td>ultra</td>\n",
       "      <td>52</td>\n",
       "      <td>Краснодар</td>\n",
       "      <td>2018-05-25</td>\n",
       "      <td>NaT</td>\n",
       "      <td>False</td>\n",
       "      <td>43.0</td>\n",
       "      <td>172.0</td>\n",
       "      <td>6.0</td>\n",
       "      <td>...</td>\n",
       "      <td>3000</td>\n",
       "      <td>1950</td>\n",
       "      <td>150</td>\n",
       "      <td>1</td>\n",
       "      <td>1</td>\n",
       "      <td>0.0</td>\n",
       "      <td>0.0</td>\n",
       "      <td>0.0</td>\n",
       "      <td>0.0</td>\n",
       "      <td>1950.0</td>\n",
       "    </tr>\n",
       "    <tr>\n",
       "      <td>2</td>\n",
       "      <td>1000</td>\n",
       "      <td>ultra</td>\n",
       "      <td>52</td>\n",
       "      <td>Краснодар</td>\n",
       "      <td>2018-05-25</td>\n",
       "      <td>NaT</td>\n",
       "      <td>False</td>\n",
       "      <td>47.0</td>\n",
       "      <td>340.0</td>\n",
       "      <td>7.0</td>\n",
       "      <td>...</td>\n",
       "      <td>3000</td>\n",
       "      <td>1950</td>\n",
       "      <td>150</td>\n",
       "      <td>1</td>\n",
       "      <td>1</td>\n",
       "      <td>0.0</td>\n",
       "      <td>0.0</td>\n",
       "      <td>0.0</td>\n",
       "      <td>0.0</td>\n",
       "      <td>1950.0</td>\n",
       "    </tr>\n",
       "    <tr>\n",
       "      <td>3</td>\n",
       "      <td>1000</td>\n",
       "      <td>ultra</td>\n",
       "      <td>52</td>\n",
       "      <td>Краснодар</td>\n",
       "      <td>2018-05-25</td>\n",
       "      <td>NaT</td>\n",
       "      <td>False</td>\n",
       "      <td>52.0</td>\n",
       "      <td>408.0</td>\n",
       "      <td>8.0</td>\n",
       "      <td>...</td>\n",
       "      <td>3000</td>\n",
       "      <td>1950</td>\n",
       "      <td>150</td>\n",
       "      <td>1</td>\n",
       "      <td>1</td>\n",
       "      <td>0.0</td>\n",
       "      <td>0.0</td>\n",
       "      <td>0.0</td>\n",
       "      <td>0.0</td>\n",
       "      <td>1950.0</td>\n",
       "    </tr>\n",
       "    <tr>\n",
       "      <td>4</td>\n",
       "      <td>1000</td>\n",
       "      <td>ultra</td>\n",
       "      <td>52</td>\n",
       "      <td>Краснодар</td>\n",
       "      <td>2018-05-25</td>\n",
       "      <td>NaT</td>\n",
       "      <td>False</td>\n",
       "      <td>58.0</td>\n",
       "      <td>466.0</td>\n",
       "      <td>9.0</td>\n",
       "      <td>...</td>\n",
       "      <td>3000</td>\n",
       "      <td>1950</td>\n",
       "      <td>150</td>\n",
       "      <td>1</td>\n",
       "      <td>1</td>\n",
       "      <td>0.0</td>\n",
       "      <td>0.0</td>\n",
       "      <td>0.0</td>\n",
       "      <td>0.0</td>\n",
       "      <td>1950.0</td>\n",
       "    </tr>\n",
       "    <tr>\n",
       "      <td>5</td>\n",
       "      <td>1000</td>\n",
       "      <td>ultra</td>\n",
       "      <td>52</td>\n",
       "      <td>Краснодар</td>\n",
       "      <td>2018-05-25</td>\n",
       "      <td>NaT</td>\n",
       "      <td>False</td>\n",
       "      <td>57.0</td>\n",
       "      <td>350.0</td>\n",
       "      <td>10.0</td>\n",
       "      <td>...</td>\n",
       "      <td>3000</td>\n",
       "      <td>1950</td>\n",
       "      <td>150</td>\n",
       "      <td>1</td>\n",
       "      <td>1</td>\n",
       "      <td>0.0</td>\n",
       "      <td>0.0</td>\n",
       "      <td>0.0</td>\n",
       "      <td>0.0</td>\n",
       "      <td>1950.0</td>\n",
       "    </tr>\n",
       "    <tr>\n",
       "      <td>6</td>\n",
       "      <td>1000</td>\n",
       "      <td>ultra</td>\n",
       "      <td>52</td>\n",
       "      <td>Краснодар</td>\n",
       "      <td>2018-05-25</td>\n",
       "      <td>NaT</td>\n",
       "      <td>False</td>\n",
       "      <td>43.0</td>\n",
       "      <td>338.0</td>\n",
       "      <td>11.0</td>\n",
       "      <td>...</td>\n",
       "      <td>3000</td>\n",
       "      <td>1950</td>\n",
       "      <td>150</td>\n",
       "      <td>1</td>\n",
       "      <td>1</td>\n",
       "      <td>0.0</td>\n",
       "      <td>0.0</td>\n",
       "      <td>0.0</td>\n",
       "      <td>0.0</td>\n",
       "      <td>1950.0</td>\n",
       "    </tr>\n",
       "    <tr>\n",
       "      <td>7</td>\n",
       "      <td>1000</td>\n",
       "      <td>ultra</td>\n",
       "      <td>52</td>\n",
       "      <td>Краснодар</td>\n",
       "      <td>2018-05-25</td>\n",
       "      <td>NaT</td>\n",
       "      <td>False</td>\n",
       "      <td>46.0</td>\n",
       "      <td>333.0</td>\n",
       "      <td>12.0</td>\n",
       "      <td>...</td>\n",
       "      <td>3000</td>\n",
       "      <td>1950</td>\n",
       "      <td>150</td>\n",
       "      <td>1</td>\n",
       "      <td>1</td>\n",
       "      <td>0.0</td>\n",
       "      <td>0.0</td>\n",
       "      <td>0.0</td>\n",
       "      <td>0.0</td>\n",
       "      <td>1950.0</td>\n",
       "    </tr>\n",
       "    <tr>\n",
       "      <td>8</td>\n",
       "      <td>1001</td>\n",
       "      <td>smart</td>\n",
       "      <td>41</td>\n",
       "      <td>Москва</td>\n",
       "      <td>2018-11-01</td>\n",
       "      <td>NaT</td>\n",
       "      <td>True</td>\n",
       "      <td>59.0</td>\n",
       "      <td>430.0</td>\n",
       "      <td>11.0</td>\n",
       "      <td>...</td>\n",
       "      <td>500</td>\n",
       "      <td>550</td>\n",
       "      <td>200</td>\n",
       "      <td>3</td>\n",
       "      <td>3</td>\n",
       "      <td>0.0</td>\n",
       "      <td>0.0</td>\n",
       "      <td>600.0</td>\n",
       "      <td>600.0</td>\n",
       "      <td>1150.0</td>\n",
       "    </tr>\n",
       "    <tr>\n",
       "      <td>9</td>\n",
       "      <td>1001</td>\n",
       "      <td>smart</td>\n",
       "      <td>41</td>\n",
       "      <td>Москва</td>\n",
       "      <td>2018-11-01</td>\n",
       "      <td>NaT</td>\n",
       "      <td>True</td>\n",
       "      <td>63.0</td>\n",
       "      <td>414.0</td>\n",
       "      <td>12.0</td>\n",
       "      <td>...</td>\n",
       "      <td>500</td>\n",
       "      <td>550</td>\n",
       "      <td>200</td>\n",
       "      <td>3</td>\n",
       "      <td>3</td>\n",
       "      <td>0.0</td>\n",
       "      <td>0.0</td>\n",
       "      <td>0.0</td>\n",
       "      <td>0.0</td>\n",
       "      <td>550.0</td>\n",
       "    </tr>\n",
       "  </tbody>\n",
       "</table>\n",
       "<p>10 rows × 24 columns</p>\n",
       "</div>"
      ],
      "text/plain": [
       "  user_id tariff  age       city   reg_date churn_date  moscow  calls  \\\n",
       "0    1000  ultra   52  Краснодар 2018-05-25        NaT   False   22.0   \n",
       "1    1000  ultra   52  Краснодар 2018-05-25        NaT   False   43.0   \n",
       "2    1000  ultra   52  Краснодар 2018-05-25        NaT   False   47.0   \n",
       "3    1000  ultra   52  Краснодар 2018-05-25        NaT   False   52.0   \n",
       "4    1000  ultra   52  Краснодар 2018-05-25        NaT   False   58.0   \n",
       "5    1000  ultra   52  Краснодар 2018-05-25        NaT   False   57.0   \n",
       "6    1000  ultra   52  Краснодар 2018-05-25        NaT   False   43.0   \n",
       "7    1000  ultra   52  Краснодар 2018-05-25        NaT   False   46.0   \n",
       "8    1001  smart   41     Москва 2018-11-01        NaT    True   59.0   \n",
       "9    1001  smart   41     Москва 2018-11-01        NaT    True   63.0   \n",
       "\n",
       "   duration  month  ...  minutes_included  rub_monthly_fee  rub_per_gb  \\\n",
       "0     159.0    5.0  ...              3000             1950         150   \n",
       "1     172.0    6.0  ...              3000             1950         150   \n",
       "2     340.0    7.0  ...              3000             1950         150   \n",
       "3     408.0    8.0  ...              3000             1950         150   \n",
       "4     466.0    9.0  ...              3000             1950         150   \n",
       "5     350.0   10.0  ...              3000             1950         150   \n",
       "6     338.0   11.0  ...              3000             1950         150   \n",
       "7     333.0   12.0  ...              3000             1950         150   \n",
       "8     430.0   11.0  ...               500              550         200   \n",
       "9     414.0   12.0  ...               500              550         200   \n",
       "\n",
       "   rub_per_message  rub_per_minute  extra_calls  extra_messages  \\\n",
       "0                1               1          0.0             0.0   \n",
       "1                1               1          0.0             0.0   \n",
       "2                1               1          0.0             0.0   \n",
       "3                1               1          0.0             0.0   \n",
       "4                1               1          0.0             0.0   \n",
       "5                1               1          0.0             0.0   \n",
       "6                1               1          0.0             0.0   \n",
       "7                1               1          0.0             0.0   \n",
       "8                3               3          0.0             0.0   \n",
       "9                3               3          0.0             0.0   \n",
       "\n",
       "   extra_internet  extra_income  total_income  \n",
       "0             0.0           0.0        1950.0  \n",
       "1             0.0           0.0        1950.0  \n",
       "2             0.0           0.0        1950.0  \n",
       "3             0.0           0.0        1950.0  \n",
       "4             0.0           0.0        1950.0  \n",
       "5             0.0           0.0        1950.0  \n",
       "6             0.0           0.0        1950.0  \n",
       "7             0.0           0.0        1950.0  \n",
       "8           600.0         600.0        1150.0  \n",
       "9             0.0           0.0         550.0  \n",
       "\n",
       "[10 rows x 24 columns]"
      ]
     },
     "metadata": {},
     "output_type": "display_data"
    }
   ],
   "source": [
    "data['extra_calls'] = data.apply(calculate_income, axis=1, args=(8, 14, 18))\n",
    "data['extra_messages'] = data.apply(calculate_income, axis=1, args=(10, 12, 17))\n",
    "data['extra_internet'] = data.apply(calculate_income, axis=1, args=(11, 13, 16))\n",
    "data['extra_income'] = data['extra_calls'] + data['extra_messages'] + data['extra_internet']\n",
    "data['total_income'] = data['extra_income'] + data['rub_monthly_fee'] \n",
    "\n",
    "display(data.head(10))"
   ]
  },
  {
   "cell_type": "code",
   "execution_count": 63,
   "metadata": {
    "scrolled": true
   },
   "outputs": [
    {
     "data": {
      "text/plain": [
       "count    3182.000000\n",
       "mean     1524.811754\n",
       "std       800.019122\n",
       "min       550.000000\n",
       "25%       750.000000\n",
       "50%      1629.500000\n",
       "75%      1950.000000\n",
       "max      6770.000000\n",
       "Name: total_income, dtype: float64"
      ]
     },
     "execution_count": 63,
     "metadata": {},
     "output_type": "execute_result"
    }
   ],
   "source": [
    "data['total_income'].describe()"
   ]
  },
  {
   "cell_type": "markdown",
   "metadata": {},
   "source": [
    "Проверим новый столбец на наличие пропусков."
   ]
  },
  {
   "cell_type": "code",
   "execution_count": 53,
   "metadata": {},
   "outputs": [
    {
     "name": "stdout",
     "output_type": "stream",
     "text": [
      "Пропусков: 0\n"
     ]
    }
   ],
   "source": [
    "print('Пропусков:', data['total_income'].isnull().sum())"
   ]
  },
  {
   "cell_type": "markdown",
   "metadata": {},
   "source": [
    "### Вывод\n",
    " - данные приведены к нужным типам и проверены на наличие ошибок;\n",
    " - данные объединены по месяцам, посчитано количество и длительность звонков, количество сообщений и использованных гигабайт трафика для каждого пользователя в течения каждого месяца;\n",
    " - рассчитана помесячная выручка с каждого пользователя, а также стоимость дополнительных услуг отдельно по звонкам, сообщениям и интернету.\n",
    " \n",
    "## Анализ данных\n",
    "Проанализируем поведение пользователей каждого из тарифов. \n",
    "Для этого сравним группы пользователей по показателям:\n",
    "- количество, длительность и стоимость звонков\n",
    "- количество и стоимость исходящих сообщений\n",
    "- объём и стоимость трафика\n",
    "- общая выручка и выручка по услугам сверх тарифного плана (звонки, сообщения, интернет)\n",
    "\n",
    "Для сравнения групп используем функцию `compare_groups`. Функция группирует таблицу по заданному столбцу, выводит описательную статистику и значимость различий, строит гистограммы по сравниваемому столбцу."
   ]
  },
  {
   "cell_type": "code",
   "execution_count": 54,
   "metadata": {},
   "outputs": [],
   "source": [
    "def compare_groups(data, group, col, bins):\n",
    "    \n",
    "    \"\"\"Функция для сравнения одного параметра для нескольких групп из одной таблицы.\n",
    "    Печатает заголовок с названием столбца, по которому проводится сравнение, \n",
    "    выводит таблицу с описательной статистикой по столбцу для каждой из групп,\n",
    "    строит частотную гистограмму.\n",
    "    Принимает аргументы:\n",
    "        - название таблицы;\n",
    "        - название столбца, по которому выборка разделяется на группы;\n",
    "        - название столбца, по которому производится сравнение;\n",
    "        - количество корзин для гистограммы\"\"\"\n",
    "    \n",
    "    \"\"\"Создаём библиотеку стилей\"\"\"\n",
    "    class color:\n",
    "       PURPLE = '\\033[95m'\n",
    "       CYAN = '\\033[96m'\n",
    "       DARKCYAN = '\\033[36m'\n",
    "       BLUE = '\\033[94m'\n",
    "       GREEN = '\\033[92m'\n",
    "       YELLOW = '\\033[93m'\n",
    "       RED = '\\033[91m'\n",
    "       BOLD = '\\033[1m'\n",
    "       UNDERLINE = '\\033[4m'\n",
    "       END = '\\033[0m'\n",
    "\n",
    "    \"\"\"Печатаем название столбца\"\"\"\n",
    "    head = 'Сравнение пользователей тарифов \"Smart\" и \"Ultra\" по параметру '\n",
    "    print(color.BOLD + color.UNDERLINE +  head + col + color.END)    \n",
    "\n",
    "    \"\"\"Выводим описательную статистику по столбцу col для каждой из групп\"\"\"\n",
    "    print()\n",
    "    print(color.BOLD + color.BLUE + 'Описательная статистика' + color.END)\n",
    "    display(data.groupby(group)[col].describe())\n",
    "    \n",
    "    \n",
    "    \"\"\"Проверка гипотезы о равенстве средних\"\"\"\n",
    "    print(color.BOLD + color.BLUE + 'Проверка гипотезы H₀ о равенстве генеральных совокупностей' + color.END)\n",
    "    sample_1 = data.query('tariff == \"smart\"')[col]\n",
    "    sample_2 = data.query('tariff == \"ultra\"')[col]        \n",
    "\n",
    "    alpha = 0.01  \n",
    "    results = st.ttest_ind(sample_1, sample_2)\n",
    "    print()\n",
    "    print('H₀: средние двух генеральных совокупностей равны между собой')\n",
    "    print('H₁: средние двух генеральных совокупностей не равны между собой')\n",
    "    print('p-значение:', results.pvalue)\n",
    "    if results.pvalue < alpha:\n",
    "        print(color.RED + 'Отвергаем нулевую гипотезу' + color.END)\n",
    "    else:\n",
    "        print(color.GREEN + 'Не получилось отвергнуть нулевую гипотезу' + color.END) \n",
    "    \n",
    "    \"\"\"Строим частотные гистограммы.\"\"\"\n",
    "    ax = sample_1.plot(kind='hist', bins=bins, alpha=0.5, legend=True)\n",
    "    sample_2.plot(kind='hist', bins=bins, alpha=0.5, legend=True, \n",
    "                  title='Сравнение пользователей тарифов \"Smart\" и \"Ultra\" по параметру calls')\n",
    "    ax.legend([\"Smart\", \"Ultra\"])"
   ]
  },
  {
   "cell_type": "markdown",
   "metadata": {},
   "source": [
    "### Сравнение тарифов по количеству и длительности звонков"
   ]
  },
  {
   "cell_type": "markdown",
   "metadata": {},
   "source": [
    "Проверим работу функции и проанализируем количество звонков в месяц у пользователей тарифов \"Ультра\" и \"Смарт\"."
   ]
  },
  {
   "cell_type": "code",
   "execution_count": 55,
   "metadata": {},
   "outputs": [
    {
     "name": "stdout",
     "output_type": "stream",
     "text": [
      "\u001b[1m\u001b[4mСравнение пользователей тарифов \"Smart\" и \"Ultra\" по параметру calls\u001b[0m\n",
      "\n",
      "\u001b[1m\u001b[94mОписательная статистика\u001b[0m\n"
     ]
    },
    {
     "data": {
      "text/html": [
       "<div>\n",
       "<style scoped>\n",
       "    .dataframe tbody tr th:only-of-type {\n",
       "        vertical-align: middle;\n",
       "    }\n",
       "\n",
       "    .dataframe tbody tr th {\n",
       "        vertical-align: top;\n",
       "    }\n",
       "\n",
       "    .dataframe thead th {\n",
       "        text-align: right;\n",
       "    }\n",
       "</style>\n",
       "<table border=\"1\" class=\"dataframe\">\n",
       "  <thead>\n",
       "    <tr style=\"text-align: right;\">\n",
       "      <th></th>\n",
       "      <th>count</th>\n",
       "      <th>mean</th>\n",
       "      <th>std</th>\n",
       "      <th>min</th>\n",
       "      <th>25%</th>\n",
       "      <th>50%</th>\n",
       "      <th>75%</th>\n",
       "      <th>max</th>\n",
       "    </tr>\n",
       "    <tr>\n",
       "      <th>tariff</th>\n",
       "      <th></th>\n",
       "      <th></th>\n",
       "      <th></th>\n",
       "      <th></th>\n",
       "      <th></th>\n",
       "      <th></th>\n",
       "      <th></th>\n",
       "      <th></th>\n",
       "    </tr>\n",
       "  </thead>\n",
       "  <tbody>\n",
       "    <tr>\n",
       "      <td>smart</td>\n",
       "      <td>2225.0</td>\n",
       "      <td>58.568539</td>\n",
       "      <td>25.844302</td>\n",
       "      <td>0.0</td>\n",
       "      <td>40.0</td>\n",
       "      <td>60.0</td>\n",
       "      <td>76.0</td>\n",
       "      <td>198.0</td>\n",
       "    </tr>\n",
       "    <tr>\n",
       "      <td>ultra</td>\n",
       "      <td>957.0</td>\n",
       "      <td>75.540230</td>\n",
       "      <td>42.694248</td>\n",
       "      <td>0.0</td>\n",
       "      <td>43.0</td>\n",
       "      <td>75.0</td>\n",
       "      <td>105.0</td>\n",
       "      <td>244.0</td>\n",
       "    </tr>\n",
       "  </tbody>\n",
       "</table>\n",
       "</div>"
      ],
      "text/plain": [
       "         count       mean        std  min   25%   50%    75%    max\n",
       "tariff                                                             \n",
       "smart   2225.0  58.568539  25.844302  0.0  40.0  60.0   76.0  198.0\n",
       "ultra    957.0  75.540230  42.694248  0.0  43.0  75.0  105.0  244.0"
      ]
     },
     "metadata": {},
     "output_type": "display_data"
    },
    {
     "name": "stdout",
     "output_type": "stream",
     "text": [
      "\u001b[1m\u001b[94mПроверка гипотезы H₀ о равенстве генеральных совокупностей\u001b[0m\n",
      "\n",
      "H₀: средние двух генеральных совокупностей равны между собой\n",
      "H₁: средние двух генеральных совокупностей не равны между собой\n",
      "p-значение: 5.313933210576796e-42\n",
      "\u001b[91mОтвергаем нулевую гипотезу\u001b[0m\n"
     ]
    },
    {
     "data": {
      "image/png": "[encoded data removed]",
      "text/plain": [
       "<Figure size 432x288 with 1 Axes>"
      ]
     },
     "metadata": {
      "needs_background": "light"
     },
     "output_type": "display_data"
    }
   ],
   "source": [
    "compare_groups(data, 'tariff', 'calls', 50)"
   ]
  },
  {
   "cell_type": "markdown",
   "metadata": {},
   "source": [
    "Пользователи тарифа \"Ультра\" совершают больше звонков, чем пользователи тарифа \"Смарт\" (различия значимые), при этом у пользователей тарифа \"Ультра\" больше разброс количества звонков, то есть некоторые звонят сильно больше, а некоторые - меньше.  \n",
    "Для обеих групп распределение отличается от нормального. У группы пользователей тарифа \"Смарт\" распределение более пологое. Вероятно, это отчасти связано с тем, что их группа меньше, а отчасти с тем, что они не чувствуют себя ограниченными тарифным лимитом.  \n",
    "Напротив, распределение количества звонков в группе пользователей тарифа \"Ультра\" имеет выраженный пик, а разброс распределения меньше (меньше стандартное отклонение).\n",
    "\n",
    "Сравним длительность звонков."
   ]
  },
  {
   "cell_type": "code",
   "execution_count": 56,
   "metadata": {},
   "outputs": [
    {
     "name": "stdout",
     "output_type": "stream",
     "text": [
      "\u001b[1m\u001b[4mСравнение пользователей тарифов \"Smart\" и \"Ultra\" по параметру duration\u001b[0m\n",
      "\n",
      "\u001b[1m\u001b[94mОписательная статистика\u001b[0m\n"
     ]
    },
    {
     "data": {
      "text/html": [
       "<div>\n",
       "<style scoped>\n",
       "    .dataframe tbody tr th:only-of-type {\n",
       "        vertical-align: middle;\n",
       "    }\n",
       "\n",
       "    .dataframe tbody tr th {\n",
       "        vertical-align: top;\n",
       "    }\n",
       "\n",
       "    .dataframe thead th {\n",
       "        text-align: right;\n",
       "    }\n",
       "</style>\n",
       "<table border=\"1\" class=\"dataframe\">\n",
       "  <thead>\n",
       "    <tr style=\"text-align: right;\">\n",
       "      <th></th>\n",
       "      <th>count</th>\n",
       "      <th>mean</th>\n",
       "      <th>std</th>\n",
       "      <th>min</th>\n",
       "      <th>25%</th>\n",
       "      <th>50%</th>\n",
       "      <th>75%</th>\n",
       "      <th>max</th>\n",
       "    </tr>\n",
       "    <tr>\n",
       "      <th>tariff</th>\n",
       "      <th></th>\n",
       "      <th></th>\n",
       "      <th></th>\n",
       "      <th></th>\n",
       "      <th></th>\n",
       "      <th></th>\n",
       "      <th></th>\n",
       "      <th></th>\n",
       "    </tr>\n",
       "  </thead>\n",
       "  <tbody>\n",
       "    <tr>\n",
       "      <td>smart</td>\n",
       "      <td>2225.0</td>\n",
       "      <td>418.686292</td>\n",
       "      <td>189.656900</td>\n",
       "      <td>0.0</td>\n",
       "      <td>284.0</td>\n",
       "      <td>422.0</td>\n",
       "      <td>545.0</td>\n",
       "      <td>1435.0</td>\n",
       "    </tr>\n",
       "    <tr>\n",
       "      <td>ultra</td>\n",
       "      <td>957.0</td>\n",
       "      <td>542.031348</td>\n",
       "      <td>308.978539</td>\n",
       "      <td>0.0</td>\n",
       "      <td>308.0</td>\n",
       "      <td>525.0</td>\n",
       "      <td>756.0</td>\n",
       "      <td>1673.0</td>\n",
       "    </tr>\n",
       "  </tbody>\n",
       "</table>\n",
       "</div>"
      ],
      "text/plain": [
       "         count        mean         std  min    25%    50%    75%     max\n",
       "tariff                                                                  \n",
       "smart   2225.0  418.686292  189.656900  0.0  284.0  422.0  545.0  1435.0\n",
       "ultra    957.0  542.031348  308.978539  0.0  308.0  525.0  756.0  1673.0"
      ]
     },
     "metadata": {},
     "output_type": "display_data"
    },
    {
     "name": "stdout",
     "output_type": "stream",
     "text": [
      "\u001b[1m\u001b[94mПроверка гипотезы H₀ о равенстве генеральных совокупностей\u001b[0m\n",
      "\n",
      "H₀: средние двух генеральных совокупностей равны между собой\n",
      "H₁: средние двух генеральных совокупностей не равны между собой\n",
      "p-значение: 7.922250065631584e-42\n",
      "\u001b[91mОтвергаем нулевую гипотезу\u001b[0m\n"
     ]
    },
    {
     "data": {
      "image/png": "[encoded data removed]",
      "text/plain": [
       "<Figure size 432x288 with 1 Axes>"
      ]
     },
     "metadata": {
      "needs_background": "light"
     },
     "output_type": "display_data"
    }
   ],
   "source": [
    "compare_groups(data, 'tariff', 'duration', 50)"
   ]
  },
  {
   "cell_type": "markdown",
   "metadata": {},
   "source": [
    "Пользователи тарифа \"Ультра\" тратят больше минут, чем пользователи тарифа \"Смарт\" (различия значимые), а распределение похоже на то, что мы видели с количеством звонков. У пользователей пользователей тарифа \"Ультра\" распределение длительности звонков более пологое, а у пользователей тарифа \"Смарт\" виден выраженный пик.  \n",
    "По условиям тарифного плана у пользователей тарифа \"Ультра\" включено 3000 минут, а у пользователей тарифа \"Смарт\" 300 минут. При этом разница между количеством использованных минут в двух группах не такая большая. Пользователи тарифа \"Ультра\" тратят сильно меньше лимита, а больше половины пользователей тарифа \"Смарт\" выходят за пределы предоплаченных минут."
   ]
  },
  {
   "cell_type": "markdown",
   "metadata": {},
   "source": [
    "### Сравнение тарифов по количеству исходящих сообщений\n",
    "\n",
    "Сравним две группы пользователей по количеству исходящих сообщений."
   ]
  },
  {
   "cell_type": "code",
   "execution_count": 57,
   "metadata": {},
   "outputs": [
    {
     "name": "stdout",
     "output_type": "stream",
     "text": [
      "\u001b[1m\u001b[4mСравнение пользователей тарифов \"Smart\" и \"Ultra\" по параметру messages\u001b[0m\n",
      "\n",
      "\u001b[1m\u001b[94mОписательная статистика\u001b[0m\n"
     ]
    },
    {
     "data": {
      "text/html": [
       "<div>\n",
       "<style scoped>\n",
       "    .dataframe tbody tr th:only-of-type {\n",
       "        vertical-align: middle;\n",
       "    }\n",
       "\n",
       "    .dataframe tbody tr th {\n",
       "        vertical-align: top;\n",
       "    }\n",
       "\n",
       "    .dataframe thead th {\n",
       "        text-align: right;\n",
       "    }\n",
       "</style>\n",
       "<table border=\"1\" class=\"dataframe\">\n",
       "  <thead>\n",
       "    <tr style=\"text-align: right;\">\n",
       "      <th></th>\n",
       "      <th>count</th>\n",
       "      <th>mean</th>\n",
       "      <th>std</th>\n",
       "      <th>min</th>\n",
       "      <th>25%</th>\n",
       "      <th>50%</th>\n",
       "      <th>75%</th>\n",
       "      <th>max</th>\n",
       "    </tr>\n",
       "    <tr>\n",
       "      <th>tariff</th>\n",
       "      <th></th>\n",
       "      <th></th>\n",
       "      <th></th>\n",
       "      <th></th>\n",
       "      <th></th>\n",
       "      <th></th>\n",
       "      <th></th>\n",
       "      <th></th>\n",
       "    </tr>\n",
       "  </thead>\n",
       "  <tbody>\n",
       "    <tr>\n",
       "      <td>smart</td>\n",
       "      <td>2225.0</td>\n",
       "      <td>33.366292</td>\n",
       "      <td>28.264460</td>\n",
       "      <td>0.0</td>\n",
       "      <td>10.0</td>\n",
       "      <td>28.0</td>\n",
       "      <td>51.0</td>\n",
       "      <td>143.0</td>\n",
       "    </tr>\n",
       "    <tr>\n",
       "      <td>ultra</td>\n",
       "      <td>957.0</td>\n",
       "      <td>48.726228</td>\n",
       "      <td>46.903402</td>\n",
       "      <td>0.0</td>\n",
       "      <td>5.0</td>\n",
       "      <td>39.0</td>\n",
       "      <td>79.0</td>\n",
       "      <td>224.0</td>\n",
       "    </tr>\n",
       "  </tbody>\n",
       "</table>\n",
       "</div>"
      ],
      "text/plain": [
       "         count       mean        std  min   25%   50%   75%    max\n",
       "tariff                                                            \n",
       "smart   2225.0  33.366292  28.264460  0.0  10.0  28.0  51.0  143.0\n",
       "ultra    957.0  48.726228  46.903402  0.0   5.0  39.0  79.0  224.0"
      ]
     },
     "metadata": {},
     "output_type": "display_data"
    },
    {
     "name": "stdout",
     "output_type": "stream",
     "text": [
      "\u001b[1m\u001b[94mПроверка гипотезы H₀ о равенстве генеральных совокупностей\u001b[0m\n",
      "\n",
      "H₀: средние двух генеральных совокупностей равны между собой\n",
      "H₁: средние двух генеральных совокупностей не равны между собой\n",
      "p-значение: 2.0376603523852875e-29\n",
      "\u001b[91mОтвергаем нулевую гипотезу\u001b[0m\n"
     ]
    },
    {
     "data": {
      "image/png": "[encoded data removed]",
      "text/plain": [
       "<Figure size 432x288 with 1 Axes>"
      ]
     },
     "metadata": {
      "needs_background": "light"
     },
     "output_type": "display_data"
    }
   ],
   "source": [
    "compare_groups(data, 'tariff', 'messages', 50)"
   ]
  },
  {
   "cell_type": "markdown",
   "metadata": {},
   "source": [
    "Распределение в обеих группах отличается от нормального. Судя по графику значительная часть пользователей обоих тарифов вообще не пользуется сообщениями. В среднем пользователи тарифа \"Ультра\" посылают больше сообщений, чем пользователи тарифа \"Смарт\", и разброс в группе пользователей тарифа \"Ультра\" больше.  \n",
    "По условиям тарифного плана в тариф \"Смарт\" включено 50 сообщений, а в тариф \"Ультра\" - 1000 сообщений. Так же, как со звонками, пользователи тарифа \"Ультра\" не используют свой предоплаченный лимит, тогда как около четверти пользователей тарифа \"Смарт\" превышают свой.\n",
    "\n",
    "### Сравнение тарифов по объёму трафика"
   ]
  },
  {
   "cell_type": "code",
   "execution_count": 58,
   "metadata": {},
   "outputs": [
    {
     "name": "stdout",
     "output_type": "stream",
     "text": [
      "\u001b[1m\u001b[4mСравнение пользователей тарифов \"Smart\" и \"Ultra\" по параметру gb_used\u001b[0m\n",
      "\n",
      "\u001b[1m\u001b[94mОписательная статистика\u001b[0m\n"
     ]
    },
    {
     "data": {
      "text/html": [
       "<div>\n",
       "<style scoped>\n",
       "    .dataframe tbody tr th:only-of-type {\n",
       "        vertical-align: middle;\n",
       "    }\n",
       "\n",
       "    .dataframe tbody tr th {\n",
       "        vertical-align: top;\n",
       "    }\n",
       "\n",
       "    .dataframe thead th {\n",
       "        text-align: right;\n",
       "    }\n",
       "</style>\n",
       "<table border=\"1\" class=\"dataframe\">\n",
       "  <thead>\n",
       "    <tr style=\"text-align: right;\">\n",
       "      <th></th>\n",
       "      <th>count</th>\n",
       "      <th>mean</th>\n",
       "      <th>std</th>\n",
       "      <th>min</th>\n",
       "      <th>25%</th>\n",
       "      <th>50%</th>\n",
       "      <th>75%</th>\n",
       "      <th>max</th>\n",
       "    </tr>\n",
       "    <tr>\n",
       "      <th>tariff</th>\n",
       "      <th></th>\n",
       "      <th></th>\n",
       "      <th></th>\n",
       "      <th></th>\n",
       "      <th></th>\n",
       "      <th></th>\n",
       "      <th></th>\n",
       "      <th></th>\n",
       "    </tr>\n",
       "  </thead>\n",
       "  <tbody>\n",
       "    <tr>\n",
       "      <td>smart</td>\n",
       "      <td>2225.0</td>\n",
       "      <td>16.315056</td>\n",
       "      <td>5.770808</td>\n",
       "      <td>0.0</td>\n",
       "      <td>13.0</td>\n",
       "      <td>17.0</td>\n",
       "      <td>20.0</td>\n",
       "      <td>38.0</td>\n",
       "    </tr>\n",
       "    <tr>\n",
       "      <td>ultra</td>\n",
       "      <td>957.0</td>\n",
       "      <td>19.365726</td>\n",
       "      <td>9.978743</td>\n",
       "      <td>0.0</td>\n",
       "      <td>12.0</td>\n",
       "      <td>19.0</td>\n",
       "      <td>27.0</td>\n",
       "      <td>49.0</td>\n",
       "    </tr>\n",
       "  </tbody>\n",
       "</table>\n",
       "</div>"
      ],
      "text/plain": [
       "         count       mean       std  min   25%   50%   75%   max\n",
       "tariff                                                          \n",
       "smart   2225.0  16.315056  5.770808  0.0  13.0  17.0  20.0  38.0\n",
       "ultra    957.0  19.365726  9.978743  0.0  12.0  19.0  27.0  49.0"
      ]
     },
     "metadata": {},
     "output_type": "display_data"
    },
    {
     "name": "stdout",
     "output_type": "stream",
     "text": [
      "\u001b[1m\u001b[94mПроверка гипотезы H₀ о равенстве генеральных совокупностей\u001b[0m\n",
      "\n",
      "H₀: средние двух генеральных совокупностей равны между собой\n",
      "H₁: средние двух генеральных совокупностей не равны между собой\n",
      "p-значение: 8.330243861219156e-27\n",
      "\u001b[91mОтвергаем нулевую гипотезу\u001b[0m\n"
     ]
    },
    {
     "data": {
      "image/png": "[encoded data removed]",
      "text/plain": [
       "<Figure size 432x288 with 1 Axes>"
      ]
     },
     "metadata": {
      "needs_background": "light"
     },
     "output_type": "display_data"
    }
   ],
   "source": [
    "compare_groups(data, 'tariff', 'gb_used', 35)"
   ]
  },
  {
   "cell_type": "markdown",
   "metadata": {},
   "source": [
    "Распределение количества использованного трафика по форме больше напоминает нормальное, при этом распределение в группе пользователей тарифа \"Ультра\" выглядит практически симметричным, а в группе пользователей тарифа \"Смарт\" немного скошено влево. \n",
    "Средние значения различаются не очень сильно, но различия значимые, то есть пользователи тарифа \"Ультра\" тратят больше трафика, чем пользователи тарифа \"Смарт\" (хотя и не намного).  \n",
    "По условиям тарифного плана в тариф \"Смарт\" включены 15 Гб интернет-трафика, в тариф \"Ультра\" - 30 Гб. Тратят больше более половины пользователей тарифа \"Смарт\" и чуть меньше четверти пользователей тарифа \"Ультра\".\n",
    "\n",
    "### - Сравнение общей выручки с тарифов\n",
    "При помощи функции `compare_groups` поверим нашу гипотезу 1:  \n",
    "Средняя выручка пользователей тарифов «Ультра» и «Смарт» различаются."
   ]
  },
  {
   "cell_type": "code",
   "execution_count": 59,
   "metadata": {},
   "outputs": [
    {
     "name": "stdout",
     "output_type": "stream",
     "text": [
      "\u001b[1m\u001b[4mСравнение пользователей тарифов \"Smart\" и \"Ultra\" по параметру total_income\u001b[0m\n",
      "\n",
      "\u001b[1m\u001b[94mОписательная статистика\u001b[0m\n"
     ]
    },
    {
     "data": {
      "text/html": [
       "<div>\n",
       "<style scoped>\n",
       "    .dataframe tbody tr th:only-of-type {\n",
       "        vertical-align: middle;\n",
       "    }\n",
       "\n",
       "    .dataframe tbody tr th {\n",
       "        vertical-align: top;\n",
       "    }\n",
       "\n",
       "    .dataframe thead th {\n",
       "        text-align: right;\n",
       "    }\n",
       "</style>\n",
       "<table border=\"1\" class=\"dataframe\">\n",
       "  <thead>\n",
       "    <tr style=\"text-align: right;\">\n",
       "      <th></th>\n",
       "      <th>count</th>\n",
       "      <th>mean</th>\n",
       "      <th>std</th>\n",
       "      <th>min</th>\n",
       "      <th>25%</th>\n",
       "      <th>50%</th>\n",
       "      <th>75%</th>\n",
       "      <th>max</th>\n",
       "    </tr>\n",
       "    <tr>\n",
       "      <th>tariff</th>\n",
       "      <th></th>\n",
       "      <th></th>\n",
       "      <th></th>\n",
       "      <th></th>\n",
       "      <th></th>\n",
       "      <th></th>\n",
       "      <th></th>\n",
       "      <th></th>\n",
       "    </tr>\n",
       "  </thead>\n",
       "  <tbody>\n",
       "    <tr>\n",
       "      <td>smart</td>\n",
       "      <td>2225.0</td>\n",
       "      <td>1290.225169</td>\n",
       "      <td>819.052589</td>\n",
       "      <td>550.0</td>\n",
       "      <td>550.0</td>\n",
       "      <td>1023.0</td>\n",
       "      <td>1750.0</td>\n",
       "      <td>6770.0</td>\n",
       "    </tr>\n",
       "    <tr>\n",
       "      <td>ultra</td>\n",
       "      <td>957.0</td>\n",
       "      <td>2070.219436</td>\n",
       "      <td>378.351486</td>\n",
       "      <td>1950.0</td>\n",
       "      <td>1950.0</td>\n",
       "      <td>1950.0</td>\n",
       "      <td>1950.0</td>\n",
       "      <td>4800.0</td>\n",
       "    </tr>\n",
       "  </tbody>\n",
       "</table>\n",
       "</div>"
      ],
      "text/plain": [
       "         count         mean         std     min     25%     50%     75%  \\\n",
       "tariff                                                                    \n",
       "smart   2225.0  1290.225169  819.052589   550.0   550.0  1023.0  1750.0   \n",
       "ultra    957.0  2070.219436  378.351486  1950.0  1950.0  1950.0  1950.0   \n",
       "\n",
       "           max  \n",
       "tariff          \n",
       "smart   6770.0  \n",
       "ultra   4800.0  "
      ]
     },
     "metadata": {},
     "output_type": "display_data"
    },
    {
     "name": "stdout",
     "output_type": "stream",
     "text": [
      "\u001b[1m\u001b[94mПроверка гипотезы H₀ о равенстве генеральных совокупностей\u001b[0m\n",
      "\n",
      "H₀: средние двух генеральных совокупностей равны между собой\n",
      "H₁: средние двух генеральных совокупностей не равны между собой\n",
      "p-значение: 2.7573403948209683e-156\n",
      "\u001b[91mОтвергаем нулевую гипотезу\u001b[0m\n"
     ]
    },
    {
     "data": {
      "image/png": "[encoded data removed]",
      "text/plain": [
       "<Figure size 432x288 with 1 Axes>"
      ]
     },
     "metadata": {
      "needs_background": "light"
     },
     "output_type": "display_data"
    }
   ],
   "source": [
    "compare_groups(data, 'tariff', 'total_income', 30)"
   ]
  },
  {
   "cell_type": "markdown",
   "metadata": {},
   "source": [
    "По наблюдаемым данным можно сделать вывод, что наше предположение с большой вероятностью верно и средняя выручка по тарифу \"Ультра\" и \"Смарт\" действительно различается.  \n",
    "Средняя выручка по тарифу \"Ультра\" выше средней выручки по тарифу \"Ультра\".  \n",
    "За пределы включённых в тариф услуг пользователи тарифа \"Ультра\" выходят очень редко (и, как мы видели на предыдущих графиках - только за счёт небольшого объёма предоплаченного трафика). А вот пользователи тарифа \"Смарт\" выходят за пределы предоплаченных услуг очень часто (более половины пользователей платит что-то сверх абонентской платы), а часть платит в итоге даже больше, чем стоит тариф \"Ультра\".  \n",
    "\n",
    "\n",
    "### Вывод об особенностях поведения пользователей тарифов \"Ultra\" и \"Smart\"\n",
    "С большой степенью достоверности средняя выручка по тарифу \"Ultra\" выше, чем средняя выручка по тарифу \"Smart\" (вероятность ошибки крайне мала).  \n",
    "Пользователи  тарифа \"Ultra\" совершают больше звонков, отправляют больше сообщений и используют больше интернет-трафика, но редко покупают дополнительные услуги связи сверх включённых в тариф (если покупают, то только дополнительный трафик).  \n",
    "Пользователи тарифа \"Smart\" совершают меньше звонков, отправляют меньше исходящих сообщений и используют меньше интернет-трафика, но при этом большое количество пользователей покупает дополнительные услуги связи сверх включённых в тариф. Более половины пользователей покупают дополнительные минуты и интернет-трафик, более четверти покупают дополнительные сообщения. \n",
    "\n",
    "\n",
    "### Сравнение средней выручки пользователей из Москвы и выручки пользователей из других регионов\n",
    "Проверим гипотезу 2:  \n",
    "Средняя выручка пользователи из Москвы отличается от выручки пользователей из других регионов.  \n",
    "\n",
    "Выведем описательную статистику выручки для пользователей из Москвы и регионов."
   ]
  },
  {
   "cell_type": "code",
   "execution_count": 60,
   "metadata": {},
   "outputs": [
    {
     "name": "stdout",
     "output_type": "stream",
     "text": [
      "\u001b[1m\u001b[94mОписательная статистика\u001b[0m\n"
     ]
    },
    {
     "data": {
      "text/html": [
       "<div>\n",
       "<style scoped>\n",
       "    .dataframe tbody tr th:only-of-type {\n",
       "        vertical-align: middle;\n",
       "    }\n",
       "\n",
       "    .dataframe tbody tr th {\n",
       "        vertical-align: top;\n",
       "    }\n",
       "\n",
       "    .dataframe thead th {\n",
       "        text-align: right;\n",
       "    }\n",
       "</style>\n",
       "<table border=\"1\" class=\"dataframe\">\n",
       "  <thead>\n",
       "    <tr style=\"text-align: right;\">\n",
       "      <th></th>\n",
       "      <th>count</th>\n",
       "      <th>mean</th>\n",
       "      <th>std</th>\n",
       "      <th>min</th>\n",
       "      <th>25%</th>\n",
       "      <th>50%</th>\n",
       "      <th>75%</th>\n",
       "      <th>max</th>\n",
       "    </tr>\n",
       "    <tr>\n",
       "      <th>moscow</th>\n",
       "      <th></th>\n",
       "      <th></th>\n",
       "      <th></th>\n",
       "      <th></th>\n",
       "      <th></th>\n",
       "      <th></th>\n",
       "      <th></th>\n",
       "      <th></th>\n",
       "    </tr>\n",
       "  </thead>\n",
       "  <tbody>\n",
       "    <tr>\n",
       "      <td>False</td>\n",
       "      <td>2572.0</td>\n",
       "      <td>1519.774106</td>\n",
       "      <td>810.933048</td>\n",
       "      <td>550.0</td>\n",
       "      <td>750.00</td>\n",
       "      <td>1561.0</td>\n",
       "      <td>1950.0</td>\n",
       "      <td>6770.0</td>\n",
       "    </tr>\n",
       "    <tr>\n",
       "      <td>True</td>\n",
       "      <td>610.0</td>\n",
       "      <td>1546.052459</td>\n",
       "      <td>752.527584</td>\n",
       "      <td>550.0</td>\n",
       "      <td>778.75</td>\n",
       "      <td>1750.0</td>\n",
       "      <td>1950.0</td>\n",
       "      <td>5321.0</td>\n",
       "    </tr>\n",
       "  </tbody>\n",
       "</table>\n",
       "</div>"
      ],
      "text/plain": [
       "         count         mean         std    min     25%     50%     75%     max\n",
       "moscow                                                                        \n",
       "False   2572.0  1519.774106  810.933048  550.0  750.00  1561.0  1950.0  6770.0\n",
       "True     610.0  1546.052459  752.527584  550.0  778.75  1750.0  1950.0  5321.0"
      ]
     },
     "metadata": {},
     "output_type": "display_data"
    }
   ],
   "source": [
    "print(color.BOLD + color.BLUE + 'Описательная статистика' + color.END)\n",
    "display(data.groupby('moscow')['total_income'].describe())  "
   ]
  },
  {
   "cell_type": "markdown",
   "metadata": {},
   "source": [
    "Проверим статистическую гипотезу о равенстве средних двух генеральных совокупностей."
   ]
  },
  {
   "cell_type": "code",
   "execution_count": 61,
   "metadata": {},
   "outputs": [
    {
     "name": "stdout",
     "output_type": "stream",
     "text": [
      "\u001b[1m\u001b[94mПроверка гипотезы H₀ о равенстве генеральных совокупностей\u001b[0m\n",
      "H₀: средние двух генеральных совокупностей равны между собой\n",
      "H₁: средние двух генеральных совокупностей не равны между собой\n",
      "p-значение: 0.4452390325541491\n",
      "\u001b[92mНе получилось отвергнуть нулевую гипотезу\u001b[0m\n"
     ]
    }
   ],
   "source": [
    "print(color.BOLD + color.BLUE + 'Проверка гипотезы H₀ о равенстве генеральных совокупностей' + color.END)\n",
    "sample_1 = data.query('moscow == True')['total_income']\n",
    "sample_2 = data.query('moscow == False')['total_income']        \n",
    "\n",
    "alpha = 0.01  \n",
    "results = st.ttest_ind(sample_2, sample_1, equal_var=False)\n",
    "\n",
    "print('H₀: средние двух генеральных совокупностей равны между собой')\n",
    "print('H₁: средние двух генеральных совокупностей не равны между собой')\n",
    "print('p-значение:', results.pvalue)\n",
    "if results.pvalue < alpha:\n",
    "    print(color.RED + 'Отвергаем нулевую гипотезу' + color.END)\n",
    "else:\n",
    "    print(color.GREEN + 'Не получилось отвергнуть нулевую гипотезу' + color.END) \n"
   ]
  },
  {
   "cell_type": "markdown",
   "metadata": {},
   "source": [
    "Средние значения выручки пользователей из Москвы и из регионов различаются незначительно, а нулевую гипотезу о равенстве генеральных совокупностей отвергнуть не удалось.\n",
    "\n",
    "### Вывод об особенностях поведения пользователей тарифов \"Ultra\" и \"Smart\"\n",
    "По наблюдаемым данным нет возможности сделать вывод о том, что выручка пользователей из Москвы и пользователей из регионов различается.\n"
   ]
  },
  {
   "cell_type": "markdown",
   "metadata": {},
   "source": [
    "## Общий вывод"
   ]
  },
  {
   "cell_type": "markdown",
   "metadata": {},
   "source": [
    "**Краткий обзор проведённой работы**  \n",
    "\n",
    "Данные подготовлены к работе. Данные по столбцам проанализированы, проверены на наличие ошибок и пропусков. Изменён тип данных столбцов в тех случаях, где он не соответствовал цели. Данные проверены на наличие дублирующихся строк.  \n",
    "Рассчитаны и добавлены в таблицу параметры: количество сделанных звонков и израсходованных минут разговора, количество отправленных сообщений, объем израсходованного интернет-трафика по месяцам, помесячную выручку с каждого пользователя.  \n",
    "Проведён статистический анализ данных. Проанализированы особенности поведения клиентов на каждом из тарифных планов, построены графики. Проверены гипотезы.\n",
    "\n",
    "**Выводы**  \n",
    "1. С большой степенью достоверности средняя выручка по тарифу \"Ultra\" выше, чем средняя выручка по тарифу \"Smart\" (вероятность ошибки крайне мала).  \n",
    "2. Пользователи  тарифа \"Ultra\" совершают больше звонков, отправляют больше сообщений и используют больше интернет-трафика, но редко покупают дополнительные услуги связи сверх включённых в тариф (если покупают, то только дополнительный трафик).  \n",
    "3. Пользователи тарифа \"Smart\" совершают меньше звонков, отправляют меньше исходящих сообщений и используют меньше интернет-трафика, но при этом большое количество пользователей покупает дополнительные услуги связи сверх включённых в тариф. Более половины пользователей покупают дополнительные минуты и интернет-трафик, более четверти покупают дополнительные сообщения.   \n",
    "4. По наблюдаемым данным нет возможности сделать вывод о том, что выручка пользователей из Москвы и пользователей из регионов различается.\n"
   ]
  },
  {
   "cell_type": "code",
   "execution_count": null,
   "metadata": {},
   "outputs": [],
   "source": []
  }
 ],
 "metadata": {
  "ExecuteTimeLog": [
   {
    "duration": 1399,
    "start_time": "2021-08-12T15:41:45.651Z"
   },
   {
    "duration": 536,
    "start_time": "2021-08-12T15:43:23.541Z"
   },
   {
    "duration": 3033,
    "start_time": "2021-08-12T15:43:29.688Z"
   },
   {
    "duration": 285,
    "start_time": "2021-08-12T15:43:32.439Z"
   },
   {
    "duration": 3248,
    "start_time": "2021-08-12T15:44:04.706Z"
   },
   {
    "duration": 3445,
    "start_time": "2021-08-12T15:44:57.728Z"
   },
   {
    "duration": 63,
    "start_time": "2021-08-12T15:45:42.930Z"
   },
   {
    "duration": 9,
    "start_time": "2021-08-12T15:45:58.700Z"
   },
   {
    "duration": 19,
    "start_time": "2021-08-12T15:53:26.699Z"
   },
   {
    "duration": 226,
    "start_time": "2021-08-12T15:55:54.216Z"
   },
   {
    "duration": 171,
    "start_time": "2021-08-12T15:56:15.860Z"
   },
   {
    "duration": 12,
    "start_time": "2021-08-12T15:57:18.143Z"
   },
   {
    "duration": 355,
    "start_time": "2021-08-12T15:58:05.272Z"
   },
   {
    "duration": 139,
    "start_time": "2021-08-12T16:01:32.172Z"
   },
   {
    "duration": 208,
    "start_time": "2021-08-12T16:04:30.886Z"
   },
   {
    "duration": 12,
    "start_time": "2021-08-12T16:07:25.405Z"
   },
   {
    "duration": 410,
    "start_time": "2021-08-13T14:06:25.273Z"
   },
   {
    "duration": 1342,
    "start_time": "2021-08-13T14:06:32.784Z"
   },
   {
    "duration": 35,
    "start_time": "2021-08-13T14:06:34.128Z"
   },
   {
    "duration": 10,
    "start_time": "2021-08-13T14:06:34.167Z"
   },
   {
    "duration": 246,
    "start_time": "2021-08-13T14:06:34.181Z"
   },
   {
    "duration": 142,
    "start_time": "2021-08-13T14:06:34.430Z"
   },
   {
    "duration": 200,
    "start_time": "2021-08-13T14:06:34.575Z"
   },
   {
    "duration": 16,
    "start_time": "2021-08-13T14:06:34.778Z"
   },
   {
    "duration": 29,
    "start_time": "2021-08-13T14:06:34.797Z"
   },
   {
    "duration": 483,
    "start_time": "2021-08-13T14:25:03.872Z"
   },
   {
    "duration": 5,
    "start_time": "2021-08-13T14:25:30.760Z"
   },
   {
    "duration": 53,
    "start_time": "2021-08-13T14:25:30.768Z"
   },
   {
    "duration": 29,
    "start_time": "2021-08-13T14:25:30.824Z"
   },
   {
    "duration": 264,
    "start_time": "2021-08-13T14:25:30.856Z"
   },
   {
    "duration": 134,
    "start_time": "2021-08-13T14:25:31.122Z"
   },
   {
    "duration": 189,
    "start_time": "2021-08-13T14:25:31.258Z"
   },
   {
    "duration": 12,
    "start_time": "2021-08-13T14:25:31.455Z"
   },
   {
    "duration": 38,
    "start_time": "2021-08-13T14:25:31.469Z"
   },
   {
    "duration": 8,
    "start_time": "2021-08-13T14:25:36.208Z"
   },
   {
    "duration": 25,
    "start_time": "2021-08-13T14:26:20.512Z"
   },
   {
    "duration": 365,
    "start_time": "2021-08-13T14:29:59.993Z"
   },
   {
    "duration": 10,
    "start_time": "2021-08-13T14:30:12.407Z"
   },
   {
    "duration": 26,
    "start_time": "2021-08-13T14:30:25.978Z"
   },
   {
    "duration": 36,
    "start_time": "2021-08-13T14:31:58.333Z"
   },
   {
    "duration": 26,
    "start_time": "2021-08-13T14:32:24.178Z"
   },
   {
    "duration": 15,
    "start_time": "2021-08-13T14:37:35.633Z"
   },
   {
    "duration": 364,
    "start_time": "2021-08-13T14:37:55.062Z"
   },
   {
    "duration": 603,
    "start_time": "2021-08-13T14:38:05.881Z"
   },
   {
    "duration": 345,
    "start_time": "2021-08-13T14:38:26.611Z"
   },
   {
    "duration": 333,
    "start_time": "2021-08-13T14:42:13.114Z"
   },
   {
    "duration": 367,
    "start_time": "2021-08-13T14:42:32.338Z"
   },
   {
    "duration": 9,
    "start_time": "2021-08-13T14:43:48.446Z"
   },
   {
    "duration": 10,
    "start_time": "2021-08-13T14:49:24.768Z"
   },
   {
    "duration": 408,
    "start_time": "2021-08-13T14:51:49.271Z"
   },
   {
    "duration": 17,
    "start_time": "2021-08-13T14:51:58.031Z"
   },
   {
    "duration": 15,
    "start_time": "2021-08-13T14:52:19.135Z"
   },
   {
    "duration": 16,
    "start_time": "2021-08-13T14:53:08.134Z"
   },
   {
    "duration": 5,
    "start_time": "2021-08-13T15:09:16.823Z"
   },
   {
    "duration": 8842,
    "start_time": "2021-08-13T15:10:13.005Z"
   },
   {
    "duration": 6,
    "start_time": "2021-08-13T15:10:28.010Z"
   },
   {
    "duration": 6,
    "start_time": "2021-08-13T15:10:35.619Z"
   },
   {
    "duration": 11,
    "start_time": "2021-08-13T15:10:49.846Z"
   },
   {
    "duration": 10,
    "start_time": "2021-08-13T15:11:14.000Z"
   },
   {
    "duration": 33,
    "start_time": "2021-08-13T15:14:40.652Z"
   },
   {
    "duration": 67,
    "start_time": "2021-08-13T15:19:01.789Z"
   },
   {
    "duration": 63,
    "start_time": "2021-08-13T15:19:18.912Z"
   },
   {
    "duration": 27,
    "start_time": "2021-08-13T15:21:00.943Z"
   },
   {
    "duration": 86,
    "start_time": "2021-08-13T15:21:13.518Z"
   },
   {
    "duration": 939,
    "start_time": "2021-08-14T11:42:59.028Z"
   },
   {
    "duration": 30,
    "start_time": "2021-08-14T11:42:59.969Z"
   },
   {
    "duration": 8,
    "start_time": "2021-08-14T11:43:00.001Z"
   },
   {
    "duration": 179,
    "start_time": "2021-08-14T11:43:00.011Z"
   },
   {
    "duration": 107,
    "start_time": "2021-08-14T11:43:00.192Z"
   },
   {
    "duration": 151,
    "start_time": "2021-08-14T11:43:00.301Z"
   },
   {
    "duration": 10,
    "start_time": "2021-08-14T11:43:00.454Z"
   },
   {
    "duration": 32,
    "start_time": "2021-08-14T11:43:00.467Z"
   },
   {
    "duration": 21,
    "start_time": "2021-08-14T11:43:00.501Z"
   },
   {
    "duration": 19,
    "start_time": "2021-08-14T11:43:00.524Z"
   },
   {
    "duration": 18,
    "start_time": "2021-08-14T11:43:00.544Z"
   },
   {
    "duration": 23,
    "start_time": "2021-08-14T11:43:00.563Z"
   },
   {
    "duration": 7,
    "start_time": "2021-08-14T11:43:00.587Z"
   },
   {
    "duration": 22,
    "start_time": "2021-08-14T11:43:00.595Z"
   },
   {
    "duration": 7,
    "start_time": "2021-08-14T11:43:00.619Z"
   },
   {
    "duration": 8,
    "start_time": "2021-08-14T11:43:00.628Z"
   },
   {
    "duration": 35,
    "start_time": "2021-08-14T11:43:00.638Z"
   },
   {
    "duration": 89,
    "start_time": "2021-08-14T11:43:00.675Z"
   },
   {
    "duration": 75,
    "start_time": "2021-08-14T11:43:00.766Z"
   },
   {
    "duration": 20,
    "start_time": "2021-08-14T11:45:23.356Z"
   },
   {
    "duration": 45,
    "start_time": "2021-08-14T11:46:00.709Z"
   },
   {
    "duration": 70,
    "start_time": "2021-08-14T11:46:20.663Z"
   },
   {
    "duration": 42,
    "start_time": "2021-08-14T11:46:32.624Z"
   },
   {
    "duration": 27,
    "start_time": "2021-08-14T14:59:27.225Z"
   },
   {
    "duration": 61,
    "start_time": "2021-08-14T15:01:41.784Z"
   },
   {
    "duration": 104,
    "start_time": "2021-08-14T15:01:49.756Z"
   },
   {
    "duration": 10,
    "start_time": "2021-08-14T15:04:05.359Z"
   },
   {
    "duration": 29,
    "start_time": "2021-08-14T15:05:11.476Z"
   },
   {
    "duration": 11,
    "start_time": "2021-08-14T15:05:13.836Z"
   },
   {
    "duration": 987,
    "start_time": "2021-08-14T15:05:22.034Z"
   },
   {
    "duration": 30,
    "start_time": "2021-08-14T15:05:23.023Z"
   },
   {
    "duration": 7,
    "start_time": "2021-08-14T15:05:23.055Z"
   },
   {
    "duration": 175,
    "start_time": "2021-08-14T15:05:23.064Z"
   },
   {
    "duration": 108,
    "start_time": "2021-08-14T15:05:23.241Z"
   },
   {
    "duration": 159,
    "start_time": "2021-08-14T15:05:23.350Z"
   },
   {
    "duration": 12,
    "start_time": "2021-08-14T15:05:23.511Z"
   },
   {
    "duration": 21,
    "start_time": "2021-08-14T15:05:23.525Z"
   },
   {
    "duration": 12,
    "start_time": "2021-08-14T15:05:23.549Z"
   },
   {
    "duration": 35,
    "start_time": "2021-08-14T15:05:23.563Z"
   },
   {
    "duration": 17,
    "start_time": "2021-08-14T15:05:23.600Z"
   },
   {
    "duration": 7,
    "start_time": "2021-08-14T15:05:23.619Z"
   },
   {
    "duration": 7,
    "start_time": "2021-08-14T15:05:23.627Z"
   },
   {
    "duration": 12,
    "start_time": "2021-08-14T15:05:23.635Z"
   },
   {
    "duration": 8,
    "start_time": "2021-08-14T15:05:23.684Z"
   },
   {
    "duration": 5,
    "start_time": "2021-08-14T15:05:23.693Z"
   },
   {
    "duration": 27,
    "start_time": "2021-08-14T15:05:23.700Z"
   },
   {
    "duration": 112,
    "start_time": "2021-08-14T15:05:23.729Z"
   },
   {
    "duration": 80,
    "start_time": "2021-08-14T15:05:23.842Z"
   },
   {
    "duration": 10,
    "start_time": "2021-08-14T15:05:23.924Z"
   },
   {
    "duration": 31,
    "start_time": "2021-08-14T15:05:23.935Z"
   },
   {
    "duration": 134,
    "start_time": "2021-08-14T15:05:23.967Z"
   },
   {
    "duration": 19,
    "start_time": "2021-08-14T15:05:24.104Z"
   },
   {
    "duration": 67,
    "start_time": "2021-08-14T15:05:24.125Z"
   },
   {
    "duration": 43,
    "start_time": "2021-08-14T15:05:24.194Z"
   },
   {
    "duration": 21,
    "start_time": "2021-08-14T15:05:24.239Z"
   },
   {
    "duration": 47,
    "start_time": "2021-08-14T15:05:24.262Z"
   },
   {
    "duration": 45,
    "start_time": "2021-08-14T15:05:24.311Z"
   },
   {
    "duration": 287,
    "start_time": "2021-08-14T15:08:57.070Z"
   },
   {
    "duration": 1091,
    "start_time": "2021-08-14T15:10:46.794Z"
   },
   {
    "duration": 33,
    "start_time": "2021-08-14T15:10:47.888Z"
   },
   {
    "duration": 6,
    "start_time": "2021-08-14T15:10:47.923Z"
   },
   {
    "duration": 217,
    "start_time": "2021-08-14T15:10:47.931Z"
   },
   {
    "duration": 132,
    "start_time": "2021-08-14T15:10:48.185Z"
   },
   {
    "duration": 183,
    "start_time": "2021-08-14T15:10:48.319Z"
   },
   {
    "duration": 13,
    "start_time": "2021-08-14T15:10:48.505Z"
   },
   {
    "duration": 20,
    "start_time": "2021-08-14T15:10:48.521Z"
   },
   {
    "duration": 13,
    "start_time": "2021-08-14T15:10:48.544Z"
   },
   {
    "duration": 43,
    "start_time": "2021-08-14T15:10:48.559Z"
   },
   {
    "duration": 16,
    "start_time": "2021-08-14T15:10:48.604Z"
   },
   {
    "duration": 8,
    "start_time": "2021-08-14T15:10:48.621Z"
   },
   {
    "duration": 6,
    "start_time": "2021-08-14T15:10:48.631Z"
   },
   {
    "duration": 10,
    "start_time": "2021-08-14T15:10:48.638Z"
   },
   {
    "duration": 43,
    "start_time": "2021-08-14T15:10:48.650Z"
   },
   {
    "duration": 10,
    "start_time": "2021-08-14T15:10:48.696Z"
   },
   {
    "duration": 26,
    "start_time": "2021-08-14T15:10:48.708Z"
   },
   {
    "duration": 118,
    "start_time": "2021-08-14T15:10:48.736Z"
   },
   {
    "duration": 77,
    "start_time": "2021-08-14T15:10:48.855Z"
   },
   {
    "duration": 267,
    "start_time": "2021-08-14T15:10:48.934Z"
   },
   {
    "duration": -32,
    "start_time": "2021-08-14T15:10:49.235Z"
   },
   {
    "duration": -34,
    "start_time": "2021-08-14T15:10:49.238Z"
   },
   {
    "duration": -51,
    "start_time": "2021-08-14T15:10:49.256Z"
   },
   {
    "duration": -53,
    "start_time": "2021-08-14T15:10:49.259Z"
   },
   {
    "duration": -54,
    "start_time": "2021-08-14T15:10:49.261Z"
   },
   {
    "duration": -66,
    "start_time": "2021-08-14T15:10:49.274Z"
   },
   {
    "duration": -70,
    "start_time": "2021-08-14T15:10:49.279Z"
   },
   {
    "duration": -72,
    "start_time": "2021-08-14T15:10:49.282Z"
   },
   {
    "duration": 1052,
    "start_time": "2021-08-14T15:14:26.813Z"
   },
   {
    "duration": 35,
    "start_time": "2021-08-14T15:14:27.866Z"
   },
   {
    "duration": 8,
    "start_time": "2021-08-14T15:14:27.904Z"
   },
   {
    "duration": 202,
    "start_time": "2021-08-14T15:14:27.913Z"
   },
   {
    "duration": 110,
    "start_time": "2021-08-14T15:14:28.117Z"
   },
   {
    "duration": 156,
    "start_time": "2021-08-14T15:14:28.229Z"
   },
   {
    "duration": 15,
    "start_time": "2021-08-14T15:14:28.390Z"
   },
   {
    "duration": 27,
    "start_time": "2021-08-14T15:14:28.408Z"
   },
   {
    "duration": 32,
    "start_time": "2021-08-14T15:14:28.439Z"
   },
   {
    "duration": 39,
    "start_time": "2021-08-14T15:14:28.474Z"
   },
   {
    "duration": 29,
    "start_time": "2021-08-14T15:14:28.514Z"
   },
   {
    "duration": 21,
    "start_time": "2021-08-14T15:14:28.545Z"
   },
   {
    "duration": 16,
    "start_time": "2021-08-14T15:14:28.567Z"
   },
   {
    "duration": 32,
    "start_time": "2021-08-14T15:14:28.585Z"
   },
   {
    "duration": 18,
    "start_time": "2021-08-14T15:14:28.619Z"
   },
   {
    "duration": 24,
    "start_time": "2021-08-14T15:14:28.639Z"
   },
   {
    "duration": 52,
    "start_time": "2021-08-14T15:14:28.665Z"
   },
   {
    "duration": 89,
    "start_time": "2021-08-14T15:14:28.719Z"
   },
   {
    "duration": 78,
    "start_time": "2021-08-14T15:14:28.810Z"
   },
   {
    "duration": 616,
    "start_time": "2021-08-14T15:14:28.891Z"
   },
   {
    "duration": -32,
    "start_time": "2021-08-14T15:14:29.541Z"
   },
   {
    "duration": -79,
    "start_time": "2021-08-14T15:14:29.589Z"
   },
   {
    "duration": -81,
    "start_time": "2021-08-14T15:14:29.592Z"
   },
   {
    "duration": -90,
    "start_time": "2021-08-14T15:14:29.602Z"
   },
   {
    "duration": -93,
    "start_time": "2021-08-14T15:14:29.607Z"
   },
   {
    "duration": -102,
    "start_time": "2021-08-14T15:14:29.617Z"
   },
   {
    "duration": -103,
    "start_time": "2021-08-14T15:14:29.620Z"
   },
   {
    "duration": -104,
    "start_time": "2021-08-14T15:14:29.622Z"
   },
   {
    "duration": 183,
    "start_time": "2021-08-14T15:14:56.911Z"
   },
   {
    "duration": 11,
    "start_time": "2021-08-14T15:19:37.231Z"
   },
   {
    "duration": 33,
    "start_time": "2021-08-14T15:22:21.083Z"
   },
   {
    "duration": 34,
    "start_time": "2021-08-14T15:22:25.479Z"
   },
   {
    "duration": 108,
    "start_time": "2021-08-14T15:23:33.618Z"
   },
   {
    "duration": 36,
    "start_time": "2021-08-14T15:28:40.430Z"
   },
   {
    "duration": 34,
    "start_time": "2021-08-14T15:29:20.110Z"
   },
   {
    "duration": 14,
    "start_time": "2021-08-14T15:36:08.350Z"
   },
   {
    "duration": 35,
    "start_time": "2021-08-14T15:36:31.630Z"
   },
   {
    "duration": 27,
    "start_time": "2021-08-14T15:36:47.764Z"
   },
   {
    "duration": 20,
    "start_time": "2021-08-14T15:37:36.084Z"
   },
   {
    "duration": 40,
    "start_time": "2021-08-14T15:38:31.830Z"
   },
   {
    "duration": 23,
    "start_time": "2021-08-14T15:42:14.082Z"
   },
   {
    "duration": 62,
    "start_time": "2021-08-14T15:42:15.402Z"
   },
   {
    "duration": 4,
    "start_time": "2021-08-14T15:44:29.010Z"
   },
   {
    "duration": 6,
    "start_time": "2021-08-14T15:47:18.923Z"
   },
   {
    "duration": 7,
    "start_time": "2021-08-14T15:47:30.110Z"
   },
   {
    "duration": 7,
    "start_time": "2021-08-14T15:52:18.683Z"
   },
   {
    "duration": 4,
    "start_time": "2021-08-14T15:52:26.631Z"
   },
   {
    "duration": 5,
    "start_time": "2021-08-14T15:52:32.242Z"
   },
   {
    "duration": 14,
    "start_time": "2021-08-14T15:52:43.482Z"
   },
   {
    "duration": 26,
    "start_time": "2021-08-14T15:53:23.762Z"
   },
   {
    "duration": 6,
    "start_time": "2021-08-14T15:53:49.518Z"
   },
   {
    "duration": 23,
    "start_time": "2021-08-14T15:53:56.110Z"
   },
   {
    "duration": 5,
    "start_time": "2021-08-14T15:55:05.350Z"
   },
   {
    "duration": 22,
    "start_time": "2021-08-14T15:55:06.883Z"
   },
   {
    "duration": 5,
    "start_time": "2021-08-14T15:56:56.562Z"
   },
   {
    "duration": 22,
    "start_time": "2021-08-14T15:56:57.470Z"
   },
   {
    "duration": 4,
    "start_time": "2021-08-14T15:57:05.679Z"
   },
   {
    "duration": 23,
    "start_time": "2021-08-14T15:57:07.190Z"
   },
   {
    "duration": 19,
    "start_time": "2021-08-14T15:59:31.391Z"
   },
   {
    "duration": 23,
    "start_time": "2021-08-14T16:02:37.710Z"
   },
   {
    "duration": 52,
    "start_time": "2021-08-14T16:03:04.178Z"
   },
   {
    "duration": 63,
    "start_time": "2021-08-14T16:05:43.406Z"
   },
   {
    "duration": 11,
    "start_time": "2021-08-14T16:08:57.310Z"
   },
   {
    "duration": 4395,
    "start_time": "2021-08-14T16:13:00.642Z"
   },
   {
    "duration": -104,
    "start_time": "2021-08-14T16:13:05.143Z"
   },
   {
    "duration": 41,
    "start_time": "2021-08-14T16:13:16.279Z"
   },
   {
    "duration": 43,
    "start_time": "2021-08-14T16:13:24.751Z"
   },
   {
    "duration": 4,
    "start_time": "2021-08-14T16:13:32.030Z"
   },
   {
    "duration": 5,
    "start_time": "2021-08-14T16:13:34.070Z"
   },
   {
    "duration": 29,
    "start_time": "2021-08-14T16:13:45.202Z"
   },
   {
    "duration": 8,
    "start_time": "2021-08-14T16:14:07.111Z"
   },
   {
    "duration": 27,
    "start_time": "2021-08-14T16:14:17.123Z"
   },
   {
    "duration": 192,
    "start_time": "2021-08-14T16:15:15.332Z"
   },
   {
    "duration": 18,
    "start_time": "2021-08-14T16:16:53.999Z"
   },
   {
    "duration": 389,
    "start_time": "2021-08-14T16:16:57.243Z"
   },
   {
    "duration": 52,
    "start_time": "2021-08-14T16:17:22.991Z"
   },
   {
    "duration": 9,
    "start_time": "2021-08-14T16:19:03.519Z"
   },
   {
    "duration": 13,
    "start_time": "2021-08-14T16:19:10.442Z"
   },
   {
    "duration": 6,
    "start_time": "2021-08-14T16:52:23.962Z"
   },
   {
    "duration": 1044,
    "start_time": "2021-08-14T16:53:19.810Z"
   },
   {
    "duration": 28,
    "start_time": "2021-08-14T16:53:20.856Z"
   },
   {
    "duration": 7,
    "start_time": "2021-08-14T16:53:20.886Z"
   },
   {
    "duration": 164,
    "start_time": "2021-08-14T16:53:20.895Z"
   },
   {
    "duration": 101,
    "start_time": "2021-08-14T16:53:21.061Z"
   },
   {
    "duration": 158,
    "start_time": "2021-08-14T16:53:21.164Z"
   },
   {
    "duration": 13,
    "start_time": "2021-08-14T16:53:21.323Z"
   },
   {
    "duration": 21,
    "start_time": "2021-08-14T16:53:21.338Z"
   },
   {
    "duration": 24,
    "start_time": "2021-08-14T16:53:21.361Z"
   },
   {
    "duration": 21,
    "start_time": "2021-08-14T16:53:21.387Z"
   },
   {
    "duration": 18,
    "start_time": "2021-08-14T16:53:21.409Z"
   },
   {
    "duration": 9,
    "start_time": "2021-08-14T16:53:21.429Z"
   },
   {
    "duration": 6,
    "start_time": "2021-08-14T16:53:21.440Z"
   },
   {
    "duration": 44,
    "start_time": "2021-08-14T16:53:21.448Z"
   },
   {
    "duration": 7,
    "start_time": "2021-08-14T16:53:21.494Z"
   },
   {
    "duration": 8,
    "start_time": "2021-08-14T16:53:21.502Z"
   },
   {
    "duration": 26,
    "start_time": "2021-08-14T16:53:21.512Z"
   },
   {
    "duration": 108,
    "start_time": "2021-08-14T16:53:21.539Z"
   },
   {
    "duration": 71,
    "start_time": "2021-08-14T16:53:21.648Z"
   },
   {
    "duration": 9,
    "start_time": "2021-08-14T16:53:21.721Z"
   },
   {
    "duration": 28,
    "start_time": "2021-08-14T16:53:21.731Z"
   },
   {
    "duration": 125,
    "start_time": "2021-08-14T16:53:21.761Z"
   },
   {
    "duration": 26,
    "start_time": "2021-08-14T16:53:21.889Z"
   },
   {
    "duration": 17,
    "start_time": "2021-08-14T16:53:21.917Z"
   },
   {
    "duration": 63,
    "start_time": "2021-08-14T16:53:21.935Z"
   },
   {
    "duration": 39,
    "start_time": "2021-08-14T16:53:22.000Z"
   },
   {
    "duration": 14,
    "start_time": "2021-08-14T16:53:22.041Z"
   },
   {
    "duration": 65,
    "start_time": "2021-08-14T16:53:22.057Z"
   },
   {
    "duration": 6,
    "start_time": "2021-08-14T16:53:22.124Z"
   },
   {
    "duration": 24,
    "start_time": "2021-08-14T16:53:22.132Z"
   },
   {
    "duration": 28,
    "start_time": "2021-08-14T16:53:22.158Z"
   },
   {
    "duration": 24,
    "start_time": "2021-08-14T16:53:22.187Z"
   },
   {
    "duration": 73,
    "start_time": "2021-08-14T16:53:22.213Z"
   },
   {
    "duration": 52,
    "start_time": "2021-08-14T16:53:22.287Z"
   },
   {
    "duration": 10,
    "start_time": "2021-08-14T16:53:22.340Z"
   },
   {
    "duration": 38,
    "start_time": "2021-08-14T16:53:22.352Z"
   },
   {
    "duration": 46,
    "start_time": "2021-08-14T16:53:22.392Z"
   },
   {
    "duration": 13,
    "start_time": "2021-08-14T16:53:22.439Z"
   },
   {
    "duration": 7,
    "start_time": "2021-08-14T16:54:32.070Z"
   },
   {
    "duration": 7,
    "start_time": "2021-08-14T16:54:50.402Z"
   },
   {
    "duration": 20,
    "start_time": "2021-08-14T16:56:22.122Z"
   },
   {
    "duration": 301,
    "start_time": "2021-08-14T17:56:46.310Z"
   },
   {
    "duration": 5,
    "start_time": "2021-08-14T17:57:51.370Z"
   },
   {
    "duration": 5,
    "start_time": "2021-08-14T17:58:26.350Z"
   },
   {
    "duration": 203,
    "start_time": "2021-08-14T17:58:45.482Z"
   },
   {
    "duration": 16,
    "start_time": "2021-08-14T18:01:35.410Z"
   },
   {
    "duration": 177,
    "start_time": "2021-08-14T18:06:45.310Z"
   },
   {
    "duration": 173,
    "start_time": "2021-08-14T18:07:37.846Z"
   },
   {
    "duration": 194,
    "start_time": "2021-08-14T18:08:04.201Z"
   },
   {
    "duration": 179,
    "start_time": "2021-08-14T18:08:15.522Z"
   },
   {
    "duration": 4,
    "start_time": "2021-08-14T18:08:43.044Z"
   },
   {
    "duration": 185,
    "start_time": "2021-08-14T18:08:55.550Z"
   },
   {
    "duration": 187,
    "start_time": "2021-08-14T18:09:00.523Z"
   },
   {
    "duration": 1013,
    "start_time": "2021-08-14T18:09:46.892Z"
   },
   {
    "duration": 30,
    "start_time": "2021-08-14T18:09:47.907Z"
   },
   {
    "duration": 8,
    "start_time": "2021-08-14T18:09:47.939Z"
   },
   {
    "duration": 181,
    "start_time": "2021-08-14T18:09:47.948Z"
   },
   {
    "duration": 106,
    "start_time": "2021-08-14T18:09:48.131Z"
   },
   {
    "duration": 171,
    "start_time": "2021-08-14T18:09:48.239Z"
   },
   {
    "duration": 12,
    "start_time": "2021-08-14T18:09:48.412Z"
   },
   {
    "duration": 20,
    "start_time": "2021-08-14T18:09:48.426Z"
   },
   {
    "duration": 13,
    "start_time": "2021-08-14T18:09:48.449Z"
   },
   {
    "duration": 31,
    "start_time": "2021-08-14T18:09:48.464Z"
   },
   {
    "duration": 18,
    "start_time": "2021-08-14T18:09:48.496Z"
   },
   {
    "duration": 8,
    "start_time": "2021-08-14T18:09:48.516Z"
   },
   {
    "duration": 7,
    "start_time": "2021-08-14T18:09:48.526Z"
   },
   {
    "duration": 12,
    "start_time": "2021-08-14T18:09:48.534Z"
   },
   {
    "duration": 42,
    "start_time": "2021-08-14T18:09:48.547Z"
   },
   {
    "duration": 4,
    "start_time": "2021-08-14T18:09:48.591Z"
   },
   {
    "duration": 33,
    "start_time": "2021-08-14T18:09:48.596Z"
   },
   {
    "duration": 111,
    "start_time": "2021-08-14T18:09:48.630Z"
   },
   {
    "duration": 74,
    "start_time": "2021-08-14T18:09:48.743Z"
   },
   {
    "duration": 10,
    "start_time": "2021-08-14T18:09:48.818Z"
   },
   {
    "duration": 28,
    "start_time": "2021-08-14T18:09:48.830Z"
   },
   {
    "duration": 127,
    "start_time": "2021-08-14T18:09:48.860Z"
   },
   {
    "duration": 28,
    "start_time": "2021-08-14T18:09:48.990Z"
   },
   {
    "duration": 20,
    "start_time": "2021-08-14T18:09:49.020Z"
   },
   {
    "duration": 73,
    "start_time": "2021-08-14T18:09:49.041Z"
   },
   {
    "duration": 41,
    "start_time": "2021-08-14T18:09:49.115Z"
   },
   {
    "duration": 35,
    "start_time": "2021-08-14T18:09:49.157Z"
   },
   {
    "duration": 2,
    "start_time": "2021-08-14T18:09:49.194Z"
   },
   {
    "duration": 50,
    "start_time": "2021-08-14T18:09:49.197Z"
   },
   {
    "duration": 4,
    "start_time": "2021-08-14T18:09:49.248Z"
   },
   {
    "duration": 37,
    "start_time": "2021-08-14T18:09:49.254Z"
   },
   {
    "duration": 29,
    "start_time": "2021-08-14T18:09:49.292Z"
   },
   {
    "duration": 5,
    "start_time": "2021-08-14T18:09:49.323Z"
   },
   {
    "duration": 24,
    "start_time": "2021-08-14T18:09:49.330Z"
   },
   {
    "duration": 77,
    "start_time": "2021-08-14T18:09:49.355Z"
   },
   {
    "duration": 64,
    "start_time": "2021-08-14T18:09:49.433Z"
   },
   {
    "duration": 10,
    "start_time": "2021-08-14T18:09:49.498Z"
   },
   {
    "duration": 21,
    "start_time": "2021-08-14T18:09:49.510Z"
   },
   {
    "duration": 66,
    "start_time": "2021-08-14T18:09:49.532Z"
   },
   {
    "duration": 13,
    "start_time": "2021-08-14T18:09:49.599Z"
   },
   {
    "duration": 18,
    "start_time": "2021-08-14T18:10:15.345Z"
   },
   {
    "duration": 19,
    "start_time": "2021-08-14T18:11:44.904Z"
   },
   {
    "duration": 15,
    "start_time": "2021-08-14T20:04:03.756Z"
   },
   {
    "duration": 1394,
    "start_time": "2021-08-15T10:17:27.832Z"
   },
   {
    "duration": 26,
    "start_time": "2021-08-15T10:17:29.228Z"
   },
   {
    "duration": 10,
    "start_time": "2021-08-15T10:17:29.258Z"
   },
   {
    "duration": 230,
    "start_time": "2021-08-15T10:17:29.270Z"
   },
   {
    "duration": 140,
    "start_time": "2021-08-15T10:17:29.503Z"
   },
   {
    "duration": 198,
    "start_time": "2021-08-15T10:17:29.646Z"
   },
   {
    "duration": 21,
    "start_time": "2021-08-15T10:17:29.847Z"
   },
   {
    "duration": 21,
    "start_time": "2021-08-15T10:17:29.873Z"
   },
   {
    "duration": 24,
    "start_time": "2021-08-15T10:17:29.896Z"
   },
   {
    "duration": 54,
    "start_time": "2021-08-15T10:17:29.922Z"
   },
   {
    "duration": 27,
    "start_time": "2021-08-15T10:17:29.978Z"
   },
   {
    "duration": 20,
    "start_time": "2021-08-15T10:17:30.008Z"
   },
   {
    "duration": 12,
    "start_time": "2021-08-15T10:17:30.030Z"
   },
   {
    "duration": 40,
    "start_time": "2021-08-15T10:17:30.044Z"
   },
   {
    "duration": 11,
    "start_time": "2021-08-15T10:17:30.087Z"
   },
   {
    "duration": 13,
    "start_time": "2021-08-15T10:17:30.100Z"
   },
   {
    "duration": 62,
    "start_time": "2021-08-15T10:17:30.116Z"
   },
   {
    "duration": 130,
    "start_time": "2021-08-15T10:17:30.180Z"
   },
   {
    "duration": 101,
    "start_time": "2021-08-15T10:17:30.312Z"
   },
   {
    "duration": 13,
    "start_time": "2021-08-15T10:17:30.415Z"
   },
   {
    "duration": 56,
    "start_time": "2021-08-15T10:17:30.431Z"
   },
   {
    "duration": 170,
    "start_time": "2021-08-15T10:17:30.490Z"
   },
   {
    "duration": 43,
    "start_time": "2021-08-15T10:17:30.669Z"
   },
   {
    "duration": 26,
    "start_time": "2021-08-15T10:17:30.715Z"
   },
   {
    "duration": 68,
    "start_time": "2021-08-15T10:17:30.767Z"
   },
   {
    "duration": 82,
    "start_time": "2021-08-15T10:17:30.837Z"
   },
   {
    "duration": 28,
    "start_time": "2021-08-15T10:17:30.921Z"
   },
   {
    "duration": 12,
    "start_time": "2021-08-15T10:17:30.969Z"
   },
   {
    "duration": 85,
    "start_time": "2021-08-15T10:17:30.984Z"
   },
   {
    "duration": 22,
    "start_time": "2021-08-15T10:17:31.072Z"
   },
   {
    "duration": 71,
    "start_time": "2021-08-15T10:17:31.096Z"
   },
   {
    "duration": 9,
    "start_time": "2021-08-15T10:17:31.170Z"
   },
   {
    "duration": 58,
    "start_time": "2021-08-15T10:17:31.181Z"
   },
   {
    "duration": 93,
    "start_time": "2021-08-15T10:17:31.241Z"
   },
   {
    "duration": 85,
    "start_time": "2021-08-15T10:17:31.336Z"
   },
   {
    "duration": 14,
    "start_time": "2021-08-15T10:17:31.423Z"
   },
   {
    "duration": 45,
    "start_time": "2021-08-15T10:17:31.440Z"
   },
   {
    "duration": 114,
    "start_time": "2021-08-15T10:17:31.488Z"
   },
   {
    "duration": 32,
    "start_time": "2021-08-15T10:17:31.604Z"
   },
   {
    "duration": 32,
    "start_time": "2021-08-15T10:32:24.308Z"
   },
   {
    "duration": 40,
    "start_time": "2021-08-15T10:32:29.799Z"
   },
   {
    "duration": 1387,
    "start_time": "2021-08-15T10:32:38.042Z"
   },
   {
    "duration": 26,
    "start_time": "2021-08-15T10:32:39.432Z"
   },
   {
    "duration": 10,
    "start_time": "2021-08-15T10:32:39.465Z"
   },
   {
    "duration": 241,
    "start_time": "2021-08-15T10:32:39.477Z"
   },
   {
    "duration": 140,
    "start_time": "2021-08-15T10:32:39.720Z"
   },
   {
    "duration": 206,
    "start_time": "2021-08-15T10:32:39.862Z"
   },
   {
    "duration": 17,
    "start_time": "2021-08-15T10:32:40.072Z"
   },
   {
    "duration": 23,
    "start_time": "2021-08-15T10:32:40.092Z"
   },
   {
    "duration": 20,
    "start_time": "2021-08-15T10:32:40.117Z"
   },
   {
    "duration": 29,
    "start_time": "2021-08-15T10:32:40.167Z"
   },
   {
    "duration": 28,
    "start_time": "2021-08-15T10:32:40.198Z"
   },
   {
    "duration": 44,
    "start_time": "2021-08-15T10:32:40.228Z"
   },
   {
    "duration": 10,
    "start_time": "2021-08-15T10:32:40.275Z"
   },
   {
    "duration": 16,
    "start_time": "2021-08-15T10:32:40.287Z"
   },
   {
    "duration": 11,
    "start_time": "2021-08-15T10:32:40.305Z"
   },
   {
    "duration": 7,
    "start_time": "2021-08-15T10:32:40.318Z"
   },
   {
    "duration": 71,
    "start_time": "2021-08-15T10:32:40.328Z"
   },
   {
    "duration": 131,
    "start_time": "2021-08-15T10:32:40.401Z"
   },
   {
    "duration": 100,
    "start_time": "2021-08-15T10:32:40.535Z"
   },
   {
    "duration": 35,
    "start_time": "2021-08-15T10:32:40.638Z"
   },
   {
    "duration": 44,
    "start_time": "2021-08-15T10:32:40.676Z"
   },
   {
    "duration": 174,
    "start_time": "2021-08-15T10:32:40.726Z"
   },
   {
    "duration": 34,
    "start_time": "2021-08-15T10:32:40.904Z"
   },
   {
    "duration": 60,
    "start_time": "2021-08-15T10:32:40.941Z"
   },
   {
    "duration": 27,
    "start_time": "2021-08-15T10:32:41.005Z"
   },
   {
    "duration": 91,
    "start_time": "2021-08-15T10:32:41.034Z"
   },
   {
    "duration": 76,
    "start_time": "2021-08-15T10:32:41.127Z"
   },
   {
    "duration": 29,
    "start_time": "2021-08-15T10:32:41.205Z"
   },
   {
    "duration": 3,
    "start_time": "2021-08-15T10:32:41.236Z"
   },
   {
    "duration": 92,
    "start_time": "2021-08-15T10:32:41.241Z"
   },
   {
    "duration": 34,
    "start_time": "2021-08-15T10:32:41.335Z"
   },
   {
    "duration": 39,
    "start_time": "2021-08-15T10:32:41.371Z"
   },
   {
    "duration": 5,
    "start_time": "2021-08-15T10:32:41.413Z"
   },
   {
    "duration": 64,
    "start_time": "2021-08-15T10:32:41.420Z"
   },
   {
    "duration": 94,
    "start_time": "2021-08-15T10:32:41.487Z"
   },
   {
    "duration": 88,
    "start_time": "2021-08-15T10:32:41.583Z"
   },
   {
    "duration": 14,
    "start_time": "2021-08-15T10:32:41.673Z"
   },
   {
    "duration": 26,
    "start_time": "2021-08-15T10:32:41.689Z"
   },
   {
    "duration": 88,
    "start_time": "2021-08-15T10:32:41.717Z"
   },
   {
    "duration": 21,
    "start_time": "2021-08-15T10:32:41.808Z"
   },
   {
    "duration": 34,
    "start_time": "2021-08-15T10:41:47.042Z"
   },
   {
    "duration": 21,
    "start_time": "2021-08-15T10:47:52.564Z"
   },
   {
    "duration": 39,
    "start_time": "2021-08-15T10:48:54.651Z"
   },
   {
    "duration": 22,
    "start_time": "2021-08-15T10:50:13.883Z"
   },
   {
    "duration": 84,
    "start_time": "2021-08-15T11:03:16.362Z"
   },
   {
    "duration": 7,
    "start_time": "2021-08-15T11:04:41.679Z"
   },
   {
    "duration": 39,
    "start_time": "2021-08-15T11:07:04.730Z"
   },
   {
    "duration": 111,
    "start_time": "2021-08-15T12:19:44.082Z"
   },
   {
    "duration": 110,
    "start_time": "2021-08-15T12:19:57.042Z"
   },
   {
    "duration": 111,
    "start_time": "2021-08-15T12:20:02.478Z"
   },
   {
    "duration": 4,
    "start_time": "2021-08-15T12:23:37.644Z"
   },
   {
    "duration": 33,
    "start_time": "2021-08-15T12:23:37.651Z"
   },
   {
    "duration": 14,
    "start_time": "2021-08-15T12:23:37.687Z"
   },
   {
    "duration": 233,
    "start_time": "2021-08-15T12:23:37.704Z"
   },
   {
    "duration": 137,
    "start_time": "2021-08-15T12:23:37.939Z"
   },
   {
    "duration": 193,
    "start_time": "2021-08-15T12:23:38.078Z"
   },
   {
    "duration": 12,
    "start_time": "2021-08-15T12:23:38.273Z"
   },
   {
    "duration": 26,
    "start_time": "2021-08-15T12:23:38.287Z"
   },
   {
    "duration": 19,
    "start_time": "2021-08-15T12:23:38.318Z"
   },
   {
    "duration": 53,
    "start_time": "2021-08-15T12:23:38.340Z"
   },
   {
    "duration": 27,
    "start_time": "2021-08-15T12:23:38.396Z"
   },
   {
    "duration": 41,
    "start_time": "2021-08-15T12:23:38.425Z"
   },
   {
    "duration": 9,
    "start_time": "2021-08-15T12:23:38.469Z"
   },
   {
    "duration": 18,
    "start_time": "2021-08-15T12:23:38.480Z"
   },
   {
    "duration": 10,
    "start_time": "2021-08-15T12:23:38.501Z"
   },
   {
    "duration": 9,
    "start_time": "2021-08-15T12:23:38.514Z"
   },
   {
    "duration": 35,
    "start_time": "2021-08-15T12:23:38.566Z"
   },
   {
    "duration": 122,
    "start_time": "2021-08-15T12:23:38.603Z"
   },
   {
    "duration": 104,
    "start_time": "2021-08-15T12:23:38.727Z"
   },
   {
    "duration": 13,
    "start_time": "2021-08-15T12:23:38.833Z"
   },
   {
    "duration": 41,
    "start_time": "2021-08-15T12:23:38.867Z"
   },
   {
    "duration": 123,
    "start_time": "2021-08-15T12:23:38.910Z"
   },
   {
    "duration": 3,
    "start_time": "2021-08-15T12:23:39.036Z"
   },
   {
    "duration": 46,
    "start_time": "2021-08-15T12:23:39.041Z"
   },
   {
    "duration": 12,
    "start_time": "2021-08-15T12:26:56.570Z"
   },
   {
    "duration": 33,
    "start_time": "2021-08-15T12:27:10.722Z"
   },
   {
    "duration": 88,
    "start_time": "2021-08-15T12:27:46.670Z"
   },
   {
    "duration": 340,
    "start_time": "2021-08-15T12:27:52.670Z"
   },
   {
    "duration": 1336,
    "start_time": "2021-08-15T12:28:24.997Z"
   },
   {
    "duration": 26,
    "start_time": "2021-08-15T12:28:26.336Z"
   },
   {
    "duration": 10,
    "start_time": "2021-08-15T12:28:26.365Z"
   },
   {
    "duration": 238,
    "start_time": "2021-08-15T12:28:26.377Z"
   },
   {
    "duration": 138,
    "start_time": "2021-08-15T12:28:26.618Z"
   },
   {
    "duration": 214,
    "start_time": "2021-08-15T12:28:26.759Z"
   },
   {
    "duration": 16,
    "start_time": "2021-08-15T12:28:26.976Z"
   },
   {
    "duration": 26,
    "start_time": "2021-08-15T12:28:26.996Z"
   },
   {
    "duration": 23,
    "start_time": "2021-08-15T12:28:27.026Z"
   },
   {
    "duration": 40,
    "start_time": "2021-08-15T12:28:27.068Z"
   },
   {
    "duration": 38,
    "start_time": "2021-08-15T12:28:27.110Z"
   },
   {
    "duration": 12,
    "start_time": "2021-08-15T12:28:27.168Z"
   },
   {
    "duration": 12,
    "start_time": "2021-08-15T12:28:27.183Z"
   },
   {
    "duration": 16,
    "start_time": "2021-08-15T12:28:27.198Z"
   },
   {
    "duration": 11,
    "start_time": "2021-08-15T12:28:27.216Z"
   },
   {
    "duration": 40,
    "start_time": "2021-08-15T12:28:27.229Z"
   },
   {
    "duration": 42,
    "start_time": "2021-08-15T12:28:27.271Z"
   },
   {
    "duration": 139,
    "start_time": "2021-08-15T12:28:27.315Z"
   },
   {
    "duration": 97,
    "start_time": "2021-08-15T12:28:27.456Z"
   },
   {
    "duration": 22,
    "start_time": "2021-08-15T12:28:27.555Z"
   },
   {
    "duration": 41,
    "start_time": "2021-08-15T12:28:27.579Z"
   },
   {
    "duration": 136,
    "start_time": "2021-08-15T12:28:27.622Z"
   },
   {
    "duration": 11,
    "start_time": "2021-08-15T12:28:27.769Z"
   },
   {
    "duration": 23,
    "start_time": "2021-08-15T12:28:27.783Z"
   },
   {
    "duration": 25,
    "start_time": "2021-08-15T12:28:27.808Z"
   },
   {
    "duration": 65,
    "start_time": "2021-08-15T12:28:27.868Z"
   },
   {
    "duration": 78,
    "start_time": "2021-08-15T12:28:27.936Z"
   },
   {
    "duration": 50,
    "start_time": "2021-08-15T12:28:28.017Z"
   },
   {
    "duration": 51,
    "start_time": "2021-08-15T12:28:28.069Z"
   },
   {
    "duration": 1074,
    "start_time": "2021-08-15T12:28:28.122Z"
   },
   {
    "duration": -476,
    "start_time": "2021-08-15T12:28:29.675Z"
   },
   {
    "duration": -485,
    "start_time": "2021-08-15T12:28:29.686Z"
   },
   {
    "duration": -488,
    "start_time": "2021-08-15T12:28:29.690Z"
   },
   {
    "duration": -490,
    "start_time": "2021-08-15T12:28:29.693Z"
   },
   {
    "duration": -491,
    "start_time": "2021-08-15T12:28:29.696Z"
   },
   {
    "duration": -493,
    "start_time": "2021-08-15T12:28:29.699Z"
   },
   {
    "duration": -500,
    "start_time": "2021-08-15T12:28:29.707Z"
   },
   {
    "duration": -503,
    "start_time": "2021-08-15T12:28:29.711Z"
   },
   {
    "duration": -505,
    "start_time": "2021-08-15T12:28:29.714Z"
   },
   {
    "duration": -506,
    "start_time": "2021-08-15T12:28:29.717Z"
   },
   {
    "duration": -508,
    "start_time": "2021-08-15T12:28:29.720Z"
   },
   {
    "duration": -509,
    "start_time": "2021-08-15T12:28:29.723Z"
   },
   {
    "duration": -518,
    "start_time": "2021-08-15T12:28:29.733Z"
   },
   {
    "duration": 11,
    "start_time": "2021-08-15T12:29:16.878Z"
   },
   {
    "duration": 29,
    "start_time": "2021-08-15T12:29:24.110Z"
   },
   {
    "duration": 257,
    "start_time": "2021-08-15T12:36:34.950Z"
   },
   {
    "duration": 20,
    "start_time": "2021-08-15T12:36:47.631Z"
   },
   {
    "duration": 212,
    "start_time": "2021-08-15T12:37:01.990Z"
   },
   {
    "duration": 19,
    "start_time": "2021-08-15T14:12:55.310Z"
   },
   {
    "duration": 5886,
    "start_time": "2021-08-15T14:16:51.679Z"
   },
   {
    "duration": 20,
    "start_time": "2021-08-15T14:22:48.682Z"
   },
   {
    "duration": 6,
    "start_time": "2021-08-15T14:23:10.310Z"
   },
   {
    "duration": 282,
    "start_time": "2021-08-15T14:23:31.350Z"
   },
   {
    "duration": 14,
    "start_time": "2021-08-15T14:25:18.031Z"
   },
   {
    "duration": 91,
    "start_time": "2021-08-15T14:35:29.092Z"
   },
   {
    "duration": 182,
    "start_time": "2021-08-15T14:36:20.670Z"
   },
   {
    "duration": 4,
    "start_time": "2021-08-15T14:36:47.952Z"
   },
   {
    "duration": 39,
    "start_time": "2021-08-15T14:36:47.959Z"
   },
   {
    "duration": 8,
    "start_time": "2021-08-15T14:36:48.001Z"
   },
   {
    "duration": 220,
    "start_time": "2021-08-15T14:36:48.013Z"
   },
   {
    "duration": 130,
    "start_time": "2021-08-15T14:36:48.235Z"
   },
   {
    "duration": 190,
    "start_time": "2021-08-15T14:36:48.368Z"
   },
   {
    "duration": 13,
    "start_time": "2021-08-15T14:36:48.560Z"
   },
   {
    "duration": 23,
    "start_time": "2021-08-15T14:36:48.575Z"
   },
   {
    "duration": 19,
    "start_time": "2021-08-15T14:36:48.602Z"
   },
   {
    "duration": 58,
    "start_time": "2021-08-15T14:36:48.625Z"
   },
   {
    "duration": 31,
    "start_time": "2021-08-15T14:36:48.686Z"
   },
   {
    "duration": 12,
    "start_time": "2021-08-15T14:36:48.719Z"
   },
   {
    "duration": 35,
    "start_time": "2021-08-15T14:36:48.733Z"
   },
   {
    "duration": 17,
    "start_time": "2021-08-15T14:36:48.771Z"
   },
   {
    "duration": 14,
    "start_time": "2021-08-15T14:36:48.790Z"
   },
   {
    "duration": 7,
    "start_time": "2021-08-15T14:36:48.807Z"
   },
   {
    "duration": 74,
    "start_time": "2021-08-15T14:36:48.817Z"
   },
   {
    "duration": 114,
    "start_time": "2021-08-15T14:36:48.894Z"
   },
   {
    "duration": 100,
    "start_time": "2021-08-15T14:36:49.010Z"
   },
   {
    "duration": 12,
    "start_time": "2021-08-15T14:36:49.112Z"
   },
   {
    "duration": 65,
    "start_time": "2021-08-15T14:36:49.127Z"
   },
   {
    "duration": 102,
    "start_time": "2021-08-15T14:36:49.195Z"
   },
   {
    "duration": 12,
    "start_time": "2021-08-15T14:36:49.299Z"
   },
   {
    "duration": 16,
    "start_time": "2021-08-15T14:36:49.313Z"
   },
   {
    "duration": 56,
    "start_time": "2021-08-15T14:36:49.331Z"
   },
   {
    "duration": 26,
    "start_time": "2021-08-15T14:36:49.389Z"
   },
   {
    "duration": 87,
    "start_time": "2021-08-15T14:36:49.419Z"
   },
   {
    "duration": 67,
    "start_time": "2021-08-15T14:36:49.509Z"
   },
   {
    "duration": 28,
    "start_time": "2021-08-15T14:36:49.578Z"
   },
   {
    "duration": 68,
    "start_time": "2021-08-15T14:36:49.608Z"
   },
   {
    "duration": 11,
    "start_time": "2021-08-15T14:36:49.678Z"
   },
   {
    "duration": 33,
    "start_time": "2021-08-15T14:36:49.692Z"
   },
   {
    "duration": 31,
    "start_time": "2021-08-15T14:37:33.951Z"
   },
   {
    "duration": 83,
    "start_time": "2021-08-15T14:37:33.985Z"
   },
   {
    "duration": 69,
    "start_time": "2021-08-15T14:37:34.071Z"
   },
   {
    "duration": 34,
    "start_time": "2021-08-15T14:37:34.143Z"
   },
   {
    "duration": 33,
    "start_time": "2021-08-15T14:37:34.179Z"
   },
   {
    "duration": 67,
    "start_time": "2021-08-15T14:37:34.214Z"
   },
   {
    "duration": 12,
    "start_time": "2021-08-15T14:37:51.569Z"
   },
   {
    "duration": 1460,
    "start_time": "2021-08-15T14:38:00.070Z"
   },
   {
    "duration": 28,
    "start_time": "2021-08-15T14:38:36.909Z"
   },
   {
    "duration": 21,
    "start_time": "2021-08-15T14:38:49.082Z"
   },
   {
    "duration": 8,
    "start_time": "2021-08-15T14:38:49.106Z"
   },
   {
    "duration": 30,
    "start_time": "2021-08-15T14:38:49.116Z"
   },
   {
    "duration": 5,
    "start_time": "2021-08-15T14:39:17.470Z"
   },
   {
    "duration": 211,
    "start_time": "2021-08-15T15:00:53.431Z"
   },
   {
    "duration": 610,
    "start_time": "2021-08-15T15:00:57.272Z"
   },
   {
    "duration": 5,
    "start_time": "2021-08-15T15:02:16.072Z"
   },
   {
    "duration": 572,
    "start_time": "2021-08-15T15:02:33.762Z"
   },
   {
    "duration": 5,
    "start_time": "2021-08-15T15:04:44.152Z"
   },
   {
    "duration": 507,
    "start_time": "2021-08-15T15:04:45.603Z"
   },
   {
    "duration": 4,
    "start_time": "2021-08-15T15:08:24.992Z"
   },
   {
    "duration": 463,
    "start_time": "2021-08-15T15:08:26.150Z"
   },
   {
    "duration": 4,
    "start_time": "2021-08-15T15:09:11.752Z"
   },
   {
    "duration": 453,
    "start_time": "2021-08-15T15:09:14.963Z"
   },
   {
    "duration": 4,
    "start_time": "2021-08-15T15:10:25.159Z"
   },
   {
    "duration": 144,
    "start_time": "2021-08-15T15:10:27.042Z"
   },
   {
    "duration": 4,
    "start_time": "2021-08-15T15:12:00.163Z"
   },
   {
    "duration": 383,
    "start_time": "2021-08-15T15:12:01.884Z"
   },
   {
    "duration": 39,
    "start_time": "2021-08-15T15:16:29.590Z"
   },
   {
    "duration": 1389,
    "start_time": "2021-08-15T15:16:40.446Z"
   },
   {
    "duration": 37,
    "start_time": "2021-08-15T15:16:41.838Z"
   },
   {
    "duration": 12,
    "start_time": "2021-08-15T15:16:41.878Z"
   },
   {
    "duration": 251,
    "start_time": "2021-08-15T15:16:41.893Z"
   },
   {
    "duration": 138,
    "start_time": "2021-08-15T15:16:42.146Z"
   },
   {
    "duration": 204,
    "start_time": "2021-08-15T15:16:42.287Z"
   },
   {
    "duration": 16,
    "start_time": "2021-08-15T15:16:42.493Z"
   },
   {
    "duration": 24,
    "start_time": "2021-08-15T15:16:42.513Z"
   },
   {
    "duration": 38,
    "start_time": "2021-08-15T15:16:42.540Z"
   },
   {
    "duration": 28,
    "start_time": "2021-08-15T15:16:42.581Z"
   },
   {
    "duration": 57,
    "start_time": "2021-08-15T15:16:42.611Z"
   },
   {
    "duration": 11,
    "start_time": "2021-08-15T15:16:42.671Z"
   },
   {
    "duration": 11,
    "start_time": "2021-08-15T15:16:42.684Z"
   },
   {
    "duration": 17,
    "start_time": "2021-08-15T15:16:42.698Z"
   },
   {
    "duration": 10,
    "start_time": "2021-08-15T15:16:42.718Z"
   },
   {
    "duration": 9,
    "start_time": "2021-08-15T15:16:42.768Z"
   },
   {
    "duration": 47,
    "start_time": "2021-08-15T15:16:42.779Z"
   },
   {
    "duration": 126,
    "start_time": "2021-08-15T15:16:42.829Z"
   },
   {
    "duration": 87,
    "start_time": "2021-08-15T15:16:42.968Z"
   },
   {
    "duration": 13,
    "start_time": "2021-08-15T15:16:43.067Z"
   },
   {
    "duration": 40,
    "start_time": "2021-08-15T15:16:43.082Z"
   },
   {
    "duration": 144,
    "start_time": "2021-08-15T15:16:43.125Z"
   },
   {
    "duration": 11,
    "start_time": "2021-08-15T15:16:43.274Z"
   },
   {
    "duration": 15,
    "start_time": "2021-08-15T15:16:43.288Z"
   },
   {
    "duration": 25,
    "start_time": "2021-08-15T15:16:43.306Z"
   },
   {
    "duration": 26,
    "start_time": "2021-08-15T15:16:43.367Z"
   },
   {
    "duration": 86,
    "start_time": "2021-08-15T15:16:43.395Z"
   },
   {
    "duration": 57,
    "start_time": "2021-08-15T15:16:43.483Z"
   },
   {
    "duration": 49,
    "start_time": "2021-08-15T15:16:43.542Z"
   },
   {
    "duration": 88,
    "start_time": "2021-08-15T15:16:43.595Z"
   },
   {
    "duration": 10,
    "start_time": "2021-08-15T15:16:43.686Z"
   },
   {
    "duration": 28,
    "start_time": "2021-08-15T15:16:43.699Z"
   },
   {
    "duration": 57,
    "start_time": "2021-08-15T15:16:43.729Z"
   },
   {
    "duration": 99,
    "start_time": "2021-08-15T15:16:43.789Z"
   },
   {
    "duration": 84,
    "start_time": "2021-08-15T15:16:43.891Z"
   },
   {
    "duration": 16,
    "start_time": "2021-08-15T15:16:43.978Z"
   },
   {
    "duration": 33,
    "start_time": "2021-08-15T15:16:43.996Z"
   },
   {
    "duration": 82,
    "start_time": "2021-08-15T15:16:44.031Z"
   },
   {
    "duration": 16,
    "start_time": "2021-08-15T15:16:44.115Z"
   },
   {
    "duration": 51,
    "start_time": "2021-08-15T15:16:44.134Z"
   },
   {
    "duration": 5,
    "start_time": "2021-08-15T15:16:44.187Z"
   },
   {
    "duration": 9,
    "start_time": "2021-08-15T15:16:44.194Z"
   },
   {
    "duration": 63,
    "start_time": "2021-08-15T15:16:44.205Z"
   },
   {
    "duration": 4,
    "start_time": "2021-08-15T15:16:44.271Z"
   },
   {
    "duration": 12,
    "start_time": "2021-08-15T15:16:44.276Z"
   },
   {
    "duration": 405,
    "start_time": "2021-08-15T15:16:44.290Z"
   },
   {
    "duration": 67,
    "start_time": "2021-08-15T15:18:44.386Z"
   },
   {
    "duration": 14,
    "start_time": "2021-08-15T15:18:53.266Z"
   },
   {
    "duration": 1347,
    "start_time": "2021-08-15T15:19:18.598Z"
   },
   {
    "duration": 27,
    "start_time": "2021-08-15T15:19:19.948Z"
   },
   {
    "duration": 11,
    "start_time": "2021-08-15T15:19:19.978Z"
   },
   {
    "duration": 252,
    "start_time": "2021-08-15T15:19:19.992Z"
   },
   {
    "duration": 148,
    "start_time": "2021-08-15T15:19:20.246Z"
   },
   {
    "duration": 205,
    "start_time": "2021-08-15T15:19:20.397Z"
   },
   {
    "duration": 18,
    "start_time": "2021-08-15T15:19:20.604Z"
   },
   {
    "duration": 24,
    "start_time": "2021-08-15T15:19:20.626Z"
   },
   {
    "duration": 33,
    "start_time": "2021-08-15T15:19:20.653Z"
   },
   {
    "duration": 30,
    "start_time": "2021-08-15T15:19:20.688Z"
   },
   {
    "duration": 63,
    "start_time": "2021-08-15T15:19:20.721Z"
   },
   {
    "duration": 10,
    "start_time": "2021-08-15T15:19:20.787Z"
   },
   {
    "duration": 13,
    "start_time": "2021-08-15T15:19:20.800Z"
   },
   {
    "duration": 19,
    "start_time": "2021-08-15T15:19:20.815Z"
   },
   {
    "duration": 11,
    "start_time": "2021-08-15T15:19:20.868Z"
   },
   {
    "duration": 8,
    "start_time": "2021-08-15T15:19:20.881Z"
   },
   {
    "duration": 36,
    "start_time": "2021-08-15T15:19:20.892Z"
   },
   {
    "duration": 152,
    "start_time": "2021-08-15T15:19:20.930Z"
   },
   {
    "duration": 108,
    "start_time": "2021-08-15T15:19:21.085Z"
   },
   {
    "duration": 13,
    "start_time": "2021-08-15T15:19:21.196Z"
   },
   {
    "duration": 57,
    "start_time": "2021-08-15T15:19:21.212Z"
   },
   {
    "duration": 135,
    "start_time": "2021-08-15T15:19:21.272Z"
   },
   {
    "duration": 11,
    "start_time": "2021-08-15T15:19:21.412Z"
   },
   {
    "duration": 17,
    "start_time": "2021-08-15T15:19:21.426Z"
   },
   {
    "duration": 41,
    "start_time": "2021-08-15T15:19:21.446Z"
   },
   {
    "duration": 25,
    "start_time": "2021-08-15T15:19:21.490Z"
   },
   {
    "duration": 91,
    "start_time": "2021-08-15T15:19:21.517Z"
   },
   {
    "duration": 81,
    "start_time": "2021-08-15T15:19:21.611Z"
   },
   {
    "duration": 30,
    "start_time": "2021-08-15T15:19:21.695Z"
   },
   {
    "duration": 80,
    "start_time": "2021-08-15T15:19:21.729Z"
   },
   {
    "duration": 11,
    "start_time": "2021-08-15T15:19:21.812Z"
   },
   {
    "duration": 53,
    "start_time": "2021-08-15T15:19:21.826Z"
   },
   {
    "duration": 33,
    "start_time": "2021-08-15T15:19:21.883Z"
   },
   {
    "duration": 104,
    "start_time": "2021-08-15T15:19:21.918Z"
   },
   {
    "duration": 91,
    "start_time": "2021-08-15T15:19:22.025Z"
   },
   {
    "duration": 14,
    "start_time": "2021-08-15T15:19:22.118Z"
   },
   {
    "duration": 55,
    "start_time": "2021-08-15T15:19:22.135Z"
   },
   {
    "duration": 54,
    "start_time": "2021-08-15T15:19:22.192Z"
   },
   {
    "duration": 17,
    "start_time": "2021-08-15T15:19:22.267Z"
   },
   {
    "duration": 29,
    "start_time": "2021-08-15T15:19:22.286Z"
   },
   {
    "duration": 5,
    "start_time": "2021-08-15T15:19:22.317Z"
   },
   {
    "duration": 9,
    "start_time": "2021-08-15T15:19:22.324Z"
   },
   {
    "duration": 62,
    "start_time": "2021-08-15T15:19:22.335Z"
   },
   {
    "duration": 4,
    "start_time": "2021-08-15T15:19:22.399Z"
   },
   {
    "duration": 9,
    "start_time": "2021-08-15T15:19:22.405Z"
   },
   {
    "duration": 7203,
    "start_time": "2021-08-15T15:19:22.416Z"
   },
   {
    "duration": 5,
    "start_time": "2021-08-15T15:21:21.081Z"
   },
   {
    "duration": 391,
    "start_time": "2021-08-15T15:21:24.081Z"
   },
   {
    "duration": 72,
    "start_time": "2021-08-15T15:22:26.929Z"
   },
   {
    "duration": 5809,
    "start_time": "2021-08-15T15:22:30.549Z"
   },
   {
    "duration": 12,
    "start_time": "2021-08-15T15:22:53.590Z"
   },
   {
    "duration": 10,
    "start_time": "2021-08-15T15:23:09.641Z"
   },
   {
    "duration": 6,
    "start_time": "2021-08-15T15:25:03.038Z"
   },
   {
    "duration": 29,
    "start_time": "2021-08-15T15:25:03.549Z"
   },
   {
    "duration": 31,
    "start_time": "2021-08-15T15:50:07.430Z"
   },
   {
    "duration": 7645,
    "start_time": "2021-08-15T15:54:34.884Z"
   },
   {
    "duration": -420,
    "start_time": "2021-08-15T15:54:42.951Z"
   },
   {
    "duration": 5,
    "start_time": "2021-08-15T15:54:44.481Z"
   },
   {
    "duration": 291,
    "start_time": "2021-08-15T15:54:46.630Z"
   },
   {
    "duration": 279,
    "start_time": "2021-08-15T15:57:23.789Z"
   },
   {
    "duration": 183,
    "start_time": "2021-08-15T15:59:23.250Z"
   },
   {
    "duration": 367,
    "start_time": "2021-08-15T16:00:15.438Z"
   },
   {
    "duration": 212,
    "start_time": "2021-08-15T16:00:31.589Z"
   },
   {
    "duration": 186,
    "start_time": "2021-08-15T16:00:52.549Z"
   },
   {
    "duration": 185,
    "start_time": "2021-08-15T16:01:04.170Z"
   },
   {
    "duration": 183,
    "start_time": "2021-08-15T16:01:51.642Z"
   },
   {
    "duration": 41,
    "start_time": "2021-08-15T16:02:29.642Z"
   },
   {
    "duration": 499,
    "start_time": "2021-08-15T16:04:26.671Z"
   },
   {
    "duration": 5,
    "start_time": "2021-08-15T16:05:05.321Z"
   },
   {
    "duration": 494,
    "start_time": "2021-08-15T16:05:06.430Z"
   },
   {
    "duration": 5,
    "start_time": "2021-08-15T16:06:51.598Z"
   },
   {
    "duration": 501,
    "start_time": "2021-08-15T16:06:51.670Z"
   },
   {
    "duration": 497,
    "start_time": "2021-08-15T16:07:25.362Z"
   },
   {
    "duration": 7,
    "start_time": "2021-08-15T16:19:48.669Z"
   },
   {
    "duration": 6,
    "start_time": "2021-08-15T16:22:32.369Z"
   },
   {
    "duration": 8,
    "start_time": "2021-08-15T16:25:46.110Z"
   },
   {
    "duration": 88,
    "start_time": "2021-08-15T16:26:30.650Z"
   },
   {
    "duration": 605,
    "start_time": "2021-08-15T16:26:51.369Z"
   },
   {
    "duration": 8,
    "start_time": "2021-08-15T16:27:36.910Z"
   },
   {
    "duration": 5,
    "start_time": "2021-08-15T16:28:51.286Z"
   },
   {
    "duration": 8,
    "start_time": "2021-08-15T16:28:52.082Z"
   },
   {
    "duration": 501,
    "start_time": "2021-08-15T16:28:58.069Z"
   },
   {
    "duration": 7394,
    "start_time": "2021-08-15T16:29:45.082Z"
   },
   {
    "duration": 1341,
    "start_time": "2021-08-15T16:30:01.603Z"
   },
   {
    "duration": 43,
    "start_time": "2021-08-15T16:30:02.946Z"
   },
   {
    "duration": 10,
    "start_time": "2021-08-15T16:30:02.993Z"
   },
   {
    "duration": 538,
    "start_time": "2021-08-15T16:30:03.005Z"
   },
   {
    "duration": 131,
    "start_time": "2021-08-15T16:30:03.545Z"
   },
   {
    "duration": 264,
    "start_time": "2021-08-15T16:30:03.679Z"
   },
   {
    "duration": 17,
    "start_time": "2021-08-15T16:30:03.946Z"
   },
   {
    "duration": 22,
    "start_time": "2021-08-15T16:30:03.967Z"
   },
   {
    "duration": 23,
    "start_time": "2021-08-15T16:30:03.993Z"
   },
   {
    "duration": 49,
    "start_time": "2021-08-15T16:30:04.019Z"
   },
   {
    "duration": 27,
    "start_time": "2021-08-15T16:30:04.070Z"
   },
   {
    "duration": 11,
    "start_time": "2021-08-15T16:30:04.100Z"
   },
   {
    "duration": 10,
    "start_time": "2021-08-15T16:30:04.114Z"
   },
   {
    "duration": 55,
    "start_time": "2021-08-15T16:30:04.126Z"
   },
   {
    "duration": 11,
    "start_time": "2021-08-15T16:30:04.184Z"
   },
   {
    "duration": 10,
    "start_time": "2021-08-15T16:30:04.198Z"
   },
   {
    "duration": 66,
    "start_time": "2021-08-15T16:30:04.211Z"
   },
   {
    "duration": 118,
    "start_time": "2021-08-15T16:30:04.280Z"
   },
   {
    "duration": 102,
    "start_time": "2021-08-15T16:30:04.400Z"
   },
   {
    "duration": 13,
    "start_time": "2021-08-15T16:30:04.504Z"
   },
   {
    "duration": 64,
    "start_time": "2021-08-15T16:30:04.520Z"
   },
   {
    "duration": 121,
    "start_time": "2021-08-15T16:30:04.587Z"
   },
   {
    "duration": 11,
    "start_time": "2021-08-15T16:30:04.710Z"
   },
   {
    "duration": 14,
    "start_time": "2021-08-15T16:30:04.724Z"
   },
   {
    "duration": 48,
    "start_time": "2021-08-15T16:30:04.740Z"
   },
   {
    "duration": 27,
    "start_time": "2021-08-15T16:30:04.791Z"
   },
   {
    "duration": 93,
    "start_time": "2021-08-15T16:30:04.825Z"
   },
   {
    "duration": 76,
    "start_time": "2021-08-15T16:30:04.922Z"
   },
   {
    "duration": 28,
    "start_time": "2021-08-15T16:30:05.001Z"
   },
   {
    "duration": 66,
    "start_time": "2021-08-15T16:30:05.031Z"
   },
   {
    "duration": 10,
    "start_time": "2021-08-15T16:30:05.099Z"
   },
   {
    "duration": 55,
    "start_time": "2021-08-15T16:30:05.112Z"
   },
   {
    "duration": 30,
    "start_time": "2021-08-15T16:30:05.170Z"
   },
   {
    "duration": 105,
    "start_time": "2021-08-15T16:30:05.202Z"
   },
   {
    "duration": 80,
    "start_time": "2021-08-15T16:30:05.309Z"
   },
   {
    "duration": 13,
    "start_time": "2021-08-15T16:30:05.392Z"
   },
   {
    "duration": 36,
    "start_time": "2021-08-15T16:30:05.408Z"
   },
   {
    "duration": 53,
    "start_time": "2021-08-15T16:30:05.467Z"
   },
   {
    "duration": 18,
    "start_time": "2021-08-15T16:30:05.523Z"
   },
   {
    "duration": 51,
    "start_time": "2021-08-15T16:30:05.543Z"
   },
   {
    "duration": 7,
    "start_time": "2021-08-15T16:30:05.597Z"
   },
   {
    "duration": 30,
    "start_time": "2021-08-15T16:30:05.606Z"
   },
   {
    "duration": 51,
    "start_time": "2021-08-15T16:30:05.639Z"
   },
   {
    "duration": 31,
    "start_time": "2021-08-15T16:30:05.693Z"
   },
   {
    "duration": 6,
    "start_time": "2021-08-15T16:30:05.727Z"
   },
   {
    "duration": 39,
    "start_time": "2021-08-15T16:30:05.736Z"
   },
   {
    "duration": 515,
    "start_time": "2021-08-15T16:30:05.778Z"
   },
   {
    "duration": 49,
    "start_time": "2021-08-15T16:30:06.296Z"
   },
   {
    "duration": 35,
    "start_time": "2021-08-15T16:30:06.367Z"
   },
   {
    "duration": 391,
    "start_time": "2021-08-15T16:30:06.405Z"
   },
   {
    "duration": 8,
    "start_time": "2021-08-15T16:36:10.365Z"
   },
   {
    "duration": 9,
    "start_time": "2021-08-15T16:36:58.002Z"
   },
   {
    "duration": 15,
    "start_time": "2021-08-15T16:38:36.491Z"
   },
   {
    "duration": 493,
    "start_time": "2021-08-15T16:44:51.394Z"
   },
   {
    "duration": 1321,
    "start_time": "2021-08-17T11:49:07.936Z"
   },
   {
    "duration": 62,
    "start_time": "2021-08-17T11:49:09.259Z"
   },
   {
    "duration": 20,
    "start_time": "2021-08-17T11:49:09.324Z"
   },
   {
    "duration": 228,
    "start_time": "2021-08-17T11:49:09.347Z"
   },
   {
    "duration": 135,
    "start_time": "2021-08-17T11:49:09.578Z"
   },
   {
    "duration": 202,
    "start_time": "2021-08-17T11:49:09.715Z"
   },
   {
    "duration": 16,
    "start_time": "2021-08-17T11:49:09.920Z"
   },
   {
    "duration": 38,
    "start_time": "2021-08-17T11:49:09.940Z"
   },
   {
    "duration": 30,
    "start_time": "2021-08-17T11:49:09.981Z"
   },
   {
    "duration": 45,
    "start_time": "2021-08-17T11:49:10.013Z"
   },
   {
    "duration": 43,
    "start_time": "2021-08-17T11:49:10.061Z"
   },
   {
    "duration": 15,
    "start_time": "2021-08-17T11:49:10.106Z"
   },
   {
    "duration": 17,
    "start_time": "2021-08-17T11:49:10.124Z"
   },
   {
    "duration": 17,
    "start_time": "2021-08-17T11:49:10.144Z"
   },
   {
    "duration": 11,
    "start_time": "2021-08-17T11:49:10.163Z"
   },
   {
    "duration": 27,
    "start_time": "2021-08-17T11:49:10.177Z"
   },
   {
    "duration": 42,
    "start_time": "2021-08-17T11:49:10.206Z"
   },
   {
    "duration": 131,
    "start_time": "2021-08-17T11:49:10.250Z"
   },
   {
    "duration": 94,
    "start_time": "2021-08-17T11:49:10.383Z"
   },
   {
    "duration": 26,
    "start_time": "2021-08-17T11:49:10.479Z"
   },
   {
    "duration": 40,
    "start_time": "2021-08-17T11:49:10.508Z"
   },
   {
    "duration": 133,
    "start_time": "2021-08-17T11:49:10.551Z"
   },
   {
    "duration": 21,
    "start_time": "2021-08-17T11:49:10.689Z"
   },
   {
    "duration": 21,
    "start_time": "2021-08-17T11:49:10.713Z"
   },
   {
    "duration": 42,
    "start_time": "2021-08-17T11:49:10.736Z"
   },
   {
    "duration": 34,
    "start_time": "2021-08-17T11:49:10.781Z"
   },
   {
    "duration": 82,
    "start_time": "2021-08-17T11:49:10.817Z"
   },
   {
    "duration": 55,
    "start_time": "2021-08-17T11:49:10.902Z"
   },
   {
    "duration": 49,
    "start_time": "2021-08-17T11:49:10.959Z"
   },
   {
    "duration": 49,
    "start_time": "2021-08-17T11:49:11.010Z"
   },
   {
    "duration": 11,
    "start_time": "2021-08-17T11:49:11.061Z"
   },
   {
    "duration": 54,
    "start_time": "2021-08-17T11:49:11.074Z"
   },
   {
    "duration": 31,
    "start_time": "2021-08-17T11:49:11.131Z"
   },
   {
    "duration": 107,
    "start_time": "2021-08-17T11:49:11.164Z"
   },
   {
    "duration": 91,
    "start_time": "2021-08-17T11:49:11.274Z"
   },
   {
    "duration": 15,
    "start_time": "2021-08-17T11:49:11.368Z"
   },
   {
    "duration": 39,
    "start_time": "2021-08-17T11:49:11.402Z"
   },
   {
    "duration": 70,
    "start_time": "2021-08-17T11:49:11.444Z"
   },
   {
    "duration": 22,
    "start_time": "2021-08-17T11:49:11.516Z"
   },
   {
    "duration": 30,
    "start_time": "2021-08-17T11:49:11.541Z"
   },
   {
    "duration": 5,
    "start_time": "2021-08-17T11:49:11.573Z"
   },
   {
    "duration": 8,
    "start_time": "2021-08-17T11:49:11.601Z"
   },
   {
    "duration": 45,
    "start_time": "2021-08-17T11:49:11.611Z"
   },
   {
    "duration": 49,
    "start_time": "2021-08-17T11:49:11.659Z"
   },
   {
    "duration": 9,
    "start_time": "2021-08-17T11:49:11.711Z"
   },
   {
    "duration": 32,
    "start_time": "2021-08-17T11:49:11.723Z"
   },
   {
    "duration": 8,
    "start_time": "2021-08-17T11:49:11.758Z"
   },
   {
    "duration": 11,
    "start_time": "2021-08-17T11:49:11.768Z"
   },
   {
    "duration": 518,
    "start_time": "2021-08-17T11:49:11.802Z"
   },
   {
    "duration": 11,
    "start_time": "2021-08-17T11:49:12.322Z"
   },
   {
    "duration": 540,
    "start_time": "2021-08-17T12:02:05.189Z"
   },
   {
    "duration": 5,
    "start_time": "2021-08-17T12:02:08.918Z"
   },
   {
    "duration": 159,
    "start_time": "2021-08-17T12:02:12.118Z"
   },
   {
    "duration": 5,
    "start_time": "2021-08-17T12:02:30.553Z"
   },
   {
    "duration": 168,
    "start_time": "2021-08-17T12:02:31.888Z"
   },
   {
    "duration": 5,
    "start_time": "2021-08-17T12:03:06.431Z"
   },
   {
    "duration": 35,
    "start_time": "2021-08-17T12:03:07.555Z"
   },
   {
    "duration": 6,
    "start_time": "2021-08-17T12:03:51.615Z"
   },
   {
    "duration": 28,
    "start_time": "2021-08-17T12:03:52.589Z"
   },
   {
    "duration": 6,
    "start_time": "2021-08-17T12:04:45.095Z"
   },
   {
    "duration": 28,
    "start_time": "2021-08-17T12:04:46.214Z"
   },
   {
    "duration": 6,
    "start_time": "2021-08-17T12:08:32.661Z"
   },
   {
    "duration": 30,
    "start_time": "2021-08-17T12:08:34.173Z"
   },
   {
    "duration": 124,
    "start_time": "2021-08-17T12:09:18.458Z"
   },
   {
    "duration": 6,
    "start_time": "2021-08-17T12:09:23.228Z"
   },
   {
    "duration": 29,
    "start_time": "2021-08-17T12:09:24.160Z"
   },
   {
    "duration": 8,
    "start_time": "2021-08-17T12:10:28.691Z"
   },
   {
    "duration": 29,
    "start_time": "2021-08-17T12:10:29.689Z"
   },
   {
    "duration": 6,
    "start_time": "2021-08-17T12:10:44.363Z"
   },
   {
    "duration": 30,
    "start_time": "2021-08-17T12:10:45.608Z"
   },
   {
    "duration": 7,
    "start_time": "2021-08-17T12:11:20.639Z"
   },
   {
    "duration": 34,
    "start_time": "2021-08-17T12:11:21.667Z"
   },
   {
    "duration": 6,
    "start_time": "2021-08-17T12:11:41.502Z"
   },
   {
    "duration": 772,
    "start_time": "2021-08-17T12:11:42.517Z"
   },
   {
    "duration": 6,
    "start_time": "2021-08-17T12:12:05.901Z"
   },
   {
    "duration": 33,
    "start_time": "2021-08-17T12:12:07.140Z"
   },
   {
    "duration": 6,
    "start_time": "2021-08-17T12:21:44.601Z"
   },
   {
    "duration": 775,
    "start_time": "2021-08-17T12:21:46.336Z"
   },
   {
    "duration": 7,
    "start_time": "2021-08-17T12:28:29.865Z"
   },
   {
    "duration": 798,
    "start_time": "2021-08-17T12:28:31.090Z"
   },
   {
    "duration": 7,
    "start_time": "2021-08-17T12:29:04.067Z"
   },
   {
    "duration": 1215,
    "start_time": "2021-08-17T12:29:05.627Z"
   },
   {
    "duration": 8,
    "start_time": "2021-08-17T12:30:50.720Z"
   },
   {
    "duration": 802,
    "start_time": "2021-08-17T12:30:51.742Z"
   },
   {
    "duration": 8,
    "start_time": "2021-08-17T12:31:41.522Z"
   },
   {
    "duration": 34,
    "start_time": "2021-08-17T12:31:42.538Z"
   },
   {
    "duration": 129,
    "start_time": "2021-08-17T12:33:52.062Z"
   },
   {
    "duration": 7,
    "start_time": "2021-08-17T12:34:01.611Z"
   },
   {
    "duration": 34,
    "start_time": "2021-08-17T12:34:02.682Z"
   },
   {
    "duration": 8,
    "start_time": "2021-08-17T12:36:04.884Z"
   },
   {
    "duration": 39,
    "start_time": "2021-08-17T12:36:06.254Z"
   },
   {
    "duration": 7,
    "start_time": "2021-08-17T12:36:37.874Z"
   },
   {
    "duration": 36,
    "start_time": "2021-08-17T12:36:38.807Z"
   },
   {
    "duration": 11,
    "start_time": "2021-08-17T12:41:19.602Z"
   },
   {
    "duration": 400,
    "start_time": "2021-08-17T12:41:20.701Z"
   },
   {
    "duration": 8,
    "start_time": "2021-08-17T12:43:03.329Z"
   },
   {
    "duration": 707,
    "start_time": "2021-08-17T12:43:04.345Z"
   },
   {
    "duration": 8,
    "start_time": "2021-08-17T12:43:14.755Z"
   },
   {
    "duration": 596,
    "start_time": "2021-08-17T12:43:16.079Z"
   },
   {
    "duration": 9,
    "start_time": "2021-08-17T12:43:50.045Z"
   },
   {
    "duration": 658,
    "start_time": "2021-08-17T12:43:50.793Z"
   },
   {
    "duration": 8,
    "start_time": "2021-08-17T14:00:49.693Z"
   },
   {
    "duration": 735,
    "start_time": "2021-08-17T14:00:50.626Z"
   },
   {
    "duration": 9,
    "start_time": "2021-08-17T14:04:49.212Z"
   },
   {
    "duration": 689,
    "start_time": "2021-08-17T14:04:50.216Z"
   },
   {
    "duration": 10,
    "start_time": "2021-08-17T14:05:12.885Z"
   },
   {
    "duration": 681,
    "start_time": "2021-08-17T14:05:14.353Z"
   },
   {
    "duration": 9,
    "start_time": "2021-08-17T14:06:51.269Z"
   },
   {
    "duration": 674,
    "start_time": "2021-08-17T14:06:52.262Z"
   },
   {
    "duration": 9,
    "start_time": "2021-08-17T14:07:16.793Z"
   },
   {
    "duration": 848,
    "start_time": "2021-08-17T14:07:17.769Z"
   },
   {
    "duration": 10,
    "start_time": "2021-08-17T14:07:44.398Z"
   },
   {
    "duration": 690,
    "start_time": "2021-08-17T14:07:45.362Z"
   },
   {
    "duration": 9,
    "start_time": "2021-08-17T14:08:48.852Z"
   },
   {
    "duration": 1285,
    "start_time": "2021-08-17T14:08:50.025Z"
   },
   {
    "duration": 9,
    "start_time": "2021-08-17T14:09:54.485Z"
   },
   {
    "duration": 883,
    "start_time": "2021-08-17T14:09:55.478Z"
   },
   {
    "duration": 9,
    "start_time": "2021-08-17T14:10:04.690Z"
   },
   {
    "duration": 782,
    "start_time": "2021-08-17T14:10:05.571Z"
   },
   {
    "duration": 9,
    "start_time": "2021-08-17T14:11:53.133Z"
   },
   {
    "duration": 688,
    "start_time": "2021-08-17T14:11:54.128Z"
   },
   {
    "duration": 10,
    "start_time": "2021-08-17T14:13:49.178Z"
   },
   {
    "duration": 784,
    "start_time": "2021-08-17T14:13:50.066Z"
   },
   {
    "duration": 10,
    "start_time": "2021-08-17T14:17:01.736Z"
   },
   {
    "duration": 700,
    "start_time": "2021-08-17T14:17:02.703Z"
   },
   {
    "duration": 9,
    "start_time": "2021-08-17T14:18:08.917Z"
   },
   {
    "duration": 702,
    "start_time": "2021-08-17T14:18:10.122Z"
   },
   {
    "duration": 9,
    "start_time": "2021-08-17T14:21:02.926Z"
   },
   {
    "duration": 689,
    "start_time": "2021-08-17T14:21:05.803Z"
   },
   {
    "duration": 105,
    "start_time": "2021-08-17T14:21:32.356Z"
   },
   {
    "duration": 689,
    "start_time": "2021-08-17T14:21:33.938Z"
   },
   {
    "duration": 9,
    "start_time": "2021-08-17T14:24:25.992Z"
   },
   {
    "duration": 805,
    "start_time": "2021-08-17T14:24:27.017Z"
   },
   {
    "duration": 10,
    "start_time": "2021-08-17T14:26:11.011Z"
   },
   {
    "duration": 683,
    "start_time": "2021-08-17T14:26:12.047Z"
   },
   {
    "duration": 8,
    "start_time": "2021-08-17T14:31:55.368Z"
   },
   {
    "duration": 689,
    "start_time": "2021-08-17T14:31:56.133Z"
   },
   {
    "duration": 10,
    "start_time": "2021-08-17T14:37:37.351Z"
   },
   {
    "duration": 709,
    "start_time": "2021-08-17T14:37:38.901Z"
   },
   {
    "duration": 13,
    "start_time": "2021-08-17T14:39:38.940Z"
   },
   {
    "duration": 765,
    "start_time": "2021-08-17T14:39:40.164Z"
   },
   {
    "duration": 10,
    "start_time": "2021-08-17T14:39:58.359Z"
   },
   {
    "duration": 725,
    "start_time": "2021-08-17T14:39:59.265Z"
   },
   {
    "duration": 9,
    "start_time": "2021-08-17T14:40:26.415Z"
   },
   {
    "duration": 700,
    "start_time": "2021-08-17T14:40:27.308Z"
   },
   {
    "duration": 13,
    "start_time": "2021-08-17T14:43:26.900Z"
   },
   {
    "duration": 698,
    "start_time": "2021-08-17T14:43:27.920Z"
   },
   {
    "duration": 11,
    "start_time": "2021-08-17T14:44:14.125Z"
   },
   {
    "duration": 707,
    "start_time": "2021-08-17T14:44:15.493Z"
   },
   {
    "duration": 11,
    "start_time": "2021-08-17T14:45:23.920Z"
   },
   {
    "duration": 904,
    "start_time": "2021-08-17T14:45:24.908Z"
   },
   {
    "duration": 110,
    "start_time": "2021-08-17T14:46:14.704Z"
   },
   {
    "duration": 708,
    "start_time": "2021-08-17T14:46:15.844Z"
   },
   {
    "duration": 11,
    "start_time": "2021-08-17T14:46:51.395Z"
   },
   {
    "duration": 1212,
    "start_time": "2021-08-17T14:46:52.394Z"
   },
   {
    "duration": 11,
    "start_time": "2021-08-17T14:47:36.535Z"
   },
   {
    "duration": 1195,
    "start_time": "2021-08-17T14:47:37.401Z"
   },
   {
    "duration": 130,
    "start_time": "2021-08-17T14:53:36.576Z"
   },
   {
    "duration": 11,
    "start_time": "2021-08-17T14:53:47.854Z"
   },
   {
    "duration": 691,
    "start_time": "2021-08-17T14:53:49.302Z"
   },
   {
    "duration": 836,
    "start_time": "2021-08-17T15:00:44.104Z"
   },
   {
    "duration": 11,
    "start_time": "2021-08-17T15:04:07.415Z"
   },
   {
    "duration": 847,
    "start_time": "2021-08-17T15:04:08.299Z"
   },
   {
    "duration": 717,
    "start_time": "2021-08-17T15:16:27.522Z"
   },
   {
    "duration": 716,
    "start_time": "2021-08-17T15:17:02.335Z"
   },
   {
    "duration": 706,
    "start_time": "2021-08-17T16:23:56.488Z"
   },
   {
    "duration": 697,
    "start_time": "2021-08-17T16:25:20.268Z"
   },
   {
    "duration": 620,
    "start_time": "2021-08-17T16:25:31.868Z"
   },
   {
    "duration": 677,
    "start_time": "2021-08-17T16:25:40.234Z"
   },
   {
    "duration": 675,
    "start_time": "2021-08-17T16:58:15.049Z"
   },
   {
    "duration": 369,
    "start_time": "2021-08-17T17:12:48.371Z"
   },
   {
    "duration": 70,
    "start_time": "2021-08-17T17:13:02.625Z"
   },
   {
    "duration": 68,
    "start_time": "2021-08-17T17:13:53.959Z"
   },
   {
    "duration": 715,
    "start_time": "2021-08-17T17:15:12.884Z"
   },
   {
    "duration": 584,
    "start_time": "2021-08-17T17:15:37.654Z"
   },
   {
    "duration": 4,
    "start_time": "2021-08-17T18:00:08.747Z"
   },
   {
    "duration": 31,
    "start_time": "2021-08-17T18:02:30.493Z"
   },
   {
    "duration": 37,
    "start_time": "2021-08-17T18:02:37.163Z"
   },
   {
    "duration": 19,
    "start_time": "2021-08-17T18:08:50.480Z"
   },
   {
    "duration": 4,
    "start_time": "2021-08-17T18:08:58.991Z"
   },
   {
    "duration": 19,
    "start_time": "2021-08-17T18:09:02.562Z"
   },
   {
    "duration": 31,
    "start_time": "2021-08-17T18:09:41.054Z"
   },
   {
    "duration": 4,
    "start_time": "2021-08-17T18:09:51.199Z"
   },
   {
    "duration": 26,
    "start_time": "2021-08-17T18:09:53.351Z"
   },
   {
    "duration": 18,
    "start_time": "2021-08-17T18:10:19.047Z"
   },
   {
    "duration": 673,
    "start_time": "2021-08-17T18:14:04.298Z"
   },
   {
    "duration": 734,
    "start_time": "2021-08-17T18:14:14.850Z"
   },
   {
    "duration": 1317,
    "start_time": "2021-08-17T18:14:39.837Z"
   },
   {
    "duration": 40,
    "start_time": "2021-08-17T18:14:41.156Z"
   },
   {
    "duration": 17,
    "start_time": "2021-08-17T18:14:41.199Z"
   },
   {
    "duration": 232,
    "start_time": "2021-08-17T18:14:41.219Z"
   },
   {
    "duration": 134,
    "start_time": "2021-08-17T18:14:41.453Z"
   },
   {
    "duration": 183,
    "start_time": "2021-08-17T18:14:41.589Z"
   },
   {
    "duration": 26,
    "start_time": "2021-08-17T18:14:41.775Z"
   },
   {
    "duration": 24,
    "start_time": "2021-08-17T18:14:41.806Z"
   },
   {
    "duration": 32,
    "start_time": "2021-08-17T18:14:41.833Z"
   },
   {
    "duration": 41,
    "start_time": "2021-08-17T18:14:41.867Z"
   },
   {
    "duration": 27,
    "start_time": "2021-08-17T18:14:41.911Z"
   },
   {
    "duration": 17,
    "start_time": "2021-08-17T18:14:41.941Z"
   },
   {
    "duration": 43,
    "start_time": "2021-08-17T18:14:41.960Z"
   },
   {
    "duration": 35,
    "start_time": "2021-08-17T18:14:42.006Z"
   },
   {
    "duration": 4,
    "start_time": "2021-08-17T18:14:42.043Z"
   },
   {
    "duration": 38,
    "start_time": "2021-08-17T18:14:42.049Z"
   },
   {
    "duration": 17,
    "start_time": "2021-08-17T18:14:42.090Z"
   },
   {
    "duration": 11,
    "start_time": "2021-08-17T18:14:42.110Z"
   },
   {
    "duration": 46,
    "start_time": "2021-08-17T18:14:42.124Z"
   },
   {
    "duration": 170,
    "start_time": "2021-08-17T18:14:42.179Z"
   },
   {
    "duration": 112,
    "start_time": "2021-08-17T18:14:42.352Z"
   },
   {
    "duration": 13,
    "start_time": "2021-08-17T18:14:42.466Z"
   },
   {
    "duration": 39,
    "start_time": "2021-08-17T18:14:42.501Z"
   },
   {
    "duration": 121,
    "start_time": "2021-08-17T18:14:42.544Z"
   },
   {
    "duration": 11,
    "start_time": "2021-08-17T18:14:42.667Z"
   },
   {
    "duration": 31,
    "start_time": "2021-08-17T18:14:42.681Z"
   },
   {
    "duration": 34,
    "start_time": "2021-08-17T18:14:42.715Z"
   },
   {
    "duration": 49,
    "start_time": "2021-08-17T18:14:42.751Z"
   },
   {
    "duration": 64,
    "start_time": "2021-08-17T18:14:42.803Z"
   },
   {
    "duration": 80,
    "start_time": "2021-08-17T18:14:42.870Z"
   },
   {
    "duration": 47,
    "start_time": "2021-08-17T18:14:42.953Z"
   },
   {
    "duration": 49,
    "start_time": "2021-08-17T18:14:43.002Z"
   },
   {
    "duration": 10,
    "start_time": "2021-08-17T18:14:43.054Z"
   },
   {
    "duration": 55,
    "start_time": "2021-08-17T18:14:43.066Z"
   },
   {
    "duration": 31,
    "start_time": "2021-08-17T18:14:43.123Z"
   },
   {
    "duration": 101,
    "start_time": "2021-08-17T18:14:43.158Z"
   },
   {
    "duration": 90,
    "start_time": "2021-08-17T18:14:43.262Z"
   },
   {
    "duration": 14,
    "start_time": "2021-08-17T18:14:43.355Z"
   },
   {
    "duration": 57,
    "start_time": "2021-08-17T18:14:43.371Z"
   },
   {
    "duration": 47,
    "start_time": "2021-08-17T18:14:43.430Z"
   },
   {
    "duration": 36,
    "start_time": "2021-08-17T18:14:43.480Z"
   },
   {
    "duration": 29,
    "start_time": "2021-08-17T18:14:43.518Z"
   },
   {
    "duration": 5,
    "start_time": "2021-08-17T18:14:43.550Z"
   },
   {
    "duration": 8,
    "start_time": "2021-08-17T18:14:43.557Z"
   },
   {
    "duration": 33,
    "start_time": "2021-08-17T18:14:43.600Z"
   },
   {
    "duration": 30,
    "start_time": "2021-08-17T18:14:43.635Z"
   },
   {
    "duration": 35,
    "start_time": "2021-08-17T18:14:43.668Z"
   },
   {
    "duration": 13,
    "start_time": "2021-08-17T18:14:43.705Z"
   },
   {
    "duration": 5,
    "start_time": "2021-08-17T18:14:43.720Z"
   },
   {
    "duration": 13,
    "start_time": "2021-08-17T18:14:43.727Z"
   },
   {
    "duration": 546,
    "start_time": "2021-08-17T18:14:43.742Z"
   },
   {
    "duration": 14,
    "start_time": "2021-08-17T18:14:44.290Z"
   },
   {
    "duration": 722,
    "start_time": "2021-08-17T18:14:44.307Z"
   },
   {
    "duration": 715,
    "start_time": "2021-08-17T18:14:45.032Z"
   },
   {
    "duration": 720,
    "start_time": "2021-08-17T18:14:45.750Z"
   },
   {
    "duration": 598,
    "start_time": "2021-08-17T18:14:46.473Z"
   },
   {
    "duration": 645,
    "start_time": "2021-08-17T18:14:47.075Z"
   },
   {
    "duration": 870,
    "start_time": "2021-08-17T18:14:47.722Z"
   },
   {
    "duration": 139,
    "start_time": "2021-08-17T18:20:52.700Z"
   },
   {
    "duration": 156,
    "start_time": "2021-08-17T18:21:02.274Z"
   },
   {
    "duration": 514,
    "start_time": "2021-08-17T18:21:46.024Z"
   },
   {
    "duration": 411,
    "start_time": "2021-08-17T18:21:59.792Z"
   },
   {
    "duration": 688,
    "start_time": "2021-08-17T18:23:39.469Z"
   },
   {
    "duration": 718,
    "start_time": "2021-08-17T18:23:57.229Z"
   },
   {
    "duration": 685,
    "start_time": "2021-08-17T18:24:18.985Z"
   },
   {
    "duration": 29,
    "start_time": "2021-08-17T18:25:50.564Z"
   },
   {
    "duration": 807,
    "start_time": "2021-08-17T18:26:18.011Z"
   },
   {
    "duration": 734,
    "start_time": "2021-08-17T18:30:20.738Z"
   },
   {
    "duration": 701,
    "start_time": "2021-08-17T18:30:33.124Z"
   },
   {
    "duration": 711,
    "start_time": "2021-08-17T18:31:37.851Z"
   },
   {
    "duration": 718,
    "start_time": "2021-08-17T18:33:56.269Z"
   },
   {
    "duration": 709,
    "start_time": "2021-08-17T18:36:29.017Z"
   },
   {
    "duration": 811,
    "start_time": "2021-08-17T18:37:16.057Z"
   },
   {
    "duration": 5,
    "start_time": "2021-08-17T18:52:05.760Z"
   },
   {
    "duration": 374,
    "start_time": "2021-08-17T18:53:38.378Z"
   },
   {
    "duration": 387,
    "start_time": "2021-08-17T18:54:08.076Z"
   },
   {
    "duration": 9,
    "start_time": "2021-08-17T18:54:20.911Z"
   },
   {
    "duration": 133,
    "start_time": "2021-08-17T18:54:56.560Z"
   },
   {
    "duration": 119,
    "start_time": "2021-08-17T18:55:15.361Z"
   },
   {
    "duration": 117,
    "start_time": "2021-08-17T18:55:26.531Z"
   },
   {
    "duration": 49,
    "start_time": "2021-08-17T18:55:31.436Z"
   },
   {
    "duration": 375,
    "start_time": "2021-08-17T18:56:24.466Z"
   },
   {
    "duration": 352,
    "start_time": "2021-08-17T19:00:21.917Z"
   },
   {
    "duration": 44,
    "start_time": "2021-08-17T19:01:43.401Z"
   },
   {
    "duration": 6,
    "start_time": "2021-08-17T19:02:48.366Z"
   },
   {
    "duration": 437,
    "start_time": "2021-08-17T19:03:28.580Z"
   },
   {
    "duration": 34,
    "start_time": "2021-08-17T19:03:40.548Z"
   },
   {
    "duration": 7,
    "start_time": "2021-08-17T19:06:30.624Z"
   },
   {
    "duration": 1412,
    "start_time": "2021-08-17T19:06:53.543Z"
   },
   {
    "duration": 36,
    "start_time": "2021-08-17T19:06:54.958Z"
   },
   {
    "duration": 9,
    "start_time": "2021-08-17T19:06:54.998Z"
   },
   {
    "duration": 228,
    "start_time": "2021-08-17T19:06:55.010Z"
   },
   {
    "duration": 125,
    "start_time": "2021-08-17T19:06:55.241Z"
   },
   {
    "duration": 189,
    "start_time": "2021-08-17T19:06:55.369Z"
   },
   {
    "duration": 17,
    "start_time": "2021-08-17T19:06:55.560Z"
   },
   {
    "duration": 26,
    "start_time": "2021-08-17T19:06:55.580Z"
   },
   {
    "duration": 20,
    "start_time": "2021-08-17T19:06:55.609Z"
   },
   {
    "duration": 28,
    "start_time": "2021-08-17T19:06:55.632Z"
   },
   {
    "duration": 26,
    "start_time": "2021-08-17T19:06:55.701Z"
   },
   {
    "duration": 10,
    "start_time": "2021-08-17T19:06:55.730Z"
   },
   {
    "duration": 10,
    "start_time": "2021-08-17T19:06:55.742Z"
   },
   {
    "duration": 48,
    "start_time": "2021-08-17T19:06:55.754Z"
   },
   {
    "duration": 3,
    "start_time": "2021-08-17T19:06:55.805Z"
   },
   {
    "duration": 21,
    "start_time": "2021-08-17T19:06:55.811Z"
   },
   {
    "duration": 12,
    "start_time": "2021-08-17T19:06:55.834Z"
   },
   {
    "duration": 6,
    "start_time": "2021-08-17T19:06:55.849Z"
   },
   {
    "duration": 71,
    "start_time": "2021-08-17T19:06:55.858Z"
   },
   {
    "duration": 126,
    "start_time": "2021-08-17T19:06:55.932Z"
   },
   {
    "duration": 96,
    "start_time": "2021-08-17T19:06:56.060Z"
   },
   {
    "duration": 13,
    "start_time": "2021-08-17T19:06:56.158Z"
   },
   {
    "duration": 56,
    "start_time": "2021-08-17T19:06:56.177Z"
   },
   {
    "duration": 135,
    "start_time": "2021-08-17T19:06:56.237Z"
   },
   {
    "duration": 12,
    "start_time": "2021-08-17T19:06:56.375Z"
   },
   {
    "duration": 16,
    "start_time": "2021-08-17T19:06:56.400Z"
   },
   {
    "duration": 39,
    "start_time": "2021-08-17T19:06:56.418Z"
   },
   {
    "duration": 46,
    "start_time": "2021-08-17T19:06:56.460Z"
   },
   {
    "duration": 58,
    "start_time": "2021-08-17T19:06:56.509Z"
   },
   {
    "duration": 76,
    "start_time": "2021-08-17T19:06:56.570Z"
   },
   {
    "duration": 28,
    "start_time": "2021-08-17T19:06:56.649Z"
   },
   {
    "duration": 66,
    "start_time": "2021-08-17T19:06:56.679Z"
   },
   {
    "duration": 11,
    "start_time": "2021-08-17T19:06:56.747Z"
   },
   {
    "duration": 59,
    "start_time": "2021-08-17T19:06:56.760Z"
   },
   {
    "duration": 31,
    "start_time": "2021-08-17T19:06:56.822Z"
   },
   {
    "duration": 102,
    "start_time": "2021-08-17T19:06:56.856Z"
   },
   {
    "duration": 77,
    "start_time": "2021-08-17T19:06:56.960Z"
   },
   {
    "duration": 14,
    "start_time": "2021-08-17T19:06:57.040Z"
   },
   {
    "duration": 57,
    "start_time": "2021-08-17T19:06:57.057Z"
   },
   {
    "duration": 53,
    "start_time": "2021-08-17T19:06:57.117Z"
   },
   {
    "duration": 43,
    "start_time": "2021-08-17T19:06:57.172Z"
   },
   {
    "duration": 32,
    "start_time": "2021-08-17T19:06:57.218Z"
   },
   {
    "duration": 7,
    "start_time": "2021-08-17T19:06:57.253Z"
   },
   {
    "duration": 40,
    "start_time": "2021-08-17T19:06:57.263Z"
   },
   {
    "duration": 31,
    "start_time": "2021-08-17T19:06:57.306Z"
   },
   {
    "duration": 34,
    "start_time": "2021-08-17T19:06:57.339Z"
   },
   {
    "duration": 9,
    "start_time": "2021-08-17T19:06:57.400Z"
   },
   {
    "duration": 12,
    "start_time": "2021-08-17T19:06:57.411Z"
   },
   {
    "duration": 8,
    "start_time": "2021-08-17T19:06:57.426Z"
   },
   {
    "duration": 18,
    "start_time": "2021-08-17T19:06:57.436Z"
   },
   {
    "duration": 507,
    "start_time": "2021-08-17T19:06:57.456Z"
   },
   {
    "duration": 5,
    "start_time": "2021-08-17T19:06:57.966Z"
   },
   {
    "duration": 52,
    "start_time": "2021-08-17T19:06:57.973Z"
   },
   {
    "duration": 7,
    "start_time": "2021-08-17T19:06:58.027Z"
   },
   {
    "duration": 11,
    "start_time": "2021-08-17T19:06:58.037Z"
   },
   {
    "duration": 736,
    "start_time": "2021-08-17T19:06:58.051Z"
   },
   {
    "duration": 875,
    "start_time": "2021-08-17T19:06:58.790Z"
   },
   {
    "duration": 759,
    "start_time": "2021-08-17T19:06:59.668Z"
   },
   {
    "duration": 595,
    "start_time": "2021-08-17T19:07:00.430Z"
   },
   {
    "duration": 707,
    "start_time": "2021-08-17T19:07:01.028Z"
   },
   {
    "duration": 1080,
    "start_time": "2021-08-17T19:07:01.738Z"
   },
   {
    "duration": 29,
    "start_time": "2021-08-17T19:07:02.821Z"
   },
   {
    "duration": 482,
    "start_time": "2021-08-17T19:07:57.489Z"
   },
   {
    "duration": 1470,
    "start_time": "2021-08-17T19:09:58.495Z"
   },
   {
    "duration": 40,
    "start_time": "2021-08-17T19:09:59.968Z"
   },
   {
    "duration": 248,
    "start_time": "2021-08-17T19:10:00.012Z"
   },
   {
    "duration": 483,
    "start_time": "2021-08-17T19:10:00.262Z"
   },
   {
    "duration": 144,
    "start_time": "2021-08-17T19:10:00.747Z"
   },
   {
    "duration": 206,
    "start_time": "2021-08-17T19:10:00.894Z"
   },
   {
    "duration": 17,
    "start_time": "2021-08-17T19:10:01.103Z"
   },
   {
    "duration": 125,
    "start_time": "2021-08-17T19:10:01.122Z"
   },
   {
    "duration": 115,
    "start_time": "2021-08-17T19:10:01.251Z"
   },
   {
    "duration": 140,
    "start_time": "2021-08-17T19:10:01.369Z"
   },
   {
    "duration": 124,
    "start_time": "2021-08-17T19:10:01.512Z"
   },
   {
    "duration": 101,
    "start_time": "2021-08-17T19:10:01.638Z"
   },
   {
    "duration": 147,
    "start_time": "2021-08-17T19:10:01.742Z"
   },
   {
    "duration": 86,
    "start_time": "2021-08-17T19:10:01.892Z"
   },
   {
    "duration": 108,
    "start_time": "2021-08-17T19:10:01.980Z"
   },
   {
    "duration": 101,
    "start_time": "2021-08-17T19:10:02.090Z"
   },
   {
    "duration": 118,
    "start_time": "2021-08-17T19:10:02.194Z"
   },
   {
    "duration": 63,
    "start_time": "2021-08-17T19:10:02.314Z"
   },
   {
    "duration": 125,
    "start_time": "2021-08-17T19:10:02.379Z"
   },
   {
    "duration": 132,
    "start_time": "2021-08-17T19:10:02.506Z"
   },
   {
    "duration": 113,
    "start_time": "2021-08-17T19:10:02.641Z"
   },
   {
    "duration": 15,
    "start_time": "2021-08-17T19:10:02.757Z"
   },
   {
    "duration": 60,
    "start_time": "2021-08-17T19:10:02.775Z"
   },
   {
    "duration": 131,
    "start_time": "2021-08-17T19:10:02.838Z"
   },
   {
    "duration": 11,
    "start_time": "2021-08-17T19:10:02.972Z"
   },
   {
    "duration": 87,
    "start_time": "2021-08-17T19:10:02.985Z"
   },
   {
    "duration": 74,
    "start_time": "2021-08-17T19:10:03.078Z"
   },
   {
    "duration": 31,
    "start_time": "2021-08-17T19:10:03.155Z"
   },
   {
    "duration": 111,
    "start_time": "2021-08-17T19:10:03.189Z"
   },
   {
    "duration": 55,
    "start_time": "2021-08-17T19:10:03.302Z"
   },
   {
    "duration": 50,
    "start_time": "2021-08-17T19:10:03.359Z"
   },
   {
    "duration": 51,
    "start_time": "2021-08-17T19:10:03.412Z"
   },
   {
    "duration": 36,
    "start_time": "2021-08-17T19:10:03.465Z"
   },
   {
    "duration": 30,
    "start_time": "2021-08-17T19:10:03.503Z"
   },
   {
    "duration": 32,
    "start_time": "2021-08-17T19:10:03.535Z"
   },
   {
    "duration": 107,
    "start_time": "2021-08-17T19:10:03.569Z"
   },
   {
    "duration": 88,
    "start_time": "2021-08-17T19:10:03.679Z"
   },
   {
    "duration": 33,
    "start_time": "2021-08-17T19:10:03.769Z"
   },
   {
    "duration": 66,
    "start_time": "2021-08-17T19:10:03.804Z"
   },
   {
    "duration": 52,
    "start_time": "2021-08-17T19:10:03.872Z"
   },
   {
    "duration": 18,
    "start_time": "2021-08-17T19:10:03.927Z"
   },
   {
    "duration": 37,
    "start_time": "2021-08-17T19:10:03.948Z"
   },
   {
    "duration": 7,
    "start_time": "2021-08-17T19:10:04.000Z"
   },
   {
    "duration": 19,
    "start_time": "2021-08-17T19:10:04.009Z"
   },
   {
    "duration": 48,
    "start_time": "2021-08-17T19:10:04.031Z"
   },
   {
    "duration": 38,
    "start_time": "2021-08-17T19:10:04.082Z"
   },
   {
    "duration": 10,
    "start_time": "2021-08-17T19:10:04.123Z"
   },
   {
    "duration": 43,
    "start_time": "2021-08-17T19:10:04.135Z"
   },
   {
    "duration": 15,
    "start_time": "2021-08-17T19:10:04.180Z"
   },
   {
    "duration": 32,
    "start_time": "2021-08-17T19:10:04.197Z"
   },
   {
    "duration": 489,
    "start_time": "2021-08-17T19:10:04.232Z"
   },
   {
    "duration": 5,
    "start_time": "2021-08-17T19:10:04.724Z"
   },
   {
    "duration": 50,
    "start_time": "2021-08-17T19:10:04.731Z"
   },
   {
    "duration": 19,
    "start_time": "2021-08-17T19:10:04.783Z"
   },
   {
    "duration": 18,
    "start_time": "2021-08-17T19:10:04.805Z"
   },
   {
    "duration": 749,
    "start_time": "2021-08-17T19:10:04.825Z"
   },
   {
    "duration": 752,
    "start_time": "2021-08-17T19:10:05.576Z"
   },
   {
    "duration": 714,
    "start_time": "2021-08-17T19:10:06.331Z"
   },
   {
    "duration": 588,
    "start_time": "2021-08-17T19:10:07.048Z"
   },
   {
    "duration": 580,
    "start_time": "2021-08-17T19:10:07.639Z"
   },
   {
    "duration": 724,
    "start_time": "2021-08-17T19:10:08.222Z"
   },
   {
    "duration": 28,
    "start_time": "2021-08-17T19:10:08.949Z"
   },
   {
    "duration": 1480,
    "start_time": "2021-08-17T19:42:50.580Z"
   },
   {
    "duration": 30,
    "start_time": "2021-08-17T19:42:52.063Z"
   },
   {
    "duration": 12,
    "start_time": "2021-08-17T19:42:52.096Z"
   },
   {
    "duration": 245,
    "start_time": "2021-08-17T19:42:52.111Z"
   },
   {
    "duration": 138,
    "start_time": "2021-08-17T19:42:52.358Z"
   },
   {
    "duration": 208,
    "start_time": "2021-08-17T19:42:52.501Z"
   },
   {
    "duration": 17,
    "start_time": "2021-08-17T19:42:52.712Z"
   },
   {
    "duration": 25,
    "start_time": "2021-08-17T19:42:52.733Z"
   },
   {
    "duration": 40,
    "start_time": "2021-08-17T19:42:52.762Z"
   },
   {
    "duration": 30,
    "start_time": "2021-08-17T19:42:52.805Z"
   },
   {
    "duration": 63,
    "start_time": "2021-08-17T19:42:52.837Z"
   },
   {
    "duration": 11,
    "start_time": "2021-08-17T19:42:52.903Z"
   },
   {
    "duration": 21,
    "start_time": "2021-08-17T19:42:52.916Z"
   },
   {
    "duration": 20,
    "start_time": "2021-08-17T19:42:52.940Z"
   },
   {
    "duration": 4,
    "start_time": "2021-08-17T19:42:52.962Z"
   },
   {
    "duration": 45,
    "start_time": "2021-08-17T19:42:52.969Z"
   },
   {
    "duration": 22,
    "start_time": "2021-08-17T19:42:53.017Z"
   },
   {
    "duration": 5,
    "start_time": "2021-08-17T19:42:53.042Z"
   },
   {
    "duration": 54,
    "start_time": "2021-08-17T19:42:53.050Z"
   },
   {
    "duration": 127,
    "start_time": "2021-08-17T19:42:53.106Z"
   },
   {
    "duration": 101,
    "start_time": "2021-08-17T19:42:53.235Z"
   },
   {
    "duration": 13,
    "start_time": "2021-08-17T19:42:53.338Z"
   },
   {
    "duration": 64,
    "start_time": "2021-08-17T19:42:53.358Z"
   },
   {
    "duration": 118,
    "start_time": "2021-08-17T19:42:53.425Z"
   },
   {
    "duration": 11,
    "start_time": "2021-08-17T19:42:53.546Z"
   },
   {
    "duration": 21,
    "start_time": "2021-08-17T19:42:53.559Z"
   },
   {
    "duration": 28,
    "start_time": "2021-08-17T19:42:53.600Z"
   },
   {
    "duration": 25,
    "start_time": "2021-08-17T19:42:53.630Z"
   },
   {
    "duration": 88,
    "start_time": "2021-08-17T19:42:53.658Z"
   },
   {
    "duration": 72,
    "start_time": "2021-08-17T19:42:53.748Z"
   },
   {
    "duration": 28,
    "start_time": "2021-08-17T19:42:53.823Z"
   },
   {
    "duration": 75,
    "start_time": "2021-08-17T19:42:53.853Z"
   },
   {
    "duration": 10,
    "start_time": "2021-08-17T19:42:53.931Z"
   },
   {
    "duration": 36,
    "start_time": "2021-08-17T19:42:53.943Z"
   },
   {
    "duration": 30,
    "start_time": "2021-08-17T19:42:54.000Z"
   },
   {
    "duration": 98,
    "start_time": "2021-08-17T19:42:54.033Z"
   },
   {
    "duration": 83,
    "start_time": "2021-08-17T19:42:54.133Z"
   },
   {
    "duration": 15,
    "start_time": "2021-08-17T19:42:54.219Z"
   },
   {
    "duration": 42,
    "start_time": "2021-08-17T19:42:54.236Z"
   },
   {
    "duration": 54,
    "start_time": "2021-08-17T19:42:54.300Z"
   },
   {
    "duration": 19,
    "start_time": "2021-08-17T19:42:54.356Z"
   },
   {
    "duration": 52,
    "start_time": "2021-08-17T19:42:54.377Z"
   },
   {
    "duration": 5,
    "start_time": "2021-08-17T19:42:54.432Z"
   },
   {
    "duration": 14,
    "start_time": "2021-08-17T19:42:54.439Z"
   },
   {
    "duration": 56,
    "start_time": "2021-08-17T19:42:54.456Z"
   },
   {
    "duration": 34,
    "start_time": "2021-08-17T19:42:54.514Z"
   },
   {
    "duration": 8,
    "start_time": "2021-08-17T19:42:54.551Z"
   },
   {
    "duration": 45,
    "start_time": "2021-08-17T19:42:54.561Z"
   },
   {
    "duration": 5,
    "start_time": "2021-08-17T19:42:54.608Z"
   },
   {
    "duration": 13,
    "start_time": "2021-08-17T19:42:54.616Z"
   },
   {
    "duration": 526,
    "start_time": "2021-08-17T19:42:54.631Z"
   },
   {
    "duration": 5,
    "start_time": "2021-08-17T19:42:55.159Z"
   },
   {
    "duration": 41,
    "start_time": "2021-08-17T19:42:55.167Z"
   },
   {
    "duration": 6,
    "start_time": "2021-08-17T19:42:55.210Z"
   },
   {
    "duration": 11,
    "start_time": "2021-08-17T19:42:55.219Z"
   },
   {
    "duration": 713,
    "start_time": "2021-08-17T19:42:55.232Z"
   },
   {
    "duration": 709,
    "start_time": "2021-08-17T19:42:55.947Z"
   },
   {
    "duration": 713,
    "start_time": "2021-08-17T19:42:56.658Z"
   },
   {
    "duration": 584,
    "start_time": "2021-08-17T19:42:57.373Z"
   },
   {
    "duration": 552,
    "start_time": "2021-08-17T19:42:57.960Z"
   },
   {
    "duration": 701,
    "start_time": "2021-08-17T19:42:58.515Z"
   },
   {
    "duration": 28,
    "start_time": "2021-08-17T19:42:59.218Z"
   },
   {
    "duration": 590,
    "start_time": "2021-08-17T19:43:26.406Z"
   },
   {
    "duration": 5,
    "start_time": "2021-08-17T19:45:05.529Z"
   },
   {
    "duration": 15,
    "start_time": "2021-08-17T19:48:43.508Z"
   },
   {
    "duration": 641,
    "start_time": "2021-08-17T19:53:34.151Z"
   },
   {
    "duration": 1456,
    "start_time": "2021-08-17T20:43:56.892Z"
   },
   {
    "duration": 4,
    "start_time": "2021-08-17T20:43:58.352Z"
   },
   {
    "duration": 34,
    "start_time": "2021-08-17T20:43:58.359Z"
   },
   {
    "duration": 10,
    "start_time": "2021-08-17T20:43:58.396Z"
   },
   {
    "duration": 229,
    "start_time": "2021-08-17T20:43:58.409Z"
   },
   {
    "duration": 133,
    "start_time": "2021-08-17T20:43:58.641Z"
   },
   {
    "duration": 192,
    "start_time": "2021-08-17T20:43:58.777Z"
   },
   {
    "duration": 28,
    "start_time": "2021-08-17T20:43:58.972Z"
   },
   {
    "duration": 26,
    "start_time": "2021-08-17T20:43:59.003Z"
   },
   {
    "duration": 22,
    "start_time": "2021-08-17T20:43:59.031Z"
   },
   {
    "duration": 51,
    "start_time": "2021-08-17T20:43:59.055Z"
   },
   {
    "duration": 26,
    "start_time": "2021-08-17T20:43:59.109Z"
   },
   {
    "duration": 9,
    "start_time": "2021-08-17T20:43:59.138Z"
   },
   {
    "duration": 9,
    "start_time": "2021-08-17T20:43:59.150Z"
   },
   {
    "duration": 18,
    "start_time": "2021-08-17T20:43:59.199Z"
   },
   {
    "duration": 3,
    "start_time": "2021-08-17T20:43:59.220Z"
   },
   {
    "duration": 19,
    "start_time": "2021-08-17T20:43:59.226Z"
   },
   {
    "duration": 12,
    "start_time": "2021-08-17T20:43:59.248Z"
   },
   {
    "duration": 42,
    "start_time": "2021-08-17T20:43:59.262Z"
   },
   {
    "duration": 42,
    "start_time": "2021-08-17T20:43:59.306Z"
   },
   {
    "duration": 123,
    "start_time": "2021-08-17T20:43:59.350Z"
   },
   {
    "duration": 89,
    "start_time": "2021-08-17T20:43:59.475Z"
   },
   {
    "duration": 32,
    "start_time": "2021-08-17T20:43:59.570Z"
   },
   {
    "duration": 39,
    "start_time": "2021-08-17T20:43:59.606Z"
   },
   {
    "duration": 128,
    "start_time": "2021-08-17T20:43:59.647Z"
   },
   {
    "duration": 12,
    "start_time": "2021-08-17T20:43:59.778Z"
   },
   {
    "duration": 16,
    "start_time": "2021-08-17T20:43:59.801Z"
   },
   {
    "duration": 28,
    "start_time": "2021-08-17T20:43:59.820Z"
   },
   {
    "duration": 59,
    "start_time": "2021-08-17T20:43:59.851Z"
   },
   {
    "duration": 62,
    "start_time": "2021-08-17T20:43:59.912Z"
   },
   {
    "duration": 60,
    "start_time": "2021-08-17T20:44:00.001Z"
   },
   {
    "duration": 51,
    "start_time": "2021-08-17T20:44:00.063Z"
   },
   {
    "duration": 49,
    "start_time": "2021-08-17T20:44:00.117Z"
   },
   {
    "duration": 32,
    "start_time": "2021-08-17T20:44:00.168Z"
   },
   {
    "duration": 30,
    "start_time": "2021-08-17T20:44:00.203Z"
   },
   {
    "duration": 30,
    "start_time": "2021-08-17T20:44:00.235Z"
   },
   {
    "duration": 105,
    "start_time": "2021-08-17T20:44:00.268Z"
   },
   {
    "duration": 90,
    "start_time": "2021-08-17T20:44:00.376Z"
   },
   {
    "duration": 15,
    "start_time": "2021-08-17T20:44:00.468Z"
   },
   {
    "duration": 36,
    "start_time": "2021-08-17T20:44:00.502Z"
   },
   {
    "duration": 65,
    "start_time": "2021-08-17T20:44:00.541Z"
   },
   {
    "duration": 18,
    "start_time": "2021-08-17T20:44:00.608Z"
   },
   {
    "duration": 29,
    "start_time": "2021-08-17T20:44:00.628Z"
   },
   {
    "duration": 5,
    "start_time": "2021-08-17T20:44:00.660Z"
   },
   {
    "duration": 35,
    "start_time": "2021-08-17T20:44:00.668Z"
   },
   {
    "duration": 36,
    "start_time": "2021-08-17T20:44:00.706Z"
   },
   {
    "duration": 60,
    "start_time": "2021-08-17T20:44:00.745Z"
   },
   {
    "duration": 8,
    "start_time": "2021-08-17T20:44:00.807Z"
   },
   {
    "duration": 26,
    "start_time": "2021-08-17T20:44:00.818Z"
   },
   {
    "duration": 24,
    "start_time": "2021-08-17T20:44:00.847Z"
   },
   {
    "duration": 25,
    "start_time": "2021-08-17T20:44:00.874Z"
   },
   {
    "duration": 525,
    "start_time": "2021-08-17T20:44:00.902Z"
   },
   {
    "duration": 6,
    "start_time": "2021-08-17T20:44:01.430Z"
   },
   {
    "duration": 43,
    "start_time": "2021-08-17T20:44:01.439Z"
   },
   {
    "duration": 6,
    "start_time": "2021-08-17T20:44:01.484Z"
   },
   {
    "duration": 22,
    "start_time": "2021-08-17T20:44:01.501Z"
   },
   {
    "duration": 726,
    "start_time": "2021-08-17T20:44:01.526Z"
   },
   {
    "duration": 724,
    "start_time": "2021-08-17T20:44:02.255Z"
   },
   {
    "duration": 718,
    "start_time": "2021-08-17T20:44:02.982Z"
   },
   {
    "duration": 605,
    "start_time": "2021-08-17T20:44:03.703Z"
   },
   {
    "duration": 672,
    "start_time": "2021-08-17T20:44:04.310Z"
   },
   {
    "duration": 37,
    "start_time": "2021-08-17T20:44:04.985Z"
   },
   {
    "duration": 17,
    "start_time": "2021-08-17T20:44:05.024Z"
   },
   {
    "duration": 4,
    "start_time": "2021-08-17T20:48:02.367Z"
   },
   {
    "duration": 16,
    "start_time": "2021-08-17T20:48:02.374Z"
   },
   {
    "duration": 44,
    "start_time": "2021-08-17T20:48:02.393Z"
   },
   {
    "duration": 29,
    "start_time": "2021-08-17T20:48:02.440Z"
   },
   {
    "duration": 258,
    "start_time": "2021-08-17T20:48:02.471Z"
   },
   {
    "duration": 127,
    "start_time": "2021-08-17T20:48:02.731Z"
   },
   {
    "duration": 193,
    "start_time": "2021-08-17T20:48:02.861Z"
   },
   {
    "duration": 12,
    "start_time": "2021-08-17T20:48:03.057Z"
   },
   {
    "duration": 34,
    "start_time": "2021-08-17T20:48:03.072Z"
   },
   {
    "duration": 22,
    "start_time": "2021-08-17T20:48:03.109Z"
   },
   {
    "duration": 30,
    "start_time": "2021-08-17T20:48:03.134Z"
   },
   {
    "duration": 51,
    "start_time": "2021-08-17T20:48:03.166Z"
   },
   {
    "duration": 14,
    "start_time": "2021-08-17T20:48:03.220Z"
   },
   {
    "duration": 14,
    "start_time": "2021-08-17T20:48:03.237Z"
   },
   {
    "duration": 48,
    "start_time": "2021-08-17T20:48:03.254Z"
   },
   {
    "duration": 4,
    "start_time": "2021-08-17T20:48:03.304Z"
   },
   {
    "duration": 27,
    "start_time": "2021-08-17T20:48:03.310Z"
   },
   {
    "duration": 14,
    "start_time": "2021-08-17T20:48:03.339Z"
   },
   {
    "duration": 5,
    "start_time": "2021-08-17T20:48:03.359Z"
   },
   {
    "duration": 66,
    "start_time": "2021-08-17T20:48:03.367Z"
   },
   {
    "duration": 117,
    "start_time": "2021-08-17T20:48:03.436Z"
   },
   {
    "duration": 102,
    "start_time": "2021-08-17T20:48:03.555Z"
   },
   {
    "duration": 13,
    "start_time": "2021-08-17T20:48:03.660Z"
   },
   {
    "duration": 59,
    "start_time": "2021-08-17T20:48:03.676Z"
   },
   {
    "duration": 123,
    "start_time": "2021-08-17T20:48:03.737Z"
   },
   {
    "duration": 11,
    "start_time": "2021-08-17T20:48:03.862Z"
   },
   {
    "duration": 35,
    "start_time": "2021-08-17T20:48:03.875Z"
   },
   {
    "duration": 28,
    "start_time": "2021-08-17T20:48:03.912Z"
   },
   {
    "duration": 25,
    "start_time": "2021-08-17T20:48:03.942Z"
   },
   {
    "duration": 85,
    "start_time": "2021-08-17T20:48:03.970Z"
   },
   {
    "duration": 74,
    "start_time": "2021-08-17T20:48:04.057Z"
   },
   {
    "duration": 27,
    "start_time": "2021-08-17T20:48:04.133Z"
   },
   {
    "duration": 66,
    "start_time": "2021-08-17T20:48:04.163Z"
   },
   {
    "duration": 10,
    "start_time": "2021-08-17T20:48:04.231Z"
   },
   {
    "duration": 31,
    "start_time": "2021-08-17T20:48:04.243Z"
   },
   {
    "duration": 50,
    "start_time": "2021-08-17T20:48:04.276Z"
   },
   {
    "duration": 98,
    "start_time": "2021-08-17T20:48:04.328Z"
   },
   {
    "duration": 77,
    "start_time": "2021-08-17T20:48:04.428Z"
   },
   {
    "duration": 14,
    "start_time": "2021-08-17T20:48:04.508Z"
   },
   {
    "duration": 36,
    "start_time": "2021-08-17T20:48:04.524Z"
   },
   {
    "duration": 74,
    "start_time": "2021-08-17T20:48:04.562Z"
   },
   {
    "duration": 13,
    "start_time": "2021-08-17T20:48:04.638Z"
   },
   {
    "duration": 53,
    "start_time": "2021-08-17T20:48:04.653Z"
   },
   {
    "duration": 6,
    "start_time": "2021-08-17T20:48:04.708Z"
   },
   {
    "duration": 10,
    "start_time": "2021-08-17T20:48:04.716Z"
   },
   {
    "duration": 36,
    "start_time": "2021-08-17T20:48:04.728Z"
   },
   {
    "duration": 62,
    "start_time": "2021-08-17T20:48:04.766Z"
   },
   {
    "duration": 9,
    "start_time": "2021-08-17T20:48:04.831Z"
   },
   {
    "duration": 13,
    "start_time": "2021-08-17T20:48:04.842Z"
   },
   {
    "duration": 5,
    "start_time": "2021-08-17T20:48:04.858Z"
   },
   {
    "duration": 9,
    "start_time": "2021-08-17T20:48:04.902Z"
   },
   {
    "duration": 519,
    "start_time": "2021-08-17T20:48:04.913Z"
   },
   {
    "duration": 5,
    "start_time": "2021-08-17T20:48:05.434Z"
   },
   {
    "duration": 30,
    "start_time": "2021-08-17T20:48:05.442Z"
   },
   {
    "duration": 1488,
    "start_time": "2021-08-17T20:48:30.976Z"
   },
   {
    "duration": 4,
    "start_time": "2021-08-17T20:48:32.467Z"
   },
   {
    "duration": 41,
    "start_time": "2021-08-17T20:48:32.474Z"
   },
   {
    "duration": 9,
    "start_time": "2021-08-17T20:48:32.518Z"
   },
   {
    "duration": 238,
    "start_time": "2021-08-17T20:48:32.530Z"
   },
   {
    "duration": 138,
    "start_time": "2021-08-17T20:48:32.770Z"
   },
   {
    "duration": 200,
    "start_time": "2021-08-17T20:48:32.910Z"
   },
   {
    "duration": 17,
    "start_time": "2021-08-17T20:48:33.112Z"
   },
   {
    "duration": 24,
    "start_time": "2021-08-17T20:48:33.134Z"
   },
   {
    "duration": 47,
    "start_time": "2021-08-17T20:48:33.162Z"
   },
   {
    "duration": 33,
    "start_time": "2021-08-17T20:48:33.212Z"
   },
   {
    "duration": 53,
    "start_time": "2021-08-17T20:48:33.248Z"
   },
   {
    "duration": 11,
    "start_time": "2021-08-17T20:48:33.303Z"
   },
   {
    "duration": 10,
    "start_time": "2021-08-17T20:48:33.317Z"
   },
   {
    "duration": 18,
    "start_time": "2021-08-17T20:48:33.330Z"
   },
   {
    "duration": 3,
    "start_time": "2021-08-17T20:48:33.351Z"
   },
   {
    "duration": 20,
    "start_time": "2021-08-17T20:48:33.401Z"
   },
   {
    "duration": 27,
    "start_time": "2021-08-17T20:48:33.424Z"
   },
   {
    "duration": 6,
    "start_time": "2021-08-17T20:48:33.454Z"
   },
   {
    "duration": 61,
    "start_time": "2021-08-17T20:48:33.462Z"
   },
   {
    "duration": 122,
    "start_time": "2021-08-17T20:48:33.525Z"
   },
   {
    "duration": 102,
    "start_time": "2021-08-17T20:48:33.650Z"
   },
   {
    "duration": 13,
    "start_time": "2021-08-17T20:48:33.755Z"
   },
   {
    "duration": 58,
    "start_time": "2021-08-17T20:48:33.770Z"
   },
   {
    "duration": 124,
    "start_time": "2021-08-17T20:48:33.830Z"
   },
   {
    "duration": 12,
    "start_time": "2021-08-17T20:48:33.957Z"
   },
   {
    "duration": 34,
    "start_time": "2021-08-17T20:48:33.977Z"
   },
   {
    "duration": 27,
    "start_time": "2021-08-17T20:48:34.015Z"
   },
   {
    "duration": 59,
    "start_time": "2021-08-17T20:48:34.045Z"
   },
   {
    "duration": 56,
    "start_time": "2021-08-17T20:48:34.106Z"
   },
   {
    "duration": 77,
    "start_time": "2021-08-17T20:48:34.164Z"
   },
   {
    "duration": 27,
    "start_time": "2021-08-17T20:48:34.244Z"
   },
   {
    "duration": 72,
    "start_time": "2021-08-17T20:48:34.273Z"
   },
   {
    "duration": 9,
    "start_time": "2021-08-17T20:48:34.348Z"
   },
   {
    "duration": 51,
    "start_time": "2021-08-17T20:48:34.360Z"
   },
   {
    "duration": 31,
    "start_time": "2021-08-17T20:48:34.414Z"
   },
   {
    "duration": 99,
    "start_time": "2021-08-17T20:48:34.448Z"
   },
   {
    "duration": 82,
    "start_time": "2021-08-17T20:48:34.549Z"
   },
   {
    "duration": 14,
    "start_time": "2021-08-17T20:48:34.633Z"
   },
   {
    "duration": 53,
    "start_time": "2021-08-17T20:48:34.650Z"
   },
   {
    "duration": 50,
    "start_time": "2021-08-17T20:48:34.706Z"
   },
   {
    "duration": 18,
    "start_time": "2021-08-17T20:48:34.759Z"
   },
   {
    "duration": 31,
    "start_time": "2021-08-17T20:48:34.800Z"
   },
   {
    "duration": 5,
    "start_time": "2021-08-17T20:48:34.834Z"
   },
   {
    "duration": 8,
    "start_time": "2021-08-17T20:48:34.841Z"
   },
   {
    "duration": 68,
    "start_time": "2021-08-17T20:48:34.851Z"
   },
   {
    "duration": 33,
    "start_time": "2021-08-17T20:48:34.921Z"
   },
   {
    "duration": 9,
    "start_time": "2021-08-17T20:48:34.957Z"
   },
   {
    "duration": 41,
    "start_time": "2021-08-17T20:48:34.968Z"
   },
   {
    "duration": 15,
    "start_time": "2021-08-17T20:48:35.012Z"
   },
   {
    "duration": 20,
    "start_time": "2021-08-17T20:48:35.030Z"
   },
   {
    "duration": 529,
    "start_time": "2021-08-17T20:48:35.053Z"
   },
   {
    "duration": 19,
    "start_time": "2021-08-17T20:48:35.585Z"
   },
   {
    "duration": 15,
    "start_time": "2021-08-17T20:48:35.606Z"
   },
   {
    "duration": 19,
    "start_time": "2021-08-17T20:48:35.623Z"
   },
   {
    "duration": 25,
    "start_time": "2021-08-17T20:48:35.644Z"
   },
   {
    "duration": 757,
    "start_time": "2021-08-17T20:48:35.671Z"
   },
   {
    "duration": 764,
    "start_time": "2021-08-17T20:48:36.430Z"
   },
   {
    "duration": 724,
    "start_time": "2021-08-17T20:48:37.200Z"
   },
   {
    "duration": 623,
    "start_time": "2021-08-17T20:48:37.927Z"
   },
   {
    "duration": 676,
    "start_time": "2021-08-17T20:48:38.553Z"
   },
   {
    "duration": 28,
    "start_time": "2021-08-17T20:48:39.232Z"
   },
   {
    "duration": 44,
    "start_time": "2021-08-17T20:48:39.262Z"
   },
   {
    "duration": 1381,
    "start_time": "2021-08-17T20:49:25.908Z"
   },
   {
    "duration": 4,
    "start_time": "2021-08-17T20:49:27.292Z"
   },
   {
    "duration": 36,
    "start_time": "2021-08-17T20:49:27.298Z"
   },
   {
    "duration": 9,
    "start_time": "2021-08-17T20:49:27.337Z"
   },
   {
    "duration": 220,
    "start_time": "2021-08-17T20:49:27.349Z"
   },
   {
    "duration": 137,
    "start_time": "2021-08-17T20:49:27.571Z"
   },
   {
    "duration": 201,
    "start_time": "2021-08-17T20:49:27.710Z"
   },
   {
    "duration": 16,
    "start_time": "2021-08-17T20:49:27.915Z"
   },
   {
    "duration": 28,
    "start_time": "2021-08-17T20:49:27.934Z"
   },
   {
    "duration": 44,
    "start_time": "2021-08-17T20:49:27.965Z"
   },
   {
    "duration": 26,
    "start_time": "2021-08-17T20:49:28.012Z"
   },
   {
    "duration": 24,
    "start_time": "2021-08-17T20:49:28.041Z"
   },
   {
    "duration": 40,
    "start_time": "2021-08-17T20:49:28.067Z"
   },
   {
    "duration": 9,
    "start_time": "2021-08-17T20:49:28.110Z"
   },
   {
    "duration": 18,
    "start_time": "2021-08-17T20:49:28.121Z"
   },
   {
    "duration": 4,
    "start_time": "2021-08-17T20:49:28.142Z"
   },
   {
    "duration": 61,
    "start_time": "2021-08-17T20:49:28.149Z"
   },
   {
    "duration": 13,
    "start_time": "2021-08-17T20:49:28.213Z"
   },
   {
    "duration": 9,
    "start_time": "2021-08-17T20:49:28.229Z"
   },
   {
    "duration": 72,
    "start_time": "2021-08-17T20:49:28.241Z"
   },
   {
    "duration": 120,
    "start_time": "2021-08-17T20:49:28.315Z"
   },
   {
    "duration": 95,
    "start_time": "2021-08-17T20:49:28.438Z"
   },
   {
    "duration": 13,
    "start_time": "2021-08-17T20:49:28.539Z"
   },
   {
    "duration": 64,
    "start_time": "2021-08-17T20:49:28.555Z"
   },
   {
    "duration": 119,
    "start_time": "2021-08-17T20:49:28.621Z"
   },
   {
    "duration": 11,
    "start_time": "2021-08-17T20:49:28.742Z"
   },
   {
    "duration": 17,
    "start_time": "2021-08-17T20:49:28.755Z"
   },
   {
    "duration": 49,
    "start_time": "2021-08-17T20:49:28.774Z"
   },
   {
    "duration": 25,
    "start_time": "2021-08-17T20:49:28.825Z"
   },
   {
    "duration": 85,
    "start_time": "2021-08-17T20:49:28.853Z"
   },
   {
    "duration": 71,
    "start_time": "2021-08-17T20:49:28.941Z"
   },
   {
    "duration": 27,
    "start_time": "2021-08-17T20:49:29.015Z"
   },
   {
    "duration": 73,
    "start_time": "2021-08-17T20:49:29.045Z"
   },
   {
    "duration": 11,
    "start_time": "2021-08-17T20:49:29.120Z"
   },
   {
    "duration": 37,
    "start_time": "2021-08-17T20:49:29.134Z"
   },
   {
    "duration": 32,
    "start_time": "2021-08-17T20:49:29.201Z"
   },
   {
    "duration": 101,
    "start_time": "2021-08-17T20:49:29.236Z"
   },
   {
    "duration": 82,
    "start_time": "2021-08-17T20:49:29.340Z"
   },
   {
    "duration": 15,
    "start_time": "2021-08-17T20:49:29.424Z"
   },
   {
    "duration": 36,
    "start_time": "2021-08-17T20:49:29.442Z"
   },
   {
    "duration": 50,
    "start_time": "2021-08-17T20:49:29.501Z"
   },
   {
    "duration": 19,
    "start_time": "2021-08-17T20:49:29.554Z"
   },
   {
    "duration": 50,
    "start_time": "2021-08-17T20:49:29.576Z"
   },
   {
    "duration": 6,
    "start_time": "2021-08-17T20:49:29.628Z"
   },
   {
    "duration": 11,
    "start_time": "2021-08-17T20:49:29.637Z"
   },
   {
    "duration": 88,
    "start_time": "2021-08-17T20:49:29.651Z"
   },
   {
    "duration": 33,
    "start_time": "2021-08-17T20:49:29.743Z"
   },
   {
    "duration": 29,
    "start_time": "2021-08-17T20:49:29.778Z"
   },
   {
    "duration": 13,
    "start_time": "2021-08-17T20:49:29.809Z"
   },
   {
    "duration": 6,
    "start_time": "2021-08-17T20:49:29.825Z"
   },
   {
    "duration": 11,
    "start_time": "2021-08-17T20:49:29.834Z"
   },
   {
    "duration": 522,
    "start_time": "2021-08-17T20:49:29.847Z"
   },
   {
    "duration": 6,
    "start_time": "2021-08-17T20:49:30.372Z"
   },
   {
    "duration": 10,
    "start_time": "2021-08-17T20:49:30.400Z"
   },
   {
    "duration": 726,
    "start_time": "2021-08-17T20:49:30.413Z"
   },
   {
    "duration": 701,
    "start_time": "2021-08-17T20:49:31.142Z"
   },
   {
    "duration": 1163,
    "start_time": "2021-08-17T20:49:31.845Z"
   },
   {
    "duration": 904,
    "start_time": "2021-08-17T20:49:33.011Z"
   },
   {
    "duration": 630,
    "start_time": "2021-08-17T20:49:33.918Z"
   },
   {
    "duration": 27,
    "start_time": "2021-08-17T20:49:34.550Z"
   },
   {
    "duration": 31,
    "start_time": "2021-08-17T20:49:34.580Z"
   },
   {
    "duration": 1158,
    "start_time": "2021-08-18T05:36:07.724Z"
   },
   {
    "duration": 3,
    "start_time": "2021-08-18T05:36:08.884Z"
   },
   {
    "duration": 30,
    "start_time": "2021-08-18T05:36:08.889Z"
   },
   {
    "duration": 7,
    "start_time": "2021-08-18T05:36:08.922Z"
   },
   {
    "duration": 193,
    "start_time": "2021-08-18T05:36:08.931Z"
   },
   {
    "duration": 99,
    "start_time": "2021-08-18T05:36:09.126Z"
   },
   {
    "duration": 154,
    "start_time": "2021-08-18T05:36:09.227Z"
   },
   {
    "duration": 11,
    "start_time": "2021-08-18T05:36:09.384Z"
   },
   {
    "duration": 22,
    "start_time": "2021-08-18T05:36:09.397Z"
   },
   {
    "duration": 29,
    "start_time": "2021-08-18T05:36:09.420Z"
   },
   {
    "duration": 18,
    "start_time": "2021-08-18T05:36:09.451Z"
   },
   {
    "duration": 20,
    "start_time": "2021-08-18T05:36:09.471Z"
   },
   {
    "duration": 8,
    "start_time": "2021-08-18T05:36:09.493Z"
   },
   {
    "duration": 40,
    "start_time": "2021-08-18T05:36:09.503Z"
   },
   {
    "duration": 13,
    "start_time": "2021-08-18T05:36:09.545Z"
   },
   {
    "duration": 3,
    "start_time": "2021-08-18T05:36:09.559Z"
   },
   {
    "duration": 15,
    "start_time": "2021-08-18T05:36:09.563Z"
   },
   {
    "duration": 10,
    "start_time": "2021-08-18T05:36:09.580Z"
   },
   {
    "duration": 6,
    "start_time": "2021-08-18T05:36:09.592Z"
   },
   {
    "duration": 62,
    "start_time": "2021-08-18T05:36:09.600Z"
   },
   {
    "duration": 102,
    "start_time": "2021-08-18T05:36:09.664Z"
   },
   {
    "duration": 77,
    "start_time": "2021-08-18T05:36:09.768Z"
   },
   {
    "duration": 9,
    "start_time": "2021-08-18T05:36:09.849Z"
   },
   {
    "duration": 30,
    "start_time": "2021-08-18T05:36:09.860Z"
   },
   {
    "duration": 100,
    "start_time": "2021-08-18T05:36:09.891Z"
   },
   {
    "duration": 8,
    "start_time": "2021-08-18T05:36:09.993Z"
   },
   {
    "duration": 13,
    "start_time": "2021-08-18T05:36:10.002Z"
   },
   {
    "duration": 37,
    "start_time": "2021-08-18T05:36:10.017Z"
   },
   {
    "duration": 20,
    "start_time": "2021-08-18T05:36:10.057Z"
   },
   {
    "duration": 66,
    "start_time": "2021-08-18T05:36:10.079Z"
   },
   {
    "duration": 50,
    "start_time": "2021-08-18T05:36:10.147Z"
   },
   {
    "duration": 19,
    "start_time": "2021-08-18T05:36:10.199Z"
   },
   {
    "duration": 62,
    "start_time": "2021-08-18T05:36:10.220Z"
   },
   {
    "duration": 9,
    "start_time": "2021-08-18T05:36:10.284Z"
   },
   {
    "duration": 19,
    "start_time": "2021-08-18T05:36:10.295Z"
   },
   {
    "duration": 46,
    "start_time": "2021-08-18T05:36:10.316Z"
   },
   {
    "duration": 79,
    "start_time": "2021-08-18T05:36:10.363Z"
   },
   {
    "duration": 66,
    "start_time": "2021-08-18T05:36:10.445Z"
   },
   {
    "duration": 31,
    "start_time": "2021-08-18T05:36:10.513Z"
   },
   {
    "duration": 26,
    "start_time": "2021-08-18T05:36:10.546Z"
   },
   {
    "duration": 36,
    "start_time": "2021-08-18T05:36:10.574Z"
   },
   {
    "duration": 67,
    "start_time": "2021-08-18T05:36:10.612Z"
   },
   {
    "duration": 19,
    "start_time": "2021-08-18T05:36:10.681Z"
   },
   {
    "duration": 3,
    "start_time": "2021-08-18T05:36:10.702Z"
   },
   {
    "duration": 8,
    "start_time": "2021-08-18T05:36:10.707Z"
   },
   {
    "duration": 23,
    "start_time": "2021-08-18T05:36:10.716Z"
   },
   {
    "duration": 21,
    "start_time": "2021-08-18T05:36:10.741Z"
   },
   {
    "duration": 7,
    "start_time": "2021-08-18T05:36:10.764Z"
   },
   {
    "duration": 10,
    "start_time": "2021-08-18T05:36:10.773Z"
   },
   {
    "duration": 4,
    "start_time": "2021-08-18T05:36:10.785Z"
   },
   {
    "duration": 8,
    "start_time": "2021-08-18T05:36:10.791Z"
   },
   {
    "duration": 349,
    "start_time": "2021-08-18T05:36:10.800Z"
   },
   {
    "duration": 4,
    "start_time": "2021-08-18T05:36:11.151Z"
   },
   {
    "duration": 8,
    "start_time": "2021-08-18T05:36:11.157Z"
   },
   {
    "duration": 424,
    "start_time": "2021-08-18T05:36:11.167Z"
   },
   {
    "duration": 448,
    "start_time": "2021-08-18T05:36:11.592Z"
   },
   {
    "duration": 450,
    "start_time": "2021-08-18T05:36:12.042Z"
   },
   {
    "duration": 364,
    "start_time": "2021-08-18T05:36:12.494Z"
   },
   {
    "duration": 420,
    "start_time": "2021-08-18T05:36:12.859Z"
   },
   {
    "duration": 18,
    "start_time": "2021-08-18T05:36:13.281Z"
   },
   {
    "duration": 12,
    "start_time": "2021-08-18T05:36:13.300Z"
   },
   {
    "duration": 4,
    "start_time": "2021-08-18T05:40:27.524Z"
   },
   {
    "duration": 8,
    "start_time": "2021-08-18T05:42:14.410Z"
   }
  ],
  "kernelspec": {
   "display_name": "Python 3 (ipykernel)",
   "language": "python",
   "name": "python3"
  },
  "language_info": {
   "codemirror_mode": {
    "name": "ipython",
    "version": 3
   },
   "file_extension": ".py",
   "mimetype": "text/x-python",
   "name": "python",
   "nbconvert_exporter": "python",
   "pygments_lexer": "ipython3",
   "version": "3.9.13"
  },
  "toc": {
   "base_numbering": 1,
   "nav_menu": {
    "height": "227px",
    "width": "232px"
   },
   "number_sections": true,
   "sideBar": true,
   "skip_h1_title": true,
   "title_cell": "Table of Contents",
   "title_sidebar": "Contents",
   "toc_cell": false,
   "toc_position": {
    "height": "calc(100% - 180px)",
    "left": "10px",
    "top": "150px",
    "width": "409.097px"
   },
   "toc_section_display": true,
   "toc_window_display": true
  }
 },
 "nbformat": 4,
 "nbformat_minor": 2
}
