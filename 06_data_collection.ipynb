{
 "cells": [
  {
   "cell_type": "markdown",
   "id": "4c5259df",
   "metadata": {},
   "source": [
    "# Аналитика в авиакомпании\n",
    " \n",
    "**Учебная работа. Самостоятельный исследовательский проект в рамках курса \"Аналитик данных\" Яндекс.Практикума.  \n",
    "Спринт 6**\n",
    "\n",
    "Без output (не сохранился файл с данными)\n",
    " \n",
    "## Общая информация о проекте\n",
    "### Описание задания\n",
    "Для развития авиакомпании важно понять предпочтения пользователей, покупающих билеты на разные направления. Нужно изучить базу данных и проанализировать спрос пассажиров на рейсы в города, где проходят крупнейшие фестивали.\n",
    " \n",
    "###  Цель\n",
    "Проанализировать количество рейсов в разные города и на разных моделях самолётов.\n",
    "\n",
    "###  Задачи\n",
    "1. Подготовить данные (проверить на корректность);\n",
    "2. Изучить данные;\n",
    "3. Выбрать топ-10 городов по количеству рейсов;\n",
    "4. Построить графики: модели самолетов и количество рейсов, города и количество рейсов, топ-10 городов и количество рейсов;\n",
    "5. Сделать выводы по каждому из графиков, пояснить результат.\n",
    "\n",
    "###  Данные\n",
    "Данные для анализа содержатся в двух файлах:  \n",
    "    - `query_1.csv`  \n",
    "    - `query_3.csv`  \n",
    "\n",
    "###  Описание данных  \n",
    "Файл `query_1.csv` содержит информацию о:  \n",
    "    - `model` — модели самолета  \n",
    "    - `flights_amount` — количество рейсов для каждой модели самолетов model в сентябре 2018 года  \n",
    "\n",
    "Файл`query_3.csv` содержит информацию о:  \n",
    "    - `city` — городах  \n",
    "    - `average_flights` — среднем количестве рейсов, прибывающих в город city за день в августе 2018 года  \n",
    "\n",
    "## Загрузка и обзор данных\n",
    " \n",
    "Загружаем библиотеки:"
   ]
  },
  {
   "cell_type": "code",
   "execution_count": null,
   "id": "f1e5dbb5",
   "metadata": {},
   "outputs": [],
   "source": [
    "import pandas as pd\n",
    "import numpy as np\n",
    "import matplotlib.pyplot as plt\n",
    "from scipy import stats as st\n",
    "import math"
   ]
  },
  {
   "cell_type": "markdown",
   "id": "ffcdc1ef",
   "metadata": {},
   "source": [
    "Создаём библиотеку стилей:"
   ]
  },
  {
   "cell_type": "code",
   "execution_count": null,
   "id": "f49744d2",
   "metadata": {},
   "outputs": [],
   "source": [
    "class Color:\n",
    "   PURPLE = '\\033[95m'\n",
    "   CYAN = '\\033[96m'\n",
    "   DARKCYAN = '\\033[36m'\n",
    "   BLUE = '\\033[94m'\n",
    "   GREEN = '\\033[92m'\n",
    "   YELLOW = '\\033[93m'\n",
    "   RED = '\\033[91m'\n",
    "   BOLD = '\\033[1m'\n",
    "   UNDERLINE = '\\033[4m'\n",
    "   END = '\\033[0m'"
   ]
  },
  {
   "cell_type": "markdown",
   "id": "a9ffc694",
   "metadata": {},
   "source": [
    "Загружаем файлы с данными:"
   ]
  },
  {
   "cell_type": "code",
   "execution_count": null,
   "id": "e87ecff3",
   "metadata": {},
   "outputs": [],
   "source": [
    "model = pd.read_csv('/datasets/query_1.csv')\n",
    "city = pd.read_csv('/datasets/query_3.csv')"
   ]
  },
  {
   "cell_type": "markdown",
   "id": "e21e414d",
   "metadata": {},
   "source": [
    "Просмотрим информацию о таблицах:"
   ]
  },
  {
   "cell_type": "code",
   "execution_count": null,
   "id": "aaeca958",
   "metadata": {},
   "outputs": [],
   "source": [
    "model.info()"
   ]
  },
  {
   "cell_type": "code",
   "execution_count": null,
   "id": "12886072",
   "metadata": {},
   "outputs": [],
   "source": [
    "city.info()"
   ]
  },
  {
   "cell_type": "markdown",
   "id": "90a0cf86",
   "metadata": {},
   "source": [
    "Типы данных определены корректно.  \n",
    "\n",
    "## Анализ данных  \n",
    "### Топ-10 городов\n",
    "Выберем топ-10 городов по количеству рейсов:"
   ]
  },
  {
   "cell_type": "code",
   "execution_count": null,
   "id": "4eb8ab15",
   "metadata": {},
   "outputs": [],
   "source": [
    "display(city.sort_values(by = 'average_flights', ascending = False).head(10))"
   ]
  },
  {
   "cell_type": "markdown",
   "id": "ae712f65",
   "metadata": {},
   "source": [
    "### Соотношение моделей самолёта и количества рейсов\n",
    "Построим столбчатую диаграмму количества рейсов для каждой модели самолёта."
   ]
  },
  {
   "cell_type": "code",
   "execution_count": null,
   "id": "62eb72b2",
   "metadata": {},
   "outputs": [],
   "source": [
    "model.plot(kind='bar', title = 'Количество рейсов по моделям самолётов', x = 'model')"
   ]
  },
  {
   "cell_type": "markdown",
   "id": "78df63ef",
   "metadata": {},
   "source": [
    "Больше всего рейсов самолётами моделей Bombardier CRJ-200, Cessna 208 Caravan и Sukhoi SuperJet-100. Такая разница может быть связана  с разными факторами, в том числе с дальностью полёта и пассажировместимостью. Боинги и Аэробусы летают на большие расстояния, и при этом вмещают больше пассажиров. Можно предположить, что таких рейсов нужно меньше, чем на относительно небольшие расстояния и для небольшого количества пассажиров.  \n",
    "\n",
    "Построим диаграмму количества рейсов по городам:"
   ]
  },
  {
   "cell_type": "code",
   "execution_count": null,
   "id": "a562d1c9",
   "metadata": {},
   "outputs": [],
   "source": [
    "city.sort_values(by = 'average_flights', ascending = True).plot(\n",
    "    kind='barh', title = 'Среднее количество рейсов в день по городам', x = 'city', figsize = (10,20))"
   ]
  },
  {
   "cell_type": "markdown",
   "id": "4129d328",
   "metadata": {},
   "source": [
    "Москва - безусловный лидер по среднему количеству рейсов в день. Это логично по многим причинам: Москва - столица, центр деловой и культурной жизни, а её население в два с половиной раза большем, чем следующего по численности Санкт-Петербурга.  \n",
    "\n",
    "Заметно отличаются от других городов по среднему количеству рейсов в день Санкт-Петербург и Новосибирск, два следующих по численности населения города России. Интересно, что Санкт-Петербург по среднему количеству рейсов в день даже ближе к Новосибирску, а не к Москве, хотя численность населения в нём гораздо больше, чем в Новосибирске, и это культурная столица.\n",
    "\n",
    "Посмотрим отдельно на топ-10 городов по среднему количеству рейсов в день:"
   ]
  },
  {
   "cell_type": "code",
   "execution_count": null,
   "id": "f7b872ba",
   "metadata": {},
   "outputs": [],
   "source": [
    "city.sort_values(by = 'average_flights', ascending = True).tail(10).plot(\n",
    "    kind='barh', title = 'Количество рейсов по городам (топ-10)', x = 'city')\n"
   ]
  },
  {
   "cell_type": "markdown",
   "id": "5a325394",
   "metadata": {},
   "source": [
    "Первые 7 городов в топ-10 по количеству рейсов - это города миллионники.\n",
    "\n",
    "### Вывод\n",
    "1. Больше всего рейсов совершено на самолётах моделей Bombardier CRJ-200, Cessna 208 Caravan и Sukhoi SuperJet-100.\n",
    "2. Больше всего рейсов в день совершается в Москву, города-миллионники Санкт-Петербург, Новосибирск, Красноярск, Екатеринбург, Ростов-на-Дону, Пермь, а также города Брянск, Сочи и Ульяновск."
   ]
  }
 ],
 "metadata": {
  "kernelspec": {
   "display_name": "Python 3 (ipykernel)",
   "language": "python",
   "name": "python3"
  },
  "language_info": {
   "codemirror_mode": {
    "name": "ipython",
    "version": 3
   },
   "file_extension": ".py",
   "mimetype": "text/x-python",
   "name": "python",
   "nbconvert_exporter": "python",
   "pygments_lexer": "ipython3",
   "version": "3.9.13"
  }
 },
 "nbformat": 4,
 "nbformat_minor": 5
}
